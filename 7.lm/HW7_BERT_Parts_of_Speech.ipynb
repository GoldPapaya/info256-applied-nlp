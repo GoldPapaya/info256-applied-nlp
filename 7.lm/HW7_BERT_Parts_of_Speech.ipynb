{
  "cells": [
    {
      "cell_type": "markdown",
      "metadata": {
        "id": "view-in-github",
        "colab_type": "text"
      },
      "source": [
        "<a href=\"https://colab.research.google.com/github/GoldPapaya/info256-applied-nlp/blob/main/7.lm/HW7_BERT_Parts_of_Speech.ipynb\" target=\"_parent\"><img src=\"https://colab.research.google.com/assets/colab-badge.svg\" alt=\"Open In Colab\"/></a>"
      ]
    },
    {
      "cell_type": "markdown",
      "id": "32b50d1b-aba7-4080-a6c6-9b65cb57ce6a",
      "metadata": {
        "id": "32b50d1b-aba7-4080-a6c6-9b65cb57ce6a"
      },
      "source": [
        "[![Open In Colab](https://colab.research.google.com/assets/colab-badge.svg)](https://colab.research.google.com/github/dbamman/anlp25/blob/main/7.lm/HW7_BERT.ipynb)\n",
        "\n",
        "# HW7: Part-of-speech tagging with BERT\n",
        "\n",
        "In this homework, we will be using the contextual embeddings from a large masked language model (BERT) to do token classification with the Huggingface `transformers` library."
      ]
    },
    {
      "cell_type": "markdown",
      "id": "dd9c1390-5303-40a1-bb08-1b8e5c972aa4",
      "metadata": {
        "id": "dd9c1390-5303-40a1-bb08-1b8e5c972aa4"
      },
      "source": [
        "Part-of-speech (POS) tagging is a core task in NLP that involves identifying the part of speech for each token in a sentence. We will use the Universal Dependencies POS tags, as well as a manually annotated English UD corpus, to build a high-performing POS tagger.\n",
        "\n",
        "To read more about the Universal Dependencies project, [see this website](https://universaldependencies.org/introduction.html). To read more about the universal POS tags that we will be relying on, [see this page](https://universaldependencies.org/u/pos/index.html)."
      ]
    },
    {
      "cell_type": "code",
      "execution_count": 1,
      "id": "88c2090b-847b-4ffc-adbf-b7caed6d6b09",
      "metadata": {
        "id": "88c2090b-847b-4ffc-adbf-b7caed6d6b09"
      },
      "outputs": [],
      "source": [
        "from transformers import AutoTokenizer, BertModel\n",
        "import torch\n",
        "from torch import nn"
      ]
    },
    {
      "cell_type": "code",
      "execution_count": 2,
      "id": "5f58b672-c32c-4e63-b5a5-d49a686e439c",
      "metadata": {
        "colab": {
          "base_uri": "https://localhost:8080/"
        },
        "id": "5f58b672-c32c-4e63-b5a5-d49a686e439c",
        "outputId": "5538f88e-9fa9-43c6-9244-b096b103c15a"
      },
      "outputs": [
        {
          "output_type": "execute_result",
          "data": {
            "text/plain": [
              "True"
            ]
          },
          "metadata": {},
          "execution_count": 2
        }
      ],
      "source": [
        "# Make sure the GPU is available\n",
        "torch.cuda.is_available()"
      ]
    },
    {
      "cell_type": "code",
      "execution_count": 3,
      "id": "19bed838-ee36-48d6-b9b3-a77d7145153f",
      "metadata": {
        "colab": {
          "base_uri": "https://localhost:8080/",
          "height": 251,
          "referenced_widgets": [
            "a181db9509124e1fa41e5a1fadd772eb",
            "23f75c6bbf3f4761abe665fba30f6363",
            "ece4651287f14a6aa9c378fa235d5ae7",
            "08be71e9c6e044698e6358632aaf4cc0",
            "85af9b0848234d51acc29dddd83e55df",
            "03a319e3f0c0405391f86c35b46eb9c5",
            "9342722c153f404cb316cf42f32c1462",
            "86c5e7c1689d4e14b7b1478bbfc227d3",
            "4e957e80660c45078f3b036add68efbd",
            "653b94dd34cc490eb7873c0657446ed3",
            "146e9a38bee64e45bc05fe1649937940",
            "cba256c3efdf4274b715cb952bd3e977",
            "8760022491014926a8edf42023ffa2e2",
            "19fe9f4aedae4ca3b1079b2d687a0081",
            "68de8954d2f84a5fbaa894c96e9fab74",
            "727583997fc944a99ad2b1ac9ba9eea3",
            "bb9564170da94064bfec0539d4cf985c",
            "5fab08e395f042748136ca20c2a02b4a",
            "88172ddd3309456c9f15426b46d6f6c9",
            "d7ed03b98db646c9a8e1269377a1d85f",
            "38246292714f4436a6140222f6911e5c",
            "434a3fa610a74adda77b2599297a629d",
            "2b21acd3ae604c6c93b299fa47136036",
            "eba5e2ec9a9f4bf086dec04fdb31678f",
            "f6a5a23d98e44e8aa51e512d6c41addf",
            "1badcf784bd14a49b905be3b1eefadf9",
            "e66c8b8d454b44d98035e44f1db42f4c",
            "634cae50fd4441a5ac014bc4a42e4f75",
            "6ec1667e85ec4d438ac60201f9bbe8e3",
            "d95b8d18af2148cb9e5d12ac125d0ce4",
            "65e0b459030f4651b87f119b1a3e3df3",
            "9e785d2cbe9d49878a61db6acd3a1048",
            "ceb731a2a64d40b2b0d51602788a82e6",
            "d5764c99c5464dcc885bff0533ff5824",
            "58ca987d46934fdcaa64cf86cd898fed",
            "754a8dcbc390478fbdd1b09a0e96328f",
            "a27a7676fed34e759cc81917f9292ae2",
            "8c2400829f74474490cb36121f7586aa",
            "eb228caf6863432a9df83b0c7c8e398e",
            "8b06e40b90de4b74ba43583595e8252d",
            "825e09ddabd64595866dc3e60ecce9e7",
            "6a7510922ae4430c98e9935cf5e6c722",
            "253b7f46d277409fbdb4f1bbe33bdb41",
            "388774ebe1474769aa5cd646bef799dc"
          ]
        },
        "id": "19bed838-ee36-48d6-b9b3-a77d7145153f",
        "outputId": "2e53dab5-a025-44d7-bf2a-4df222254b9e"
      },
      "outputs": [
        {
          "output_type": "stream",
          "name": "stderr",
          "text": [
            "/usr/local/lib/python3.12/dist-packages/huggingface_hub/utils/_auth.py:94: UserWarning: \n",
            "The secret `HF_TOKEN` does not exist in your Colab secrets.\n",
            "To authenticate with the Hugging Face Hub, create a token in your settings tab (https://huggingface.co/settings/tokens), set it as secret in your Google Colab and restart your session.\n",
            "You will be able to reuse this secret in all of your notebooks.\n",
            "Please note that authentication is recommended but still optional to access public models or datasets.\n",
            "  warnings.warn(\n"
          ]
        },
        {
          "output_type": "display_data",
          "data": {
            "text/plain": [
              "tokenizer_config.json:   0%|          | 0.00/49.0 [00:00<?, ?B/s]"
            ],
            "application/vnd.jupyter.widget-view+json": {
              "version_major": 2,
              "version_minor": 0,
              "model_id": "a181db9509124e1fa41e5a1fadd772eb"
            }
          },
          "metadata": {}
        },
        {
          "output_type": "display_data",
          "data": {
            "text/plain": [
              "config.json:   0%|          | 0.00/625 [00:00<?, ?B/s]"
            ],
            "application/vnd.jupyter.widget-view+json": {
              "version_major": 2,
              "version_minor": 0,
              "model_id": "cba256c3efdf4274b715cb952bd3e977"
            }
          },
          "metadata": {}
        },
        {
          "output_type": "display_data",
          "data": {
            "text/plain": [
              "vocab.txt:   0%|          | 0.00/996k [00:00<?, ?B/s]"
            ],
            "application/vnd.jupyter.widget-view+json": {
              "version_major": 2,
              "version_minor": 0,
              "model_id": "2b21acd3ae604c6c93b299fa47136036"
            }
          },
          "metadata": {}
        },
        {
          "output_type": "display_data",
          "data": {
            "text/plain": [
              "tokenizer.json:   0%|          | 0.00/1.96M [00:00<?, ?B/s]"
            ],
            "application/vnd.jupyter.widget-view+json": {
              "version_major": 2,
              "version_minor": 0,
              "model_id": "d5764c99c5464dcc885bff0533ff5824"
            }
          },
          "metadata": {}
        }
      ],
      "source": [
        "tokenizer = AutoTokenizer.from_pretrained(\"bert-base-multilingual-cased\")"
      ]
    },
    {
      "cell_type": "markdown",
      "id": "82daced0-4a59-464b-aabd-d7e79de3602c",
      "metadata": {
        "id": "82daced0-4a59-464b-aabd-d7e79de3602c"
      },
      "source": [
        "## Familiarizing ourselves with POS"
      ]
    },
    {
      "cell_type": "markdown",
      "id": "107153aa-d4d8-41de-b0e6-b9cab98d0ba4",
      "metadata": {
        "id": "107153aa-d4d8-41de-b0e6-b9cab98d0ba4"
      },
      "source": [
        "Download the datasets from the UD Github."
      ]
    },
    {
      "cell_type": "code",
      "execution_count": 4,
      "id": "1a787435-08a8-410f-8fff-ac229a5d28bd",
      "metadata": {
        "colab": {
          "base_uri": "https://localhost:8080/"
        },
        "id": "1a787435-08a8-410f-8fff-ac229a5d28bd",
        "outputId": "d62a931e-b623-4bf4-e8da-418ff83bda9f"
      },
      "outputs": [
        {
          "output_type": "stream",
          "name": "stdout",
          "text": [
            "--2025-10-10 17:23:38--  https://github.com/UniversalDependencies/UD_English-EWT/raw/refs/heads/master/en_ewt-ud-train.conllu\n",
            "Resolving github.com (github.com)... 140.82.113.4\n",
            "Connecting to github.com (github.com)|140.82.113.4|:443... connected.\n",
            "HTTP request sent, awaiting response... 302 Found\n",
            "Location: https://raw.githubusercontent.com/UniversalDependencies/UD_English-EWT/refs/heads/master/en_ewt-ud-train.conllu [following]\n",
            "--2025-10-10 17:23:38--  https://raw.githubusercontent.com/UniversalDependencies/UD_English-EWT/refs/heads/master/en_ewt-ud-train.conllu\n",
            "Resolving raw.githubusercontent.com (raw.githubusercontent.com)... 185.199.108.133, 185.199.109.133, 185.199.110.133, ...\n",
            "Connecting to raw.githubusercontent.com (raw.githubusercontent.com)|185.199.108.133|:443... connected.\n",
            "HTTP request sent, awaiting response... 200 OK\n",
            "Length: 14203025 (14M) [text/plain]\n",
            "Saving to: ‘en_ewt-ud-train.conllu’\n",
            "\n",
            "en_ewt-ud-train.con 100%[===================>]  13.54M  --.-KB/s    in 0.07s   \n",
            "\n",
            "2025-10-10 17:23:39 (181 MB/s) - ‘en_ewt-ud-train.conllu’ saved [14203025/14203025]\n",
            "\n",
            "--2025-10-10 17:23:39--  https://github.com/UniversalDependencies/UD_English-EWT/raw/refs/heads/master/en_ewt-ud-dev.conllu\n",
            "Resolving github.com (github.com)... 140.82.113.3\n",
            "Connecting to github.com (github.com)|140.82.113.3|:443... connected.\n",
            "HTTP request sent, awaiting response... 302 Found\n",
            "Location: https://raw.githubusercontent.com/UniversalDependencies/UD_English-EWT/refs/heads/master/en_ewt-ud-dev.conllu [following]\n",
            "--2025-10-10 17:23:40--  https://raw.githubusercontent.com/UniversalDependencies/UD_English-EWT/refs/heads/master/en_ewt-ud-dev.conllu\n",
            "Resolving raw.githubusercontent.com (raw.githubusercontent.com)... 185.199.108.133, 185.199.109.133, 185.199.110.133, ...\n",
            "Connecting to raw.githubusercontent.com (raw.githubusercontent.com)|185.199.108.133|:443... connected.\n",
            "HTTP request sent, awaiting response... 200 OK\n",
            "Length: 1805545 (1.7M) [text/plain]\n",
            "Saving to: ‘en_ewt-ud-dev.conllu’\n",
            "\n",
            "en_ewt-ud-dev.conll 100%[===================>]   1.72M  --.-KB/s    in 0.04s   \n",
            "\n",
            "2025-10-10 17:23:40 (40.9 MB/s) - ‘en_ewt-ud-dev.conllu’ saved [1805545/1805545]\n",
            "\n"
          ]
        }
      ],
      "source": [
        "!wget https://github.com/UniversalDependencies/UD_English-EWT/raw/refs/heads/master/en_ewt-ud-train.conllu\n",
        "!wget https://github.com/UniversalDependencies/UD_English-EWT/raw/refs/heads/master/en_ewt-ud-dev.conllu"
      ]
    },
    {
      "cell_type": "code",
      "execution_count": 5,
      "id": "5dcd9167-cc46-4aee-8a6d-f4807cb565bb",
      "metadata": {
        "id": "5dcd9167-cc46-4aee-8a6d-f4807cb565bb"
      },
      "outputs": [],
      "source": [
        "# from https://universaldependencies.org/u/pos/index.html\n",
        "idx2label = [\n",
        "    \"ADJ\",\n",
        "    \"ADP\",\n",
        "    \"ADV\",\n",
        "    \"AUX\",\n",
        "    \"CCONJ\",\n",
        "    \"DET\",\n",
        "    \"INTJ\",\n",
        "    \"NOUN\",\n",
        "    \"NUM\",\n",
        "    \"PART\",\n",
        "    \"PRON\",\n",
        "    \"PROPN\",\n",
        "    \"PUNCT\",\n",
        "    \"SCONJ\",\n",
        "    \"SYM\",\n",
        "    \"VERB\",\n",
        "    \"X\",\n",
        "]\n",
        "\n",
        "label2idx = {\n",
        "    lab: idx for idx, lab in enumerate(idx2label)\n",
        "}\n",
        "\n",
        "# the conllu files follow the format described here:\n",
        "# https://universaldependencies.org/format.html\n",
        "def parse_conllu(file, n=100):\n",
        "    # read up to n sentences from the provided file\n",
        "    dataset = []\n",
        "    this_sentence = []\n",
        "    this_labels = []\n",
        "    for line in open(file, \"r\"):\n",
        "        if line[0] == \"#\":\n",
        "            continue\n",
        "        line = line.strip()\n",
        "        if len(line) == 0:\n",
        "            dataset.append({\n",
        "                \"tokens\": this_sentence,\n",
        "                \"upos\": this_labels\n",
        "            })\n",
        "            this_sentence = []\n",
        "            this_labels = []\n",
        "\n",
        "            if len(dataset) >= n:\n",
        "                return dataset\n",
        "\n",
        "            continue\n",
        "        idx, word, _, upos, _, _, _, _, _, _ = line.split(\"\\t\")\n",
        "        if \"-\" in idx:\n",
        "            # skip multiword tokens because each individual one is also included\n",
        "            continue\n",
        "        if upos not in label2idx:\n",
        "            print(line)\n",
        "        this_sentence.append(word)\n",
        "        this_labels.append(label2idx[upos])\n",
        "\n",
        "    return dataset"
      ]
    },
    {
      "cell_type": "code",
      "execution_count": 6,
      "id": "a516b5f2-9e7b-46b8-a772-77b076516ef5",
      "metadata": {
        "id": "a516b5f2-9e7b-46b8-a772-77b076516ef5"
      },
      "outputs": [],
      "source": [
        "train_dataset = parse_conllu(\"en_ewt-ud-train.conllu\", n=20_000)\n",
        "dev_dataset = parse_conllu(\"en_ewt-ud-dev.conllu\", n=5_000)"
      ]
    },
    {
      "cell_type": "markdown",
      "id": "e5342706-4fc6-49ad-98aa-691b9cbc5342",
      "metadata": {
        "id": "e5342706-4fc6-49ad-98aa-691b9cbc5342"
      },
      "source": [
        "### Question 1\n",
        "\n",
        "Take a look through the dataset to get a feel for this task. Then, manually annotate the following sentence:\n",
        "\n",
        "```\n",
        "Emily took a flight to Paris.\n",
        "```"
      ]
    },
    {
      "cell_type": "markdown",
      "id": "9c73a672-c1d5-44e7-818a-21d1719413a0",
      "metadata": {
        "id": "9c73a672-c1d5-44e7-818a-21d1719413a0"
      },
      "source": [
        "_Fill me in:_\n",
        "\n",
        "```\n",
        "Emily  - PROPN\n",
        "took   - VERB\n",
        "a      - DET\n",
        "flight - NOUN\n",
        "to     - ADP\n",
        "Paris  - PROPN\n",
        "```"
      ]
    },
    {
      "cell_type": "markdown",
      "id": "2ac37aa5-b8e2-40ea-b980-3a728312993e",
      "metadata": {
        "id": "2ac37aa5-b8e2-40ea-b980-3a728312993e"
      },
      "source": [
        "## Setting up data helpers\n",
        "\n",
        "The annotations are provided at the word level, but BERT tokenizes into subword tokens, so we need to make sure the labels still align.\n",
        "\n",
        "Because we usually process inputs in parallel batches for efficiency, we also define a `collate` function that prepares a batch of examples for training."
      ]
    },
    {
      "cell_type": "code",
      "execution_count": 7,
      "id": "3028c833-b2cc-43a1-b5b7-55dadc7ae58a",
      "metadata": {
        "id": "3028c833-b2cc-43a1-b5b7-55dadc7ae58a"
      },
      "outputs": [],
      "source": [
        "def tokenize(batch):\n",
        "    # tokenize the words\n",
        "    output = tokenizer(batch[\"tokens\"], is_split_into_words=True)\n",
        "\n",
        "    # labels are provided on the word level, but we might tokenize into subword tokens\n",
        "    # we also inject special tokens (like [CLS] and [SEP])\n",
        "    # to account for this, we give null (-100) labels to any subword token that isn't the\n",
        "    # first token of the word.\n",
        "    # we configure the CrossEntropyLoss to ignore the -100 value\n",
        "    # (see `ignore_index` in https://docs.pytorch.org/docs/stable/generated/torch.nn.CrossEntropyLoss.html)\n",
        "    all_new_labels = []\n",
        "    for i, labels in enumerate(batch[\"upos\"]):\n",
        "        new_labels = []\n",
        "        prev_id = None\n",
        "        for word_id in output.word_ids(batch_index=i):\n",
        "            if word_id is None or word_id == prev_id:\n",
        "                new_labels.append(-100)\n",
        "            else:\n",
        "                new_labels.append(labels[word_id])\n",
        "            prev_id = word_id\n",
        "        all_new_labels.append(new_labels)\n",
        "\n",
        "    output[\"labels\"] = all_new_labels\n",
        "    return output"
      ]
    },
    {
      "cell_type": "code",
      "execution_count": 8,
      "id": "beb42c14-fb41-414e-8a9d-adae92bb628a",
      "metadata": {
        "id": "beb42c14-fb41-414e-8a9d-adae92bb628a"
      },
      "outputs": [],
      "source": [
        "from torch.nn.utils.rnn import pad_sequence\n",
        "\n",
        "def collate(items):\n",
        "    # Converts from a list of dicts to a dict of lists\n",
        "    batch = {\n",
        "        k: [item[k] for item in items] for k in items[0]\n",
        "    }\n",
        "    # Tokenizes and pads each batch\n",
        "    outputs = tokenize(batch)\n",
        "    outputs = {\n",
        "        k: pad_sequence([torch.tensor(l) for l in v], batch_first=True, padding_value=(0 if k != \"labels\" else -100))\n",
        "        for k, v in outputs.items()\n",
        "    }\n",
        "    return outputs"
      ]
    },
    {
      "cell_type": "markdown",
      "id": "ba6a8ba7-8adb-41f1-9ed5-d0b261a8f713",
      "metadata": {
        "id": "ba6a8ba7-8adb-41f1-9ed5-d0b261a8f713"
      },
      "source": [
        "## Define model\n",
        "\n",
        "Our model architecture is as follows:\n",
        "\n",
        "1. We encode the tokens with our BERT model.\n",
        "2. We then use a linear classification layer on the last layer of attention outputs for _each token_, giving us a classification for each token.\n",
        "\n",
        "### Question 2\n",
        "\n",
        "When working with neural networks, a useful debugging strategy is making sure the shapes of your tensors are correct.\n",
        "**Fill in the correct values for the shape assertions.**"
      ]
    },
    {
      "cell_type": "code",
      "execution_count": 14,
      "id": "16efb270-6148-489c-af8e-7b39a450e04e",
      "metadata": {
        "id": "16efb270-6148-489c-af8e-7b39a450e04e"
      },
      "outputs": [],
      "source": [
        "class POSBert(nn.Module):\n",
        "    def __init__(self, bert_model, num_labels=2):\n",
        "        super().__init__()\n",
        "        self.num_labels = num_labels\n",
        "        self.hidden_size = bert_model.config.hidden_size\n",
        "\n",
        "        self.bert_model = bert_model\n",
        "        self.classification = nn.Linear(self.hidden_size, self.num_labels)\n",
        "\n",
        "    def forward(self, batch):\n",
        "        device = next(self.parameters()).device\n",
        "\n",
        "        # batch[\"input_ids\"] has shape (B, L) where B is the batch size and L is the padded length\n",
        "        B, L = batch[\"input_ids\"].shape\n",
        "\n",
        "        model_output = self.bert_model(\n",
        "            batch[\"input_ids\"].to(device),\n",
        "            attention_mask=batch[\"attention_mask\"].to(device),\n",
        "            token_type_ids=batch[\"token_type_ids\"].to(device)\n",
        "        )\n",
        "        hidden = model_output.last_hidden_state\n",
        "        assert hidden.shape == (B, L, self.hidden_size)\n",
        "\n",
        "        logits = self.classification(hidden)\n",
        "        assert logits.shape == (B, L, self.num_labels)\n",
        "        return logits"
      ]
    },
    {
      "cell_type": "markdown",
      "id": "007b390c-d21b-4e35-b745-b3f16a3bef83",
      "metadata": {
        "id": "007b390c-d21b-4e35-b745-b3f16a3bef83"
      },
      "source": [
        "## Train model"
      ]
    },
    {
      "cell_type": "code",
      "execution_count": 10,
      "id": "58be713e-c03c-4811-9780-58c5a0de04b7",
      "metadata": {
        "id": "58be713e-c03c-4811-9780-58c5a0de04b7"
      },
      "outputs": [],
      "source": [
        "import numpy as np\n",
        "from tqdm import tqdm\n",
        "from torch.utils.data import DataLoader"
      ]
    },
    {
      "cell_type": "code",
      "execution_count": 11,
      "id": "a209fff7-1fab-451a-8489-1325b9a58784",
      "metadata": {
        "id": "a209fff7-1fab-451a-8489-1325b9a58784"
      },
      "outputs": [],
      "source": [
        "from sklearn.metrics import f1_score"
      ]
    },
    {
      "cell_type": "code",
      "execution_count": 12,
      "id": "b91bfb6d-dd31-429c-b713-5fb9177e541d",
      "metadata": {
        "id": "b91bfb6d-dd31-429c-b713-5fb9177e541d"
      },
      "outputs": [],
      "source": [
        "batch_size = 64\n",
        "learning_rate = 3e-5\n",
        "num_epochs = 1\n",
        "\n",
        "def filter_preds(predicted, target):\n",
        "    f_predicted = []\n",
        "    f_target = []\n",
        "    for pred, tar in zip(predicted, target):\n",
        "        if tar == -100:\n",
        "            continue\n",
        "        f_predicted.append(pred)\n",
        "        f_target.append(tar)\n",
        "    return np.array(f_predicted), np.array(f_target)\n",
        "\n",
        "\n",
        "def train(model, loss_fn, optimizer, loader, num_epochs=1):\n",
        "    model.train()\n",
        "    step = 0\n",
        "    for epoch in range(num_epochs):\n",
        "        for batch in tqdm(loader, desc=\"train\"):\n",
        "            optimizer.zero_grad()\n",
        "\n",
        "            output = model(batch)\n",
        "            loss = loss_fn(output.flatten(0, 1), batch[\"labels\"].flatten(0, 1).to(\"cuda\"))\n",
        "\n",
        "            loss.backward()\n",
        "            optimizer.step()\n",
        "\n",
        "            # We `yield` at the end of each step, allowing us to iterate\n",
        "            # over the training steps in the `training_loop` function.\n",
        "            # This is called a `generator` in Python\n",
        "\n",
        "            # See this page to learn more about generators:\n",
        "            # https://wiki.python.org/moin/Generators\n",
        "            yield {\"epoch\": epoch, \"step\": step}\n",
        "\n",
        "            step += 1\n",
        "\n",
        "def validate(model, loader):\n",
        "    with torch.no_grad():\n",
        "        model.eval()\n",
        "        predicted = []\n",
        "        target = []\n",
        "        for batch in tqdm(loader, desc=\"dev\", disable=True):\n",
        "            output = model(batch)\n",
        "            predicted.append(output.flatten(0, 1).argmax(-1).cpu().numpy())\n",
        "            target.append(batch[\"labels\"].flatten(0, 1).numpy())\n",
        "\n",
        "        predicted = np.concatenate(predicted)\n",
        "        target = np.concatenate(target)\n",
        "\n",
        "        predicted, target = filter_preds(predicted, target)\n",
        "\n",
        "        accuracy = (predicted == target).sum() / len(predicted)\n",
        "        f1 = f1_score(target, predicted, average=\"macro\")\n",
        "        return {\"accuracy\": accuracy, \"f1\": f1}\n",
        "\n",
        "\n",
        "def training_loop(model, loss, optimizer, train_loader, val_loader):\n",
        "    # Train loop\n",
        "    dev_scores = []\n",
        "\n",
        "    dev_scores.append(validate(model, val_loader))\n",
        "    for i, step in enumerate(train(model, loss, optimizer, train_loader)):\n",
        "        if i % 10 == 0:\n",
        "            # Validation loop every 10 train steps\n",
        "            dev_scores.append(validate(model, val_loader))\n",
        "\n",
        "    return dev_scores"
      ]
    },
    {
      "cell_type": "markdown",
      "id": "3eca9f78-f4ac-4b5a-91bb-0dee451b35c5",
      "metadata": {
        "id": "3eca9f78-f4ac-4b5a-91bb-0dee451b35c5"
      },
      "source": [
        "### Question 3:\n",
        "\n",
        "Fill in the code to train the POS model with cross entropy loss and the Adam optimizer. Use the learning rate that we defined above.\n",
        "\n",
        "We also use [Pytorch data loaders](https://docs.pytorch.org/tutorials/beginner/basics/data_tutorial.html#preparing-your-data-for-training-with-dataloaders) to help batch our data efficiently. We want to shuffle batches on each epoch for the train set for more stable training, but keep the dev batches unshuffled for consistency in our evaluation.\n",
        "\n",
        "The training might take a few minutes, but if it takes longer than 10 minutes, make sure that you have moved the model to the GPU before training!\n",
        "\n",
        "The lab material from Tuesday might be a useful reference here."
      ]
    },
    {
      "cell_type": "code",
      "execution_count": 15,
      "id": "765b0a1b-7115-468f-a376-9946161b3955",
      "metadata": {
        "colab": {
          "base_uri": "https://localhost:8080/"
        },
        "id": "765b0a1b-7115-468f-a376-9946161b3955",
        "outputId": "5fe2e61b-65b6-4a5d-d5ea-ea0ea4195ab0"
      },
      "outputs": [
        {
          "output_type": "stream",
          "name": "stderr",
          "text": [
            "train: 100%|██████████| 196/196 [04:31<00:00,  1.38s/it]\n"
          ]
        }
      ],
      "source": [
        "bert_model = BertModel.from_pretrained(\"bert-base-multilingual-cased\")\n",
        "pos_model = POSBert(bert_model, num_labels=len(idx2label)).to('cuda')\n",
        "loss_fn = torch.nn.CrossEntropyLoss()\n",
        "optimizer = torch.optim.Adam(pos_model.parameters(), lr=3e-5)\n",
        "\n",
        "train_loader = DataLoader(train_dataset, batch_size=batch_size, shuffle=True, collate_fn=collate)\n",
        "dev_loader = DataLoader(dev_dataset, batch_size=batch_size, shuffle=False, collate_fn=collate)\n",
        "\n",
        "scores = training_loop(pos_model, loss_fn, optimizer, train_loader, dev_loader)"
      ]
    },
    {
      "cell_type": "markdown",
      "id": "9e9fa94a-c37d-41ba-af78-8b5208536ae0",
      "metadata": {
        "id": "9e9fa94a-c37d-41ba-af78-8b5208536ae0"
      },
      "source": [
        "## Inspect output\n",
        "\n",
        "We'll first plot the accuracy and F1 validation curves. You should have a performance with high 90s in accuracy, and high-80s or low-90s in F1."
      ]
    },
    {
      "cell_type": "code",
      "execution_count": 16,
      "id": "756f7aa4-64fc-4f3c-9415-1e626085a6ba",
      "metadata": {
        "colab": {
          "base_uri": "https://localhost:8080/",
          "height": 455
        },
        "id": "756f7aa4-64fc-4f3c-9415-1e626085a6ba",
        "outputId": "df33795b-b66c-46e3-c57e-95622205d92d"
      },
      "outputs": [
        {
          "output_type": "execute_result",
          "data": {
            "text/plain": [
              "<Axes: >"
            ]
          },
          "metadata": {},
          "execution_count": 16
        },
        {
          "output_type": "display_data",
          "data": {
            "text/plain": [
              "<Figure size 640x480 with 1 Axes>"
            ],
            "image/png": "[encoded data removed]"
          },
          "metadata": {}
        }
      ],
      "source": [
        "import seaborn as sns\n",
        "sns.set()\n",
        "\n",
        "sns.lineplot(x=list(range(len(scores))), y=[score[\"accuracy\"] for score in scores])"
      ]
    },
    {
      "cell_type": "code",
      "execution_count": 17,
      "id": "9d09b35d-8922-4b6e-a512-38f99a024633",
      "metadata": {
        "colab": {
          "base_uri": "https://localhost:8080/",
          "height": 452
        },
        "id": "9d09b35d-8922-4b6e-a512-38f99a024633",
        "outputId": "f4b0da8a-df44-4545-c02e-9f2d41c6999d"
      },
      "outputs": [
        {
          "output_type": "execute_result",
          "data": {
            "text/plain": [
              "<Axes: >"
            ]
          },
          "metadata": {},
          "execution_count": 17
        },
        {
          "output_type": "display_data",
          "data": {
            "text/plain": [
              "<Figure size 640x480 with 1 Axes>"
            ],
            "image/png": "[encoded data removed]"
          },
          "metadata": {}
        }
      ],
      "source": [
        "sns.lineplot(x=list(range(len(scores))), y=[score[\"f1\"] for score in scores])"
      ]
    },
    {
      "cell_type": "markdown",
      "id": "4c65669c-c093-4a57-8785-a9ed4cb627b8",
      "metadata": {
        "id": "4c65669c-c093-4a57-8785-a9ed4cb627b8"
      },
      "source": [
        "### Question 4\n",
        "\n",
        "Use the `visualize_results` function to test the model on multiple sentences.\n",
        "\n",
        "1. Find a sentence where the same word occurs twice with two different parts of speech.\n",
        "2. Find a pair of sentences where the same token has different output labels.\n",
        "\n",
        "Write a paragraph reflecting on why the architecture of BERT might be useful for POS tagging. Compare to some other methods we have learned in class, like static word embeddings or logistic regression on bags of words. What would be challenging about this task using those other methods? Why are contextual representations useful?"
      ]
    },
    {
      "cell_type": "code",
      "execution_count": 18,
      "id": "1f90b93a-3cd5-4611-a379-24adc91ed57f",
      "metadata": {
        "id": "1f90b93a-3cd5-4611-a379-24adc91ed57f"
      },
      "outputs": [],
      "source": [
        "def visualize_results(sentence, model):\n",
        "    tokens = tokenizer(sentence, return_tensors=\"pt\")\n",
        "    preds = model(tokens).argmax(-1)\n",
        "    for tok, pred in zip(tokens.input_ids[0][1:-1], preds[0][1:-1]):\n",
        "        print(tokenizer.decode(tok), idx2label[pred.item()])"
      ]
    },
    {
      "cell_type": "code",
      "execution_count": 19,
      "id": "b9ec8631-3010-4456-bd8e-d28f80915123",
      "metadata": {
        "colab": {
          "base_uri": "https://localhost:8080/"
        },
        "id": "b9ec8631-3010-4456-bd8e-d28f80915123",
        "outputId": "85befbc1-55b5-4f5c-bf2c-ca2795ad83a1"
      },
      "outputs": [
        {
          "output_type": "stream",
          "name": "stdout",
          "text": [
            "Na PROPN\n",
            "##itia PROPN\n",
            "##n PROPN\n",
            "is AUX\n",
            "a DET\n",
            "PhD NOUN\n",
            "student NOUN\n",
            "at ADP\n",
            "the DET\n",
            "UC PROPN\n",
            "Berkeley PROPN\n",
            "School PROPN\n",
            "of ADP\n",
            "Information PROPN\n",
            "in ADP\n",
            "California PROPN\n",
            ". PUNCT\n"
          ]
        }
      ],
      "source": [
        "visualize_results(\"Naitian is a PhD student at the UC Berkeley School of Information in California.\", pos_model)"
      ]
    },
    {
      "cell_type": "code",
      "source": [
        "visualize_results(\"'You should bank your earnings' he said, so I went to the bank\", pos_model)"
      ],
      "metadata": {
        "colab": {
          "base_uri": "https://localhost:8080/"
        },
        "id": "HQNCgdHMSnlM",
        "outputId": "810dfcea-67e9-4956-a891-eeb0c15fe8ff"
      },
      "id": "HQNCgdHMSnlM",
      "execution_count": 25,
      "outputs": [
        {
          "output_type": "stream",
          "name": "stdout",
          "text": [
            "' PUNCT\n",
            "You PRON\n",
            "should AUX\n",
            "bank VERB\n",
            "your PRON\n",
            "earning NOUN\n",
            "##s NOUN\n",
            "' PUNCT\n",
            "he PRON\n",
            "said VERB\n",
            ", PUNCT\n",
            "so ADV\n",
            "I PRON\n",
            "went VERB\n",
            "to ADP\n",
            "the DET\n",
            "bank NOUN\n"
          ]
        }
      ]
    },
    {
      "cell_type": "code",
      "source": [
        "visualize_results(\"You should bank your earnings\", pos_model)"
      ],
      "metadata": {
        "colab": {
          "base_uri": "https://localhost:8080/"
        },
        "id": "5ahV8AXyTHnP",
        "outputId": "4c17c55b-c054-4969-e009-7785e254a58e"
      },
      "id": "5ahV8AXyTHnP",
      "execution_count": 23,
      "outputs": [
        {
          "output_type": "stream",
          "name": "stdout",
          "text": [
            "You PRON\n",
            "should AUX\n",
            "bank VERB\n",
            "your PRON\n",
            "earning NOUN\n",
            "##s NOUN\n"
          ]
        }
      ]
    },
    {
      "cell_type": "code",
      "source": [
        "visualize_results(\"I went to the bank\", pos_model)"
      ],
      "metadata": {
        "colab": {
          "base_uri": "https://localhost:8080/"
        },
        "id": "-7aaU9HQTSgu",
        "outputId": "08ce9802-239c-45a6-d314-4f98ff60c93c"
      },
      "id": "-7aaU9HQTSgu",
      "execution_count": 24,
      "outputs": [
        {
          "output_type": "stream",
          "name": "stdout",
          "text": [
            "I PRON\n",
            "went VERB\n",
            "to ADP\n",
            "the DET\n",
            "bank NOUN\n"
          ]
        }
      ]
    },
    {
      "cell_type": "markdown",
      "id": "4607d120-5bf6-4c42-9493-31490087ebaa",
      "metadata": {
        "id": "4607d120-5bf6-4c42-9493-31490087ebaa"
      },
      "source": [
        "### Question 5\n",
        "\n",
        "You may have noticed that we are using a pre-trained multilingual BERT model. Pick another language that has UD annotations from the [list on this page](https://universaldependencies.org/). Download the `conllu` file from the linked Github repository for that language and train a new model on POS tagging for that language.\n",
        "\n",
        "Compare the performance between the English results from above and the language you chose. If you are familiar with the language, feel free to also inspect the model outputs on some of your own sentences.\n",
        "\n",
        "If you find yourself running out of memory on the GPU, you may want to restart the kernel to clear the previous model before doing this last part."
      ]
    },
    {
      "cell_type": "code",
      "execution_count": 33,
      "id": "cb74ff36-f924-4775-a5d1-66d2f0415530",
      "metadata": {
        "colab": {
          "base_uri": "https://localhost:8080/"
        },
        "id": "cb74ff36-f924-4775-a5d1-66d2f0415530",
        "outputId": "9029b8f4-21da-4526-c10e-9d1b8df68648"
      },
      "outputs": [
        {
          "output_type": "stream",
          "name": "stdout",
          "text": [
            "--2025-10-10 18:19:54--  https://raw.githubusercontent.com/UniversalDependencies/UD_French-GSD/master/fr_gsd-ud-train.conllu\n",
            "Resolving raw.githubusercontent.com (raw.githubusercontent.com)... 185.199.108.133, 185.199.111.133, 185.199.109.133, ...\n",
            "Connecting to raw.githubusercontent.com (raw.githubusercontent.com)|185.199.108.133|:443... connected.\n",
            "HTTP request sent, awaiting response... 200 OK\n",
            "Length: 23020440 (22M) [text/plain]\n",
            "Saving to: ‘fr_gsd-ud-train.conllu.1’\n",
            "\n",
            "fr_gsd-ud-train.con 100%[===================>]  21.95M  --.-KB/s    in 0.1s    \n",
            "\n",
            "2025-10-10 18:19:55 (214 MB/s) - ‘fr_gsd-ud-train.conllu.1’ saved [23020440/23020440]\n",
            "\n",
            "--2025-10-10 18:19:55--  https://raw.githubusercontent.com/UniversalDependencies/UD_French-GSD/master/fr_gsd-ud-dev.conllu\n",
            "Resolving raw.githubusercontent.com (raw.githubusercontent.com)... 185.199.108.133, 185.199.109.133, 185.199.110.133, ...\n",
            "Connecting to raw.githubusercontent.com (raw.githubusercontent.com)|185.199.108.133|:443... connected.\n",
            "HTTP request sent, awaiting response... 200 OK\n",
            "Length: 2316421 (2.2M) [text/plain]\n",
            "Saving to: ‘fr_gsd-ud-dev.conllu.1’\n",
            "\n",
            "fr_gsd-ud-dev.conll 100%[===================>]   2.21M  --.-KB/s    in 0.04s   \n",
            "\n",
            "2025-10-10 18:19:55 (55.8 MB/s) - ‘fr_gsd-ud-dev.conllu.1’ saved [2316421/2316421]\n",
            "\n"
          ]
        }
      ],
      "source": [
        "!wget https://raw.githubusercontent.com/UniversalDependencies/UD_French-GSD/master/fr_gsd-ud-train.conllu\n",
        "!wget https://raw.githubusercontent.com/UniversalDependencies/UD_French-GSD/master/fr_gsd-ud-dev.conllu"
      ]
    },
    {
      "cell_type": "code",
      "source": [
        "with open(\"fr_gsd-ud-train.conllu\", \"r\") as f:\n",
        "    print(f.read()[:500])  # Print first 500 characters"
      ],
      "metadata": {
        "colab": {
          "base_uri": "https://localhost:8080/"
        },
        "id": "p7O2kk54Wg85",
        "outputId": "9122520d-351e-477f-856a-54a8950cd0a9"
      },
      "id": "p7O2kk54Wg85",
      "execution_count": 35,
      "outputs": [
        {
          "output_type": "stream",
          "name": "stdout",
          "text": [
            "\n",
            "\n",
            "\n",
            "\n",
            "\n",
            "\n",
            "<!DOCTYPE html>\n",
            "<html\n",
            "  lang=\"en\"\n",
            "  \n",
            "  data-color-mode=\"auto\" data-light-theme=\"light\" data-dark-theme=\"dark\"\n",
            "  data-a11y-animated-images=\"system\" data-a11y-link-underlines=\"true\"\n",
            "  data-css-features=\"one_click_merge_conflict\"\n",
            "  >\n",
            "\n",
            "\n",
            "\n",
            "\n",
            "  <head>\n",
            "    <meta charset=\"utf-8\">\n",
            "  <link rel=\"dns-prefetch\" href=\"https://github.githubassets.com\">\n",
            "  <link rel=\"dns-prefetch\" href=\"https://avatars.githubusercontent.com\">\n",
            "  <link rel=\"dns-prefetch\" href=\"https://github-cloud.s3.amazonaws.com\">\n",
            "  <link re\n"
          ]
        }
      ]
    },
    {
      "cell_type": "code",
      "source": [
        "# Load French datasets (e.g., n=100 for quick testing; increase for full training)\n",
        "fr_train_dataset = parse_conllu(\"fr_gsd-ud-train.conllu\", n=1000)  # Use more for better training\n",
        "fr_dev_dataset = parse_conllu(\"fr_gsd-ud-dev.conllu\", n=200)\n",
        "\n",
        "print(f\"French train size: {len(fr_train_dataset)} sentences\")\n",
        "print(f\"French dev size: {len(fr_dev_dataset)} sentences\")"
      ],
      "metadata": {
        "colab": {
          "base_uri": "https://localhost:8080/",
          "height": 338
        },
        "id": "g4vWFaVsVVmI",
        "outputId": "866f206e-faf9-414b-c041-eec389cc369b"
      },
      "id": "g4vWFaVsVVmI",
      "execution_count": 34,
      "outputs": [
        {
          "output_type": "error",
          "ename": "ValueError",
          "evalue": "not enough values to unpack (expected 10, got 1)",
          "traceback": [
            "\u001b[0;31m---------------------------------------------------------------------------\u001b[0m",
            "\u001b[0;31mValueError\u001b[0m                                Traceback (most recent call last)",
            "\u001b[0;32m/tmp/ipython-input-1971963456.py\u001b[0m in \u001b[0;36m<cell line: 0>\u001b[0;34m()\u001b[0m\n\u001b[1;32m      1\u001b[0m \u001b[0;31m# Load French datasets (e.g., n=100 for quick testing; increase for full training)\u001b[0m\u001b[0;34m\u001b[0m\u001b[0;34m\u001b[0m\u001b[0m\n\u001b[0;32m----> 2\u001b[0;31m \u001b[0mfr_train_dataset\u001b[0m \u001b[0;34m=\u001b[0m \u001b[0mparse_conllu\u001b[0m\u001b[0;34m(\u001b[0m\u001b[0;34m\"fr_gsd-ud-train.conllu\"\u001b[0m\u001b[0;34m,\u001b[0m \u001b[0mn\u001b[0m\u001b[0;34m=\u001b[0m\u001b[0;36m1000\u001b[0m\u001b[0;34m)\u001b[0m  \u001b[0;31m# Use more for better training\u001b[0m\u001b[0;34m\u001b[0m\u001b[0;34m\u001b[0m\u001b[0m\n\u001b[0m\u001b[1;32m      3\u001b[0m \u001b[0mfr_dev_dataset\u001b[0m \u001b[0;34m=\u001b[0m \u001b[0mparse_conllu\u001b[0m\u001b[0;34m(\u001b[0m\u001b[0;34m\"fr_gsd-ud-dev.conllu\"\u001b[0m\u001b[0;34m,\u001b[0m \u001b[0mn\u001b[0m\u001b[0;34m=\u001b[0m\u001b[0;36m200\u001b[0m\u001b[0;34m)\u001b[0m\u001b[0;34m\u001b[0m\u001b[0;34m\u001b[0m\u001b[0m\n\u001b[1;32m      4\u001b[0m \u001b[0;34m\u001b[0m\u001b[0m\n\u001b[1;32m      5\u001b[0m \u001b[0mprint\u001b[0m\u001b[0;34m(\u001b[0m\u001b[0;34mf\"French train size: {len(fr_train_dataset)} sentences\"\u001b[0m\u001b[0;34m)\u001b[0m\u001b[0;34m\u001b[0m\u001b[0;34m\u001b[0m\u001b[0m\n",
            "\u001b[0;32m/tmp/ipython-input-2637134990.py\u001b[0m in \u001b[0;36mparse_conllu\u001b[0;34m(file, n)\u001b[0m\n\u001b[1;32m     47\u001b[0m \u001b[0;34m\u001b[0m\u001b[0m\n\u001b[1;32m     48\u001b[0m             \u001b[0;32mcontinue\u001b[0m\u001b[0;34m\u001b[0m\u001b[0;34m\u001b[0m\u001b[0m\n\u001b[0;32m---> 49\u001b[0;31m         \u001b[0midx\u001b[0m\u001b[0;34m,\u001b[0m \u001b[0mword\u001b[0m\u001b[0;34m,\u001b[0m \u001b[0m_\u001b[0m\u001b[0;34m,\u001b[0m \u001b[0mupos\u001b[0m\u001b[0;34m,\u001b[0m \u001b[0m_\u001b[0m\u001b[0;34m,\u001b[0m \u001b[0m_\u001b[0m\u001b[0;34m,\u001b[0m \u001b[0m_\u001b[0m\u001b[0;34m,\u001b[0m \u001b[0m_\u001b[0m\u001b[0;34m,\u001b[0m \u001b[0m_\u001b[0m\u001b[0;34m,\u001b[0m \u001b[0m_\u001b[0m \u001b[0;34m=\u001b[0m \u001b[0mline\u001b[0m\u001b[0;34m.\u001b[0m\u001b[0msplit\u001b[0m\u001b[0;34m(\u001b[0m\u001b[0;34m\"\\t\"\u001b[0m\u001b[0;34m)\u001b[0m\u001b[0;34m\u001b[0m\u001b[0;34m\u001b[0m\u001b[0m\n\u001b[0m\u001b[1;32m     50\u001b[0m         \u001b[0;32mif\u001b[0m \u001b[0;34m\"-\"\u001b[0m \u001b[0;32min\u001b[0m \u001b[0midx\u001b[0m\u001b[0;34m:\u001b[0m\u001b[0;34m\u001b[0m\u001b[0;34m\u001b[0m\u001b[0m\n\u001b[1;32m     51\u001b[0m             \u001b[0;31m# skip multiword tokens because each individual one is also included\u001b[0m\u001b[0;34m\u001b[0m\u001b[0;34m\u001b[0m\u001b[0m\n",
            "\u001b[0;31mValueError\u001b[0m: not enough values to unpack (expected 10, got 1)"
          ]
        }
      ]
    },
    {
      "cell_type": "code",
      "source": [],
      "metadata": {
        "id": "NHIrG8rJVWgk"
      },
      "id": "NHIrG8rJVWgk",
      "execution_count": null,
      "outputs": []
    }
  ],
  "metadata": {
    "kernelspec": {
      "display_name": "Python 3",
      "name": "python3"
    },
    "language_info": {
      "codemirror_mode": {
        "name": "ipython",
        "version": 3
      },
      "file_extension": ".py",
      "mimetype": "text/x-python",
      "name": "python",
      "nbconvert_exporter": "python",
      "pygments_lexer": "ipython3",
      "version": "3.11.13"
    },
    "colab": {
      "provenance": [],
      "gpuType": "T4",
      "include_colab_link": true
    },
    "accelerator": "GPU",
    "widgets": {
      "application/vnd.jupyter.widget-state+json": {
        "a181db9509124e1fa41e5a1fadd772eb": {
          "model_module": "@jupyter-widgets/controls",
          "model_name": "HBoxModel",
          "model_module_version": "1.5.0",
          "state": {
            "_dom_classes": [],
            "_model_module": "@jupyter-widgets/controls",
            "_model_module_version": "1.5.0",
            "_model_name": "HBoxModel",
            "_view_count": null,
            "_view_module": "@jupyter-widgets/controls",
            "_view_module_version": "1.5.0",
            "_view_name": "HBoxView",
            "box_style": "",
            "children": [
              "IPY_MODEL_23f75c6bbf3f4761abe665fba30f6363",
              "IPY_MODEL_ece4651287f14a6aa9c378fa235d5ae7",
              "IPY_MODEL_08be71e9c6e044698e6358632aaf4cc0"
            ],
            "layout": "IPY_MODEL_85af9b0848234d51acc29dddd83e55df"
          }
        },
        "23f75c6bbf3f4761abe665fba30f6363": {
          "model_module": "@jupyter-widgets/controls",
          "model_name": "HTMLModel",
          "model_module_version": "1.5.0",
          "state": {
            "_dom_classes": [],
            "_model_module": "@jupyter-widgets/controls",
            "_model_module_version": "1.5.0",
            "_model_name": "HTMLModel",
            "_view_count": null,
            "_view_module": "@jupyter-widgets/controls",
            "_view_module_version": "1.5.0",
            "_view_name": "HTMLView",
            "description": "",
            "description_tooltip": null,
            "layout": "IPY_MODEL_03a319e3f0c0405391f86c35b46eb9c5",
            "placeholder": "​",
            "style": "IPY_MODEL_9342722c153f404cb316cf42f32c1462",
            "value": "tokenizer_config.json: 100%"
          }
        },
        "ece4651287f14a6aa9c378fa235d5ae7": {
          "model_module": "@jupyter-widgets/controls",
          "model_name": "FloatProgressModel",
          "model_module_version": "1.5.0",
          "state": {
            "_dom_classes": [],
            "_model_module": "@jupyter-widgets/controls",
            "_model_module_version": "1.5.0",
            "_model_name": "FloatProgressModel",
            "_view_count": null,
            "_view_module": "@jupyter-widgets/controls",
            "_view_module_version": "1.5.0",
            "_view_name": "ProgressView",
            "bar_style": "success",
            "description": "",
            "description_tooltip": null,
            "layout": "IPY_MODEL_86c5e7c1689d4e14b7b1478bbfc227d3",
            "max": 49,
            "min": 0,
            "orientation": "horizontal",
            "style": "IPY_MODEL_4e957e80660c45078f3b036add68efbd",
            "value": 49
          }
        },
        "08be71e9c6e044698e6358632aaf4cc0": {
          "model_module": "@jupyter-widgets/controls",
          "model_name": "HTMLModel",
          "model_module_version": "1.5.0",
          "state": {
            "_dom_classes": [],
            "_model_module": "@jupyter-widgets/controls",
            "_model_module_version": "1.5.0",
            "_model_name": "HTMLModel",
            "_view_count": null,
            "_view_module": "@jupyter-widgets/controls",
            "_view_module_version": "1.5.0",
            "_view_name": "HTMLView",
            "description": "",
            "description_tooltip": null,
            "layout": "IPY_MODEL_653b94dd34cc490eb7873c0657446ed3",
            "placeholder": "​",
            "style": "IPY_MODEL_146e9a38bee64e45bc05fe1649937940",
            "value": " 49.0/49.0 [00:00&lt;00:00, 2.54kB/s]"
          }
        },
        "85af9b0848234d51acc29dddd83e55df": {
          "model_module": "@jupyter-widgets/base",
          "model_name": "LayoutModel",
          "model_module_version": "1.2.0",
          "state": {
            "_model_module": "@jupyter-widgets/base",
            "_model_module_version": "1.2.0",
            "_model_name": "LayoutModel",
            "_view_count": null,
            "_view_module": "@jupyter-widgets/base",
            "_view_module_version": "1.2.0",
            "_view_name": "LayoutView",
            "align_content": null,
            "align_items": null,
            "align_self": null,
            "border": null,
            "bottom": null,
            "display": null,
            "flex": null,
            "flex_flow": null,
            "grid_area": null,
            "grid_auto_columns": null,
            "grid_auto_flow": null,
            "grid_auto_rows": null,
            "grid_column": null,
            "grid_gap": null,
            "grid_row": null,
            "grid_template_areas": null,
            "grid_template_columns": null,
            "grid_template_rows": null,
            "height": null,
            "justify_content": null,
            "justify_items": null,
            "left": null,
            "margin": null,
            "max_height": null,
            "max_width": null,
            "min_height": null,
            "min_width": null,
            "object_fit": null,
            "object_position": null,
            "order": null,
            "overflow": null,
            "overflow_x": null,
            "overflow_y": null,
            "padding": null,
            "right": null,
            "top": null,
            "visibility": null,
            "width": null
          }
        },
        "03a319e3f0c0405391f86c35b46eb9c5": {
          "model_module": "@jupyter-widgets/base",
          "model_name": "LayoutModel",
          "model_module_version": "1.2.0",
          "state": {
            "_model_module": "@jupyter-widgets/base",
            "_model_module_version": "1.2.0",
            "_model_name": "LayoutModel",
            "_view_count": null,
            "_view_module": "@jupyter-widgets/base",
            "_view_module_version": "1.2.0",
            "_view_name": "LayoutView",
            "align_content": null,
            "align_items": null,
            "align_self": null,
            "border": null,
            "bottom": null,
            "display": null,
            "flex": null,
            "flex_flow": null,
            "grid_area": null,
            "grid_auto_columns": null,
            "grid_auto_flow": null,
            "grid_auto_rows": null,
            "grid_column": null,
            "grid_gap": null,
            "grid_row": null,
            "grid_template_areas": null,
            "grid_template_columns": null,
            "grid_template_rows": null,
            "height": null,
            "justify_content": null,
            "justify_items": null,
            "left": null,
            "margin": null,
            "max_height": null,
            "max_width": null,
            "min_height": null,
            "min_width": null,
            "object_fit": null,
            "object_position": null,
            "order": null,
            "overflow": null,
            "overflow_x": null,
            "overflow_y": null,
            "padding": null,
            "right": null,
            "top": null,
            "visibility": null,
            "width": null
          }
        },
        "9342722c153f404cb316cf42f32c1462": {
          "model_module": "@jupyter-widgets/controls",
          "model_name": "DescriptionStyleModel",
          "model_module_version": "1.5.0",
          "state": {
            "_model_module": "@jupyter-widgets/controls",
            "_model_module_version": "1.5.0",
            "_model_name": "DescriptionStyleModel",
            "_view_count": null,
            "_view_module": "@jupyter-widgets/base",
            "_view_module_version": "1.2.0",
            "_view_name": "StyleView",
            "description_width": ""
          }
        },
        "86c5e7c1689d4e14b7b1478bbfc227d3": {
          "model_module": "@jupyter-widgets/base",
          "model_name": "LayoutModel",
          "model_module_version": "1.2.0",
          "state": {
            "_model_module": "@jupyter-widgets/base",
            "_model_module_version": "1.2.0",
            "_model_name": "LayoutModel",
            "_view_count": null,
            "_view_module": "@jupyter-widgets/base",
            "_view_module_version": "1.2.0",
            "_view_name": "LayoutView",
            "align_content": null,
            "align_items": null,
            "align_self": null,
            "border": null,
            "bottom": null,
            "display": null,
            "flex": null,
            "flex_flow": null,
            "grid_area": null,
            "grid_auto_columns": null,
            "grid_auto_flow": null,
            "grid_auto_rows": null,
            "grid_column": null,
            "grid_gap": null,
            "grid_row": null,
            "grid_template_areas": null,
            "grid_template_columns": null,
            "grid_template_rows": null,
            "height": null,
            "justify_content": null,
            "justify_items": null,
            "left": null,
            "margin": null,
            "max_height": null,
            "max_width": null,
            "min_height": null,
            "min_width": null,
            "object_fit": null,
            "object_position": null,
            "order": null,
            "overflow": null,
            "overflow_x": null,
            "overflow_y": null,
            "padding": null,
            "right": null,
            "top": null,
            "visibility": null,
            "width": null
          }
        },
        "4e957e80660c45078f3b036add68efbd": {
          "model_module": "@jupyter-widgets/controls",
          "model_name": "ProgressStyleModel",
          "model_module_version": "1.5.0",
          "state": {
            "_model_module": "@jupyter-widgets/controls",
            "_model_module_version": "1.5.0",
            "_model_name": "ProgressStyleModel",
            "_view_count": null,
            "_view_module": "@jupyter-widgets/base",
            "_view_module_version": "1.2.0",
            "_view_name": "StyleView",
            "bar_color": null,
            "description_width": ""
          }
        },
        "653b94dd34cc490eb7873c0657446ed3": {
          "model_module": "@jupyter-widgets/base",
          "model_name": "LayoutModel",
          "model_module_version": "1.2.0",
          "state": {
            "_model_module": "@jupyter-widgets/base",
            "_model_module_version": "1.2.0",
            "_model_name": "LayoutModel",
            "_view_count": null,
            "_view_module": "@jupyter-widgets/base",
            "_view_module_version": "1.2.0",
            "_view_name": "LayoutView",
            "align_content": null,
            "align_items": null,
            "align_self": null,
            "border": null,
            "bottom": null,
            "display": null,
            "flex": null,
            "flex_flow": null,
            "grid_area": null,
            "grid_auto_columns": null,
            "grid_auto_flow": null,
            "grid_auto_rows": null,
            "grid_column": null,
            "grid_gap": null,
            "grid_row": null,
            "grid_template_areas": null,
            "grid_template_columns": null,
            "grid_template_rows": null,
            "height": null,
            "justify_content": null,
            "justify_items": null,
            "left": null,
            "margin": null,
            "max_height": null,
            "max_width": null,
            "min_height": null,
            "min_width": null,
            "object_fit": null,
            "object_position": null,
            "order": null,
            "overflow": null,
            "overflow_x": null,
            "overflow_y": null,
            "padding": null,
            "right": null,
            "top": null,
            "visibility": null,
            "width": null
          }
        },
        "146e9a38bee64e45bc05fe1649937940": {
          "model_module": "@jupyter-widgets/controls",
          "model_name": "DescriptionStyleModel",
          "model_module_version": "1.5.0",
          "state": {
            "_model_module": "@jupyter-widgets/controls",
            "_model_module_version": "1.5.0",
            "_model_name": "DescriptionStyleModel",
            "_view_count": null,
            "_view_module": "@jupyter-widgets/base",
            "_view_module_version": "1.2.0",
            "_view_name": "StyleView",
            "description_width": ""
          }
        },
        "cba256c3efdf4274b715cb952bd3e977": {
          "model_module": "@jupyter-widgets/controls",
          "model_name": "HBoxModel",
          "model_module_version": "1.5.0",
          "state": {
            "_dom_classes": [],
            "_model_module": "@jupyter-widgets/controls",
            "_model_module_version": "1.5.0",
            "_model_name": "HBoxModel",
            "_view_count": null,
            "_view_module": "@jupyter-widgets/controls",
            "_view_module_version": "1.5.0",
            "_view_name": "HBoxView",
            "box_style": "",
            "children": [
              "IPY_MODEL_8760022491014926a8edf42023ffa2e2",
              "IPY_MODEL_19fe9f4aedae4ca3b1079b2d687a0081",
              "IPY_MODEL_68de8954d2f84a5fbaa894c96e9fab74"
            ],
            "layout": "IPY_MODEL_727583997fc944a99ad2b1ac9ba9eea3"
          }
        },
        "8760022491014926a8edf42023ffa2e2": {
          "model_module": "@jupyter-widgets/controls",
          "model_name": "HTMLModel",
          "model_module_version": "1.5.0",
          "state": {
            "_dom_classes": [],
            "_model_module": "@jupyter-widgets/controls",
            "_model_module_version": "1.5.0",
            "_model_name": "HTMLModel",
            "_view_count": null,
            "_view_module": "@jupyter-widgets/controls",
            "_view_module_version": "1.5.0",
            "_view_name": "HTMLView",
            "description": "",
            "description_tooltip": null,
            "layout": "IPY_MODEL_bb9564170da94064bfec0539d4cf985c",
            "placeholder": "​",
            "style": "IPY_MODEL_5fab08e395f042748136ca20c2a02b4a",
            "value": "config.json: 100%"
          }
        },
        "19fe9f4aedae4ca3b1079b2d687a0081": {
          "model_module": "@jupyter-widgets/controls",
          "model_name": "FloatProgressModel",
          "model_module_version": "1.5.0",
          "state": {
            "_dom_classes": [],
            "_model_module": "@jupyter-widgets/controls",
            "_model_module_version": "1.5.0",
            "_model_name": "FloatProgressModel",
            "_view_count": null,
            "_view_module": "@jupyter-widgets/controls",
            "_view_module_version": "1.5.0",
            "_view_name": "ProgressView",
            "bar_style": "success",
            "description": "",
            "description_tooltip": null,
            "layout": "IPY_MODEL_88172ddd3309456c9f15426b46d6f6c9",
            "max": 625,
            "min": 0,
            "orientation": "horizontal",
            "style": "IPY_MODEL_d7ed03b98db646c9a8e1269377a1d85f",
            "value": 625
          }
        },
        "68de8954d2f84a5fbaa894c96e9fab74": {
          "model_module": "@jupyter-widgets/controls",
          "model_name": "HTMLModel",
          "model_module_version": "1.5.0",
          "state": {
            "_dom_classes": [],
            "_model_module": "@jupyter-widgets/controls",
            "_model_module_version": "1.5.0",
            "_model_name": "HTMLModel",
            "_view_count": null,
            "_view_module": "@jupyter-widgets/controls",
            "_view_module_version": "1.5.0",
            "_view_name": "HTMLView",
            "description": "",
            "description_tooltip": null,
            "layout": "IPY_MODEL_38246292714f4436a6140222f6911e5c",
            "placeholder": "​",
            "style": "IPY_MODEL_434a3fa610a74adda77b2599297a629d",
            "value": " 625/625 [00:00&lt;00:00, 73.9kB/s]"
          }
        },
        "727583997fc944a99ad2b1ac9ba9eea3": {
          "model_module": "@jupyter-widgets/base",
          "model_name": "LayoutModel",
          "model_module_version": "1.2.0",
          "state": {
            "_model_module": "@jupyter-widgets/base",
            "_model_module_version": "1.2.0",
            "_model_name": "LayoutModel",
            "_view_count": null,
            "_view_module": "@jupyter-widgets/base",
            "_view_module_version": "1.2.0",
            "_view_name": "LayoutView",
            "align_content": null,
            "align_items": null,
            "align_self": null,
            "border": null,
            "bottom": null,
            "display": null,
            "flex": null,
            "flex_flow": null,
            "grid_area": null,
            "grid_auto_columns": null,
            "grid_auto_flow": null,
            "grid_auto_rows": null,
            "grid_column": null,
            "grid_gap": null,
            "grid_row": null,
            "grid_template_areas": null,
            "grid_template_columns": null,
            "grid_template_rows": null,
            "height": null,
            "justify_content": null,
            "justify_items": null,
            "left": null,
            "margin": null,
            "max_height": null,
            "max_width": null,
            "min_height": null,
            "min_width": null,
            "object_fit": null,
            "object_position": null,
            "order": null,
            "overflow": null,
            "overflow_x": null,
            "overflow_y": null,
            "padding": null,
            "right": null,
            "top": null,
            "visibility": null,
            "width": null
          }
        },
        "bb9564170da94064bfec0539d4cf985c": {
          "model_module": "@jupyter-widgets/base",
          "model_name": "LayoutModel",
          "model_module_version": "1.2.0",
          "state": {
            "_model_module": "@jupyter-widgets/base",
            "_model_module_version": "1.2.0",
            "_model_name": "LayoutModel",
            "_view_count": null,
            "_view_module": "@jupyter-widgets/base",
            "_view_module_version": "1.2.0",
            "_view_name": "LayoutView",
            "align_content": null,
            "align_items": null,
            "align_self": null,
            "border": null,
            "bottom": null,
            "display": null,
            "flex": null,
            "flex_flow": null,
            "grid_area": null,
            "grid_auto_columns": null,
            "grid_auto_flow": null,
            "grid_auto_rows": null,
            "grid_column": null,
            "grid_gap": null,
            "grid_row": null,
            "grid_template_areas": null,
            "grid_template_columns": null,
            "grid_template_rows": null,
            "height": null,
            "justify_content": null,
            "justify_items": null,
            "left": null,
            "margin": null,
            "max_height": null,
            "max_width": null,
            "min_height": null,
            "min_width": null,
            "object_fit": null,
            "object_position": null,
            "order": null,
            "overflow": null,
            "overflow_x": null,
            "overflow_y": null,
            "padding": null,
            "right": null,
            "top": null,
            "visibility": null,
            "width": null
          }
        },
        "5fab08e395f042748136ca20c2a02b4a": {
          "model_module": "@jupyter-widgets/controls",
          "model_name": "DescriptionStyleModel",
          "model_module_version": "1.5.0",
          "state": {
            "_model_module": "@jupyter-widgets/controls",
            "_model_module_version": "1.5.0",
            "_model_name": "DescriptionStyleModel",
            "_view_count": null,
            "_view_module": "@jupyter-widgets/base",
            "_view_module_version": "1.2.0",
            "_view_name": "StyleView",
            "description_width": ""
          }
        },
        "88172ddd3309456c9f15426b46d6f6c9": {
          "model_module": "@jupyter-widgets/base",
          "model_name": "LayoutModel",
          "model_module_version": "1.2.0",
          "state": {
            "_model_module": "@jupyter-widgets/base",
            "_model_module_version": "1.2.0",
            "_model_name": "LayoutModel",
            "_view_count": null,
            "_view_module": "@jupyter-widgets/base",
            "_view_module_version": "1.2.0",
            "_view_name": "LayoutView",
            "align_content": null,
            "align_items": null,
            "align_self": null,
            "border": null,
            "bottom": null,
            "display": null,
            "flex": null,
            "flex_flow": null,
            "grid_area": null,
            "grid_auto_columns": null,
            "grid_auto_flow": null,
            "grid_auto_rows": null,
            "grid_column": null,
            "grid_gap": null,
            "grid_row": null,
            "grid_template_areas": null,
            "grid_template_columns": null,
            "grid_template_rows": null,
            "height": null,
            "justify_content": null,
            "justify_items": null,
            "left": null,
            "margin": null,
            "max_height": null,
            "max_width": null,
            "min_height": null,
            "min_width": null,
            "object_fit": null,
            "object_position": null,
            "order": null,
            "overflow": null,
            "overflow_x": null,
            "overflow_y": null,
            "padding": null,
            "right": null,
            "top": null,
            "visibility": null,
            "width": null
          }
        },
        "d7ed03b98db646c9a8e1269377a1d85f": {
          "model_module": "@jupyter-widgets/controls",
          "model_name": "ProgressStyleModel",
          "model_module_version": "1.5.0",
          "state": {
            "_model_module": "@jupyter-widgets/controls",
            "_model_module_version": "1.5.0",
            "_model_name": "ProgressStyleModel",
            "_view_count": null,
            "_view_module": "@jupyter-widgets/base",
            "_view_module_version": "1.2.0",
            "_view_name": "StyleView",
            "bar_color": null,
            "description_width": ""
          }
        },
        "38246292714f4436a6140222f6911e5c": {
          "model_module": "@jupyter-widgets/base",
          "model_name": "LayoutModel",
          "model_module_version": "1.2.0",
          "state": {
            "_model_module": "@jupyter-widgets/base",
            "_model_module_version": "1.2.0",
            "_model_name": "LayoutModel",
            "_view_count": null,
            "_view_module": "@jupyter-widgets/base",
            "_view_module_version": "1.2.0",
            "_view_name": "LayoutView",
            "align_content": null,
            "align_items": null,
            "align_self": null,
            "border": null,
            "bottom": null,
            "display": null,
            "flex": null,
            "flex_flow": null,
            "grid_area": null,
            "grid_auto_columns": null,
            "grid_auto_flow": null,
            "grid_auto_rows": null,
            "grid_column": null,
            "grid_gap": null,
            "grid_row": null,
            "grid_template_areas": null,
            "grid_template_columns": null,
            "grid_template_rows": null,
            "height": null,
            "justify_content": null,
            "justify_items": null,
            "left": null,
            "margin": null,
            "max_height": null,
            "max_width": null,
            "min_height": null,
            "min_width": null,
            "object_fit": null,
            "object_position": null,
            "order": null,
            "overflow": null,
            "overflow_x": null,
            "overflow_y": null,
            "padding": null,
            "right": null,
            "top": null,
            "visibility": null,
            "width": null
          }
        },
        "434a3fa610a74adda77b2599297a629d": {
          "model_module": "@jupyter-widgets/controls",
          "model_name": "DescriptionStyleModel",
          "model_module_version": "1.5.0",
          "state": {
            "_model_module": "@jupyter-widgets/controls",
            "_model_module_version": "1.5.0",
            "_model_name": "DescriptionStyleModel",
            "_view_count": null,
            "_view_module": "@jupyter-widgets/base",
            "_view_module_version": "1.2.0",
            "_view_name": "StyleView",
            "description_width": ""
          }
        },
        "2b21acd3ae604c6c93b299fa47136036": {
          "model_module": "@jupyter-widgets/controls",
          "model_name": "HBoxModel",
          "model_module_version": "1.5.0",
          "state": {
            "_dom_classes": [],
            "_model_module": "@jupyter-widgets/controls",
            "_model_module_version": "1.5.0",
            "_model_name": "HBoxModel",
            "_view_count": null,
            "_view_module": "@jupyter-widgets/controls",
            "_view_module_version": "1.5.0",
            "_view_name": "HBoxView",
            "box_style": "",
            "children": [
              "IPY_MODEL_eba5e2ec9a9f4bf086dec04fdb31678f",
              "IPY_MODEL_f6a5a23d98e44e8aa51e512d6c41addf",
              "IPY_MODEL_1badcf784bd14a49b905be3b1eefadf9"
            ],
            "layout": "IPY_MODEL_e66c8b8d454b44d98035e44f1db42f4c"
          }
        },
        "eba5e2ec9a9f4bf086dec04fdb31678f": {
          "model_module": "@jupyter-widgets/controls",
          "model_name": "HTMLModel",
          "model_module_version": "1.5.0",
          "state": {
            "_dom_classes": [],
            "_model_module": "@jupyter-widgets/controls",
            "_model_module_version": "1.5.0",
            "_model_name": "HTMLModel",
            "_view_count": null,
            "_view_module": "@jupyter-widgets/controls",
            "_view_module_version": "1.5.0",
            "_view_name": "HTMLView",
            "description": "",
            "description_tooltip": null,
            "layout": "IPY_MODEL_634cae50fd4441a5ac014bc4a42e4f75",
            "placeholder": "​",
            "style": "IPY_MODEL_6ec1667e85ec4d438ac60201f9bbe8e3",
            "value": "vocab.txt: 100%"
          }
        },
        "f6a5a23d98e44e8aa51e512d6c41addf": {
          "model_module": "@jupyter-widgets/controls",
          "model_name": "FloatProgressModel",
          "model_module_version": "1.5.0",
          "state": {
            "_dom_classes": [],
            "_model_module": "@jupyter-widgets/controls",
            "_model_module_version": "1.5.0",
            "_model_name": "FloatProgressModel",
            "_view_count": null,
            "_view_module": "@jupyter-widgets/controls",
            "_view_module_version": "1.5.0",
            "_view_name": "ProgressView",
            "bar_style": "success",
            "description": "",
            "description_tooltip": null,
            "layout": "IPY_MODEL_d95b8d18af2148cb9e5d12ac125d0ce4",
            "max": 995526,
            "min": 0,
            "orientation": "horizontal",
            "style": "IPY_MODEL_65e0b459030f4651b87f119b1a3e3df3",
            "value": 995526
          }
        },
        "1badcf784bd14a49b905be3b1eefadf9": {
          "model_module": "@jupyter-widgets/controls",
          "model_name": "HTMLModel",
          "model_module_version": "1.5.0",
          "state": {
            "_dom_classes": [],
            "_model_module": "@jupyter-widgets/controls",
            "_model_module_version": "1.5.0",
            "_model_name": "HTMLModel",
            "_view_count": null,
            "_view_module": "@jupyter-widgets/controls",
            "_view_module_version": "1.5.0",
            "_view_name": "HTMLView",
            "description": "",
            "description_tooltip": null,
            "layout": "IPY_MODEL_9e785d2cbe9d49878a61db6acd3a1048",
            "placeholder": "​",
            "style": "IPY_MODEL_ceb731a2a64d40b2b0d51602788a82e6",
            "value": " 996k/996k [00:00&lt;00:00, 11.9MB/s]"
          }
        },
        "e66c8b8d454b44d98035e44f1db42f4c": {
          "model_module": "@jupyter-widgets/base",
          "model_name": "LayoutModel",
          "model_module_version": "1.2.0",
          "state": {
            "_model_module": "@jupyter-widgets/base",
            "_model_module_version": "1.2.0",
            "_model_name": "LayoutModel",
            "_view_count": null,
            "_view_module": "@jupyter-widgets/base",
            "_view_module_version": "1.2.0",
            "_view_name": "LayoutView",
            "align_content": null,
            "align_items": null,
            "align_self": null,
            "border": null,
            "bottom": null,
            "display": null,
            "flex": null,
            "flex_flow": null,
            "grid_area": null,
            "grid_auto_columns": null,
            "grid_auto_flow": null,
            "grid_auto_rows": null,
            "grid_column": null,
            "grid_gap": null,
            "grid_row": null,
            "grid_template_areas": null,
            "grid_template_columns": null,
            "grid_template_rows": null,
            "height": null,
            "justify_content": null,
            "justify_items": null,
            "left": null,
            "margin": null,
            "max_height": null,
            "max_width": null,
            "min_height": null,
            "min_width": null,
            "object_fit": null,
            "object_position": null,
            "order": null,
            "overflow": null,
            "overflow_x": null,
            "overflow_y": null,
            "padding": null,
            "right": null,
            "top": null,
            "visibility": null,
            "width": null
          }
        },
        "634cae50fd4441a5ac014bc4a42e4f75": {
          "model_module": "@jupyter-widgets/base",
          "model_name": "LayoutModel",
          "model_module_version": "1.2.0",
          "state": {
            "_model_module": "@jupyter-widgets/base",
            "_model_module_version": "1.2.0",
            "_model_name": "LayoutModel",
            "_view_count": null,
            "_view_module": "@jupyter-widgets/base",
            "_view_module_version": "1.2.0",
            "_view_name": "LayoutView",
            "align_content": null,
            "align_items": null,
            "align_self": null,
            "border": null,
            "bottom": null,
            "display": null,
            "flex": null,
            "flex_flow": null,
            "grid_area": null,
            "grid_auto_columns": null,
            "grid_auto_flow": null,
            "grid_auto_rows": null,
            "grid_column": null,
            "grid_gap": null,
            "grid_row": null,
            "grid_template_areas": null,
            "grid_template_columns": null,
            "grid_template_rows": null,
            "height": null,
            "justify_content": null,
            "justify_items": null,
            "left": null,
            "margin": null,
            "max_height": null,
            "max_width": null,
            "min_height": null,
            "min_width": null,
            "object_fit": null,
            "object_position": null,
            "order": null,
            "overflow": null,
            "overflow_x": null,
            "overflow_y": null,
            "padding": null,
            "right": null,
            "top": null,
            "visibility": null,
            "width": null
          }
        },
        "6ec1667e85ec4d438ac60201f9bbe8e3": {
          "model_module": "@jupyter-widgets/controls",
          "model_name": "DescriptionStyleModel",
          "model_module_version": "1.5.0",
          "state": {
            "_model_module": "@jupyter-widgets/controls",
            "_model_module_version": "1.5.0",
            "_model_name": "DescriptionStyleModel",
            "_view_count": null,
            "_view_module": "@jupyter-widgets/base",
            "_view_module_version": "1.2.0",
            "_view_name": "StyleView",
            "description_width": ""
          }
        },
        "d95b8d18af2148cb9e5d12ac125d0ce4": {
          "model_module": "@jupyter-widgets/base",
          "model_name": "LayoutModel",
          "model_module_version": "1.2.0",
          "state": {
            "_model_module": "@jupyter-widgets/base",
            "_model_module_version": "1.2.0",
            "_model_name": "LayoutModel",
            "_view_count": null,
            "_view_module": "@jupyter-widgets/base",
            "_view_module_version": "1.2.0",
            "_view_name": "LayoutView",
            "align_content": null,
            "align_items": null,
            "align_self": null,
            "border": null,
            "bottom": null,
            "display": null,
            "flex": null,
            "flex_flow": null,
            "grid_area": null,
            "grid_auto_columns": null,
            "grid_auto_flow": null,
            "grid_auto_rows": null,
            "grid_column": null,
            "grid_gap": null,
            "grid_row": null,
            "grid_template_areas": null,
            "grid_template_columns": null,
            "grid_template_rows": null,
            "height": null,
            "justify_content": null,
            "justify_items": null,
            "left": null,
            "margin": null,
            "max_height": null,
            "max_width": null,
            "min_height": null,
            "min_width": null,
            "object_fit": null,
            "object_position": null,
            "order": null,
            "overflow": null,
            "overflow_x": null,
            "overflow_y": null,
            "padding": null,
            "right": null,
            "top": null,
            "visibility": null,
            "width": null
          }
        },
        "65e0b459030f4651b87f119b1a3e3df3": {
          "model_module": "@jupyter-widgets/controls",
          "model_name": "ProgressStyleModel",
          "model_module_version": "1.5.0",
          "state": {
            "_model_module": "@jupyter-widgets/controls",
            "_model_module_version": "1.5.0",
            "_model_name": "ProgressStyleModel",
            "_view_count": null,
            "_view_module": "@jupyter-widgets/base",
            "_view_module_version": "1.2.0",
            "_view_name": "StyleView",
            "bar_color": null,
            "description_width": ""
          }
        },
        "9e785d2cbe9d49878a61db6acd3a1048": {
          "model_module": "@jupyter-widgets/base",
          "model_name": "LayoutModel",
          "model_module_version": "1.2.0",
          "state": {
            "_model_module": "@jupyter-widgets/base",
            "_model_module_version": "1.2.0",
            "_model_name": "LayoutModel",
            "_view_count": null,
            "_view_module": "@jupyter-widgets/base",
            "_view_module_version": "1.2.0",
            "_view_name": "LayoutView",
            "align_content": null,
            "align_items": null,
            "align_self": null,
            "border": null,
            "bottom": null,
            "display": null,
            "flex": null,
            "flex_flow": null,
            "grid_area": null,
            "grid_auto_columns": null,
            "grid_auto_flow": null,
            "grid_auto_rows": null,
            "grid_column": null,
            "grid_gap": null,
            "grid_row": null,
            "grid_template_areas": null,
            "grid_template_columns": null,
            "grid_template_rows": null,
            "height": null,
            "justify_content": null,
            "justify_items": null,
            "left": null,
            "margin": null,
            "max_height": null,
            "max_width": null,
            "min_height": null,
            "min_width": null,
            "object_fit": null,
            "object_position": null,
            "order": null,
            "overflow": null,
            "overflow_x": null,
            "overflow_y": null,
            "padding": null,
            "right": null,
            "top": null,
            "visibility": null,
            "width": null
          }
        },
        "ceb731a2a64d40b2b0d51602788a82e6": {
          "model_module": "@jupyter-widgets/controls",
          "model_name": "DescriptionStyleModel",
          "model_module_version": "1.5.0",
          "state": {
            "_model_module": "@jupyter-widgets/controls",
            "_model_module_version": "1.5.0",
            "_model_name": "DescriptionStyleModel",
            "_view_count": null,
            "_view_module": "@jupyter-widgets/base",
            "_view_module_version": "1.2.0",
            "_view_name": "StyleView",
            "description_width": ""
          }
        },
        "d5764c99c5464dcc885bff0533ff5824": {
          "model_module": "@jupyter-widgets/controls",
          "model_name": "HBoxModel",
          "model_module_version": "1.5.0",
          "state": {
            "_dom_classes": [],
            "_model_module": "@jupyter-widgets/controls",
            "_model_module_version": "1.5.0",
            "_model_name": "HBoxModel",
            "_view_count": null,
            "_view_module": "@jupyter-widgets/controls",
            "_view_module_version": "1.5.0",
            "_view_name": "HBoxView",
            "box_style": "",
            "children": [
              "IPY_MODEL_58ca987d46934fdcaa64cf86cd898fed",
              "IPY_MODEL_754a8dcbc390478fbdd1b09a0e96328f",
              "IPY_MODEL_a27a7676fed34e759cc81917f9292ae2"
            ],
            "layout": "IPY_MODEL_8c2400829f74474490cb36121f7586aa"
          }
        },
        "58ca987d46934fdcaa64cf86cd898fed": {
          "model_module": "@jupyter-widgets/controls",
          "model_name": "HTMLModel",
          "model_module_version": "1.5.0",
          "state": {
            "_dom_classes": [],
            "_model_module": "@jupyter-widgets/controls",
            "_model_module_version": "1.5.0",
            "_model_name": "HTMLModel",
            "_view_count": null,
            "_view_module": "@jupyter-widgets/controls",
            "_view_module_version": "1.5.0",
            "_view_name": "HTMLView",
            "description": "",
            "description_tooltip": null,
            "layout": "IPY_MODEL_eb228caf6863432a9df83b0c7c8e398e",
            "placeholder": "​",
            "style": "IPY_MODEL_8b06e40b90de4b74ba43583595e8252d",
            "value": "tokenizer.json: 100%"
          }
        },
        "754a8dcbc390478fbdd1b09a0e96328f": {
          "model_module": "@jupyter-widgets/controls",
          "model_name": "FloatProgressModel",
          "model_module_version": "1.5.0",
          "state": {
            "_dom_classes": [],
            "_model_module": "@jupyter-widgets/controls",
            "_model_module_version": "1.5.0",
            "_model_name": "FloatProgressModel",
            "_view_count": null,
            "_view_module": "@jupyter-widgets/controls",
            "_view_module_version": "1.5.0",
            "_view_name": "ProgressView",
            "bar_style": "success",
            "description": "",
            "description_tooltip": null,
            "layout": "IPY_MODEL_825e09ddabd64595866dc3e60ecce9e7",
            "max": 1961828,
            "min": 0,
            "orientation": "horizontal",
            "style": "IPY_MODEL_6a7510922ae4430c98e9935cf5e6c722",
            "value": 1961828
          }
        },
        "a27a7676fed34e759cc81917f9292ae2": {
          "model_module": "@jupyter-widgets/controls",
          "model_name": "HTMLModel",
          "model_module_version": "1.5.0",
          "state": {
            "_dom_classes": [],
            "_model_module": "@jupyter-widgets/controls",
            "_model_module_version": "1.5.0",
            "_model_name": "HTMLModel",
            "_view_count": null,
            "_view_module": "@jupyter-widgets/controls",
            "_view_module_version": "1.5.0",
            "_view_name": "HTMLView",
            "description": "",
            "description_tooltip": null,
            "layout": "IPY_MODEL_253b7f46d277409fbdb4f1bbe33bdb41",
            "placeholder": "​",
            "style": "IPY_MODEL_388774ebe1474769aa5cd646bef799dc",
            "value": " 1.96M/1.96M [00:00&lt;00:00, 9.33MB/s]"
          }
        },
        "8c2400829f74474490cb36121f7586aa": {
          "model_module": "@jupyter-widgets/base",
          "model_name": "LayoutModel",
          "model_module_version": "1.2.0",
          "state": {
            "_model_module": "@jupyter-widgets/base",
            "_model_module_version": "1.2.0",
            "_model_name": "LayoutModel",
            "_view_count": null,
            "_view_module": "@jupyter-widgets/base",
            "_view_module_version": "1.2.0",
            "_view_name": "LayoutView",
            "align_content": null,
            "align_items": null,
            "align_self": null,
            "border": null,
            "bottom": null,
            "display": null,
            "flex": null,
            "flex_flow": null,
            "grid_area": null,
            "grid_auto_columns": null,
            "grid_auto_flow": null,
            "grid_auto_rows": null,
            "grid_column": null,
            "grid_gap": null,
            "grid_row": null,
            "grid_template_areas": null,
            "grid_template_columns": null,
            "grid_template_rows": null,
            "height": null,
            "justify_content": null,
            "justify_items": null,
            "left": null,
            "margin": null,
            "max_height": null,
            "max_width": null,
            "min_height": null,
            "min_width": null,
            "object_fit": null,
            "object_position": null,
            "order": null,
            "overflow": null,
            "overflow_x": null,
            "overflow_y": null,
            "padding": null,
            "right": null,
            "top": null,
            "visibility": null,
            "width": null
          }
        },
        "eb228caf6863432a9df83b0c7c8e398e": {
          "model_module": "@jupyter-widgets/base",
          "model_name": "LayoutModel",
          "model_module_version": "1.2.0",
          "state": {
            "_model_module": "@jupyter-widgets/base",
            "_model_module_version": "1.2.0",
            "_model_name": "LayoutModel",
            "_view_count": null,
            "_view_module": "@jupyter-widgets/base",
            "_view_module_version": "1.2.0",
            "_view_name": "LayoutView",
            "align_content": null,
            "align_items": null,
            "align_self": null,
            "border": null,
            "bottom": null,
            "display": null,
            "flex": null,
            "flex_flow": null,
            "grid_area": null,
            "grid_auto_columns": null,
            "grid_auto_flow": null,
            "grid_auto_rows": null,
            "grid_column": null,
            "grid_gap": null,
            "grid_row": null,
            "grid_template_areas": null,
            "grid_template_columns": null,
            "grid_template_rows": null,
            "height": null,
            "justify_content": null,
            "justify_items": null,
            "left": null,
            "margin": null,
            "max_height": null,
            "max_width": null,
            "min_height": null,
            "min_width": null,
            "object_fit": null,
            "object_position": null,
            "order": null,
            "overflow": null,
            "overflow_x": null,
            "overflow_y": null,
            "padding": null,
            "right": null,
            "top": null,
            "visibility": null,
            "width": null
          }
        },
        "8b06e40b90de4b74ba43583595e8252d": {
          "model_module": "@jupyter-widgets/controls",
          "model_name": "DescriptionStyleModel",
          "model_module_version": "1.5.0",
          "state": {
            "_model_module": "@jupyter-widgets/controls",
            "_model_module_version": "1.5.0",
            "_model_name": "DescriptionStyleModel",
            "_view_count": null,
            "_view_module": "@jupyter-widgets/base",
            "_view_module_version": "1.2.0",
            "_view_name": "StyleView",
            "description_width": ""
          }
        },
        "825e09ddabd64595866dc3e60ecce9e7": {
          "model_module": "@jupyter-widgets/base",
          "model_name": "LayoutModel",
          "model_module_version": "1.2.0",
          "state": {
            "_model_module": "@jupyter-widgets/base",
            "_model_module_version": "1.2.0",
            "_model_name": "LayoutModel",
            "_view_count": null,
            "_view_module": "@jupyter-widgets/base",
            "_view_module_version": "1.2.0",
            "_view_name": "LayoutView",
            "align_content": null,
            "align_items": null,
            "align_self": null,
            "border": null,
            "bottom": null,
            "display": null,
            "flex": null,
            "flex_flow": null,
            "grid_area": null,
            "grid_auto_columns": null,
            "grid_auto_flow": null,
            "grid_auto_rows": null,
            "grid_column": null,
            "grid_gap": null,
            "grid_row": null,
            "grid_template_areas": null,
            "grid_template_columns": null,
            "grid_template_rows": null,
            "height": null,
            "justify_content": null,
            "justify_items": null,
            "left": null,
            "margin": null,
            "max_height": null,
            "max_width": null,
            "min_height": null,
            "min_width": null,
            "object_fit": null,
            "object_position": null,
            "order": null,
            "overflow": null,
            "overflow_x": null,
            "overflow_y": null,
            "padding": null,
            "right": null,
            "top": null,
            "visibility": null,
            "width": null
          }
        },
        "6a7510922ae4430c98e9935cf5e6c722": {
          "model_module": "@jupyter-widgets/controls",
          "model_name": "ProgressStyleModel",
          "model_module_version": "1.5.0",
          "state": {
            "_model_module": "@jupyter-widgets/controls",
            "_model_module_version": "1.5.0",
            "_model_name": "ProgressStyleModel",
            "_view_count": null,
            "_view_module": "@jupyter-widgets/base",
            "_view_module_version": "1.2.0",
            "_view_name": "StyleView",
            "bar_color": null,
            "description_width": ""
          }
        },
        "253b7f46d277409fbdb4f1bbe33bdb41": {
          "model_module": "@jupyter-widgets/base",
          "model_name": "LayoutModel",
          "model_module_version": "1.2.0",
          "state": {
            "_model_module": "@jupyter-widgets/base",
            "_model_module_version": "1.2.0",
            "_model_name": "LayoutModel",
            "_view_count": null,
            "_view_module": "@jupyter-widgets/base",
            "_view_module_version": "1.2.0",
            "_view_name": "LayoutView",
            "align_content": null,
            "align_items": null,
            "align_self": null,
            "border": null,
            "bottom": null,
            "display": null,
            "flex": null,
            "flex_flow": null,
            "grid_area": null,
            "grid_auto_columns": null,
            "grid_auto_flow": null,
            "grid_auto_rows": null,
            "grid_column": null,
            "grid_gap": null,
            "grid_row": null,
            "grid_template_areas": null,
            "grid_template_columns": null,
            "grid_template_rows": null,
            "height": null,
            "justify_content": null,
            "justify_items": null,
            "left": null,
            "margin": null,
            "max_height": null,
            "max_width": null,
            "min_height": null,
            "min_width": null,
            "object_fit": null,
            "object_position": null,
            "order": null,
            "overflow": null,
            "overflow_x": null,
            "overflow_y": null,
            "padding": null,
            "right": null,
            "top": null,
            "visibility": null,
            "width": null
          }
        },
        "388774ebe1474769aa5cd646bef799dc": {
          "model_module": "@jupyter-widgets/controls",
          "model_name": "DescriptionStyleModel",
          "model_module_version": "1.5.0",
          "state": {
            "_model_module": "@jupyter-widgets/controls",
            "_model_module_version": "1.5.0",
            "_model_name": "DescriptionStyleModel",
            "_view_count": null,
            "_view_module": "@jupyter-widgets/base",
            "_view_module_version": "1.2.0",
            "_view_name": "StyleView",
            "description_width": ""
          }
        }
      }
    }
  },
  "nbformat": 4,
  "nbformat_minor": 5
}