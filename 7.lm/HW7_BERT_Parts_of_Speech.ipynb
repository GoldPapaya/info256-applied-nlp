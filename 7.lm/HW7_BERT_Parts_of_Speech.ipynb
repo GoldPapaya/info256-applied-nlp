{
  "cells": [
    {
      "cell_type": "markdown",
      "metadata": {
        "id": "view-in-github",
        "colab_type": "text"
      },
      "source": [
        "<a href=\"https://colab.research.google.com/github/GoldPapaya/info256-applied-nlp/blob/main/7.lm/HW7_BERT_Parts_of_Speech.ipynb\" target=\"_parent\"><img src=\"https://colab.research.google.com/assets/colab-badge.svg\" alt=\"Open In Colab\"/></a>"
      ]
    },
    {
      "cell_type": "markdown",
      "id": "32b50d1b-aba7-4080-a6c6-9b65cb57ce6a",
      "metadata": {
        "id": "32b50d1b-aba7-4080-a6c6-9b65cb57ce6a"
      },
      "source": [
        "[![Open In Colab](https://colab.research.google.com/assets/colab-badge.svg)](https://colab.research.google.com/github/dbamman/anlp25/blob/main/7.lm/HW7_BERT.ipynb)\n",
        "\n",
        "# HW7: Part-of-speech tagging with BERT\n",
        "\n",
        "In this homework, we will be using the contextual embeddings from a large masked language model (BERT) to do token classification with the Huggingface `transformers` library."
      ]
    },
    {
      "cell_type": "markdown",
      "id": "dd9c1390-5303-40a1-bb08-1b8e5c972aa4",
      "metadata": {
        "id": "dd9c1390-5303-40a1-bb08-1b8e5c972aa4"
      },
      "source": [
        "Part-of-speech (POS) tagging is a core task in NLP that involves identifying the part of speech for each token in a sentence. We will use the Universal Dependencies POS tags, as well as a manually annotated English UD corpus, to build a high-performing POS tagger.\n",
        "\n",
        "To read more about the Universal Dependencies project, [see this website](https://universaldependencies.org/introduction.html). To read more about the universal POS tags that we will be relying on, [see this page](https://universaldependencies.org/u/pos/index.html)."
      ]
    },
    {
      "cell_type": "code",
      "execution_count": 1,
      "id": "88c2090b-847b-4ffc-adbf-b7caed6d6b09",
      "metadata": {
        "id": "88c2090b-847b-4ffc-adbf-b7caed6d6b09"
      },
      "outputs": [],
      "source": [
        "from transformers import AutoTokenizer, BertModel\n",
        "import torch\n",
        "from torch import nn"
      ]
    },
    {
      "cell_type": "code",
      "execution_count": 2,
      "id": "5f58b672-c32c-4e63-b5a5-d49a686e439c",
      "metadata": {
        "colab": {
          "base_uri": "https://localhost:8080/"
        },
        "id": "5f58b672-c32c-4e63-b5a5-d49a686e439c",
        "outputId": "66b2ba2d-4101-4efc-857b-2073e1a5fb4c"
      },
      "outputs": [
        {
          "output_type": "execute_result",
          "data": {
            "text/plain": [
              "True"
            ]
          },
          "metadata": {},
          "execution_count": 2
        }
      ],
      "source": [
        "# Make sure the GPU is available\n",
        "torch.cuda.is_available()"
      ]
    },
    {
      "cell_type": "code",
      "execution_count": 3,
      "id": "19bed838-ee36-48d6-b9b3-a77d7145153f",
      "metadata": {
        "colab": {
          "base_uri": "https://localhost:8080/"
        },
        "id": "19bed838-ee36-48d6-b9b3-a77d7145153f",
        "outputId": "bd52ad0b-ee1f-47d7-f9d7-df67767aa648"
      },
      "outputs": [
        {
          "output_type": "stream",
          "name": "stderr",
          "text": [
            "/usr/local/lib/python3.12/dist-packages/huggingface_hub/utils/_auth.py:94: UserWarning: \n",
            "The secret `HF_TOKEN` does not exist in your Colab secrets.\n",
            "To authenticate with the Hugging Face Hub, create a token in your settings tab (https://huggingface.co/settings/tokens), set it as secret in your Google Colab and restart your session.\n",
            "You will be able to reuse this secret in all of your notebooks.\n",
            "Please note that authentication is recommended but still optional to access public models or datasets.\n",
            "  warnings.warn(\n"
          ]
        }
      ],
      "source": [
        "tokenizer = AutoTokenizer.from_pretrained(\"bert-base-multilingual-cased\")"
      ]
    },
    {
      "cell_type": "markdown",
      "id": "82daced0-4a59-464b-aabd-d7e79de3602c",
      "metadata": {
        "id": "82daced0-4a59-464b-aabd-d7e79de3602c"
      },
      "source": [
        "## Familiarizing ourselves with POS"
      ]
    },
    {
      "cell_type": "markdown",
      "id": "107153aa-d4d8-41de-b0e6-b9cab98d0ba4",
      "metadata": {
        "id": "107153aa-d4d8-41de-b0e6-b9cab98d0ba4"
      },
      "source": [
        "Download the datasets from the UD Github."
      ]
    },
    {
      "cell_type": "code",
      "execution_count": 4,
      "id": "1a787435-08a8-410f-8fff-ac229a5d28bd",
      "metadata": {
        "colab": {
          "base_uri": "https://localhost:8080/"
        },
        "id": "1a787435-08a8-410f-8fff-ac229a5d28bd",
        "outputId": "1f545873-48a2-483d-a21f-129b90f2a3ac"
      },
      "outputs": [
        {
          "output_type": "stream",
          "name": "stdout",
          "text": [
            "--2025-10-10 18:23:59--  https://github.com/UniversalDependencies/UD_English-EWT/raw/refs/heads/master/en_ewt-ud-train.conllu\n",
            "Resolving github.com (github.com)... 140.82.112.4\n",
            "Connecting to github.com (github.com)|140.82.112.4|:443... connected.\n",
            "HTTP request sent, awaiting response... 302 Found\n",
            "Location: https://raw.githubusercontent.com/UniversalDependencies/UD_English-EWT/refs/heads/master/en_ewt-ud-train.conllu [following]\n",
            "--2025-10-10 18:23:59--  https://raw.githubusercontent.com/UniversalDependencies/UD_English-EWT/refs/heads/master/en_ewt-ud-train.conllu\n",
            "Resolving raw.githubusercontent.com (raw.githubusercontent.com)... 185.199.108.133, 185.199.109.133, 185.199.110.133, ...\n",
            "Connecting to raw.githubusercontent.com (raw.githubusercontent.com)|185.199.108.133|:443... connected.\n",
            "HTTP request sent, awaiting response... 200 OK\n",
            "Length: 14203025 (14M) [text/plain]\n",
            "Saving to: ‘en_ewt-ud-train.conllu.1’\n",
            "\n",
            "en_ewt-ud-train.con 100%[===================>]  13.54M  --.-KB/s    in 0.09s   \n",
            "\n",
            "2025-10-10 18:24:06 (158 MB/s) - ‘en_ewt-ud-train.conllu.1’ saved [14203025/14203025]\n",
            "\n",
            "--2025-10-10 18:24:06--  https://github.com/UniversalDependencies/UD_English-EWT/raw/refs/heads/master/en_ewt-ud-dev.conllu\n",
            "Resolving github.com (github.com)... 140.82.112.4\n",
            "Connecting to github.com (github.com)|140.82.112.4|:443... connected.\n",
            "HTTP request sent, awaiting response... 302 Found\n",
            "Location: https://raw.githubusercontent.com/UniversalDependencies/UD_English-EWT/refs/heads/master/en_ewt-ud-dev.conllu [following]\n",
            "--2025-10-10 18:24:07--  https://raw.githubusercontent.com/UniversalDependencies/UD_English-EWT/refs/heads/master/en_ewt-ud-dev.conllu\n",
            "Resolving raw.githubusercontent.com (raw.githubusercontent.com)... 185.199.110.133, 185.199.109.133, 185.199.108.133, ...\n",
            "Connecting to raw.githubusercontent.com (raw.githubusercontent.com)|185.199.110.133|:443... connected.\n",
            "HTTP request sent, awaiting response... 200 OK\n",
            "Length: 1805545 (1.7M) [text/plain]\n",
            "Saving to: ‘en_ewt-ud-dev.conllu.1’\n",
            "\n",
            "en_ewt-ud-dev.conll 100%[===================>]   1.72M  --.-KB/s    in 0.04s   \n",
            "\n",
            "2025-10-10 18:24:07 (45.1 MB/s) - ‘en_ewt-ud-dev.conllu.1’ saved [1805545/1805545]\n",
            "\n"
          ]
        }
      ],
      "source": [
        "!wget https://github.com/UniversalDependencies/UD_English-EWT/raw/refs/heads/master/en_ewt-ud-train.conllu\n",
        "!wget https://github.com/UniversalDependencies/UD_English-EWT/raw/refs/heads/master/en_ewt-ud-dev.conllu"
      ]
    },
    {
      "cell_type": "code",
      "execution_count": 5,
      "id": "5dcd9167-cc46-4aee-8a6d-f4807cb565bb",
      "metadata": {
        "id": "5dcd9167-cc46-4aee-8a6d-f4807cb565bb"
      },
      "outputs": [],
      "source": [
        "# from https://universaldependencies.org/u/pos/index.html\n",
        "idx2label = [\n",
        "    \"ADJ\",\n",
        "    \"ADP\",\n",
        "    \"ADV\",\n",
        "    \"AUX\",\n",
        "    \"CCONJ\",\n",
        "    \"DET\",\n",
        "    \"INTJ\",\n",
        "    \"NOUN\",\n",
        "    \"NUM\",\n",
        "    \"PART\",\n",
        "    \"PRON\",\n",
        "    \"PROPN\",\n",
        "    \"PUNCT\",\n",
        "    \"SCONJ\",\n",
        "    \"SYM\",\n",
        "    \"VERB\",\n",
        "    \"X\",\n",
        "]\n",
        "\n",
        "label2idx = {\n",
        "    lab: idx for idx, lab in enumerate(idx2label)\n",
        "}\n",
        "\n",
        "# the conllu files follow the format described here:\n",
        "# https://universaldependencies.org/format.html\n",
        "def parse_conllu(file, n=100):\n",
        "    # read up to n sentences from the provided file\n",
        "    dataset = []\n",
        "    this_sentence = []\n",
        "    this_labels = []\n",
        "    for line in open(file, \"r\"):\n",
        "        if line[0] == \"#\":\n",
        "            continue\n",
        "        line = line.strip()\n",
        "        if len(line) == 0:\n",
        "            dataset.append({\n",
        "                \"tokens\": this_sentence,\n",
        "                \"upos\": this_labels\n",
        "            })\n",
        "            this_sentence = []\n",
        "            this_labels = []\n",
        "\n",
        "            if len(dataset) >= n:\n",
        "                return dataset\n",
        "\n",
        "            continue\n",
        "        idx, word, _, upos, _, _, _, _, _, _ = line.split(\"\\t\")\n",
        "        if \"-\" in idx:\n",
        "            # skip multiword tokens because each individual one is also included\n",
        "            continue\n",
        "        if upos not in label2idx:\n",
        "            print(line)\n",
        "        this_sentence.append(word)\n",
        "        this_labels.append(label2idx[upos])\n",
        "\n",
        "    return dataset"
      ]
    },
    {
      "cell_type": "code",
      "execution_count": 6,
      "id": "a516b5f2-9e7b-46b8-a772-77b076516ef5",
      "metadata": {
        "id": "a516b5f2-9e7b-46b8-a772-77b076516ef5"
      },
      "outputs": [],
      "source": [
        "train_dataset = parse_conllu(\"en_ewt-ud-train.conllu\", n=20_000)\n",
        "dev_dataset = parse_conllu(\"en_ewt-ud-dev.conllu\", n=5_000)"
      ]
    },
    {
      "cell_type": "markdown",
      "id": "e5342706-4fc6-49ad-98aa-691b9cbc5342",
      "metadata": {
        "id": "e5342706-4fc6-49ad-98aa-691b9cbc5342"
      },
      "source": [
        "### Question 1\n",
        "\n",
        "Take a look through the dataset to get a feel for this task. Then, manually annotate the following sentence:\n",
        "\n",
        "```\n",
        "Emily took a flight to Paris.\n",
        "```"
      ]
    },
    {
      "cell_type": "markdown",
      "id": "9c73a672-c1d5-44e7-818a-21d1719413a0",
      "metadata": {
        "id": "9c73a672-c1d5-44e7-818a-21d1719413a0"
      },
      "source": [
        "_Fill me in:_\n",
        "\n",
        "```\n",
        "Emily  - PROPN\n",
        "took   - VERB\n",
        "a      - DET\n",
        "flight - NOUN\n",
        "to     - ADP\n",
        "Paris  - PROPN\n",
        "```"
      ]
    },
    {
      "cell_type": "markdown",
      "id": "2ac37aa5-b8e2-40ea-b980-3a728312993e",
      "metadata": {
        "id": "2ac37aa5-b8e2-40ea-b980-3a728312993e"
      },
      "source": [
        "## Setting up data helpers\n",
        "\n",
        "The annotations are provided at the word level, but BERT tokenizes into subword tokens, so we need to make sure the labels still align.\n",
        "\n",
        "Because we usually process inputs in parallel batches for efficiency, we also define a `collate` function that prepares a batch of examples for training."
      ]
    },
    {
      "cell_type": "code",
      "execution_count": 7,
      "id": "3028c833-b2cc-43a1-b5b7-55dadc7ae58a",
      "metadata": {
        "id": "3028c833-b2cc-43a1-b5b7-55dadc7ae58a"
      },
      "outputs": [],
      "source": [
        "def tokenize(batch):\n",
        "    # tokenize the words\n",
        "    output = tokenizer(batch[\"tokens\"], is_split_into_words=True)\n",
        "\n",
        "    # labels are provided on the word level, but we might tokenize into subword tokens\n",
        "    # we also inject special tokens (like [CLS] and [SEP])\n",
        "    # to account for this, we give null (-100) labels to any subword token that isn't the\n",
        "    # first token of the word.\n",
        "    # we configure the CrossEntropyLoss to ignore the -100 value\n",
        "    # (see `ignore_index` in https://docs.pytorch.org/docs/stable/generated/torch.nn.CrossEntropyLoss.html)\n",
        "    all_new_labels = []\n",
        "    for i, labels in enumerate(batch[\"upos\"]):\n",
        "        new_labels = []\n",
        "        prev_id = None\n",
        "        for word_id in output.word_ids(batch_index=i):\n",
        "            if word_id is None or word_id == prev_id:\n",
        "                new_labels.append(-100)\n",
        "            else:\n",
        "                new_labels.append(labels[word_id])\n",
        "            prev_id = word_id\n",
        "        all_new_labels.append(new_labels)\n",
        "\n",
        "    output[\"labels\"] = all_new_labels\n",
        "    return output"
      ]
    },
    {
      "cell_type": "code",
      "execution_count": 8,
      "id": "beb42c14-fb41-414e-8a9d-adae92bb628a",
      "metadata": {
        "id": "beb42c14-fb41-414e-8a9d-adae92bb628a"
      },
      "outputs": [],
      "source": [
        "from torch.nn.utils.rnn import pad_sequence\n",
        "\n",
        "def collate(items):\n",
        "    # Converts from a list of dicts to a dict of lists\n",
        "    batch = {\n",
        "        k: [item[k] for item in items] for k in items[0]\n",
        "    }\n",
        "    # Tokenizes and pads each batch\n",
        "    outputs = tokenize(batch)\n",
        "    outputs = {\n",
        "        k: pad_sequence([torch.tensor(l) for l in v], batch_first=True, padding_value=(0 if k != \"labels\" else -100))\n",
        "        for k, v in outputs.items()\n",
        "    }\n",
        "    return outputs"
      ]
    },
    {
      "cell_type": "markdown",
      "id": "ba6a8ba7-8adb-41f1-9ed5-d0b261a8f713",
      "metadata": {
        "id": "ba6a8ba7-8adb-41f1-9ed5-d0b261a8f713"
      },
      "source": [
        "## Define model\n",
        "\n",
        "Our model architecture is as follows:\n",
        "\n",
        "1. We encode the tokens with our BERT model.\n",
        "2. We then use a linear classification layer on the last layer of attention outputs for _each token_, giving us a classification for each token.\n",
        "\n",
        "### Question 2\n",
        "\n",
        "When working with neural networks, a useful debugging strategy is making sure the shapes of your tensors are correct.\n",
        "**Fill in the correct values for the shape assertions.**"
      ]
    },
    {
      "cell_type": "code",
      "execution_count": 9,
      "id": "16efb270-6148-489c-af8e-7b39a450e04e",
      "metadata": {
        "id": "16efb270-6148-489c-af8e-7b39a450e04e"
      },
      "outputs": [],
      "source": [
        "class POSBert(nn.Module):\n",
        "    def __init__(self, bert_model, num_labels=2):\n",
        "        super().__init__()\n",
        "        self.num_labels = num_labels\n",
        "        self.hidden_size = bert_model.config.hidden_size\n",
        "\n",
        "        self.bert_model = bert_model\n",
        "        self.classification = nn.Linear(self.hidden_size, self.num_labels)\n",
        "\n",
        "    def forward(self, batch):\n",
        "        device = next(self.parameters()).device\n",
        "\n",
        "        # batch[\"input_ids\"] has shape (B, L) where B is the batch size and L is the padded length\n",
        "        B, L = batch[\"input_ids\"].shape\n",
        "\n",
        "        model_output = self.bert_model(\n",
        "            batch[\"input_ids\"].to(device),\n",
        "            attention_mask=batch[\"attention_mask\"].to(device),\n",
        "            token_type_ids=batch[\"token_type_ids\"].to(device)\n",
        "        )\n",
        "        hidden = model_output.last_hidden_state\n",
        "        assert hidden.shape == (B, L, self.hidden_size)\n",
        "\n",
        "        logits = self.classification(hidden)\n",
        "        assert logits.shape == (B, L, self.num_labels)\n",
        "        return logits"
      ]
    },
    {
      "cell_type": "markdown",
      "id": "007b390c-d21b-4e35-b745-b3f16a3bef83",
      "metadata": {
        "id": "007b390c-d21b-4e35-b745-b3f16a3bef83"
      },
      "source": [
        "## Train model"
      ]
    },
    {
      "cell_type": "code",
      "execution_count": 10,
      "id": "58be713e-c03c-4811-9780-58c5a0de04b7",
      "metadata": {
        "id": "58be713e-c03c-4811-9780-58c5a0de04b7"
      },
      "outputs": [],
      "source": [
        "import numpy as np\n",
        "from tqdm import tqdm\n",
        "from torch.utils.data import DataLoader"
      ]
    },
    {
      "cell_type": "code",
      "execution_count": 11,
      "id": "a209fff7-1fab-451a-8489-1325b9a58784",
      "metadata": {
        "id": "a209fff7-1fab-451a-8489-1325b9a58784"
      },
      "outputs": [],
      "source": [
        "from sklearn.metrics import f1_score"
      ]
    },
    {
      "cell_type": "code",
      "execution_count": 12,
      "id": "b91bfb6d-dd31-429c-b713-5fb9177e541d",
      "metadata": {
        "id": "b91bfb6d-dd31-429c-b713-5fb9177e541d"
      },
      "outputs": [],
      "source": [
        "batch_size = 64\n",
        "learning_rate = 3e-5\n",
        "num_epochs = 1\n",
        "\n",
        "def filter_preds(predicted, target):\n",
        "    f_predicted = []\n",
        "    f_target = []\n",
        "    for pred, tar in zip(predicted, target):\n",
        "        if tar == -100:\n",
        "            continue\n",
        "        f_predicted.append(pred)\n",
        "        f_target.append(tar)\n",
        "    return np.array(f_predicted), np.array(f_target)\n",
        "\n",
        "\n",
        "def train(model, loss_fn, optimizer, loader, num_epochs=1):\n",
        "    model.train()\n",
        "    step = 0\n",
        "    for epoch in range(num_epochs):\n",
        "        for batch in tqdm(loader, desc=\"train\"):\n",
        "            optimizer.zero_grad()\n",
        "\n",
        "            output = model(batch)\n",
        "            loss = loss_fn(output.flatten(0, 1), batch[\"labels\"].flatten(0, 1).to(\"cuda\"))\n",
        "\n",
        "            loss.backward()\n",
        "            optimizer.step()\n",
        "\n",
        "            # We `yield` at the end of each step, allowing us to iterate\n",
        "            # over the training steps in the `training_loop` function.\n",
        "            # This is called a `generator` in Python\n",
        "\n",
        "            # See this page to learn more about generators:\n",
        "            # https://wiki.python.org/moin/Generators\n",
        "            yield {\"epoch\": epoch, \"step\": step}\n",
        "\n",
        "            step += 1\n",
        "\n",
        "def validate(model, loader):\n",
        "    with torch.no_grad():\n",
        "        model.eval()\n",
        "        predicted = []\n",
        "        target = []\n",
        "        for batch in tqdm(loader, desc=\"dev\", disable=True):\n",
        "            output = model(batch)\n",
        "            predicted.append(output.flatten(0, 1).argmax(-1).cpu().numpy())\n",
        "            target.append(batch[\"labels\"].flatten(0, 1).numpy())\n",
        "\n",
        "        predicted = np.concatenate(predicted)\n",
        "        target = np.concatenate(target)\n",
        "\n",
        "        predicted, target = filter_preds(predicted, target)\n",
        "\n",
        "        accuracy = (predicted == target).sum() / len(predicted)\n",
        "        f1 = f1_score(target, predicted, average=\"macro\")\n",
        "        return {\"accuracy\": accuracy, \"f1\": f1}\n",
        "\n",
        "\n",
        "def training_loop(model, loss, optimizer, train_loader, val_loader):\n",
        "    # Train loop\n",
        "    dev_scores = []\n",
        "\n",
        "    dev_scores.append(validate(model, val_loader))\n",
        "    for i, step in enumerate(train(model, loss, optimizer, train_loader)):\n",
        "        if i % 10 == 0:\n",
        "            # Validation loop every 10 train steps\n",
        "            dev_scores.append(validate(model, val_loader))\n",
        "\n",
        "    return dev_scores"
      ]
    },
    {
      "cell_type": "markdown",
      "id": "3eca9f78-f4ac-4b5a-91bb-0dee451b35c5",
      "metadata": {
        "id": "3eca9f78-f4ac-4b5a-91bb-0dee451b35c5"
      },
      "source": [
        "### Question 3:\n",
        "\n",
        "Fill in the code to train the POS model with cross entropy loss and the Adam optimizer. Use the learning rate that we defined above.\n",
        "\n",
        "We also use [Pytorch data loaders](https://docs.pytorch.org/tutorials/beginner/basics/data_tutorial.html#preparing-your-data-for-training-with-dataloaders) to help batch our data efficiently. We want to shuffle batches on each epoch for the train set for more stable training, but keep the dev batches unshuffled for consistency in our evaluation.\n",
        "\n",
        "The training might take a few minutes, but if it takes longer than 10 minutes, make sure that you have moved the model to the GPU before training!\n",
        "\n",
        "The lab material from Tuesday might be a useful reference here."
      ]
    },
    {
      "cell_type": "code",
      "execution_count": 13,
      "id": "765b0a1b-7115-468f-a376-9946161b3955",
      "metadata": {
        "colab": {
          "base_uri": "https://localhost:8080/"
        },
        "id": "765b0a1b-7115-468f-a376-9946161b3955",
        "outputId": "af3edb1a-f605-48dc-87b5-eae360a3a028"
      },
      "outputs": [
        {
          "output_type": "stream",
          "name": "stderr",
          "text": [
            "train: 100%|██████████| 196/196 [04:36<00:00,  1.41s/it]\n"
          ]
        }
      ],
      "source": [
        "bert_model = BertModel.from_pretrained(\"bert-base-multilingual-cased\")\n",
        "pos_model = POSBert(bert_model, num_labels=len(idx2label)).to('cuda')\n",
        "loss_fn = torch.nn.CrossEntropyLoss()\n",
        "optimizer = torch.optim.Adam(pos_model.parameters(), lr=3e-5)\n",
        "\n",
        "train_loader = DataLoader(train_dataset, batch_size=batch_size, shuffle=True, collate_fn=collate)\n",
        "dev_loader = DataLoader(dev_dataset, batch_size=batch_size, shuffle=False, collate_fn=collate)\n",
        "\n",
        "scores = training_loop(pos_model, loss_fn, optimizer, train_loader, dev_loader)"
      ]
    },
    {
      "cell_type": "markdown",
      "id": "9e9fa94a-c37d-41ba-af78-8b5208536ae0",
      "metadata": {
        "id": "9e9fa94a-c37d-41ba-af78-8b5208536ae0"
      },
      "source": [
        "## Inspect output\n",
        "\n",
        "We'll first plot the accuracy and F1 validation curves. You should have a performance with high 90s in accuracy, and high-80s or low-90s in F1."
      ]
    },
    {
      "cell_type": "code",
      "execution_count": 14,
      "id": "756f7aa4-64fc-4f3c-9415-1e626085a6ba",
      "metadata": {
        "colab": {
          "base_uri": "https://localhost:8080/",
          "height": 455
        },
        "id": "756f7aa4-64fc-4f3c-9415-1e626085a6ba",
        "outputId": "5d2d9568-3d0f-49cc-9ce9-90cc447cad52"
      },
      "outputs": [
        {
          "output_type": "execute_result",
          "data": {
            "text/plain": [
              "<Axes: >"
            ]
          },
          "metadata": {},
          "execution_count": 14
        },
        {
          "output_type": "display_data",
          "data": {
            "text/plain": [
              "<Figure size 640x480 with 1 Axes>"
            ],
            "image/png": "[encoded data removed]"
          },
          "metadata": {}
        }
      ],
      "source": [
        "import seaborn as sns\n",
        "sns.set()\n",
        "\n",
        "sns.lineplot(x=list(range(len(scores))), y=[score[\"accuracy\"] for score in scores])"
      ]
    },
    {
      "cell_type": "code",
      "execution_count": 15,
      "id": "9d09b35d-8922-4b6e-a512-38f99a024633",
      "metadata": {
        "colab": {
          "base_uri": "https://localhost:8080/",
          "height": 452
        },
        "id": "9d09b35d-8922-4b6e-a512-38f99a024633",
        "outputId": "0dd2c301-fd66-4e79-a271-7d431e5ebc00"
      },
      "outputs": [
        {
          "output_type": "execute_result",
          "data": {
            "text/plain": [
              "<Axes: >"
            ]
          },
          "metadata": {},
          "execution_count": 15
        },
        {
          "output_type": "display_data",
          "data": {
            "text/plain": [
              "<Figure size 640x480 with 1 Axes>"
            ],
            "image/png": "[encoded data removed]"
          },
          "metadata": {}
        }
      ],
      "source": [
        "sns.lineplot(x=list(range(len(scores))), y=[score[\"f1\"] for score in scores])"
      ]
    },
    {
      "cell_type": "markdown",
      "id": "4c65669c-c093-4a57-8785-a9ed4cb627b8",
      "metadata": {
        "id": "4c65669c-c093-4a57-8785-a9ed4cb627b8"
      },
      "source": [
        "### Question 4\n",
        "\n",
        "Use the `visualize_results` function to test the model on multiple sentences.\n",
        "\n",
        "1. Find a sentence where the same word occurs twice with two different parts of speech.\n",
        "2. Find a pair of sentences where the same token has different output labels.\n",
        "\n",
        "Write a paragraph reflecting on why the architecture of BERT might be useful for POS tagging. Compare to some other methods we have learned in class, like static word embeddings or logistic regression on bags of words. What would be challenging about this task using those other methods? Why are contextual representations useful?"
      ]
    },
    {
      "cell_type": "markdown",
      "source": [
        "BERT succeeds in POS tagging due to its transformer architectre, which is unlike static word embeddings, LR, and bag-of-words. BERT leverages self attention and bidirectional (not just left) context to capture word meaning. This task would be especially challenging with these other methods due to this lack of context, in the representations below we see the same word (bank) but in different part of the sentence. 'Bank' can be tagged as either a verb or a noun, depending on the context, so we can see how a contextual based representation might be helpful in cases where words have double meanings. This is especially clear in english, which is a language (though not the only language) where words take on several meanings depending on the context in which they are used."
      ],
      "metadata": {
        "id": "2JP8GSTbf7hG"
      },
      "id": "2JP8GSTbf7hG"
    },
    {
      "cell_type": "code",
      "execution_count": 16,
      "id": "1f90b93a-3cd5-4611-a379-24adc91ed57f",
      "metadata": {
        "id": "1f90b93a-3cd5-4611-a379-24adc91ed57f"
      },
      "outputs": [],
      "source": [
        "def visualize_results(sentence, model):\n",
        "    tokens = tokenizer(sentence, return_tensors=\"pt\")\n",
        "    preds = model(tokens).argmax(-1)\n",
        "    for tok, pred in zip(tokens.input_ids[0][1:-1], preds[0][1:-1]):\n",
        "        print(tokenizer.decode(tok), idx2label[pred.item()])"
      ]
    },
    {
      "cell_type": "code",
      "execution_count": 17,
      "id": "b9ec8631-3010-4456-bd8e-d28f80915123",
      "metadata": {
        "colab": {
          "base_uri": "https://localhost:8080/"
        },
        "id": "b9ec8631-3010-4456-bd8e-d28f80915123",
        "outputId": "d5199ab8-32d2-4988-c1ed-0613a95b5b5c"
      },
      "outputs": [
        {
          "output_type": "stream",
          "name": "stdout",
          "text": [
            "Na PROPN\n",
            "##itia PROPN\n",
            "##n PROPN\n",
            "is AUX\n",
            "a DET\n",
            "PhD NOUN\n",
            "student NOUN\n",
            "at ADP\n",
            "the DET\n",
            "UC PROPN\n",
            "Berkeley PROPN\n",
            "School PROPN\n",
            "of ADP\n",
            "Information PROPN\n",
            "in ADP\n",
            "California PROPN\n",
            ". PUNCT\n"
          ]
        }
      ],
      "source": [
        "visualize_results(\"Naitian is a PhD student at the UC Berkeley School of Information in California.\", pos_model)"
      ]
    },
    {
      "cell_type": "code",
      "source": [
        "visualize_results(\"'You should bank your earnings' he said, so I went to the bank\", pos_model)"
      ],
      "metadata": {
        "colab": {
          "base_uri": "https://localhost:8080/"
        },
        "id": "HQNCgdHMSnlM",
        "outputId": "c86f90fa-e652-4c08-fedc-4296f3cf14ce"
      },
      "id": "HQNCgdHMSnlM",
      "execution_count": 18,
      "outputs": [
        {
          "output_type": "stream",
          "name": "stdout",
          "text": [
            "' PUNCT\n",
            "You PRON\n",
            "should AUX\n",
            "bank VERB\n",
            "your PRON\n",
            "earning NOUN\n",
            "##s NOUN\n",
            "' PUNCT\n",
            "he PRON\n",
            "said VERB\n",
            ", PUNCT\n",
            "so ADV\n",
            "I PRON\n",
            "went VERB\n",
            "to ADP\n",
            "the DET\n",
            "bank NOUN\n"
          ]
        }
      ]
    },
    {
      "cell_type": "code",
      "source": [
        "visualize_results(\"You should bank your earnings\", pos_model)"
      ],
      "metadata": {
        "colab": {
          "base_uri": "https://localhost:8080/"
        },
        "id": "5ahV8AXyTHnP",
        "outputId": "9d962f7c-4fd5-4246-8d25-30cf6e7cdc7d"
      },
      "id": "5ahV8AXyTHnP",
      "execution_count": 19,
      "outputs": [
        {
          "output_type": "stream",
          "name": "stdout",
          "text": [
            "You PRON\n",
            "should AUX\n",
            "bank VERB\n",
            "your PRON\n",
            "earning NOUN\n",
            "##s NOUN\n"
          ]
        }
      ]
    },
    {
      "cell_type": "code",
      "source": [
        "visualize_results(\"I went to the bank\", pos_model)"
      ],
      "metadata": {
        "colab": {
          "base_uri": "https://localhost:8080/"
        },
        "id": "-7aaU9HQTSgu",
        "outputId": "1480beab-ff0a-4594-e706-8f0f552076c8"
      },
      "id": "-7aaU9HQTSgu",
      "execution_count": 20,
      "outputs": [
        {
          "output_type": "stream",
          "name": "stdout",
          "text": [
            "I PRON\n",
            "went VERB\n",
            "to ADP\n",
            "the DET\n",
            "bank NOUN\n"
          ]
        }
      ]
    },
    {
      "cell_type": "markdown",
      "id": "4607d120-5bf6-4c42-9493-31490087ebaa",
      "metadata": {
        "id": "4607d120-5bf6-4c42-9493-31490087ebaa"
      },
      "source": [
        "### Question 5\n",
        "\n",
        "You may have noticed that we are using a pre-trained multilingual BERT model. Pick another language that has UD annotations from the [list on this page](https://universaldependencies.org/). Download the `conllu` file from the linked Github repository for that language and train a new model on POS tagging for that language.\n",
        "\n",
        "Compare the performance between the English results from above and the language you chose. If you are familiar with the language, feel free to also inspect the model outputs on some of your own sentences.\n",
        "\n",
        "If you find yourself running out of memory on the GPU, you may want to restart the kernel to clear the previous model before doing this last part."
      ]
    },
    {
      "cell_type": "code",
      "execution_count": 30,
      "id": "cb74ff36-f924-4775-a5d1-66d2f0415530",
      "metadata": {
        "colab": {
          "base_uri": "https://localhost:8080/"
        },
        "id": "cb74ff36-f924-4775-a5d1-66d2f0415530",
        "outputId": "44efe9f8-9759-4ecd-80d8-c66f9e02436b"
      },
      "outputs": [
        {
          "output_type": "stream",
          "name": "stdout",
          "text": [
            "--2025-10-10 18:40:34--  https://raw.githubusercontent.com/UniversalDependencies/UD_Polish-PDB/master/pl_pdb-ud-train.conllu\n",
            "Resolving raw.githubusercontent.com (raw.githubusercontent.com)... 185.199.108.133, 185.199.111.133, 185.199.109.133, ...\n",
            "Connecting to raw.githubusercontent.com (raw.githubusercontent.com)|185.199.108.133|:443... connected.\n",
            "HTTP request sent, awaiting response... 200 OK\n",
            "Length: 29199179 (28M) [text/plain]\n",
            "Saving to: ‘pl_pdb-ud-train.conllu’\n",
            "\n",
            "pl_pdb-ud-train.con 100%[===================>]  27.85M   142MB/s    in 0.2s    \n",
            "\n",
            "2025-10-10 18:40:35 (142 MB/s) - ‘pl_pdb-ud-train.conllu’ saved [29199179/29199179]\n",
            "\n",
            "--2025-10-10 18:40:35--  https://raw.githubusercontent.com/UniversalDependencies/UD_Polish-PDB/master/pl_pdb-ud-dev.conllu\n",
            "Resolving raw.githubusercontent.com (raw.githubusercontent.com)... 185.199.108.133, 185.199.109.133, 185.199.110.133, ...\n",
            "Connecting to raw.githubusercontent.com (raw.githubusercontent.com)|185.199.108.133|:443... connected.\n",
            "HTTP request sent, awaiting response... 200 OK\n",
            "Length: 3592845 (3.4M) [text/plain]\n",
            "Saving to: ‘pl_pdb-ud-dev.conllu’\n",
            "\n",
            "pl_pdb-ud-dev.conll 100%[===================>]   3.43M  --.-KB/s    in 0.05s   \n",
            "\n",
            "2025-10-10 18:40:36 (66.8 MB/s) - ‘pl_pdb-ud-dev.conllu’ saved [3592845/3592845]\n",
            "\n"
          ]
        }
      ],
      "source": [
        "!wget https://raw.githubusercontent.com/UniversalDependencies/UD_Polish-PDB/master/pl_pdb-ud-train.conllu\n",
        "!wget https://raw.githubusercontent.com/UniversalDependencies/UD_Polish-PDB/master/pl_pdb-ud-dev.conllu"
      ]
    },
    {
      "cell_type": "code",
      "source": [
        "# note: the polish dataset has less data, so i used 10000 for train / 2000 for dev\n",
        "pl_train_dataset = parse_conllu(\"pl_pdb-ud-train.conllu\", n=10_000)\n",
        "pl_dev_dataset = parse_conllu(\"pl_pdb-ud-dev.conllu\", n=2_000)"
      ],
      "metadata": {
        "colab": {
          "base_uri": "https://localhost:8080/"
        },
        "id": "g4vWFaVsVVmI",
        "outputId": "6902e0aa-3469-456d-eec8-d29034daa10e"
      },
      "id": "g4vWFaVsVVmI",
      "execution_count": 37,
      "outputs": [
        {
          "output_type": "stream",
          "name": "stdout",
          "text": [
            "French train size: 10000 sentences\n",
            "French dev size: 2000 sentences\n"
          ]
        }
      ]
    },
    {
      "cell_type": "code",
      "source": [
        "bert_model = BertModel.from_pretrained(\"bert-base-multilingual-cased\")\n",
        "pos_model = POSBert(bert_model, num_labels=len(idx2label)).to('cuda')\n",
        "loss_fn = torch.nn.CrossEntropyLoss()\n",
        "optimizer = torch.optim.Adam(pos_model.parameters(), lr=3e-5)\n",
        "\n",
        "train_loader = DataLoader(pl_train_dataset, batch_size=batch_size, shuffle=True, collate_fn=collate)\n",
        "dev_loader = DataLoader(pl_dev_dataset, batch_size=batch_size, shuffle=False, collate_fn=collate)\n",
        "\n",
        "scores = training_loop(pos_model, loss_fn, optimizer, train_loader, dev_loader)"
      ],
      "metadata": {
        "colab": {
          "base_uri": "https://localhost:8080/"
        },
        "id": "NHIrG8rJVWgk",
        "outputId": "1688aa95-7ee7-4b51-e179-e47027d90e45"
      },
      "id": "NHIrG8rJVWgk",
      "execution_count": 38,
      "outputs": [
        {
          "output_type": "stream",
          "name": "stderr",
          "text": [
            "train: 100%|██████████| 157/157 [04:40<00:00,  1.79s/it]\n"
          ]
        }
      ]
    },
    {
      "cell_type": "code",
      "source": [
        "sns.set()\n",
        "sns.lineplot(x=list(range(len(scores))), y=[score[\"accuracy\"] for score in scores])"
      ],
      "metadata": {
        "colab": {
          "base_uri": "https://localhost:8080/",
          "height": 452
        },
        "id": "NJksTt4WcbLM",
        "outputId": "e4e413a8-15a1-4e4f-f7fa-86f237d9647b"
      },
      "id": "NJksTt4WcbLM",
      "execution_count": 39,
      "outputs": [
        {
          "output_type": "execute_result",
          "data": {
            "text/plain": [
              "<Axes: >"
            ]
          },
          "metadata": {},
          "execution_count": 39
        },
        {
          "output_type": "display_data",
          "data": {
            "text/plain": [
              "<Figure size 640x480 with 1 Axes>"
            ],
            "image/png": "[encoded data removed]"
          },
          "metadata": {}
        }
      ]
    },
    {
      "cell_type": "code",
      "source": [
        "sns.lineplot(x=list(range(len(scores))), y=[score[\"f1\"] for score in scores])"
      ],
      "metadata": {
        "colab": {
          "base_uri": "https://localhost:8080/",
          "height": 452
        },
        "id": "zniPSQ6eceY_",
        "outputId": "d894ec8c-bf14-4436-9c54-ce78d9ff593c"
      },
      "id": "zniPSQ6eceY_",
      "execution_count": 40,
      "outputs": [
        {
          "output_type": "execute_result",
          "data": {
            "text/plain": [
              "<Axes: >"
            ]
          },
          "metadata": {},
          "execution_count": 40
        },
        {
          "output_type": "display_data",
          "data": {
            "text/plain": [
              "<Figure size 640x480 with 1 Axes>"
            ],
            "image/png": "[encoded data removed]"
          },
          "metadata": {}
        }
      ]
    }
  ],
  "metadata": {
    "kernelspec": {
      "display_name": "Python 3",
      "name": "python3"
    },
    "language_info": {
      "codemirror_mode": {
        "name": "ipython",
        "version": 3
      },
      "file_extension": ".py",
      "mimetype": "text/x-python",
      "name": "python",
      "nbconvert_exporter": "python",
      "pygments_lexer": "ipython3",
      "version": "3.11.13"
    },
    "colab": {
      "provenance": [],
      "gpuType": "T4",
      "include_colab_link": true
    },
    "accelerator": "GPU"
  },
  "nbformat": 4,
  "nbformat_minor": 5
}