{
  "cells": [
    {
      "cell_type": "markdown",
      "metadata": {
        "id": "view-in-github",
        "colab_type": "text"
      },
      "source": [
        "<a href=\"https://colab.research.google.com/github/GoldPapaya/info256-applied-nlp/blob/main/4.topics/HW4_ExploreTopics.ipynb\" target=\"_parent\"><img src=\"https://colab.research.google.com/assets/colab-badge.svg\" alt=\"Open In Colab\"/></a>"
      ]
    },
    {
      "cell_type": "markdown",
      "metadata": {
        "id": "H5FdE_BKEVVq"
      },
      "source": [
        "[![Open In Colab](https://colab.research.google.com/assets/colab-badge.svg)](https://colab.research.google.com/github/dbamman/anlp25/blob/main/4.topics/HW4_ExploreTopics.ipynb)\n",
        "\n",
        "**N.B.** Once it's open on Colab, remember to save a copy (by e.g. clicking `Copy to Drive` above).\n",
        "\n",
        "---"
      ]
    },
    {
      "cell_type": "markdown",
      "metadata": {
        "id": "JzmdE4_yHpHG"
      },
      "source": [
        "# HW4: Exploring topics\n",
        "In this homework, you have an open-ended task: tell us something **interesting** about a collection of text data using topic modeling. You can choose between the following datasets:"
      ]
    },
    {
      "cell_type": "markdown",
      "metadata": {
        "id": "7PU0NSxn-bZR"
      },
      "source": [
        "In `acl.all.tsv` you'll find 7,188 papers published at major NLP venues (ACL, EMNLP, NAACL, TACL, etc.) between 2013 and 2020.  Here is a sample of that data:\n",
        "\n",
        "|id|year of publication|title|abstract|\n",
        "|---|---|---|---|\n",
        "|pimentel-etal-2020-phonotactic|2020|Phonotactic Complexity and Its Trade-offs|We present methods for calculating a measure of phonotactic complexity ...|\n",
        "|wang-etal-2020-amr|2020|AMR-To-Text Generation with Graph Transformer|Abstract meaning representation (AMR)-to-text generation is the challenging task  ...|\n"
      ]
    },
    {
      "cell_type": "code",
      "execution_count": null,
      "metadata": {
        "id": "I75gEBBz-4AR"
      },
      "outputs": [],
      "source": [
        "!wget https://raw.githubusercontent.com/dbamman/anlp25/refs/heads/main/data/acl.all.tsv"
      ]
    },
    {
      "cell_type": "markdown",
      "metadata": {
        "id": "Abup6G02FAXU"
      },
      "source": [
        "In `gutenberg.genre.tsv` you'll find 1,250 passages of English-language fiction from Project Gutenberg, categorized by genre (adventure, detective, love stories, science fiction, westerns).  Here's a sample:\n",
        "\n",
        "|id|genre|author|passage|\n",
        "|---|---|---|---|\n",
        "|66390_1796\t|love stories\t|Prime-Stevenson, Edward\t|Only a few days absence. I shall think of you. Imre. P. S. Please write me.\" I was amused,  ...|\n",
        "|50157_2780\t|detective and mystery stories|\tWheeler, Janet D.\t|Edina shook her head. “They think I’ve lied to them. They think I’ve cheated them. They want their money, and you can’t rightly blame them...|\n"
      ]
    },
    {
      "cell_type": "code",
      "execution_count": null,
      "metadata": {
        "id": "S8oqE9GqFR5N"
      },
      "outputs": [],
      "source": [
        "!wget https://raw.githubusercontent.com/dbamman/anlp25/refs/heads/main/data/gutenberg.genre.tsv"
      ]
    },
    {
      "cell_type": "markdown",
      "metadata": {
        "id": "MVjaykL2I_50"
      },
      "source": [
        "In `convote.train.tsv`, you'll find 2,723 dialogue turns from the Convote dataset on congressional speeches, paired with the party affiliation of the speaker (Democrat/Republican). Here's a sample:\n",
        "\n",
        "|party|passage|\n",
        "|---|---|\n",
        "|R\t|mr. speaker , i claim the time in opposition to the motion to recommit .|\n",
        "|D\t|mr. speaker , on that i demand the yeas and nays .|"
      ]
    },
    {
      "cell_type": "code",
      "execution_count": 134,
      "metadata": {
        "id": "86UzkCXtLBF8",
        "colab": {
          "base_uri": "https://localhost:8080/"
        },
        "outputId": "5a2fa527-6ca7-4809-883b-5ab9e831614f"
      },
      "outputs": [
        {
          "output_type": "stream",
          "name": "stdout",
          "text": [
            "--2025-09-20 18:37:34--  https://raw.githubusercontent.com/dbamman/anlp25/refs/heads/main/data/convote.train.tsv\n",
            "Resolving raw.githubusercontent.com (raw.githubusercontent.com)... 185.199.108.133, 185.199.109.133, 185.199.110.133, ...\n",
            "Connecting to raw.githubusercontent.com (raw.githubusercontent.com)|185.199.108.133|:443... connected.\n",
            "HTTP request sent, awaiting response... 200 OK\n",
            "Length: 4660140 (4.4M) [text/plain]\n",
            "Saving to: ‘convote.train.tsv’\n",
            "\n",
            "convote.train.tsv   100%[===================>]   4.44M  --.-KB/s    in 0.09s   \n",
            "\n",
            "2025-09-20 18:37:34 (51.8 MB/s) - ‘convote.train.tsv’ saved [4660140/4660140]\n",
            "\n"
          ]
        }
      ],
      "source": [
        "!wget https://raw.githubusercontent.com/dbamman/anlp25/refs/heads/main/data/convote.train.tsv"
      ]
    },
    {
      "cell_type": "markdown",
      "metadata": {
        "id": "7NqJX9w1H1cp"
      },
      "source": [
        "Choose one of these datasets and use topic modeling as exploratory data analysis to find some interesting structure in that data.  There are only two constraints:\n",
        "\n",
        "* You must use topic modeling to find topics in the data\n",
        "* You must relate those **topics** to some aspect of the metadata. Examples of this could be: charting the rise and fall of **topics** over time (i.e., with year of publication as metadata) or associating **topics** with genre to find which topics are more aligned one one genre over another (perhaps using some of the measures of association we talked about earlier this semester)."
      ]
    },
    {
      "cell_type": "markdown",
      "metadata": {
        "id": "OHp0qGRvIc24"
      },
      "source": [
        "## Part 1: topic modeling\n",
        "\n",
        "Q1: Try creating several topic models with different parameters for the _number_ of topics. Compare the outputs, and decide what number of topics is most reasonable for your dataset. **In a couple of sentences, justify your selection.**"
      ]
    },
    {
      "cell_type": "code",
      "source": [
        "# The next bit of code is copied from TopicModel.ipynb for stopword\n",
        "# filtering\n",
        "\n",
        "!pip install gensim"
      ],
      "metadata": {
        "colab": {
          "base_uri": "https://localhost:8080/"
        },
        "id": "DZLTiQiC283Z",
        "outputId": "371a6d8b-1740-4bf7-b997-9266ecee929c"
      },
      "execution_count": 141,
      "outputs": [
        {
          "output_type": "stream",
          "name": "stdout",
          "text": [
            "Requirement already satisfied: gensim in /usr/local/lib/python3.12/dist-packages (4.3.3)\n",
            "Requirement already satisfied: numpy<2.0,>=1.18.5 in /usr/local/lib/python3.12/dist-packages (from gensim) (1.26.4)\n",
            "Requirement already satisfied: scipy<1.14.0,>=1.7.0 in /usr/local/lib/python3.12/dist-packages (from gensim) (1.13.1)\n",
            "Requirement already satisfied: smart-open>=1.8.1 in /usr/local/lib/python3.12/dist-packages (from gensim) (7.3.1)\n",
            "Requirement already satisfied: wrapt in /usr/local/lib/python3.12/dist-packages (from smart-open>=1.8.1->gensim) (1.17.3)\n"
          ]
        }
      ]
    },
    {
      "cell_type": "code",
      "source": [
        "import operator\n",
        "import re\n",
        "\n",
        "import nltk\n",
        "from gensim import corpora\n",
        "from tqdm import tqdm  # for progress bars\n",
        "\n",
        "nltk.download(\"stopwords\")\n",
        "nltk.download(\"punkt\")\n",
        "nltk.download(\"punkt_tab\")\n",
        "import random\n",
        "\n",
        "import numpy as np\n",
        "import pandas as pd\n",
        "from nltk.corpus import stopwords\n",
        "\n",
        "random.seed(1)"
      ],
      "metadata": {
        "id": "q36yk50s_e3e",
        "outputId": "bd46417a-ca9d-4b85-bd8e-7cb791a763f1",
        "colab": {
          "base_uri": "https://localhost:8080/"
        }
      },
      "execution_count": 142,
      "outputs": [
        {
          "output_type": "stream",
          "name": "stderr",
          "text": [
            "[nltk_data] Downloading package stopwords to /root/nltk_data...\n",
            "[nltk_data]   Package stopwords is already up-to-date!\n",
            "[nltk_data] Downloading package punkt to /root/nltk_data...\n",
            "[nltk_data]   Package punkt is already up-to-date!\n",
            "[nltk_data] Downloading package punkt_tab to /root/nltk_data...\n",
            "[nltk_data]   Package punkt_tab is already up-to-date!\n"
          ]
        }
      ]
    },
    {
      "cell_type": "code",
      "source": [
        "!wget https://raw.githubusercontent.com/dbamman/anlp25/main/data/jockers.stopwords"
      ],
      "metadata": {
        "id": "SfiEwVYd_u4g",
        "outputId": "0368845e-21fc-4cbd-a8b5-d4f37d7ceb4c",
        "colab": {
          "base_uri": "https://localhost:8080/"
        }
      },
      "execution_count": 143,
      "outputs": [
        {
          "output_type": "stream",
          "name": "stdout",
          "text": [
            "--2025-09-20 18:43:16--  https://raw.githubusercontent.com/dbamman/anlp25/main/data/jockers.stopwords\n",
            "Resolving raw.githubusercontent.com (raw.githubusercontent.com)... 185.199.108.133, 185.199.109.133, 185.199.110.133, ...\n",
            "Connecting to raw.githubusercontent.com (raw.githubusercontent.com)|185.199.108.133|:443... connected.\n",
            "HTTP request sent, awaiting response... 200 OK\n",
            "Length: 44453 (43K) [text/plain]\n",
            "Saving to: ‘jockers.stopwords.4’\n",
            "\n",
            "\rjockers.stopwords.4   0%[                    ]       0  --.-KB/s               \rjockers.stopwords.4 100%[===================>]  43.41K  --.-KB/s    in 0.01s   \n",
            "\n",
            "2025-09-20 18:43:17 (4.03 MB/s) - ‘jockers.stopwords.4’ saved [44453/44453]\n",
            "\n"
          ]
        }
      ]
    },
    {
      "cell_type": "code",
      "source": [
        "def read_stopwords(filename):\n",
        "    \"\"\"Reads a file of stopwords into a set.\"\"\"\n",
        "    stopwords = set([\n",
        "        line.rstrip() for line in open(filename)\n",
        "    ])\n",
        "    return stopwords"
      ],
      "metadata": {
        "id": "uAbuE26vBvbS"
      },
      "execution_count": 144,
      "outputs": []
    },
    {
      "cell_type": "code",
      "source": [
        "stop_words = set(stopwords.words('english'))\n",
        "stop_words = stop_words | read_stopwords(\"jockers.stopwords\")\n",
        "stop_words.add(\"'s\")\n",
        "stop_words=list(stop_words)"
      ],
      "metadata": {
        "id": "yngVkMp5ODws"
      },
      "execution_count": 145,
      "outputs": []
    },
    {
      "cell_type": "code",
      "source": [
        "pattern = re.compile(r\"[A-Za-z]\")\n",
        "def stopword_filter(word, stopwords):\n",
        "    \"\"\" Function to exclude words from a text.\"\"\"\n",
        "\n",
        "    # no stopwords\n",
        "    if word in stopwords:\n",
        "        return False\n",
        "\n",
        "    # has to contain at least one letter\n",
        "    if pattern.search(word) is not None:\n",
        "        return True\n",
        "\n",
        "    return False"
      ],
      "metadata": {
        "id": "veijOX2dB3SD"
      },
      "execution_count": 146,
      "outputs": []
    },
    {
      "cell_type": "code",
      "source": [
        "df = pd.read_csv('convote.train.tsv', sep='\\t', names=['party', 'passage'])\n",
        "df.head(10)"
      ],
      "metadata": {
        "colab": {
          "base_uri": "https://localhost:8080/",
          "height": 363
        },
        "id": "eEmk7lvQa1GE",
        "outputId": "97b3b5b9-a440-4cbd-e8d1-879851461ad7"
      },
      "execution_count": 150,
      "outputs": [
        {
          "output_type": "execute_result",
          "data": {
            "text/plain": [
              "  party                                            passage\n",
              "0     D  mr. speaker , i rise in opposition to the rule...\n",
              "1     D  mr. speaker , i rise for a constitutional poin...\n",
              "2     D  mr. speaker , the resolution we are preparing ...\n",
              "3     D  mr. speaker , consistent with the oath of offi...\n",
              "4     D  mr. speaker , on that i demand the yeas and na...\n",
              "5     R  mr. speaker , i rise in strong support of this...\n",
              "6     D  mr. speaker , the chairman of the committee on...\n",
              "7     D  mr. speaker , we are making a terrible mistake...\n",
              "8     R  mr. speaker , i offer a privileged resolution ...\n",
              "9     R  mr. speaker , for the purposes of debate only ..."
            ],
            "text/html": [
              "\n",
              "  <div id=\"df-7a15313f-52c7-43d9-8b48-b903e7a75b5e\" class=\"colab-df-container\">\n",
              "    <div>\n",
              "<style scoped>\n",
              "    .dataframe tbody tr th:only-of-type {\n",
              "        vertical-align: middle;\n",
              "    }\n",
              "\n",
              "    .dataframe tbody tr th {\n",
              "        vertical-align: top;\n",
              "    }\n",
              "\n",
              "    .dataframe thead th {\n",
              "        text-align: right;\n",
              "    }\n",
              "</style>\n",
              "<table border=\"1\" class=\"dataframe\">\n",
              "  <thead>\n",
              "    <tr style=\"text-align: right;\">\n",
              "      <th></th>\n",
              "      <th>party</th>\n",
              "      <th>passage</th>\n",
              "    </tr>\n",
              "  </thead>\n",
              "  <tbody>\n",
              "    <tr>\n",
              "      <th>0</th>\n",
              "      <td>D</td>\n",
              "      <td>mr. speaker , i rise in opposition to the rule...</td>\n",
              "    </tr>\n",
              "    <tr>\n",
              "      <th>1</th>\n",
              "      <td>D</td>\n",
              "      <td>mr. speaker , i rise for a constitutional poin...</td>\n",
              "    </tr>\n",
              "    <tr>\n",
              "      <th>2</th>\n",
              "      <td>D</td>\n",
              "      <td>mr. speaker , the resolution we are preparing ...</td>\n",
              "    </tr>\n",
              "    <tr>\n",
              "      <th>3</th>\n",
              "      <td>D</td>\n",
              "      <td>mr. speaker , consistent with the oath of offi...</td>\n",
              "    </tr>\n",
              "    <tr>\n",
              "      <th>4</th>\n",
              "      <td>D</td>\n",
              "      <td>mr. speaker , on that i demand the yeas and na...</td>\n",
              "    </tr>\n",
              "    <tr>\n",
              "      <th>5</th>\n",
              "      <td>R</td>\n",
              "      <td>mr. speaker , i rise in strong support of this...</td>\n",
              "    </tr>\n",
              "    <tr>\n",
              "      <th>6</th>\n",
              "      <td>D</td>\n",
              "      <td>mr. speaker , the chairman of the committee on...</td>\n",
              "    </tr>\n",
              "    <tr>\n",
              "      <th>7</th>\n",
              "      <td>D</td>\n",
              "      <td>mr. speaker , we are making a terrible mistake...</td>\n",
              "    </tr>\n",
              "    <tr>\n",
              "      <th>8</th>\n",
              "      <td>R</td>\n",
              "      <td>mr. speaker , i offer a privileged resolution ...</td>\n",
              "    </tr>\n",
              "    <tr>\n",
              "      <th>9</th>\n",
              "      <td>R</td>\n",
              "      <td>mr. speaker , for the purposes of debate only ...</td>\n",
              "    </tr>\n",
              "  </tbody>\n",
              "</table>\n",
              "</div>\n",
              "    <div class=\"colab-df-buttons\">\n",
              "\n",
              "  <div class=\"colab-df-container\">\n",
              "    <button class=\"colab-df-convert\" onclick=\"convertToInteractive('df-7a15313f-52c7-43d9-8b48-b903e7a75b5e')\"\n",
              "            title=\"Convert this dataframe to an interactive table.\"\n",
              "            style=\"display:none;\">\n",
              "\n",
              "  <svg xmlns=\"http://www.w3.org/2000/svg\" height=\"24px\" viewBox=\"0 -960 960 960\">\n",
              "    <path d=\"M120-120v-720h720v720H120Zm60-500h600v-160H180v160Zm220 220h160v-160H400v160Zm0 220h160v-160H400v160ZM180-400h160v-160H180v160Zm440 0h160v-160H620v160ZM180-180h160v-160H180v160Zm440 0h160v-160H620v160Z\"/>\n",
              "  </svg>\n",
              "    </button>\n",
              "\n",
              "  <style>\n",
              "    .colab-df-container {\n",
              "      display:flex;\n",
              "      gap: 12px;\n",
              "    }\n",
              "\n",
              "    .colab-df-convert {\n",
              "      background-color: #E8F0FE;\n",
              "      border: none;\n",
              "      border-radius: 50%;\n",
              "      cursor: pointer;\n",
              "      display: none;\n",
              "      fill: #1967D2;\n",
              "      height: 32px;\n",
              "      padding: 0 0 0 0;\n",
              "      width: 32px;\n",
              "    }\n",
              "\n",
              "    .colab-df-convert:hover {\n",
              "      background-color: #E2EBFA;\n",
              "      box-shadow: 0px 1px 2px rgba(60, 64, 67, 0.3), 0px 1px 3px 1px rgba(60, 64, 67, 0.15);\n",
              "      fill: #174EA6;\n",
              "    }\n",
              "\n",
              "    .colab-df-buttons div {\n",
              "      margin-bottom: 4px;\n",
              "    }\n",
              "\n",
              "    [theme=dark] .colab-df-convert {\n",
              "      background-color: #3B4455;\n",
              "      fill: #D2E3FC;\n",
              "    }\n",
              "\n",
              "    [theme=dark] .colab-df-convert:hover {\n",
              "      background-color: #434B5C;\n",
              "      box-shadow: 0px 1px 3px 1px rgba(0, 0, 0, 0.15);\n",
              "      filter: drop-shadow(0px 1px 2px rgba(0, 0, 0, 0.3));\n",
              "      fill: #FFFFFF;\n",
              "    }\n",
              "  </style>\n",
              "\n",
              "    <script>\n",
              "      const buttonEl =\n",
              "        document.querySelector('#df-7a15313f-52c7-43d9-8b48-b903e7a75b5e button.colab-df-convert');\n",
              "      buttonEl.style.display =\n",
              "        google.colab.kernel.accessAllowed ? 'block' : 'none';\n",
              "\n",
              "      async function convertToInteractive(key) {\n",
              "        const element = document.querySelector('#df-7a15313f-52c7-43d9-8b48-b903e7a75b5e');\n",
              "        const dataTable =\n",
              "          await google.colab.kernel.invokeFunction('convertToInteractive',\n",
              "                                                    [key], {});\n",
              "        if (!dataTable) return;\n",
              "\n",
              "        const docLinkHtml = 'Like what you see? Visit the ' +\n",
              "          '<a target=\"_blank\" href=https://colab.research.google.com/notebooks/data_table.ipynb>data table notebook</a>'\n",
              "          + ' to learn more about interactive tables.';\n",
              "        element.innerHTML = '';\n",
              "        dataTable['output_type'] = 'display_data';\n",
              "        await google.colab.output.renderOutput(dataTable, element);\n",
              "        const docLink = document.createElement('div');\n",
              "        docLink.innerHTML = docLinkHtml;\n",
              "        element.appendChild(docLink);\n",
              "      }\n",
              "    </script>\n",
              "  </div>\n",
              "\n",
              "\n",
              "    <div id=\"df-a05f1393-8f6b-4ff7-a9b0-3a8990003b4d\">\n",
              "      <button class=\"colab-df-quickchart\" onclick=\"quickchart('df-a05f1393-8f6b-4ff7-a9b0-3a8990003b4d')\"\n",
              "                title=\"Suggest charts\"\n",
              "                style=\"display:none;\">\n",
              "\n",
              "<svg xmlns=\"http://www.w3.org/2000/svg\" height=\"24px\"viewBox=\"0 0 24 24\"\n",
              "     width=\"24px\">\n",
              "    <g>\n",
              "        <path d=\"M19 3H5c-1.1 0-2 .9-2 2v14c0 1.1.9 2 2 2h14c1.1 0 2-.9 2-2V5c0-1.1-.9-2-2-2zM9 17H7v-7h2v7zm4 0h-2V7h2v10zm4 0h-2v-4h2v4z\"/>\n",
              "    </g>\n",
              "</svg>\n",
              "      </button>\n",
              "\n",
              "<style>\n",
              "  .colab-df-quickchart {\n",
              "      --bg-color: #E8F0FE;\n",
              "      --fill-color: #1967D2;\n",
              "      --hover-bg-color: #E2EBFA;\n",
              "      --hover-fill-color: #174EA6;\n",
              "      --disabled-fill-color: #AAA;\n",
              "      --disabled-bg-color: #DDD;\n",
              "  }\n",
              "\n",
              "  [theme=dark] .colab-df-quickchart {\n",
              "      --bg-color: #3B4455;\n",
              "      --fill-color: #D2E3FC;\n",
              "      --hover-bg-color: #434B5C;\n",
              "      --hover-fill-color: #FFFFFF;\n",
              "      --disabled-bg-color: #3B4455;\n",
              "      --disabled-fill-color: #666;\n",
              "  }\n",
              "\n",
              "  .colab-df-quickchart {\n",
              "    background-color: var(--bg-color);\n",
              "    border: none;\n",
              "    border-radius: 50%;\n",
              "    cursor: pointer;\n",
              "    display: none;\n",
              "    fill: var(--fill-color);\n",
              "    height: 32px;\n",
              "    padding: 0;\n",
              "    width: 32px;\n",
              "  }\n",
              "\n",
              "  .colab-df-quickchart:hover {\n",
              "    background-color: var(--hover-bg-color);\n",
              "    box-shadow: 0 1px 2px rgba(60, 64, 67, 0.3), 0 1px 3px 1px rgba(60, 64, 67, 0.15);\n",
              "    fill: var(--button-hover-fill-color);\n",
              "  }\n",
              "\n",
              "  .colab-df-quickchart-complete:disabled,\n",
              "  .colab-df-quickchart-complete:disabled:hover {\n",
              "    background-color: var(--disabled-bg-color);\n",
              "    fill: var(--disabled-fill-color);\n",
              "    box-shadow: none;\n",
              "  }\n",
              "\n",
              "  .colab-df-spinner {\n",
              "    border: 2px solid var(--fill-color);\n",
              "    border-color: transparent;\n",
              "    border-bottom-color: var(--fill-color);\n",
              "    animation:\n",
              "      spin 1s steps(1) infinite;\n",
              "  }\n",
              "\n",
              "  @keyframes spin {\n",
              "    0% {\n",
              "      border-color: transparent;\n",
              "      border-bottom-color: var(--fill-color);\n",
              "      border-left-color: var(--fill-color);\n",
              "    }\n",
              "    20% {\n",
              "      border-color: transparent;\n",
              "      border-left-color: var(--fill-color);\n",
              "      border-top-color: var(--fill-color);\n",
              "    }\n",
              "    30% {\n",
              "      border-color: transparent;\n",
              "      border-left-color: var(--fill-color);\n",
              "      border-top-color: var(--fill-color);\n",
              "      border-right-color: var(--fill-color);\n",
              "    }\n",
              "    40% {\n",
              "      border-color: transparent;\n",
              "      border-right-color: var(--fill-color);\n",
              "      border-top-color: var(--fill-color);\n",
              "    }\n",
              "    60% {\n",
              "      border-color: transparent;\n",
              "      border-right-color: var(--fill-color);\n",
              "    }\n",
              "    80% {\n",
              "      border-color: transparent;\n",
              "      border-right-color: var(--fill-color);\n",
              "      border-bottom-color: var(--fill-color);\n",
              "    }\n",
              "    90% {\n",
              "      border-color: transparent;\n",
              "      border-bottom-color: var(--fill-color);\n",
              "    }\n",
              "  }\n",
              "</style>\n",
              "\n",
              "      <script>\n",
              "        async function quickchart(key) {\n",
              "          const quickchartButtonEl =\n",
              "            document.querySelector('#' + key + ' button');\n",
              "          quickchartButtonEl.disabled = true;  // To prevent multiple clicks.\n",
              "          quickchartButtonEl.classList.add('colab-df-spinner');\n",
              "          try {\n",
              "            const charts = await google.colab.kernel.invokeFunction(\n",
              "                'suggestCharts', [key], {});\n",
              "          } catch (error) {\n",
              "            console.error('Error during call to suggestCharts:', error);\n",
              "          }\n",
              "          quickchartButtonEl.classList.remove('colab-df-spinner');\n",
              "          quickchartButtonEl.classList.add('colab-df-quickchart-complete');\n",
              "        }\n",
              "        (() => {\n",
              "          let quickchartButtonEl =\n",
              "            document.querySelector('#df-a05f1393-8f6b-4ff7-a9b0-3a8990003b4d button');\n",
              "          quickchartButtonEl.style.display =\n",
              "            google.colab.kernel.accessAllowed ? 'block' : 'none';\n",
              "        })();\n",
              "      </script>\n",
              "    </div>\n",
              "\n",
              "    </div>\n",
              "  </div>\n"
            ],
            "application/vnd.google.colaboratory.intrinsic+json": {
              "type": "dataframe",
              "variable_name": "df",
              "summary": "{\n  \"name\": \"df\",\n  \"rows\": 2723,\n  \"fields\": [\n    {\n      \"column\": \"party\",\n      \"properties\": {\n        \"dtype\": \"category\",\n        \"num_unique_values\": 2,\n        \"samples\": [\n          \"R\",\n          \"D\"\n        ],\n        \"semantic_type\": \"\",\n        \"description\": \"\"\n      }\n    },\n    {\n      \"column\": \"passage\",\n      \"properties\": {\n        \"dtype\": \"string\",\n        \"num_unique_values\": 2443,\n        \"samples\": [\n          \"mr. speaker , i make a point of order against the motion because it violates clause 9 of rule xxii by proposing to direct the conferees to exceed the scope of matters committed to the conference .  and i ask for a ruling from the chair .  \",\n          \"mr. speaker , i claim the time in opposition to the motion to recommit .  \"\n        ],\n        \"semantic_type\": \"\",\n        \"description\": \"\"\n      }\n    }\n  ]\n}"
            }
          },
          "metadata": {},
          "execution_count": 150
        }
      ]
    },
    {
      "cell_type": "code",
      "source": [
        "from nltk import word_tokenize\n",
        "\n",
        "def preprocess(text, stop_words):\n",
        "    tokens = word_tokenize(text.lower())\n",
        "    tokens = [word for word in tokens if stopword_filter(word, stop_words)]\n",
        "    return tokens\n",
        "\n",
        "tokenized_passages = [preprocess(passage, stop_words) for passage in df['passage']]"
      ],
      "metadata": {
        "colab": {
          "base_uri": "https://localhost:8080/"
        },
        "id": "M9lvxBrRcat1",
        "outputId": "7c456977-13eb-4fef-e3ad-aee79faa8332"
      },
      "execution_count": 151,
      "outputs": [
        {
          "output_type": "stream",
          "name": "stdout",
          "text": [
            "[['mr.', 'speaker', 'rise', 'opposition', 'rules', 'package', 'today', 'outrageous', 'republican', 'colleagues', 'placed', 'rules', 'package', 'lacks', 'integrity', 'worst', 'completely', 'unethical', 'highest', 'body', 'elected', 'officials', 'country', 'held', 'highest', 'ethical', 'standards', 'republican', 'colleagues', 'opted', 'rules', 'package', 'lowers', 'ethics', 'standards', 'promote', 'agenda', 'cost', 'rules', 'package', 'difficult', 'ethics', 'investigations', 'take', 'place', 'requiring', 'majority', 'ethics', 'committee', 'investigation', 'danger', 'diminishing', 'integrity', 'institution', 'rule', 'majority', 'party', 'effectively', 'block', 'ethics', 'investigation', 'member', 'party', 'abuse', 'power', 'democrats', 'oppose', 'plan', 'americans', 'country', 'expressed', 'opposition', 'plan', 'democratic', 'colleagues', 'plan', 'strengthen', 'ethics', 'rules', 'improve', 'congressional', 'accountability', 'sure', 'legislation', 'properly', 'considered', 'republican', 'plan', 'fails', 'close', 'loophole', 'allows', 'legislation', 'considered', 'members', 'read', 'year', 'led', 'passage', 'provision', 'federal', 'government', 'deeply', 'invade', 'citizens', 'privacy', 'reading', 'tax', 'returns', 'appalled', 'republicans', 'failed', 'democratic', 'provision', 'tighten', 'loophole', 'mr.', 'speaker', 'urge', 'colleagues', 'vote', 'resolution', 'allow', 'rules', 'package', 'law'], ['mr.', 'speaker', 'rise', 'constitutional', 'point', 'order'], ['mr.', 'speaker', 'resolution', 'preparing', 'consider', 'proposed', 'rules', '109th', 'congress', 'judgment', 'violates', 'united', 'states', 'constitution', 'sworn', 'uphold', 'defend', 'allowing', 'limited', 'number', 'members', 'potentially', 'handful', 'constitute', 'house', 'representatives', 'article', 'constitution', 'states', 'house', 'judge', 'elections', 'returns', 'qualifications', 'members', 'majority', 'constitute', 'quorum', 'business', 'small', 'number', 'adjourn', 'day', 'day', 'authorized', 'compel', 'attendance', 'absent', 'members.', 'unfortunately', 'h.', 'res', 'seeks', 'allow', 'small', 'number', 'adjourn', 'compel', 'attendance', 'constitution', 'stipulates', 'enact', 'laws', 'declare', 'war', 'impeach', 'president', 'fulfill', 'article', 'responsibilities', 'congress', 'united', 'states', 'recess', 'day', 'day', 'day', 'lacked', 'quorum', 'moments', 'ago', 'body', 'took', 'oath', 'uphold', 'defend', 'constitution', 'official', 'vote', 'rule', 'undermine', 'fundamental', 'principle', 'constitution', 'i.e', 'quorum', 'understanding', 'speaker', 'reluctant', 'judge', 'matters', 'constitutionality', 'respect', 'reserve', 'inform', 'speaker', 'intent', 'question', 'consideration'], ['mr.', 'speaker', 'consistent', 'oath', 'office', 'took', 'request', 'question', 'consideration', 'body'], ['mr.', 'speaker', 'demand', 'yeas', 'nays'], ['mr.', 'speaker', 'rise', 'strong', 'support', 'balanced', 'rules', 'package', 'want', 'speak', 'particularly', 'provisions', 'regarding', 'homeland', 'security', 'determine', 'proposed', 'regime', 'oversee', 'homeland', 'security', 'appropriate', 'look', 'flow', 'chart', 'simplest', 'structure', 'necessarily', 'unduly', 'complex', 'look', 'proposed', 'structure', 'function', 'accomplish', 'homeland', 'jurisdiction', 'proposed', 'package', 'strikes', 'right', 'balance', 'system', 'centralized', 'diffuse', 'important', 'necessary', 'change', 'regarding', 'governance', 'department', 'homeland', 'security', 'years', 'ago', 'created', 'subcommittee', 'homeland', 'security', 'committee', 'appropriations', 'single', 'committee', 'look', 'department', 'homeland', 'security', 'authorizing', 'perspective', 'sensible', 'move', 'committee', 'created', 'package', 'sense', 'simple', 'giving', 'sole', 'authority', 'aspects', 'homeland', 'security', 'committee', 'homeland', 'security', 'diffuse', 'important', 'government', 'activity', 'rest', 'committee', 'activity', 'federal', 'agency', 'relationship', 'homeland', 'security', 'activity', 'department', 'homeland', 'security', 'impinges', 'activities', 'agencies', 'appropriate', 'congressional', 'oversight', 'structure', 'take', 'account', 'basic', 'fact', 'structure', 'overly', 'centralized', 'homeland', 'security', 'oversight', 'harder', 'evaluate', 'department', 'homeland', 'security', 'context', 'activities', 'federal', 'government', 'overcentralized', 'structure', 'congressional', 'committee', 'captive', 'agency', 'oversees', 'easy', 'denigrate', 'arguments', 'single', 'centralized', 'select', 'committee', 'homeland', 'security', 'turf', 'fighting', 'reality', 'simply', 'intellectually', 'lazy', 'assume', 'centralized', 'structure', 'enable', 'congress', 'work', 'effectively', 'especially', 'ironic', 'washington', 'post', 'editorial', 'called', 'highly', 'centralized', 'structure', 'editorial', 'argued', 'centralized', 'committee', 'efficient', 'department', 'homeland', 'security', 'answer', 'questions', 'lot', 'different', 'committees', 'efficient', 'department', 'respond', 'questions', 'lot', 'different', 'news', 'outlets', 'presumably', 'post', 'argue', 'advantages', 'forcing', 'department', 'respond', 'reporters', 'variety', 'areas', 'expertise', 'variety', 'perspectives', 'post', 'certainly', 'want', 'news', 'outlet', 'in-house', 'publication', 'want', 'applaud', 'house', 'leadership', 'done', 'stand', 'strong', 'support', 'rules', 'package'], ['mr.', 'speaker', 'chairman', 'committee', 'standards', 'official', 'conduct', 'correct', 'says', 'ethics', 'reform', 'bipartisan', 'house', 'meaningful', 'bipartisan', 'ethics', 'process', 'changes', 'magnitude', 'thoughtful', 'careful', 'consideration', 'bipartisan', 'basis', 'effort', 'look', 'rules', 'changes', 'ethics', 'bipartisan', 'manner', 'co-chaired', 'committee', 'ethics', 'reform', 'livingston', 'changes', 'done', 'deliberation', 'democrats', 'republicans', 'working', 'came', 'house', 'changes', 'instituted', '45-day', 'rule', 'assigning', 'proper', 'complaint', 'investigation', 'changed', 'rules', 'clear', 'move', 'informal', 'investigation', 'finding', 'merits', 'inquiry', 'resolution', 'preliminary', 'inquiry', 'want', 'matter', 'guilt', 'wrongdoing', 'committee', 'able', 'facts', 'necessary', 'decide', 'formal', 'investigation', 'rules', 'change', 'allow', 'days', 'inaction', 'dismiss', 'complaint', 'inaction', 'action', 'done', 'partisan', 'basis', 'wrong', 'rules', 'currently', 'configured', 'order', 'move', 'complaint', 'past', 'committee', 'bipartisan', 'agreement', 'committee', 'vote', 'committee', 'guarantees', 'process', 'move', 'forward', 'bipartisan', 'manner', 'fact', 'committee', 'standards', 'official', 'conduct', 'operated', 'bipartisan', 'manner', 'rules', 'configured', 'rule', 'changed', 'making', 'committee', 'standards', 'official', 'conduct', 'partisan', 'matter', 'able', 'delay', 'days', 'take', 'lot', 'effort', 'figure', 'delay', 'days', 'lawyers', 'committee', 'standards', 'official', 'conduct', 'able', 'figure', 'done', 'partisan', 'basis', 'leave', 'cloud', 'member', 'cloud', 'institution', 'rule'], ['mr.', 'speaker', 'making', 'terrible', 'mistake', 'today', 'changing', 'rule', 'terms', 'provision', 'simply', 'require', 'action', '45-day', 'period', 'earlier', 'speaker', 'immediately', 'preceding', 'indicated', 'done', 'change', 'nonpartisan', 'committee', 'based', 'nonpartisan', 'process', 'provides', 'partisan', 'veto', 'action', 'behavior', 'individual', 'member', 'members', 'question', 'suggest', 'submit', 'institution', 'suffer', 'discussion', 'regarding', 'package', 'anticipated', 'additional', 'provisions', 'submitted', 'today', 'clear', 'risk', 'confidence', 'american', 'people', 'integrity', 'institution', 'perception', 'reality', 'american', 'people', 'understand', 'clearly', 'committee', 'standards', 'official', 'conduct', 'side', 'veto', 'undermine', 'confidence', 'people', 'ethical', 'process', 'question', 'proponents', 'wrong', 'current', 'rules', 'operated'], ['mr.', 'speaker', 'offer', 'privileged', 'resolution', 'h.', 'res', 'immediate', 'consideration'], ['mr.', 'speaker', 'purposes', 'debate', 'yield', 'customary', 'minutes', 'gentlewoman', 'california', 'ms.', 'pelosi', 'designee', 'pending', 'yield', 'time', 'consume', 'consideration', 'resolution', 'time', 'yielded', 'purpose', 'debate', 'mr.', 'speaker', 'rise', 'support', 'rules', 'package', 'rising', 'support', 'historic', 'legislative', 'agenda', 'govern', 'today', 'marks', 'historians', 'look', 'productive', 'significant', 'congress', 'decades', 'mandate', 'granted', 'majority', 'evidenced', 'increased', 'majorities', 'houses', 'congress', 'presidential', 'majority', 'years', 'clear', 'american', 'people', 'entrusted', 'state', 'security', 'prosperity', 'families', 'course', 'years', 'sacred', 'trust', 'honored', 'action', 'continue', 'defend', 'homeland', 'prosecute', 'war', 'terror', 'retreat', 'excuses', 'provide', 'military', 'families', 'resources', 'need', 'heroic', 'work', 'behalf', 'nation', 'serve', 'hold', 'rogue', 'regimes', 'accountable', 'mischief', 'hold', 'fast', 'friends', 'world', 'defiant', 'democrats', 'taiwan', 'longstanding', 'comrades-in-arms', 'british', 'australians', 'resurgent', 'allies', 'europe', 'work', 'ever-expanding', 'coalition', 'willing', 'secure', 'fledging', 'democracies', 'afghanistan', 'iraq', 'political', 'economic', 'diplomatic', 'military', 'tool', 'disposal', 'war', 'terror', 'victory', 'domestically', 'agenda', 'audacious', 'continue', 'work', 'begun', 'president', 'bush', 'term', 'cultivate', 'opportunity', 'society', 'economic', 'choice', 'independence', 'continue', 'break', 'walls', 'erected', 'years', 'liberal', 'policies', 'american', 'people', 'dreams', 'continue', 'provide', 'seniors', 'access', 'affordable', 'quality', 'health', 'care', 'empowering', 'unprecedented', 'retirement', 'security', 'continue', 'take', 'three-headed', 'monster', 'over-taxation', 'over-litigation', 'over-regulation', 'cuts', 'legs', 'sector', 'economy', '109th', 'congress', 'helps', 'increase', 'national', 'security', 'prosperity', 'help', 'american', 'families', 'raise', 'children', 'society', 'defined', 'values', 'nation', 'secure', 'prosperous', 'place', 'continue', 'protect', 'educate', 'children', 'protect', 'institution', 'marriage', 'protect', 'constitution', 'judicial', 'activism', 'protect', 'role', 'family', 'public', 'square', 'rules', 'package', 'help', 'important', 'work', 'work', 'american', 'people', 'hired', 'laying', 'positive', 'vision', 'years', 'matter', 'discussing', 'substance', 'rules', 'package', 'choose', 'debate', 'launch', 'imagine', 'countless', 'personal', 'attacks', 'integrity', 'majority', 'ultimately', 'integrity', 'institution', 'year', 'mr.', 'speaker', 'old', 'game', 'afford', 'stoop', 'stake', 'depends', 'success', 'historic', '109th', 'congress', 'friends', 'side', 'aisle', 'remind', 'means', 'minority', 'contentious', 'votes', 'certain', 'defeat', 'react', 'agenda', 'set', 'opponents', 'remind', 'republicans', 'minority', 'engaged', 'battle', 'ideas', 'developed', 'specifically', 'proposed', 'substantive', 'vision', 'future', 'nation', 'years', 'vision', 'endorsed', 'countrymen', 'honored', 'work', 'members', 'minority', 'issue', 'develop', 'successful', 'legislative', 'coalitions', 'close', 'partisan', 'margins', '24-hour', 'media', 'culture', 'forget', 'opponents', 'enemies', 'remember', 'especially', 'given', 'stakes', 'significance', 'frankly', 'sheer', 'weight', 'agenda', 'urge', 'members', 'support', 'rules', 'package', 'immediately', 'work', 'behalf', 'men', 'women', 'sent', 'mr.', 'speaker', 'honored', 'serve', 'leader', 'gratitude', 'feel', 'conference', 'body', 'source', 'honor', 'feel', 'today', 'chamber', 'source', 'honor', 'rightfully', 'feels', 'today', 'friends', 'families', 'given', 'american', 'people', 'given', 'trust', 'men', 'women', 'uniform', 'lives', 'day', 'heavenly', 'creator', 'knitted', 'womb', 'mr.', 'speaker', 'god', 'bless', 'work', 'workers', '109th', 'congress', 'god', 'bless', 'cause', 'justice', 'freedom', 'world', 'god', 'continue', 'bless', 'united', 'states', 'mr.', 'speaker', 'unanimous', 'consent', 'balance', 'time', 'allocated', 'controlled', 'gentleman', 'california', 'mr.', 'dreier']]\n"
          ]
        }
      ]
    },
    {
      "cell_type": "code",
      "source": [
        "dictionary = corpora.Dictionary(tokenized_passages)\n",
        "dictionary.filter_extremes(no_below=5, no_above=.5, keep_n=10000)\n",
        "corpus = [dictionary.doc2bow(text) for text in tokenized_passages]"
      ],
      "metadata": {
        "id": "Wl_apWRhdZQx"
      },
      "execution_count": 152,
      "outputs": []
    },
    {
      "cell_type": "code",
      "source": [
        "import gensim\n",
        "\n",
        "lda_model20 = gensim.models.ldamodel.LdaModel(\n",
        "    corpus=corpus,\n",
        "    id2word=dictionary,\n",
        "    num_topics=20,\n",
        "    passes=10,\n",
        "    alpha='auto'\n",
        ")\n",
        "\n",
        "lda_model10 = gensim.models.ldamodel.LdaModel(\n",
        "    corpus=corpus,\n",
        "    id2word=dictionary,\n",
        "    num_topics=10,\n",
        "    passes=10,\n",
        "    alpha='auto'\n",
        ")\n",
        "\n",
        "lda_model5 = gensim.models.ldamodel.LdaModel(\n",
        "    corpus=corpus,\n",
        "    id2word=dictionary,\n",
        "    num_topics=5,\n",
        "    passes=10,\n",
        "    alpha='auto'\n",
        ")"
      ],
      "metadata": {
        "id": "7TrAcHCtdubz"
      },
      "execution_count": 153,
      "outputs": []
    },
    {
      "cell_type": "code",
      "source": [
        "for i in range(20):\n",
        "    print(\"topic %s:\\t%s\" % (i, ' '.join([term for term, freq in lda_model20.show_topic(i, topn=10)])))\n",
        "print('\\n')\n",
        "for i in range(10):\n",
        "    print(\"topic %s:\\t%s\" % (i, ' '.join([term for term, freq in lda_model10.show_topic(i, topn=10)])))\n",
        "print('\\n')\n",
        "for i in range(5):\n",
        "    print(\"topic %s:\\t%s\" % (i, ' '.join([term for term, freq in lda_model5.show_topic(i, topn=10)])))"
      ],
      "metadata": {
        "colab": {
          "base_uri": "https://localhost:8080/"
        },
        "id": "Jk6i1g_Xd7S9",
        "outputId": "5d51ed2a-c71f-4911-a435-fe501eac98b6"
      },
      "execution_count": 155,
      "outputs": [
        {
          "output_type": "stream",
          "name": "stdout",
          "text": [
            "topic 0:\ttime gentleman people balance yield reserve want going chairman question\n",
            "topic 1:\tpension plans workers employees small plan benefits benefit employers h.r\n",
            "topic 2:\tpeople going want house american today congress time republican majority\n",
            "topic 3:\thealth care programs education people cuts americans cut children funding\n",
            "topic 4:\tbudget billion year security deficit funding spending cuts programs amt\n",
            "topic 5:\tgasoline refinery refineries capacity oil energy prices price country refining\n",
            "topic 6:\tbrac air base commission guard defense national military process recommendations\n",
            "topic 7:\tchairman gentleman thank time work committee vote want energy appreciate\n",
            "topic 8:\tcommittee commission house report resolution security recommendations gouging task force\n",
            "topic 9:\ttrade energy oil agreement gas states free companies u.s. united\n",
            "topic 10:\tlawsuits motion recommit house firearms rule vote legislation rules lawyers\n",
            "topic 11:\tsecurity states legislation h.r border federal law driver enforcement gang\n",
            "topic 12:\tgun law legislation support members industry police today time congress\n",
            "topic 13:\tiraq united iraqi troops war nations states u.n people u.s.\n",
            "topic 14:\tyear school law appropriations want week important district work university\n",
            "topic 15:\tstate federal class action court states rights laws actions law\n",
            "topic 16:\ttax people economy taxes relief cuts capital percent jobs gains\n",
            "topic 17:\tcase cases court law federal congress legislation decision judge judicial\n",
            "topic 18:\tchildren housing care need food important people things life obesity\n",
            "topic 19:\toceans ocean year country committee northwest different need time chairman\n",
            "\n",
            "\n",
            "topic 0:\tprograms health budget program funding education children care people housing\n",
            "topic 1:\tenergy oil gas price gasoline prices need today policy legislation\n",
            "topic 2:\tgentleman chairman time committee house want vote thank yield going\n",
            "topic 3:\tpension plans workers employees health small plan benefits benefit legislation\n",
            "topic 4:\tcommission security national chairman support air recommendations states department base\n",
            "topic 5:\ttrade agreement bahrain united free states world u.s. labor wto\n",
            "topic 6:\ttax budget people cuts deficit billion economy percent taxes year\n",
            "topic 7:\ttime u.n united schiavo nations chairman gang balance reserve life\n",
            "topic 8:\tfederal state legislation law court lawsuits h.r gun osha industry\n",
            "topic 9:\tpeople brac iraq going care need time congress today war\n",
            "\n",
            "\n",
            "topic 0:\tpension plans workers law security legislation h.r employees plan support\n",
            "topic 1:\thealth state people federal small care legislation court lawsuits time\n",
            "topic 2:\tenergy trade brac oil air agreement national support states gas\n",
            "topic 3:\ttax budget people cuts billion percent year cut deficit programs\n",
            "topic 4:\tgentleman time chairman committee people house want iraq going resolution\n"
          ]
        }
      ]
    },
    {
      "cell_type": "markdown",
      "metadata": {
        "id": "97Kr8s1C236o"
      },
      "source": [
        "Q2: Using the topic model with the number of topics that you selected, identify a couple of topics that are coherent. **In a paragraph, interpret these topics (i.e., by giving them a name / description). Support your answer with evidence from word and/or document distributions.**"
      ]
    },
    {
      "cell_type": "code",
      "execution_count": null,
      "metadata": {
        "id": "lY6a8hcw236o"
      },
      "outputs": [],
      "source": []
    },
    {
      "cell_type": "markdown",
      "metadata": {
        "id": "1Gvm3nxa236o"
      },
      "source": [
        "## Part 2: analysis\n",
        "\n",
        "Q3: Relate the topics to some aspect of the metadata. These don't have to be the same topics that you described in question 2. **Write a paragraph synthesizing your findings, and provide quantitative evidence.**"
      ]
    },
    {
      "cell_type": "code",
      "execution_count": null,
      "metadata": {
        "id": "gcRlSo4j236o"
      },
      "outputs": [],
      "source": []
    },
    {
      "cell_type": "markdown",
      "metadata": {
        "id": "SHkbbMbLbKR5"
      },
      "source": [
        "---\n",
        "\n",
        "## To submit\n",
        "\n",
        "Congratulations on finishing this homework!\n",
        "Please follow the instructions below to download the notebook file (`.ipynb`) and its printed version (`.pdf`) for submission on bCourses -- remember **all cells must be executed**.\n",
        "\n",
        "1.  Download a copy of the notebook file: `File > Download > Download .ipynb`.\n",
        "\n",
        "2.  Print the notebook as PDF (via your browser, or tools like [nbconvert](https://nbconvert.readthedocs.io/en/latest/))."
      ]
    }
  ],
  "metadata": {
    "colab": {
      "provenance": [],
      "include_colab_link": true
    },
    "kernelspec": {
      "display_name": "Python 3 (ipykernel)",
      "language": "python",
      "name": "python3"
    },
    "language_info": {
      "codemirror_mode": {
        "name": "ipython",
        "version": 3
      },
      "file_extension": ".py",
      "mimetype": "text/x-python",
      "name": "python",
      "nbconvert_exporter": "python",
      "pygments_lexer": "ipython3",
      "version": "3.11.13"
    }
  },
  "nbformat": 4,
  "nbformat_minor": 0
}