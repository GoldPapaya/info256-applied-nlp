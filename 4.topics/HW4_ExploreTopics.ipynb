{
  "cells": [
    {
      "cell_type": "markdown",
      "metadata": {
        "id": "view-in-github",
        "colab_type": "text"
      },
      "source": [
        "<a href=\"https://colab.research.google.com/github/GoldPapaya/info256-applied-nlp/blob/main/4.topics/HW4_ExploreTopics.ipynb\" target=\"_parent\"><img src=\"https://colab.research.google.com/assets/colab-badge.svg\" alt=\"Open In Colab\"/></a>"
      ]
    },
    {
      "cell_type": "markdown",
      "metadata": {
        "id": "H5FdE_BKEVVq"
      },
      "source": [
        "[![Open In Colab](https://colab.research.google.com/assets/colab-badge.svg)](https://colab.research.google.com/github/dbamman/anlp25/blob/main/4.topics/HW4_ExploreTopics.ipynb)\n",
        "\n",
        "**N.B.** Once it's open on Colab, remember to save a copy (by e.g. clicking `Copy to Drive` above).\n",
        "\n",
        "---"
      ]
    },
    {
      "cell_type": "markdown",
      "metadata": {
        "id": "JzmdE4_yHpHG"
      },
      "source": [
        "# HW4: Exploring topics\n",
        "In this homework, you have an open-ended task: tell us something **interesting** about a collection of text data using topic modeling. You can choose between the following datasets:"
      ]
    },
    {
      "cell_type": "markdown",
      "metadata": {
        "id": "7PU0NSxn-bZR"
      },
      "source": [
        "In `acl.all.tsv` you'll find 7,188 papers published at major NLP venues (ACL, EMNLP, NAACL, TACL, etc.) between 2013 and 2020.  Here is a sample of that data:\n",
        "\n",
        "|id|year of publication|title|abstract|\n",
        "|---|---|---|---|\n",
        "|pimentel-etal-2020-phonotactic|2020|Phonotactic Complexity and Its Trade-offs|We present methods for calculating a measure of phonotactic complexity ...|\n",
        "|wang-etal-2020-amr|2020|AMR-To-Text Generation with Graph Transformer|Abstract meaning representation (AMR)-to-text generation is the challenging task  ...|\n"
      ]
    },
    {
      "cell_type": "code",
      "execution_count": null,
      "metadata": {
        "id": "I75gEBBz-4AR"
      },
      "outputs": [],
      "source": [
        "!wget https://raw.githubusercontent.com/dbamman/anlp25/refs/heads/main/data/acl.all.tsv"
      ]
    },
    {
      "cell_type": "markdown",
      "metadata": {
        "id": "Abup6G02FAXU"
      },
      "source": [
        "In `gutenberg.genre.tsv` you'll find 1,250 passages of English-language fiction from Project Gutenberg, categorized by genre (adventure, detective, love stories, science fiction, westerns).  Here's a sample:\n",
        "\n",
        "|id|genre|author|passage|\n",
        "|---|---|---|---|\n",
        "|66390_1796\t|love stories\t|Prime-Stevenson, Edward\t|Only a few days absence. I shall think of you. Imre. P. S. Please write me.\" I was amused,  ...|\n",
        "|50157_2780\t|detective and mystery stories|\tWheeler, Janet D.\t|Edina shook her head. “They think I’ve lied to them. They think I’ve cheated them. They want their money, and you can’t rightly blame them...|\n"
      ]
    },
    {
      "cell_type": "code",
      "execution_count": null,
      "metadata": {
        "id": "S8oqE9GqFR5N"
      },
      "outputs": [],
      "source": [
        "!wget https://raw.githubusercontent.com/dbamman/anlp25/refs/heads/main/data/gutenberg.genre.tsv"
      ]
    },
    {
      "cell_type": "markdown",
      "metadata": {
        "id": "MVjaykL2I_50"
      },
      "source": [
        "In `convote.train.tsv`, you'll find 2,723 dialogue turns from the Convote dataset on congressional speeches, paired with the party affiliation of the speaker (Democrat/Republican). Here's a sample:\n",
        "\n",
        "|party|passage|\n",
        "|---|---|\n",
        "|R\t|mr. speaker , i claim the time in opposition to the motion to recommit .|\n",
        "|D\t|mr. speaker , on that i demand the yeas and nays .|"
      ]
    },
    {
      "cell_type": "code",
      "execution_count": 1,
      "metadata": {
        "id": "86UzkCXtLBF8",
        "colab": {
          "base_uri": "https://localhost:8080/"
        },
        "outputId": "4d941601-08fb-4dea-8ba0-3abdccfcdf78"
      },
      "outputs": [
        {
          "output_type": "stream",
          "name": "stdout",
          "text": [
            "--2025-09-20 22:42:34--  https://raw.githubusercontent.com/dbamman/anlp25/refs/heads/main/data/convote.train.tsv\n",
            "Resolving raw.githubusercontent.com (raw.githubusercontent.com)... 185.199.108.133, 185.199.109.133, 185.199.110.133, ...\n",
            "Connecting to raw.githubusercontent.com (raw.githubusercontent.com)|185.199.108.133|:443... connected.\n",
            "HTTP request sent, awaiting response... 200 OK\n",
            "Length: 4660140 (4.4M) [text/plain]\n",
            "Saving to: ‘convote.train.tsv’\n",
            "\n",
            "\rconvote.train.tsv     0%[                    ]       0  --.-KB/s               \rconvote.train.tsv   100%[===================>]   4.44M  --.-KB/s    in 0.02s   \n",
            "\n",
            "2025-09-20 22:42:34 (227 MB/s) - ‘convote.train.tsv’ saved [4660140/4660140]\n",
            "\n"
          ]
        }
      ],
      "source": [
        "!wget https://raw.githubusercontent.com/dbamman/anlp25/refs/heads/main/data/convote.train.tsv"
      ]
    },
    {
      "cell_type": "markdown",
      "metadata": {
        "id": "7NqJX9w1H1cp"
      },
      "source": [
        "Choose one of these datasets and use topic modeling as exploratory data analysis to find some interesting structure in that data.  There are only two constraints:\n",
        "\n",
        "* You must use topic modeling to find topics in the data\n",
        "* You must relate those **topics** to some aspect of the metadata. Examples of this could be: charting the rise and fall of **topics** over time (i.e., with year of publication as metadata) or associating **topics** with genre to find which topics are more aligned one one genre over another (perhaps using some of the measures of association we talked about earlier this semester)."
      ]
    },
    {
      "cell_type": "markdown",
      "metadata": {
        "id": "OHp0qGRvIc24"
      },
      "source": [
        "## Part 1: topic modeling\n",
        "\n",
        "Q1: Try creating several topic models with different parameters for the _number_ of topics. Compare the outputs, and decide what number of topics is most reasonable for your dataset. **In a couple of sentences, justify your selection.**"
      ]
    },
    {
      "cell_type": "code",
      "source": [
        "# The next few cells of code is copied from TopicModel.ipynb for stopword filtering\n",
        "\n",
        "!pip install gensim"
      ],
      "metadata": {
        "colab": {
          "base_uri": "https://localhost:8080/"
        },
        "id": "DZLTiQiC283Z",
        "outputId": "6ccea155-7a15-42a1-fdae-7ff9ce42af34"
      },
      "execution_count": 1,
      "outputs": [
        {
          "output_type": "stream",
          "name": "stdout",
          "text": [
            "Requirement already satisfied: gensim in /usr/local/lib/python3.12/dist-packages (4.3.3)\n",
            "Requirement already satisfied: numpy<2.0,>=1.18.5 in /usr/local/lib/python3.12/dist-packages (from gensim) (1.26.4)\n",
            "Requirement already satisfied: scipy<1.14.0,>=1.7.0 in /usr/local/lib/python3.12/dist-packages (from gensim) (1.13.1)\n",
            "Requirement already satisfied: smart-open>=1.8.1 in /usr/local/lib/python3.12/dist-packages (from gensim) (7.3.1)\n",
            "Requirement already satisfied: wrapt in /usr/local/lib/python3.12/dist-packages (from smart-open>=1.8.1->gensim) (1.17.3)\n"
          ]
        }
      ]
    },
    {
      "cell_type": "code",
      "source": [
        "import operator\n",
        "import re\n",
        "\n",
        "import nltk\n",
        "from gensim import corpora\n",
        "from tqdm import tqdm  # for progress bars\n",
        "\n",
        "nltk.download(\"stopwords\")\n",
        "nltk.download(\"punkt\")\n",
        "nltk.download(\"punkt_tab\")\n",
        "import random\n",
        "\n",
        "import numpy as np\n",
        "import pandas as pd\n",
        "from nltk.corpus import stopwords\n",
        "\n",
        "random.seed(1)"
      ],
      "metadata": {
        "id": "q36yk50s_e3e",
        "outputId": "13617dbf-3582-4d8f-b3e9-5d8b1186a88f",
        "colab": {
          "base_uri": "https://localhost:8080/"
        }
      },
      "execution_count": 2,
      "outputs": [
        {
          "output_type": "stream",
          "name": "stderr",
          "text": [
            "[nltk_data] Downloading package stopwords to /root/nltk_data...\n",
            "[nltk_data]   Unzipping corpora/stopwords.zip.\n",
            "[nltk_data] Downloading package punkt to /root/nltk_data...\n",
            "[nltk_data]   Unzipping tokenizers/punkt.zip.\n",
            "[nltk_data] Downloading package punkt_tab to /root/nltk_data...\n",
            "[nltk_data]   Unzipping tokenizers/punkt_tab.zip.\n"
          ]
        }
      ]
    },
    {
      "cell_type": "code",
      "source": [
        "!wget https://raw.githubusercontent.com/dbamman/anlp25/main/data/jockers.stopwords"
      ],
      "metadata": {
        "id": "SfiEwVYd_u4g",
        "outputId": "ca4c35b6-f35d-40cf-9884-5e0d377bb668",
        "colab": {
          "base_uri": "https://localhost:8080/"
        }
      },
      "execution_count": 3,
      "outputs": [
        {
          "output_type": "stream",
          "name": "stdout",
          "text": [
            "--2025-09-20 22:43:51--  https://raw.githubusercontent.com/dbamman/anlp25/main/data/jockers.stopwords\n",
            "Resolving raw.githubusercontent.com (raw.githubusercontent.com)... 185.199.109.133, 185.199.110.133, 185.199.108.133, ...\n",
            "Connecting to raw.githubusercontent.com (raw.githubusercontent.com)|185.199.109.133|:443... connected.\n",
            "HTTP request sent, awaiting response... 200 OK\n",
            "Length: 44453 (43K) [text/plain]\n",
            "Saving to: ‘jockers.stopwords’\n",
            "\n",
            "\rjockers.stopwords     0%[                    ]       0  --.-KB/s               \rjockers.stopwords   100%[===================>]  43.41K  --.-KB/s    in 0.002s  \n",
            "\n",
            "2025-09-20 22:43:51 (27.3 MB/s) - ‘jockers.stopwords’ saved [44453/44453]\n",
            "\n"
          ]
        }
      ]
    },
    {
      "cell_type": "code",
      "source": [
        "def read_stopwords(filename):\n",
        "    \"\"\"Reads a file of stopwords into a set.\"\"\"\n",
        "    stopwords = set([\n",
        "        line.rstrip() for line in open(filename)\n",
        "    ])\n",
        "    return stopwords"
      ],
      "metadata": {
        "id": "uAbuE26vBvbS"
      },
      "execution_count": 4,
      "outputs": []
    },
    {
      "cell_type": "code",
      "source": [
        "stop_words = set(stopwords.words('english'))\n",
        "stop_words = stop_words | read_stopwords(\"jockers.stopwords\")\n",
        "stop_words.add(\"'s\")\n",
        "stop_words=list(stop_words)"
      ],
      "metadata": {
        "id": "yngVkMp5ODws"
      },
      "execution_count": 5,
      "outputs": []
    },
    {
      "cell_type": "code",
      "source": [
        "pattern = re.compile(r\"[A-Za-z]\")\n",
        "def stopword_filter(word, stopwords):\n",
        "    \"\"\" Function to exclude words from a text.\"\"\"\n",
        "\n",
        "    # no stopwords\n",
        "    if word in stopwords:\n",
        "        return False\n",
        "\n",
        "    # has to contain at least one letter\n",
        "    if pattern.search(word) is not None:\n",
        "        return True\n",
        "\n",
        "    return False"
      ],
      "metadata": {
        "id": "veijOX2dB3SD"
      },
      "execution_count": 6,
      "outputs": []
    },
    {
      "cell_type": "code",
      "source": [
        "df = pd.read_csv('convote.train.tsv', sep='\\t', names=['party', 'passage'])\n",
        "df.head(10)"
      ],
      "metadata": {
        "colab": {
          "base_uri": "https://localhost:8080/",
          "height": 363
        },
        "id": "eEmk7lvQa1GE",
        "outputId": "08957f58-fe85-440d-b078-8fbbf32f87b0"
      },
      "execution_count": 7,
      "outputs": [
        {
          "output_type": "execute_result",
          "data": {
            "text/plain": [
              "  party                                            passage\n",
              "0     D  mr. speaker , i rise in opposition to the rule...\n",
              "1     D  mr. speaker , i rise for a constitutional poin...\n",
              "2     D  mr. speaker , the resolution we are preparing ...\n",
              "3     D  mr. speaker , consistent with the oath of offi...\n",
              "4     D  mr. speaker , on that i demand the yeas and na...\n",
              "5     R  mr. speaker , i rise in strong support of this...\n",
              "6     D  mr. speaker , the chairman of the committee on...\n",
              "7     D  mr. speaker , we are making a terrible mistake...\n",
              "8     R  mr. speaker , i offer a privileged resolution ...\n",
              "9     R  mr. speaker , for the purposes of debate only ..."
            ],
            "text/html": [
              "\n",
              "  <div id=\"df-c49f4883-208f-45d7-8956-2b11631d3a8c\" class=\"colab-df-container\">\n",
              "    <div>\n",
              "<style scoped>\n",
              "    .dataframe tbody tr th:only-of-type {\n",
              "        vertical-align: middle;\n",
              "    }\n",
              "\n",
              "    .dataframe tbody tr th {\n",
              "        vertical-align: top;\n",
              "    }\n",
              "\n",
              "    .dataframe thead th {\n",
              "        text-align: right;\n",
              "    }\n",
              "</style>\n",
              "<table border=\"1\" class=\"dataframe\">\n",
              "  <thead>\n",
              "    <tr style=\"text-align: right;\">\n",
              "      <th></th>\n",
              "      <th>party</th>\n",
              "      <th>passage</th>\n",
              "    </tr>\n",
              "  </thead>\n",
              "  <tbody>\n",
              "    <tr>\n",
              "      <th>0</th>\n",
              "      <td>D</td>\n",
              "      <td>mr. speaker , i rise in opposition to the rule...</td>\n",
              "    </tr>\n",
              "    <tr>\n",
              "      <th>1</th>\n",
              "      <td>D</td>\n",
              "      <td>mr. speaker , i rise for a constitutional poin...</td>\n",
              "    </tr>\n",
              "    <tr>\n",
              "      <th>2</th>\n",
              "      <td>D</td>\n",
              "      <td>mr. speaker , the resolution we are preparing ...</td>\n",
              "    </tr>\n",
              "    <tr>\n",
              "      <th>3</th>\n",
              "      <td>D</td>\n",
              "      <td>mr. speaker , consistent with the oath of offi...</td>\n",
              "    </tr>\n",
              "    <tr>\n",
              "      <th>4</th>\n",
              "      <td>D</td>\n",
              "      <td>mr. speaker , on that i demand the yeas and na...</td>\n",
              "    </tr>\n",
              "    <tr>\n",
              "      <th>5</th>\n",
              "      <td>R</td>\n",
              "      <td>mr. speaker , i rise in strong support of this...</td>\n",
              "    </tr>\n",
              "    <tr>\n",
              "      <th>6</th>\n",
              "      <td>D</td>\n",
              "      <td>mr. speaker , the chairman of the committee on...</td>\n",
              "    </tr>\n",
              "    <tr>\n",
              "      <th>7</th>\n",
              "      <td>D</td>\n",
              "      <td>mr. speaker , we are making a terrible mistake...</td>\n",
              "    </tr>\n",
              "    <tr>\n",
              "      <th>8</th>\n",
              "      <td>R</td>\n",
              "      <td>mr. speaker , i offer a privileged resolution ...</td>\n",
              "    </tr>\n",
              "    <tr>\n",
              "      <th>9</th>\n",
              "      <td>R</td>\n",
              "      <td>mr. speaker , for the purposes of debate only ...</td>\n",
              "    </tr>\n",
              "  </tbody>\n",
              "</table>\n",
              "</div>\n",
              "    <div class=\"colab-df-buttons\">\n",
              "\n",
              "  <div class=\"colab-df-container\">\n",
              "    <button class=\"colab-df-convert\" onclick=\"convertToInteractive('df-c49f4883-208f-45d7-8956-2b11631d3a8c')\"\n",
              "            title=\"Convert this dataframe to an interactive table.\"\n",
              "            style=\"display:none;\">\n",
              "\n",
              "  <svg xmlns=\"http://www.w3.org/2000/svg\" height=\"24px\" viewBox=\"0 -960 960 960\">\n",
              "    <path d=\"M120-120v-720h720v720H120Zm60-500h600v-160H180v160Zm220 220h160v-160H400v160Zm0 220h160v-160H400v160ZM180-400h160v-160H180v160Zm440 0h160v-160H620v160ZM180-180h160v-160H180v160Zm440 0h160v-160H620v160Z\"/>\n",
              "  </svg>\n",
              "    </button>\n",
              "\n",
              "  <style>\n",
              "    .colab-df-container {\n",
              "      display:flex;\n",
              "      gap: 12px;\n",
              "    }\n",
              "\n",
              "    .colab-df-convert {\n",
              "      background-color: #E8F0FE;\n",
              "      border: none;\n",
              "      border-radius: 50%;\n",
              "      cursor: pointer;\n",
              "      display: none;\n",
              "      fill: #1967D2;\n",
              "      height: 32px;\n",
              "      padding: 0 0 0 0;\n",
              "      width: 32px;\n",
              "    }\n",
              "\n",
              "    .colab-df-convert:hover {\n",
              "      background-color: #E2EBFA;\n",
              "      box-shadow: 0px 1px 2px rgba(60, 64, 67, 0.3), 0px 1px 3px 1px rgba(60, 64, 67, 0.15);\n",
              "      fill: #174EA6;\n",
              "    }\n",
              "\n",
              "    .colab-df-buttons div {\n",
              "      margin-bottom: 4px;\n",
              "    }\n",
              "\n",
              "    [theme=dark] .colab-df-convert {\n",
              "      background-color: #3B4455;\n",
              "      fill: #D2E3FC;\n",
              "    }\n",
              "\n",
              "    [theme=dark] .colab-df-convert:hover {\n",
              "      background-color: #434B5C;\n",
              "      box-shadow: 0px 1px 3px 1px rgba(0, 0, 0, 0.15);\n",
              "      filter: drop-shadow(0px 1px 2px rgba(0, 0, 0, 0.3));\n",
              "      fill: #FFFFFF;\n",
              "    }\n",
              "  </style>\n",
              "\n",
              "    <script>\n",
              "      const buttonEl =\n",
              "        document.querySelector('#df-c49f4883-208f-45d7-8956-2b11631d3a8c button.colab-df-convert');\n",
              "      buttonEl.style.display =\n",
              "        google.colab.kernel.accessAllowed ? 'block' : 'none';\n",
              "\n",
              "      async function convertToInteractive(key) {\n",
              "        const element = document.querySelector('#df-c49f4883-208f-45d7-8956-2b11631d3a8c');\n",
              "        const dataTable =\n",
              "          await google.colab.kernel.invokeFunction('convertToInteractive',\n",
              "                                                    [key], {});\n",
              "        if (!dataTable) return;\n",
              "\n",
              "        const docLinkHtml = 'Like what you see? Visit the ' +\n",
              "          '<a target=\"_blank\" href=https://colab.research.google.com/notebooks/data_table.ipynb>data table notebook</a>'\n",
              "          + ' to learn more about interactive tables.';\n",
              "        element.innerHTML = '';\n",
              "        dataTable['output_type'] = 'display_data';\n",
              "        await google.colab.output.renderOutput(dataTable, element);\n",
              "        const docLink = document.createElement('div');\n",
              "        docLink.innerHTML = docLinkHtml;\n",
              "        element.appendChild(docLink);\n",
              "      }\n",
              "    </script>\n",
              "  </div>\n",
              "\n",
              "\n",
              "    <div id=\"df-51bd86d5-61d2-4eca-a5a0-46b3a0f2789c\">\n",
              "      <button class=\"colab-df-quickchart\" onclick=\"quickchart('df-51bd86d5-61d2-4eca-a5a0-46b3a0f2789c')\"\n",
              "                title=\"Suggest charts\"\n",
              "                style=\"display:none;\">\n",
              "\n",
              "<svg xmlns=\"http://www.w3.org/2000/svg\" height=\"24px\"viewBox=\"0 0 24 24\"\n",
              "     width=\"24px\">\n",
              "    <g>\n",
              "        <path d=\"M19 3H5c-1.1 0-2 .9-2 2v14c0 1.1.9 2 2 2h14c1.1 0 2-.9 2-2V5c0-1.1-.9-2-2-2zM9 17H7v-7h2v7zm4 0h-2V7h2v10zm4 0h-2v-4h2v4z\"/>\n",
              "    </g>\n",
              "</svg>\n",
              "      </button>\n",
              "\n",
              "<style>\n",
              "  .colab-df-quickchart {\n",
              "      --bg-color: #E8F0FE;\n",
              "      --fill-color: #1967D2;\n",
              "      --hover-bg-color: #E2EBFA;\n",
              "      --hover-fill-color: #174EA6;\n",
              "      --disabled-fill-color: #AAA;\n",
              "      --disabled-bg-color: #DDD;\n",
              "  }\n",
              "\n",
              "  [theme=dark] .colab-df-quickchart {\n",
              "      --bg-color: #3B4455;\n",
              "      --fill-color: #D2E3FC;\n",
              "      --hover-bg-color: #434B5C;\n",
              "      --hover-fill-color: #FFFFFF;\n",
              "      --disabled-bg-color: #3B4455;\n",
              "      --disabled-fill-color: #666;\n",
              "  }\n",
              "\n",
              "  .colab-df-quickchart {\n",
              "    background-color: var(--bg-color);\n",
              "    border: none;\n",
              "    border-radius: 50%;\n",
              "    cursor: pointer;\n",
              "    display: none;\n",
              "    fill: var(--fill-color);\n",
              "    height: 32px;\n",
              "    padding: 0;\n",
              "    width: 32px;\n",
              "  }\n",
              "\n",
              "  .colab-df-quickchart:hover {\n",
              "    background-color: var(--hover-bg-color);\n",
              "    box-shadow: 0 1px 2px rgba(60, 64, 67, 0.3), 0 1px 3px 1px rgba(60, 64, 67, 0.15);\n",
              "    fill: var(--button-hover-fill-color);\n",
              "  }\n",
              "\n",
              "  .colab-df-quickchart-complete:disabled,\n",
              "  .colab-df-quickchart-complete:disabled:hover {\n",
              "    background-color: var(--disabled-bg-color);\n",
              "    fill: var(--disabled-fill-color);\n",
              "    box-shadow: none;\n",
              "  }\n",
              "\n",
              "  .colab-df-spinner {\n",
              "    border: 2px solid var(--fill-color);\n",
              "    border-color: transparent;\n",
              "    border-bottom-color: var(--fill-color);\n",
              "    animation:\n",
              "      spin 1s steps(1) infinite;\n",
              "  }\n",
              "\n",
              "  @keyframes spin {\n",
              "    0% {\n",
              "      border-color: transparent;\n",
              "      border-bottom-color: var(--fill-color);\n",
              "      border-left-color: var(--fill-color);\n",
              "    }\n",
              "    20% {\n",
              "      border-color: transparent;\n",
              "      border-left-color: var(--fill-color);\n",
              "      border-top-color: var(--fill-color);\n",
              "    }\n",
              "    30% {\n",
              "      border-color: transparent;\n",
              "      border-left-color: var(--fill-color);\n",
              "      border-top-color: var(--fill-color);\n",
              "      border-right-color: var(--fill-color);\n",
              "    }\n",
              "    40% {\n",
              "      border-color: transparent;\n",
              "      border-right-color: var(--fill-color);\n",
              "      border-top-color: var(--fill-color);\n",
              "    }\n",
              "    60% {\n",
              "      border-color: transparent;\n",
              "      border-right-color: var(--fill-color);\n",
              "    }\n",
              "    80% {\n",
              "      border-color: transparent;\n",
              "      border-right-color: var(--fill-color);\n",
              "      border-bottom-color: var(--fill-color);\n",
              "    }\n",
              "    90% {\n",
              "      border-color: transparent;\n",
              "      border-bottom-color: var(--fill-color);\n",
              "    }\n",
              "  }\n",
              "</style>\n",
              "\n",
              "      <script>\n",
              "        async function quickchart(key) {\n",
              "          const quickchartButtonEl =\n",
              "            document.querySelector('#' + key + ' button');\n",
              "          quickchartButtonEl.disabled = true;  // To prevent multiple clicks.\n",
              "          quickchartButtonEl.classList.add('colab-df-spinner');\n",
              "          try {\n",
              "            const charts = await google.colab.kernel.invokeFunction(\n",
              "                'suggestCharts', [key], {});\n",
              "          } catch (error) {\n",
              "            console.error('Error during call to suggestCharts:', error);\n",
              "          }\n",
              "          quickchartButtonEl.classList.remove('colab-df-spinner');\n",
              "          quickchartButtonEl.classList.add('colab-df-quickchart-complete');\n",
              "        }\n",
              "        (() => {\n",
              "          let quickchartButtonEl =\n",
              "            document.querySelector('#df-51bd86d5-61d2-4eca-a5a0-46b3a0f2789c button');\n",
              "          quickchartButtonEl.style.display =\n",
              "            google.colab.kernel.accessAllowed ? 'block' : 'none';\n",
              "        })();\n",
              "      </script>\n",
              "    </div>\n",
              "\n",
              "    </div>\n",
              "  </div>\n"
            ],
            "application/vnd.google.colaboratory.intrinsic+json": {
              "type": "dataframe",
              "variable_name": "df",
              "summary": "{\n  \"name\": \"df\",\n  \"rows\": 2723,\n  \"fields\": [\n    {\n      \"column\": \"party\",\n      \"properties\": {\n        \"dtype\": \"category\",\n        \"num_unique_values\": 2,\n        \"samples\": [\n          \"R\",\n          \"D\"\n        ],\n        \"semantic_type\": \"\",\n        \"description\": \"\"\n      }\n    },\n    {\n      \"column\": \"passage\",\n      \"properties\": {\n        \"dtype\": \"string\",\n        \"num_unique_values\": 2443,\n        \"samples\": [\n          \"mr. speaker , i make a point of order against the motion because it violates clause 9 of rule xxii by proposing to direct the conferees to exceed the scope of matters committed to the conference .  and i ask for a ruling from the chair .  \",\n          \"mr. speaker , i claim the time in opposition to the motion to recommit .  \"\n        ],\n        \"semantic_type\": \"\",\n        \"description\": \"\"\n      }\n    }\n  ]\n}"
            }
          },
          "metadata": {},
          "execution_count": 7
        }
      ]
    },
    {
      "cell_type": "code",
      "source": [
        "from nltk import word_tokenize\n",
        "\n",
        "def preprocess(text, stop_words):\n",
        "    tokens = word_tokenize(text.lower())\n",
        "    tokens = [word for word in tokens if stopword_filter(word, stop_words)]\n",
        "    return tokens\n",
        "\n",
        "tokenized_passages = [preprocess(passage, stop_words) for passage in df['passage']]"
      ],
      "metadata": {
        "id": "M9lvxBrRcat1"
      },
      "execution_count": 8,
      "outputs": []
    },
    {
      "cell_type": "code",
      "source": [
        "dictionary = corpora.Dictionary(tokenized_passages)\n",
        "dictionary.filter_extremes(no_below=5, no_above=.5, keep_n=10000)\n",
        "corpus = [dictionary.doc2bow(text) for text in tokenized_passages]"
      ],
      "metadata": {
        "id": "Wl_apWRhdZQx"
      },
      "execution_count": 9,
      "outputs": []
    },
    {
      "cell_type": "code",
      "source": [
        "import gensim\n",
        "\n",
        "lda_model20 = gensim.models.ldamodel.LdaModel(\n",
        "    corpus=corpus,\n",
        "    id2word=dictionary,\n",
        "    num_topics=20,\n",
        "    passes=10,\n",
        "    alpha='auto'\n",
        ")\n",
        "\n",
        "lda_model10 = gensim.models.ldamodel.LdaModel(\n",
        "    corpus=corpus,\n",
        "    id2word=dictionary,\n",
        "    num_topics=10,\n",
        "    passes=10,\n",
        "    alpha='auto'\n",
        ")\n",
        "\n",
        "lda_model5 = gensim.models.ldamodel.LdaModel(\n",
        "    corpus=corpus,\n",
        "    id2word=dictionary,\n",
        "    num_topics=5,\n",
        "    passes=10,\n",
        "    alpha='auto'\n",
        ")"
      ],
      "metadata": {
        "id": "7TrAcHCtdubz"
      },
      "execution_count": 10,
      "outputs": []
    },
    {
      "cell_type": "code",
      "source": [
        "for i in range(20):\n",
        "    print(\"topic %s:\\t%s\" % (i, ' '.join([term for term, freq in lda_model20.show_topic(i, topn=10)])))\n",
        "print('\\n')\n",
        "for i in range(10):\n",
        "    print(\"topic %s:\\t%s\" % (i, ' '.join([term for term, freq in lda_model10.show_topic(i, topn=10)])))\n",
        "print('\\n')\n",
        "for i in range(5):\n",
        "    print(\"topic %s:\\t%s\" % (i, ' '.join([term for term, freq in lda_model5.show_topic(i, topn=10)])))"
      ],
      "metadata": {
        "colab": {
          "base_uri": "https://localhost:8080/"
        },
        "id": "Jk6i1g_Xd7S9",
        "outputId": "1a5a164c-b903-4096-f7f2-b4eb8baf6f93"
      },
      "execution_count": 11,
      "outputs": [
        {
          "output_type": "stream",
          "name": "stdout",
          "text": [
            "topic 0:\tmoney going things gentleman sure people cost need care save\n",
            "topic 1:\tcourt federal state class law case cases action courts legislation\n",
            "topic 2:\ttax cuts budget billion deficit cut year republican percent today\n",
            "topic 3:\tcare time children balance life reserve schiavo medical family health\n",
            "topic 4:\tfunding programs budget program education health housing year funds billion\n",
            "topic 5:\tpension plans health workers employees plan benefits small benefit employers\n",
            "topic 6:\tenergy gouging legislation price federal fuel gas state policy h.r\n",
            "topic 7:\ttrade iraq united agreement states u.s. support world free war\n",
            "topic 8:\toil energy gas prices percent gasoline price need companies capacity\n",
            "topic 9:\tsecurity years today support gang united colleagues social nation people\n",
            "topic 10:\tbrac commission air base guard defense process national military recommendations\n",
            "topic 11:\tstates security border driver immigration licenses real asylum terrorists provisions\n",
            "topic 12:\tgentleman chairman time committee house yield thank work resolution members\n",
            "topic 13:\tgun motion police industry recommit opposition chief legislation victims law\n",
            "topic 14:\tcommittee process chairman time vote today want people years need\n",
            "topic 15:\tfood report commission congress force ocean task legislation oceans recommendations\n",
            "topic 16:\tpeople going want vote gentleman american right country give majority\n",
            "topic 17:\tcommittee security jurisdiction homeland amp department res response secretary h.\n",
            "topic 18:\tosha safety law enforcement justice h.r children federal legislation crime\n",
            "topic 19:\ttax jobs economy small relief businesses capital business percent increase\n",
            "\n",
            "\n",
            "topic 0:\tpeople going iraq gentleman time want need care right president\n",
            "topic 1:\ttrade agreement united states bahrain free u.s. world labor laws\n",
            "topic 2:\ttax budget economy deficit percent people billion cuts substitute taxes\n",
            "topic 3:\ttime chairman gentleman vote law yield thank airlines members balance\n",
            "topic 4:\tcommittee house chairman work year want report resolution important funding\n",
            "topic 5:\tenergy oil gas price gasoline prices companies refinery capacity percent\n",
            "topic 6:\tbrac commission air national base chairman security defense guard process\n",
            "topic 7:\tfederal state legislation court lawsuits congress cases people class action\n",
            "topic 8:\tpension plans workers health small employees plan benefits benefit employers\n",
            "topic 9:\tprograms people cuts health tax cut billion budget care education\n",
            "\n",
            "\n",
            "topic 0:\ttrade agreement states law federal united state bahrain court legislation\n",
            "topic 1:\tcommission brac chairman time air security national states base process\n",
            "topic 2:\tcommittee gentleman budget chairman time house people iraq resolution want\n",
            "topic 3:\tpension health plans workers people care small employees legislation going\n",
            "topic 4:\ttax energy people percent cuts oil billion americans american economy\n"
          ]
        }
      ]
    },
    {
      "cell_type": "markdown",
      "metadata": {
        "id": "97Kr8s1C236o"
      },
      "source": [
        "Q2: Using the topic model with the number of topics that you selected, identify a couple of topics that are coherent. **In a paragraph, interpret these topics (i.e., by giving them a name / description). Support your answer with evidence from word and/or document distributions.**"
      ]
    },
    {
      "cell_type": "markdown",
      "source": [
        "I chose the LDA topic model with 10 topics, as the 20 topic model seemed too fragmented, and the 5 topic model seemed too broad. Topic 2 (see above) seems to include terms like \"tax\", \"budget\", \"economy\", \"deficit,\" and more, which would point to a category that covers economy and taxation. The high frequency of these terms in the word distribution (taxes even mentioned twice, for example) is solid evidence that this topic is strongly themed around these terms. Note that topic 9 also includes the term \"tax\", but if you look at the context of the topic word distribution, there seems a clear theme of healthcare, education, and programs. It is therefore within expectation to find terms like \"tax\" or \"budget\" grouped in here."
      ],
      "metadata": {
        "id": "3p2XhrXra9-g"
      }
    },
    {
      "cell_type": "markdown",
      "metadata": {
        "id": "1Gvm3nxa236o"
      },
      "source": [
        "## Part 2: analysis\n",
        "\n",
        "Q3: Relate the topics to some aspect of the metadata. These don't have to be the same topics that you described in question 2. **Write a paragraph synthesizing your findings, and provide quantitative evidence.**"
      ]
    },
    {
      "cell_type": "code",
      "execution_count": 14,
      "metadata": {
        "id": "gcRlSo4j236o",
        "colab": {
          "base_uri": "https://localhost:8080/"
        },
        "outputId": "cc5d4abf-00b3-4794-9386-8b0f9bac8aa9"
      },
      "outputs": [
        {
          "output_type": "stream",
          "name": "stdout",
          "text": [
            "\n",
            "Topic 0: people going iraq gentleman time want need care right president\n",
            "  R Avg Probability: 0.1447\n",
            "  D Avg Probability: 0.1499\n",
            "\n",
            "Topic 1: trade agreement united states bahrain free u.s. world labor laws\n",
            "  R Avg Probability: 0.0605\n",
            "  D Avg Probability: 0.0696\n",
            "\n",
            "Topic 2: tax budget economy deficit percent people billion cuts substitute taxes\n",
            "  R Avg Probability: 0.0703\n",
            "  D Avg Probability: 0.0661\n",
            "\n",
            "Topic 3: time chairman gentleman vote law yield thank airlines members balance\n",
            "  R Avg Probability: 0.2794\n",
            "  D Avg Probability: 0.2556\n",
            "\n",
            "Topic 4: committee house chairman work year want report resolution important funding\n",
            "  R Avg Probability: 0.1479\n",
            "  D Avg Probability: 0.1052\n",
            "\n",
            "Topic 5: energy oil gas price gasoline prices companies refinery capacity percent\n",
            "  R Avg Probability: 0.0574\n",
            "  D Avg Probability: 0.0595\n",
            "\n",
            "Topic 6: brac commission air national base chairman security defense guard process\n",
            "  R Avg Probability: 0.0637\n",
            "  D Avg Probability: 0.0537\n",
            "\n",
            "Topic 7: federal state legislation court lawsuits congress cases people class action\n",
            "  R Avg Probability: 0.0880\n",
            "  D Avg Probability: 0.0884\n",
            "\n",
            "Topic 8: pension plans workers health small employees plan benefits benefit employers\n",
            "  R Avg Probability: 0.0507\n",
            "  D Avg Probability: 0.0520\n",
            "\n",
            "Topic 9: programs people cuts health tax cut billion budget care education\n",
            "  R Avg Probability: 0.0373\n",
            "  D Avg Probability: 0.0999\n"
          ]
        }
      ],
      "source": [
        "topic_probs_r = np.zeros(10) # init list to store probabilities\n",
        "topic_probs_d = np.zeros(10) # same as above\n",
        "count_r = 0\n",
        "count_d = 0\n",
        "\n",
        "for doc_id in range(len(corpus)):\n",
        "    party = df.iloc[doc_id]['party']\n",
        "    doc_topics = lda_model10.get_document_topics(corpus[doc_id], minimum_probability=0)\n",
        "    probs = np.zeros(10)\n",
        "    for topic_num, prob in doc_topics:\n",
        "        probs[topic_num] = prob\n",
        "    if party == 'R':\n",
        "        topic_probs_r += probs\n",
        "        count_r += 1\n",
        "    elif party == 'D':\n",
        "        topic_probs_d += probs\n",
        "        count_d += 1\n",
        "\n",
        "# get the avg probabilities for all D and R metadata categories\n",
        "topic_probs_r = topic_probs_r / count_r\n",
        "topic_probs_d = topic_probs_d / count_d\n",
        "\n",
        "# print the results\n",
        "for i in range(10):\n",
        "    terms = ' '.join([term for term, _ in lda_model10.show_topic(i, topn=10)])\n",
        "    print(f\"\\nTopic {i}: {terms}\")\n",
        "    print(f\"  R Avg Probability: {topic_probs_r[i]:.4f}\")\n",
        "    print(f\"  D Avg Probability: {topic_probs_d[i]:.4f}\")"
      ]
    },
    {
      "cell_type": "markdown",
      "source": [],
      "metadata": {
        "id": "uaCnKtswZZCN"
      }
    },
    {
      "cell_type": "markdown",
      "metadata": {
        "id": "SHkbbMbLbKR5"
      },
      "source": [
        "---\n",
        "\n",
        "## To submit\n",
        "\n",
        "Congratulations on finishing this homework!\n",
        "Please follow the instructions below to download the notebook file (`.ipynb`) and its printed version (`.pdf`) for submission on bCourses -- remember **all cells must be executed**.\n",
        "\n",
        "1.  Download a copy of the notebook file: `File > Download > Download .ipynb`.\n",
        "\n",
        "2.  Print the notebook as PDF (via your browser, or tools like [nbconvert](https://nbconvert.readthedocs.io/en/latest/))."
      ]
    }
  ],
  "metadata": {
    "colab": {
      "provenance": [],
      "include_colab_link": true
    },
    "kernelspec": {
      "display_name": "Python 3 (ipykernel)",
      "language": "python",
      "name": "python3"
    },
    "language_info": {
      "codemirror_mode": {
        "name": "ipython",
        "version": 3
      },
      "file_extension": ".py",
      "mimetype": "text/x-python",
      "name": "python",
      "nbconvert_exporter": "python",
      "pygments_lexer": "ipython3",
      "version": "3.11.13"
    }
  },
  "nbformat": 4,
  "nbformat_minor": 0
}