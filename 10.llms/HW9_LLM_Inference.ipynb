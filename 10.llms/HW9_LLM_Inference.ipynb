{
  "cells": [
    {
      "cell_type": "markdown",
      "metadata": {
        "id": "view-in-github",
        "colab_type": "text"
      },
      "source": [
        "<a href=\"https://colab.research.google.com/github/GoldPapaya/info256-applied-nlp/blob/main/10.llms/HW9_LLM_Inference.ipynb\" target=\"_parent\"><img src=\"https://colab.research.google.com/assets/colab-badge.svg\" alt=\"Open In Colab\"/></a>"
      ]
    },
    {
      "cell_type": "markdown",
      "id": "33c29df4-b030-403d-bc6e-a40911bddb15",
      "metadata": {
        "id": "33c29df4-b030-403d-bc6e-a40911bddb15"
      },
      "source": [
        "[![Open In Colab](https://colab.research.google.com/assets/colab-badge.svg)](https://colab.research.google.com/github/dbamman/anlp25/blob/main/10.llms/HW9_LLM_Inference.ipynb)"
      ]
    },
    {
      "cell_type": "markdown",
      "id": "9efea054-c52a-4c71-8693-46ad38d235b0",
      "metadata": {
        "id": "9efea054-c52a-4c71-8693-46ad38d235b0"
      },
      "source": [
        "# HW9: LLM Inference\n",
        "\n",
        "In this homework, you will experiment with different ways of improving LLM classification performance."
      ]
    },
    {
      "cell_type": "code",
      "execution_count": 1,
      "id": "0cf69bb7-561b-4946-a446-86d6e7381379",
      "metadata": {
        "id": "0cf69bb7-561b-4946-a446-86d6e7381379"
      },
      "outputs": [],
      "source": [
        "import torch\n",
        "\n",
        "from tqdm import tqdm\n",
        "from transformers import AutoModelForCausalLM, AutoTokenizer"
      ]
    },
    {
      "cell_type": "code",
      "execution_count": 2,
      "id": "53f94f6d-16a0-49fe-9c5a-755c22fccb66",
      "metadata": {
        "colab": {
          "base_uri": "https://localhost:8080/",
          "height": 507,
          "referenced_widgets": [
            "7dd736ca7cd0421bb42e2c905a24a649",
            "0adf16baf1c042c29a66d4ad6b21ab76",
            "4a4db78796e940208457fa07a0c3fe41",
            "53595633ba324874b580089e461837b5",
            "ae928fa510694a458ecec783ec107c30",
            "855fb5c44fd745ca979ff3f3e121f16b",
            "3b02d6c1708b466b9a25488713310118",
            "bf90c5a922fa4d659bea66d3fb5be78b",
            "675db87609ec4c83bfb450237668090b",
            "46f702966ee14302be5cdab67e45af9a",
            "bb17efdcf1364129ae5fdff34d9ff76e",
            "ff324433c15144388049c8f2e493b6db",
            "f21ed8b26abe44a6a078319f0c0ab19d",
            "a8e5203b22f04f7ca103f008711b1233",
            "a99d01e87e9045aea69722c30279e4b8",
            "708082ee2c1a407caae7563ea07ae56c",
            "57be04628d484cd79ca922593bbc24b9",
            "6a510df5598547968c52c633ad16fbf6",
            "b3ddb9bf9a9e409aab19b9e8985359da",
            "6d9da47e5e4340788f690dbb80d4162d",
            "9e30df7a08884f60828f5e446f2cb657",
            "dabb06237aa74de1978113832a951580",
            "1f5caa037d174530af5651df52fa2bc1",
            "050f93d4f5a44c40983399d2d536c39f",
            "210cb1bb6dcf4e52b86efb766b86d883",
            "ae9f597ebd3340cfa3d1ed11753bbd26",
            "b394c2bce76443a180a1dd40570669ea",
            "0178b9554f0047188fb45ab7f9a4b4fa",
            "8741c25826b44c57b48b6b9511b3fcb0",
            "1a90d31704364ffab893ee4ecc813a74",
            "20eaa36527dd44c69dc5aa2cbe24cb5b",
            "bd429a56b8764de2a9816cc0301af797",
            "26282d29f95d4dc79f678ccee2572c3d",
            "9ec635bad0e74137b3fd4e80a21b3fb2",
            "28f7cb69795e4788918cb0ade14d4d0c",
            "42daa3f9a6664ad981958949c15d0e87",
            "77b23053796c407084e1d079cea420ad",
            "374e854fe9c64395928ffa99b85cefa3",
            "16bed1c1be0a4dd883ad131e370d513f",
            "65b113042f244e9b8b5692849ab3d1fa",
            "6d28190e528d453ca8059cda45c376a2",
            "dca185f338114808a6d572db2557e4c0",
            "f621133be06c4783aeca7e5ee71fb383",
            "1af38d0e233a468dbf0a724e80ca04f4",
            "60876c5d8f8e4221beaf642ca165b6a1",
            "322a4b51112c425fba4f8b289de7736e",
            "4e41879d2c5e4e4cb53d1ff828da9dd5",
            "2459834d2db34a6087f82ce1e7fe7e4d",
            "d3142d87827b4f9c8f78d393ea4d1dbb",
            "d80876d9bfcd4ed7a5f98ccdba81b582",
            "e9114c21037749df8174ce4dff84620f",
            "5e187bb19541415495761a3c9b98bdff",
            "f8c07317821e4746a75d0b9504b226a4",
            "6779ab002c0d4765b4ef92779f84dfeb",
            "e362eaa561924a6482fa82edf1c5b154",
            "6921ba43c0784e14be3bbad7530ce386",
            "4bab4b47d60b46e5b6a5249ee70e0581",
            "8b5ef778468641b98e26e3dc6b5fad15",
            "e2d4e7554ab0481e889728f09ca69a9e",
            "40b0ef13bbae4debb994a7066c909045",
            "778374911e01445a85115b404999a109",
            "2e312579686a44d6b64fcb6abae35051",
            "d8aa6d028a03422487743027273f1b2d",
            "2b948c6b62554c72b55243c37e2068a6",
            "65e94afe76954f9ba1228c05b4271ad1",
            "85ea31acf6f045de899609102a7c84f7",
            "fcd8835d1ff4480699b0e4ac48bbe41b",
            "e672802f4a4646319333d6bd97b2346a",
            "f484842af4664346ba52b11f74125dbe",
            "3ed324e45e234dd8a74571130e7c8d39",
            "a7a09e3d17fe425b9d4e4e315a487e53",
            "0b1b7957ec654e23bf500f828c32ecac",
            "7f7618e84dd34c028a1b32fa877fc7a1",
            "d6436414938e47a0970fc8b863895744",
            "b8e5412f64ff42b2a78ddacd7c1300a3",
            "7c1dfb6e0e774357b2e8b502099455e9",
            "d19e8d7407324ccfbc6fdacb26227ca8",
            "aeaf2a41ec5b44c9b7979c52463b5ba4",
            "eec6c8b399324cbe851df2332e0b38b0",
            "27a6f82660684e7bb3473a3427d9ea9b",
            "ea1e3904af92470c9f1ebbecbacaa44c",
            "8a8800ccbab24fcf8ea732f090bba1b6",
            "32f0c1d4418342fd9874453fc48235a2",
            "369bf29670c6453d968f0d25c6a69dd5",
            "836d09a840014d70bc640974ca3b1351",
            "0bf70320c7344a139d73c53543d48788",
            "f73eda0a85d04a6a9e05e802182dc854",
            "993ce6ca8dd447b8b1a7234ddcba5375",
            "656ca883abab4ba497bc2d09c3ea8420",
            "9ae6db135d3a4d6b9cec4a40d0f61b8c",
            "f9a08fe31d774f1686f20efa05fbfe9e",
            "8bdd0395f54142448e4c58ec51717c48",
            "8a56ea98838c4058a90646af07f5a114",
            "b30bfb17c3bb48fa893184ba98104fa0",
            "8d4630fb2d3f42578ecaa761e79d99de",
            "fed7baeddf0d413ea13a2d616848a568",
            "19b5ee08e4b64fc590b51fb99e769f01",
            "fdadc0c1660b46ae98a8996b14e9e1fa",
            "ddf3918a118a41cba288c41f57739fe1",
            "7e31106e62da4cc29f60fa680dded263",
            "ac13017ceb7f42cfb40f8531afb863e0",
            "371621b2706f429eae67e3d9af8b3f53",
            "0ad27a6423b0402d9fe43c28d94ecafb",
            "07c57de9748a4f3682114f72f01325bc",
            "00e8a89f306d47e7909f8efe6f219a9c",
            "2901505d9db64fcf8a0ace27f270d33d",
            "0f9e08b29fd3437099df718309aa7dab",
            "47bd317fa4af408fa8dfe7226d1e76a8",
            "c88eec31852642bbae19774c7d67cf80",
            "cf38df26dcaa45c18a3b8f1746c2fde5",
            "16a25ec6e30546e1ad9f7f345f9f73e4",
            "00a09eacef6e4f189e6f0b64af7b276f",
            "8286f85374a44f36b98d8ec8304556e2",
            "167192fe0d9b4b47906ee3b7c6248311",
            "0e8fa63177f6471496f971253fb6daf4",
            "6aaa723025924fc9b362cdcb09d97fd4",
            "fb7ad55172444edd9b9d939bed7759bb",
            "1697509c89af4f5c9c125f861b68d375",
            "5b2ff4b48bcc4afaa501222d197ac2c6",
            "aecfe7f25cc8443ea6a1756cfe8a1a47",
            "945534a068a447dd99d06426e2f8bc97",
            "bd6aa6d3bb724341a4487e1be9b26c77",
            "577ebd714cf848c9af3373c4c857f6a8",
            "0b861759e3e74231b3eb345ee68de653",
            "09eea309184b4e808c50f4a331a13605",
            "80cda20d8b704cfe8baa22bda843cfa0",
            "2b9e98697f744beaa556373c3ad7b5e9",
            "7a90ea10fcc648d5beb64c80d0ace859",
            "9b30f7688149469fa5e362ab2ebb05f6",
            "f1f915d1375543a5b686558b3b23172a",
            "5ef2cc0b30b64984a4b5da08f8ae127d",
            "58f5d2050202480785d4cef7b12305c4"
          ]
        },
        "id": "53f94f6d-16a0-49fe-9c5a-755c22fccb66",
        "outputId": "6d8ae2fa-16ec-418b-b21b-a91a79142d41"
      },
      "outputs": [
        {
          "output_type": "stream",
          "name": "stderr",
          "text": [
            "/usr/local/lib/python3.12/dist-packages/huggingface_hub/utils/_auth.py:94: UserWarning: \n",
            "The secret `HF_TOKEN` does not exist in your Colab secrets.\n",
            "To authenticate with the Hugging Face Hub, create a token in your settings tab (https://huggingface.co/settings/tokens), set it as secret in your Google Colab and restart your session.\n",
            "You will be able to reuse this secret in all of your notebooks.\n",
            "Please note that authentication is recommended but still optional to access public models or datasets.\n",
            "  warnings.warn(\n"
          ]
        },
        {
          "output_type": "display_data",
          "data": {
            "text/plain": [
              "config.json:   0%|          | 0.00/726 [00:00<?, ?B/s]"
            ],
            "application/vnd.jupyter.widget-view+json": {
              "version_major": 2,
              "version_minor": 0,
              "model_id": "7dd736ca7cd0421bb42e2c905a24a649"
            }
          },
          "metadata": {}
        },
        {
          "output_type": "display_data",
          "data": {
            "text/plain": [
              "model.safetensors.index.json: 0.00B [00:00, ?B/s]"
            ],
            "application/vnd.jupyter.widget-view+json": {
              "version_major": 2,
              "version_minor": 0,
              "model_id": "ff324433c15144388049c8f2e493b6db"
            }
          },
          "metadata": {}
        },
        {
          "output_type": "display_data",
          "data": {
            "text/plain": [
              "Fetching 3 files:   0%|          | 0/3 [00:00<?, ?it/s]"
            ],
            "application/vnd.jupyter.widget-view+json": {
              "version_major": 2,
              "version_minor": 0,
              "model_id": "1f5caa037d174530af5651df52fa2bc1"
            }
          },
          "metadata": {}
        },
        {
          "output_type": "display_data",
          "data": {
            "text/plain": [
              "model-00002-of-00003.safetensors:   0%|          | 0.00/3.99G [00:00<?, ?B/s]"
            ],
            "application/vnd.jupyter.widget-view+json": {
              "version_major": 2,
              "version_minor": 0,
              "model_id": "9ec635bad0e74137b3fd4e80a21b3fb2"
            }
          },
          "metadata": {}
        },
        {
          "output_type": "display_data",
          "data": {
            "text/plain": [
              "model-00003-of-00003.safetensors:   0%|          | 0.00/99.6M [00:00<?, ?B/s]"
            ],
            "application/vnd.jupyter.widget-view+json": {
              "version_major": 2,
              "version_minor": 0,
              "model_id": "60876c5d8f8e4221beaf642ca165b6a1"
            }
          },
          "metadata": {}
        },
        {
          "output_type": "display_data",
          "data": {
            "text/plain": [
              "model-00001-of-00003.safetensors:   0%|          | 0.00/3.96G [00:00<?, ?B/s]"
            ],
            "application/vnd.jupyter.widget-view+json": {
              "version_major": 2,
              "version_minor": 0,
              "model_id": "6921ba43c0784e14be3bbad7530ce386"
            }
          },
          "metadata": {}
        },
        {
          "output_type": "display_data",
          "data": {
            "text/plain": [
              "Loading checkpoint shards:   0%|          | 0/3 [00:00<?, ?it/s]"
            ],
            "application/vnd.jupyter.widget-view+json": {
              "version_major": 2,
              "version_minor": 0,
              "model_id": "fcd8835d1ff4480699b0e4ac48bbe41b"
            }
          },
          "metadata": {}
        },
        {
          "output_type": "display_data",
          "data": {
            "text/plain": [
              "generation_config.json:   0%|          | 0.00/239 [00:00<?, ?B/s]"
            ],
            "application/vnd.jupyter.widget-view+json": {
              "version_major": 2,
              "version_minor": 0,
              "model_id": "aeaf2a41ec5b44c9b7979c52463b5ba4"
            }
          },
          "metadata": {}
        },
        {
          "output_type": "display_data",
          "data": {
            "text/plain": [
              "tokenizer_config.json: 0.00B [00:00, ?B/s]"
            ],
            "application/vnd.jupyter.widget-view+json": {
              "version_major": 2,
              "version_minor": 0,
              "model_id": "656ca883abab4ba497bc2d09c3ea8420"
            }
          },
          "metadata": {}
        },
        {
          "output_type": "display_data",
          "data": {
            "text/plain": [
              "vocab.json: 0.00B [00:00, ?B/s]"
            ],
            "application/vnd.jupyter.widget-view+json": {
              "version_major": 2,
              "version_minor": 0,
              "model_id": "7e31106e62da4cc29f60fa680dded263"
            }
          },
          "metadata": {}
        },
        {
          "output_type": "display_data",
          "data": {
            "text/plain": [
              "merges.txt: 0.00B [00:00, ?B/s]"
            ],
            "application/vnd.jupyter.widget-view+json": {
              "version_major": 2,
              "version_minor": 0,
              "model_id": "16a25ec6e30546e1ad9f7f345f9f73e4"
            }
          },
          "metadata": {}
        },
        {
          "output_type": "display_data",
          "data": {
            "text/plain": [
              "tokenizer.json:   0%|          | 0.00/11.4M [00:00<?, ?B/s]"
            ],
            "application/vnd.jupyter.widget-view+json": {
              "version_major": 2,
              "version_minor": 0,
              "model_id": "bd6aa6d3bb724341a4487e1be9b26c77"
            }
          },
          "metadata": {}
        }
      ],
      "source": [
        "# use the 4B model\n",
        "\n",
        "model = AutoModelForCausalLM.from_pretrained(\"Qwen/Qwen3-4B\", device_map=\"cuda\", dtype=\"auto\")\n",
        "tokenizer = AutoTokenizer.from_pretrained(\"Qwen/Qwen3-4B\")"
      ]
    },
    {
      "cell_type": "markdown",
      "id": "678131e0-6c58-4372-8d74-71b7f3ab80ec",
      "metadata": {
        "id": "678131e0-6c58-4372-8d74-71b7f3ab80ec"
      },
      "source": [
        "## Loading data\n",
        "\n",
        "For the majority of this homework, we will be using data from *Who Feels What and Why? Annotation of a Literature Corpus with Semantic Roles of Emotions* [(Kim and Klinger, 2018)](https://aclanthology.org/C18-1114.pdf)."
      ]
    },
    {
      "cell_type": "code",
      "execution_count": 3,
      "id": "d51a2d95-3c27-49c0-961a-7874b7113ae9",
      "metadata": {
        "colab": {
          "base_uri": "https://localhost:8080/",
          "height": 0
        },
        "id": "d51a2d95-3c27-49c0-961a-7874b7113ae9",
        "outputId": "b3cc927a-1c33-40b7-b53a-afa2f2938c9e"
      },
      "outputs": [
        {
          "output_type": "stream",
          "name": "stdout",
          "text": [
            "--2025-10-24 22:19:07--  https://raw.githubusercontent.com/bamman-group/ca-classification-data/refs/heads/main/data/emotion/train.jsonl\n",
            "Resolving raw.githubusercontent.com (raw.githubusercontent.com)... 185.199.108.133, 185.199.109.133, 185.199.110.133, ...\n",
            "Connecting to raw.githubusercontent.com (raw.githubusercontent.com)|185.199.108.133|:443... connected.\n",
            "HTTP request sent, awaiting response... 200 OK\n",
            "Length: 112051 (109K) [text/plain]\n",
            "Saving to: ‘train.jsonl’\n",
            "\n",
            "train.jsonl         100%[===================>] 109.42K  --.-KB/s    in 0.002s  \n",
            "\n",
            "2025-10-24 22:19:08 (47.4 MB/s) - ‘train.jsonl’ saved [112051/112051]\n",
            "\n",
            "--2025-10-24 22:19:08--  https://raw.githubusercontent.com/bamman-group/ca-classification-data/refs/heads/main/data/emotion/test.jsonl\n",
            "Resolving raw.githubusercontent.com (raw.githubusercontent.com)... 185.199.108.133, 185.199.109.133, 185.199.110.133, ...\n",
            "Connecting to raw.githubusercontent.com (raw.githubusercontent.com)|185.199.108.133|:443... connected.\n",
            "HTTP request sent, awaiting response... 200 OK\n",
            "Length: 114133 (111K) [text/plain]\n",
            "Saving to: ‘test.jsonl’\n",
            "\n",
            "test.jsonl          100%[===================>] 111.46K  --.-KB/s    in 0.03s   \n",
            "\n",
            "2025-10-24 22:19:08 (3.11 MB/s) - ‘test.jsonl’ saved [114133/114133]\n",
            "\n"
          ]
        }
      ],
      "source": [
        "!wget https://raw.githubusercontent.com/bamman-group/ca-classification-data/refs/heads/main/data/emotion/train.jsonl\n",
        "!wget https://raw.githubusercontent.com/bamman-group/ca-classification-data/refs/heads/main/data/emotion/test.jsonl"
      ]
    },
    {
      "cell_type": "code",
      "execution_count": 4,
      "id": "9c8f4d02-bd14-4eef-9424-f9edfc13e65c",
      "metadata": {
        "id": "9c8f4d02-bd14-4eef-9424-f9edfc13e65c"
      },
      "outputs": [],
      "source": [
        "import json\n",
        "\n",
        "def load_data(filepath):\n",
        "    with open(filepath, \"r\") as f:\n",
        "        data = [\n",
        "            json.loads(line) for line in f\n",
        "        ]\n",
        "    return data"
      ]
    },
    {
      "cell_type": "code",
      "execution_count": 5,
      "id": "fc8ebcfe-5d8a-4027-bba8-2cf75afd0a32",
      "metadata": {
        "id": "fc8ebcfe-5d8a-4027-bba8-2cf75afd0a32"
      },
      "outputs": [],
      "source": [
        "train_data = load_data(\"train.jsonl\")\n",
        "test_data = load_data(\"test.jsonl\")"
      ]
    },
    {
      "cell_type": "markdown",
      "id": "b5af8b60-c950-4282-b7b2-ec40fb428d65",
      "metadata": {
        "id": "b5af8b60-c950-4282-b7b2-ec40fb428d65"
      },
      "source": [
        "### Question 1\n",
        "\n",
        "Take a look through the paper, as well as the actual dataset. What are the classification labels? **Fill them in below.**"
      ]
    },
    {
      "cell_type": "code",
      "execution_count": 6,
      "id": "456b1b93-31b6-4b84-95e7-07bea7563ee9",
      "metadata": {
        "colab": {
          "base_uri": "https://localhost:8080/",
          "height": 0
        },
        "id": "456b1b93-31b6-4b84-95e7-07bea7563ee9",
        "outputId": "60de3ed2-1731-48fc-8102-5b568c642458"
      },
      "outputs": [
        {
          "output_type": "execute_result",
          "data": {
            "text/plain": [
              "{'id': '4588|897',\n",
              " 'text': 'Jacob led his horses down the carriage-way to the gate, which he closed carefully after passing through; and then mounting to his seat, drove off rapidly. But little conversation took place between Mrs. Allen and her traveling companion; and that was in so low a tone of voice, that Jacob Perkins failed to catch a single word, though ***he*** bent his ear and listened with the closest attention whenever he heard a murmur of voices. It was after daylight when they arrived in Boston, where Jacob Perkins left them, and returned home with all speed, to wake up the town of S----with a report of his strange adventure.',\n",
              " 'label': 'anticipation',\n",
              " 'group': '4588'}"
            ]
          },
          "metadata": {},
          "execution_count": 6
        }
      ],
      "source": [
        "train_data[0]"
      ]
    },
    {
      "cell_type": "code",
      "source": [
        "label_set = set()\n",
        "for i in range(len(train_data)):\n",
        "  if train_data[i]['label'] not in label_set:\n",
        "    label_set.add(train_data[i]['label'])\n",
        "\n",
        "print(label_set)"
      ],
      "metadata": {
        "colab": {
          "base_uri": "https://localhost:8080/",
          "height": 0
        },
        "id": "KnPRyixwWdfb",
        "outputId": "6270ea6c-4248-4311-e3fd-ac72cce14a01"
      },
      "id": "KnPRyixwWdfb",
      "execution_count": 9,
      "outputs": [
        {
          "output_type": "stream",
          "name": "stdout",
          "text": [
            "{'trust', 'surprise', 'fear', 'sadness', 'joy', 'anger', 'anticipation', 'disgust'}\n"
          ]
        }
      ]
    },
    {
      "cell_type": "code",
      "execution_count": 24,
      "id": "36beeb2a-708b-405c-8d48-2f510ba8b496",
      "metadata": {
        "id": "36beeb2a-708b-405c-8d48-2f510ba8b496"
      },
      "outputs": [],
      "source": [
        "# FILL ME IN\n",
        "labels = ['trust', 'surprise', 'fear', 'sadness', 'joy', 'anger', 'anticipation', 'disgust']"
      ]
    },
    {
      "cell_type": "markdown",
      "id": "f00dff07-9811-43da-a7e4-25594978fc23",
      "metadata": {
        "id": "f00dff07-9811-43da-a7e4-25594978fc23"
      },
      "source": [
        "## Setting up the LLM\n",
        "\n",
        "For greater consistency, we set the temperature to a low value (0.01) by default, but this can be changed with the generation_config setting."
      ]
    },
    {
      "cell_type": "code",
      "execution_count": 10,
      "id": "3cb2c455-f330-49fc-bc7f-07b25fa7c19c",
      "metadata": {
        "id": "3cb2c455-f330-49fc-bc7f-07b25fa7c19c"
      },
      "outputs": [],
      "source": [
        "from textwrap import dedent\n",
        "import itertools\n",
        "import inspect\n",
        "\n",
        "def call_llm(prompt, system_prompt=\"You are a helpful assistant.\", generation_config=None):\n",
        "    if generation_config is None:\n",
        "        generation_config = {\n",
        "            \"max_new_tokens\": 10,\n",
        "            \"temperature\": 0.01\n",
        "        }\n",
        "    messages = [\n",
        "        {\"role\": \"system\", \"content\": system_prompt},\n",
        "        {\"role\": \"user\", \"content\": prompt}\n",
        "    ]\n",
        "    text = tokenizer.apply_chat_template(\n",
        "        messages,\n",
        "        tokenize=False,\n",
        "        add_generation_prompt=True,\n",
        "        enable_thinking=False\n",
        "    )\n",
        "\n",
        "    model_inputs = tokenizer([text], return_tensors=\"pt\").to(model.device)\n",
        "\n",
        "    # conduct text completion\n",
        "    generated = model.generate(\n",
        "        **model_inputs,\n",
        "        **generation_config\n",
        "    )\n",
        "\n",
        "    # let's break this down:\n",
        "    #                      | we take the element of the batch (our batch size is 1)\n",
        "    #                      |  |-----------------------------| skip our original input\n",
        "    output_ids = generated[0][len(model_inputs.input_ids[0]):].tolist()\n",
        "\n",
        "    # decode into token space\n",
        "    return tokenizer.decode(output_ids, skip_special_tokens=True).strip(\"\\n\")"
      ]
    },
    {
      "cell_type": "markdown",
      "id": "7d3a0585-e7cf-4158-a623-9d2b31baf5c1",
      "metadata": {
        "id": "7d3a0585-e7cf-4158-a623-9d2b31baf5c1"
      },
      "source": [
        "## Classification"
      ]
    },
    {
      "cell_type": "code",
      "execution_count": 11,
      "id": "75213031-efe7-4ee0-b26b-0d23b4e5412a",
      "metadata": {
        "id": "75213031-efe7-4ee0-b26b-0d23b4e5412a"
      },
      "outputs": [],
      "source": [
        "def evaluate(classifier):\n",
        "    predictions = classifier(train_data, test_data)\n",
        "    return sum(pred == target[\"label\"] for pred, target in zip(predictions, test_data)) / len(test_data)"
      ]
    },
    {
      "cell_type": "code",
      "execution_count": 82,
      "id": "d09b2bae-cb57-4476-832f-475c07e2b7db",
      "metadata": {
        "id": "d09b2bae-cb57-4476-832f-475c07e2b7db"
      },
      "outputs": [],
      "source": [
        "from collections import Counter\n",
        "from textwrap import dedent\n",
        "import random\n",
        "\n",
        "\n",
        "def classify_majority_label(train_data, test_data):\n",
        "    \"\"\"Majority label baseline\"\"\"\n",
        "\n",
        "    majority_class = Counter([d[\"label\"] for d in train_data]).most_common(1)[0][0]\n",
        "    test_predictions = []\n",
        "    for i, datum in enumerate(tqdm(test_data)):\n",
        "        test_predictions.append(majority_class)\n",
        "\n",
        "    print(test_predictions[:5])\n",
        "    return test_predictions"
      ]
    },
    {
      "cell_type": "code",
      "execution_count": 21,
      "id": "014feaf1-4b75-46d0-b5cb-bcc0fbac1288",
      "metadata": {
        "colab": {
          "base_uri": "https://localhost:8080/",
          "height": 0
        },
        "id": "014feaf1-4b75-46d0-b5cb-bcc0fbac1288",
        "outputId": "94044904-1699-4e9b-eece-3d713a4b8ba9"
      },
      "outputs": [
        {
          "output_type": "stream",
          "name": "stderr",
          "text": [
            "100%|██████████| 276/276 [00:00<00:00, 1612295.13it/s]\n"
          ]
        },
        {
          "output_type": "execute_result",
          "data": {
            "text/plain": [
              "0.2028985507246377"
            ]
          },
          "metadata": {},
          "execution_count": 21
        }
      ],
      "source": [
        "evaluate(classify_majority_label)"
      ]
    },
    {
      "cell_type": "markdown",
      "id": "9666804f-00d0-425d-9028-d5ef12bf120e",
      "metadata": {
        "id": "9666804f-00d0-425d-9028-d5ef12bf120e"
      },
      "source": [
        "Fill the rest of these in!"
      ]
    },
    {
      "cell_type": "markdown",
      "id": "0277508e-59dc-4700-9b25-0bcbafafb30b",
      "metadata": {
        "id": "0277508e-59dc-4700-9b25-0bcbafafb30b"
      },
      "source": [
        "## Question 2\n",
        "\n",
        "We've implemented a majority vote baseline for you.\n",
        "\n",
        "Implement a zero-shot prompting classifier. Try at least 3 versions of the prompt to compare their outputs.\n",
        "\n",
        "**In a few sentences,** describe how different prompting choices result in different outputs."
      ]
    },
    {
      "cell_type": "code",
      "source": [],
      "metadata": {
        "id": "HHietHaVlNZh"
      },
      "id": "HHietHaVlNZh",
      "execution_count": null,
      "outputs": []
    },
    {
      "cell_type": "code",
      "execution_count": 83,
      "id": "4db7ea91-a6d1-443b-9556-8daa6acffea9",
      "metadata": {
        "id": "4db7ea91-a6d1-443b-9556-8daa6acffea9"
      },
      "outputs": [],
      "source": [
        "# for the rest of my code I got rid of 'enumerate' from the baseline\n",
        "# and just used 'i' to represent the item/datum, since I didn't really\n",
        "# need to use the iterator\n",
        "\n",
        "def classify_zero_shot1(train_data, test_data):\n",
        "    \"\"\"Classification with zero-shot prompting.\"\"\"\n",
        "    system_prompt = 'You are a psychologist'\n",
        "    test_predictions = []\n",
        "    for i in tqdm(test_data):\n",
        "      text = i['text']\n",
        "      prompt = f'''\n",
        "      Here is a passage of text: {text}\n",
        "      Classify the passage with the following labels:\n",
        "      trust, surprise, fear, sadness, joy, anger, anticipation, disgust\n",
        "      Only respond with a single label from this list\n",
        "      '''\n",
        "      model_prediction = call_llm(prompt, system_prompt)\n",
        "      if model_prediction not in labels:\n",
        "        print('classify_zero_shot1 is not using labels as specified')\n",
        "        print(model_prediction)\n",
        "      else:\n",
        "        test_predictions.append(model_prediction)\n",
        "    print(test_predictions[:5])\n",
        "    return test_predictions\n",
        "\n",
        "def classify_zero_shot2(train_data, test_data):\n",
        "    \"\"\"Classification with zero-shot prompting.\"\"\"\n",
        "    system_prompt = 'You are an emotions expert'\n",
        "    test_predictions = []\n",
        "    for i in tqdm(test_data):\n",
        "      text = i['text']\n",
        "      prompt = f'''\n",
        "      Some text that you can classify is: {text}\n",
        "      Use the following for your classification:\n",
        "      trust, surprise, fear, sadness, joy, anger, anticipation, disgust\n",
        "      Respond with a single label only, from this list\n",
        "      '''\n",
        "      model_prediction = call_llm(prompt, system_prompt)\n",
        "      if model_prediction not in labels:\n",
        "        print('classify_zero_shot2 is not using labels as specified')\n",
        "        print(model_prediction)\n",
        "      else:\n",
        "        test_predictions.append(model_prediction)\n",
        "    return test_predictions\n",
        "\n",
        "def classify_zero_shot3(train_data, test_data):\n",
        "    \"\"\"Classification with zero-shot prompting.\"\"\"\n",
        "    system_prompt = 'You are a data scientist who is great at predicting feelings'\n",
        "    test_predictions = []\n",
        "    for i in tqdm(test_data):\n",
        "      text = i['text']\n",
        "      prompt = f'''\n",
        "      Given the following text: {text}\n",
        "      Classify the passage with labels:\n",
        "      trust, surprise, fear, sadness, joy, anger, anticipation, disgust\n",
        "      Your response should only contain one label from that list\n",
        "      '''\n",
        "      model_prediction = call_llm(prompt, system_prompt)\n",
        "      if model_prediction not in labels:\n",
        "        print('classify_zero_shot3 is not using labels as specified')\n",
        "        print(model_prediction)\n",
        "      else:\n",
        "        test_predictions.append(model_prediction)\n",
        "    return test_predictions"
      ]
    },
    {
      "cell_type": "code",
      "source": [
        "# testing prompt\n",
        "text = 'I am very happy'\n",
        "\n",
        "prompt = f'''\n",
        "      Here is a passage of text: {text}\n",
        "      Classify the passage with the following labels:\n",
        "      trust, surprise, fear, sadness, joy, anger, anticipation, disgust\n",
        "      Only respond with one label\n",
        "      '''\n",
        "\n",
        "print(call_llm('You are a psychologist', prompt))"
      ],
      "metadata": {
        "colab": {
          "base_uri": "https://localhost:8080/",
          "height": 0
        },
        "id": "NaVDyyH-f711",
        "outputId": "6bec4c15-62e1-4f26-95ca-11436cd36ade"
      },
      "id": "NaVDyyH-f711",
      "execution_count": 61,
      "outputs": [
        {
          "output_type": "stream",
          "name": "stdout",
          "text": [
            "joy\n"
          ]
        }
      ]
    },
    {
      "cell_type": "code",
      "source": [
        "prompt1_predictions = classify_zero_shot1(train_data, test_data)"
      ],
      "metadata": {
        "colab": {
          "base_uri": "https://localhost:8080/",
          "height": 0
        },
        "id": "DKpz5i0ieCX8",
        "outputId": "8cd2d6b1-ba46-41c4-b1b4-b734f2aff745"
      },
      "id": "DKpz5i0ieCX8",
      "execution_count": 62,
      "outputs": [
        {
          "output_type": "stream",
          "name": "stderr",
          "text": [
            " 43%|████▎     | 119/276 [01:17<01:45,  1.49it/s]"
          ]
        },
        {
          "output_type": "stream",
          "name": "stdout",
          "text": [
            "classify_zero_shot1 is not using labels as specified\n",
            "contentment\n"
          ]
        },
        {
          "output_type": "stream",
          "name": "stderr",
          "text": [
            " 97%|█████████▋| 268/276 [02:54<00:06,  1.33it/s]"
          ]
        },
        {
          "output_type": "stream",
          "name": "stdout",
          "text": [
            "classify_zero_shot1 is not using labels as specified\n",
            "serenity\n"
          ]
        },
        {
          "output_type": "stream",
          "name": "stderr",
          "text": [
            "100%|██████████| 276/276 [02:59<00:00,  1.54it/s]\n"
          ]
        }
      ]
    },
    {
      "cell_type": "code",
      "source": [
        "prompt2_predictions = classify_zero_shot2(train_data, test_data)"
      ],
      "metadata": {
        "colab": {
          "base_uri": "https://localhost:8080/",
          "height": 0
        },
        "id": "z3Ne4T1mnWsr",
        "outputId": "fe5c2555-b820-4cdf-fbc0-69b7016ea81a"
      },
      "id": "z3Ne4T1mnWsr",
      "execution_count": 63,
      "outputs": [
        {
          "output_type": "stream",
          "name": "stderr",
          "text": [
            "  0%|          | 1/276 [00:01<04:57,  1.08s/it]"
          ]
        },
        {
          "output_type": "stream",
          "name": "stdout",
          "text": [
            "classify_zero_shot2 is not using labels as specified\n",
            "neutral\n"
          ]
        },
        {
          "output_type": "stream",
          "name": "stderr",
          "text": [
            " 33%|███▎      | 92/276 [00:59<02:03,  1.49it/s]"
          ]
        },
        {
          "output_type": "stream",
          "name": "stdout",
          "text": [
            "classify_zero_shot2 is not using labels as specified\n",
            "neutral\n"
          ]
        },
        {
          "output_type": "stream",
          "name": "stderr",
          "text": [
            " 97%|█████████▋| 268/276 [02:54<00:05,  1.36it/s]"
          ]
        },
        {
          "output_type": "stream",
          "name": "stdout",
          "text": [
            "classify_zero_shot2 is not using labels as specified\n",
            "serenity\n"
          ]
        },
        {
          "output_type": "stream",
          "name": "stderr",
          "text": [
            "100%|██████████| 276/276 [02:59<00:00,  1.53it/s]\n"
          ]
        }
      ]
    },
    {
      "cell_type": "code",
      "source": [
        "prompt3_predictions = classify_zero_shot3(train_data, test_data)"
      ],
      "metadata": {
        "colab": {
          "base_uri": "https://localhost:8080/",
          "height": 0
        },
        "id": "9XKZPSzUna82",
        "outputId": "e4cf5760-bd3b-4b33-b537-26e4647c32de"
      },
      "id": "9XKZPSzUna82",
      "execution_count": 64,
      "outputs": [
        {
          "output_type": "stream",
          "name": "stderr",
          "text": [
            " 97%|█████████▋| 268/276 [02:56<00:05,  1.36it/s]"
          ]
        },
        {
          "output_type": "stream",
          "name": "stdout",
          "text": [
            "classify_zero_shot3 is not using labels as specified\n",
            "serenity\n"
          ]
        },
        {
          "output_type": "stream",
          "name": "stderr",
          "text": [
            "100%|██████████| 276/276 [03:02<00:00,  1.51it/s]\n"
          ]
        }
      ]
    },
    {
      "cell_type": "code",
      "source": [
        "print(prompt1_predictions[:10])\n",
        "print(prompt2_predictions[:10])\n",
        "print(prompt3_predictions[:10])\n",
        "for i in test_data[:10]:\n",
        "  print(i['text'])"
      ],
      "metadata": {
        "colab": {
          "base_uri": "https://localhost:8080/",
          "height": 0
        },
        "id": "vEnLDOvdjCHx",
        "outputId": "4d4a680b-6745-4c4a-b1a2-6cefa88c955b"
      },
      "id": "vEnLDOvdjCHx",
      "execution_count": 67,
      "outputs": [
        {
          "output_type": "stream",
          "name": "stdout",
          "text": [
            "['surprise', 'fear', 'sadness', 'fear', 'sadness', 'fear', 'joy', 'surprise', 'trust', 'anticipation']\n",
            "['fear', 'sadness', 'fear', 'sadness', 'fear', 'joy', 'surprise', 'trust', 'joy', 'sadness']\n",
            "['trust', 'fear', 'sadness', 'fear', 'sadness', 'fear', 'joy', 'surprise', 'trust', 'anticipation']\n",
            "They were all literary gentlemen, though unknown as yet to Pen. There was Mr. Bole, the real editor of the magazine, of which Mr. Wagg was the nominal chief; ***Mr. Trotter***, who, from having broken out on the world as a poet of a tragic and suicidial cast, had now subsided into one of Mr. Bungay's back shops as reader for that gentleman; and Captain Sumph, an ex-beau reader about town, and related in some indistinct manner to Literature and the Peerage. He was said to have written a book once, to have been a friend of Lord Byron, to be related to Lord Sumphington; in fact, anecdotes of Byron formed his staple, and he seldom spoke but with the name of that poet or some of his contemporaries in his mouth, as thus: \"I remember poor Shelley, at school being sent up for good for a copy of verses, every line of which I wrote, by Jove;\" or, \"I recollect, when I was at Missolonghi with Byron, offering to bet gamba,\" and so forth.\n",
            "I have faith in my fortune, do you know that? I believe that I shall leave this place unharmed, but I believe that if I leave it without you, I shall go back to the worst hell in which a man could ever...\"  \"Bertram,\" ***she*** pleaded, \"think of it all. Even if I cared enough--and I don't--there is something unnatural about it.\n",
            "Here too lived the maligned hero of the greatest drama of modern genius, the traditionary Faust, illustrating in himself the fate of his successors in dispensing knowledge,--held a monster for his wisdom, and consigned to the penalties of hell as a recompense for the benefits he had conferred on earth! At Mayence, ***Gertrude*** heard so much and so constantly of Heidelberg, that she grew impatient to visit that enchanting town; and as Du-----e considered the air of Heidelberg more pure and invigorating than that of Mayence, they resolved to fix within it their temporary residence. Alas!\n",
            "But you must remember this: when you thought of marrying her, you'd a notion she'd got another sort of a nature inside her. You didn't think ***she*** could have got hardened in that little while to do what she's done.\" \"I know--I know that,\" said Adam.\n",
            "Since her arrival at Gardencourt she had been but little out of doors, the weather being unfavourable for visiting the grounds. This evening, however, was fine, and at first it struck ***her*** as a happy thought to have come out. The theory I have just mentioned was plausible enough, but it brought her little rest, and if you had seen her pacing about you would have said she had a bad conscience.\n",
            "He did not lift his eyes as Blandford resumed in a dry, business-like way:  \"When I came across the plains to California, I fell in with a man about my own age--an emigrant also. I suppose ***I*** looked and acted like a crazy fool through all the journey, for he satisfied himself that I had some secret reason for leaving the States, and suspected that I was, like himself--a criminal. I afterwards learned that he was an escaped thief and assassin.\n",
            "Thinking thus, and strolling through the rooms with casual glances at a picture, he discovered his acquaintance, catalogue in hand, alone for the present. ***Her*** pensive face again answered to his smile. They drew back from the pictures and sat down.\n",
            "In fact, to reach the Duc d'Alencon and the King of Navarre it would have been necessary to pass through this company, while, as far as eye could reach, a perfectly free road stretched out before the brothers. Suddenly from among the trees, ten feet from ***the King of Navarre***, another gentleman appeared, as yet unperceived by the two princes. Henry was trying to think who he was, when the gentleman raised his hat and Henry recognized him as the Vicomte de Turenne, one of the leaders of the Protestant party, who was supposed to be in Poitou.\n",
            "But that's not exactly the question. It seems to me the question is this: shall we, who know what a blessed thing life is because we know what God is like, who can trust in him with all our hearts because he is the Father of our Lord Jesus Christ, the friend of sinners, shall we not try all we can to let ***them***, too, know the blessedness of trusting in their Father in heaven? If we could only get them to say the Lord's prayer, _meaning_ it, think what that would be!\n",
            "\"Come again soon.\" ***He*** breathed a sigh of relief as the elevator cage dropped them from sight. A salesman, who had been standing by, spoke to Anson.\n"
          ]
        }
      ]
    },
    {
      "cell_type": "markdown",
      "source": [
        "The entire premise behind prompt engineering is to create prompt inputs that lead to the best LLM outputs, which is independent of adjusting the model itself. This is sort of like a form of preprocessing -- we essentially take a bunch of unordered data and try to organize it in such a way that maximizes its interpretablity to a computer. Using the zero-shot approach above, we can see that we get varying prompt outputs by making small adjustments to the input prompts. The data do not change, nor do the requirements given to perform the task -- just how it is worded."
      ],
      "metadata": {
        "id": "4wlEDxlYtCuH"
      },
      "id": "4wlEDxlYtCuH"
    },
    {
      "cell_type": "markdown",
      "id": "e6896962-0902-4736-bdf4-4eec5ae25891",
      "metadata": {
        "id": "e6896962-0902-4736-bdf4-4eec5ae25891"
      },
      "source": [
        "## Question 3\n",
        "\n",
        "Implement the following:\n",
        "\n",
        "1. Few-shot (k=3) classification\n",
        "3. Zero-shot with chain-of-thought\n",
        "4. Few-shot (k=3) with chain of thought (you will need to write reasoning chains)\n",
        "5. Zero-shot with self-consistency (use `generation_config` to change the temperature)\n",
        "\n",
        "For each of these, print out the raw LLM output for the first 5 data points in the test data.\n",
        "\n",
        "Use the `evaluate` function to measure the accuracy of your method. **Write a few sentences comparing the performance of different prompting methods (including the above, and zero-shot from Q2.**"
      ]
    },
    {
      "cell_type": "code",
      "execution_count": 87,
      "id": "e51881d6-b641-4c52-913a-0d14182b40db",
      "metadata": {
        "id": "e51881d6-b641-4c52-913a-0d14182b40db"
      },
      "outputs": [],
      "source": [
        "def classify_few_shot(train_data, test_data):\n",
        "    \"\"\"Classification with 3-shots.\"\"\"\n",
        "    system_prompt = \"You are an expert in emotion classification. Given examples and a new text, predict the emotion from: trust, surprise, fear, sadness, joy, anger, anticipation, disgust. Return only a single emotion\"\n",
        "    test_predictions = []\n",
        "    # compile 3 examples using random training data\n",
        "    random.seed(42)\n",
        "    example_data = random.sample(train_data, 3)\n",
        "    examples = \"\"\n",
        "    for i in example_data:\n",
        "        examples += f\"Text:{i['text']}\\nEmotion:{i['label']}\\n\\n\"\n",
        "\n",
        "    for i in tqdm(test_data):\n",
        "        text = i[\"text\"]\n",
        "        prompt = f\"\"\"\n",
        "            Below are examples of text with their emotions:\n",
        "            {examples}\n",
        "            Classify the emotion in the following text: {text}\n",
        "            Choose one emotion from: trust, surprise, fear, sadness, joy, anger, anticipation, disgust.\n",
        "            Return only the emotion label.\n",
        "        \"\"\"\n",
        "        model_prediction = call_llm(prompt, system_prompt)\n",
        "        if model_prediction not in labels:\n",
        "          print('classify_few_shot is not using labels as specified')\n",
        "          print(model_prediction)\n",
        "        else:\n",
        "          test_predictions.append(model_prediction)\n",
        "    print(test_predictions[:5])\n",
        "    return test_predictions\n"
      ]
    },
    {
      "cell_type": "code",
      "execution_count": 88,
      "id": "488c8412-3382-403a-87fc-0d4e6ef871d5",
      "metadata": {
        "id": "488c8412-3382-403a-87fc-0d4e6ef871d5"
      },
      "outputs": [],
      "source": [
        "def classify_zero_shot_cot(train_data, test_data):\n",
        "    \"\"\"Classification with zero-shot chain-of-thought.\"\"\"\n",
        "    system_prompt = \"You are an expert in emotion classification. You go step-by-step to find the emotion in text, and provide just the final emotion label.\"\n",
        "    test_predictions = []\n",
        "    for i in tqdm(test_data):\n",
        "        text = i[\"text\"]\n",
        "        prompt = f\"\"\"\n",
        "            To classify the emotion in the text: {text}\n",
        "            Use the following steps:\n",
        "            1. Identify words or phrases are emotional.\n",
        "            2. Consider tone and context of text.\n",
        "            3. Choose one emotion from: trust, surprise, fear, sadness, joy, anger, anticipation, disgust.\n",
        "            Return only the emotion label.\n",
        "        \"\"\"\n",
        "        model_prediction = call_llm(prompt, system_prompt)\n",
        "        if model_prediction not in labels:\n",
        "          print('classify_zero_shot_cot is not using labels as specified')\n",
        "          print(model_prediction)\n",
        "        else:\n",
        "          test_predictions.append(model_prediction)\n",
        "    print(test_predictions[:5])\n",
        "    return test_predictions"
      ]
    },
    {
      "cell_type": "code",
      "execution_count": 92,
      "id": "8fb8c954-def4-4e0c-a8e2-0294fad2ea7c",
      "metadata": {
        "id": "8fb8c954-def4-4e0c-a8e2-0294fad2ea7c"
      },
      "outputs": [],
      "source": [
        "def classify_few_shot_cot(train_data, test_data):\n",
        "    \"\"\"Classification with 3-shot chain-of-thought.\"\"\"\n",
        "    system_prompt = \"You are an expert in emotion classification. You go step-by-step to find the emotion in text, and provide just the final emotion label.\"\n",
        "    test_predictions = []\n",
        "\n",
        "    # compile 3 examples using random training data\n",
        "    random.seed(42)\n",
        "    example_data = random.sample(train_data, 3)\n",
        "    examples = \"\"\n",
        "    for i in example_data:\n",
        "        examples += f\"Text:{i['text']}\\nEmotion:{i['label']}\\n\\n\"\n",
        "\n",
        "    for i in tqdm(test_data):\n",
        "        text = i[\"text\"]\n",
        "        prompt = f\"\"\"\n",
        "            Below are examples of text with their emotions:\n",
        "            {examples}\n",
        "            To classify the emotion in the text: {text}\n",
        "            Use the following steps:\n",
        "            1. Identify words or phrases are emotional.\n",
        "            2. Consider tone and context of text.\n",
        "            3. Choose one emotion from: trust, surprise, fear, sadness, joy, anger, anticipation, disgust.\n",
        "            Return only the emotion label.\n",
        "        \"\"\"\n",
        "        model_prediction = call_llm(prompt, system_prompt)\n",
        "        if model_prediction not in labels:\n",
        "          print('classify_few_shot_cot is not using labels as specified')\n",
        "          print(model_prediction)\n",
        "        else:\n",
        "          test_predictions.append(model_prediction)\n",
        "    print(test_predictions[:5])\n",
        "    return test_predictions"
      ]
    },
    {
      "cell_type": "code",
      "execution_count": 90,
      "id": "771d1c6d-9f4b-4751-aec2-65dd22c63465",
      "metadata": {
        "id": "771d1c6d-9f4b-4751-aec2-65dd22c63465"
      },
      "outputs": [],
      "source": [
        "from statistics import mode\n",
        "\n",
        "def classify_zero_shot_self_consistency(train_data, test_data):\n",
        "    \"\"\"Implement self-consistency for zero-shot prompting.\"\"\"\n",
        "    system_prompt = \"You are an expert in emotion classification.\"\n",
        "    temperatures = [0.2, 0.4, 0.6, 0.8]\n",
        "    test_predictions = []\n",
        "    for i in tqdm(test_data):\n",
        "        text = i[\"text\"]\n",
        "        prompt = f\"\"\"\n",
        "            Here is a passage of text: {text}\n",
        "            Classify the passage with the following labels:\n",
        "            trust, surprise, fear, sadness, joy, anger, anticipation, disgust\n",
        "            Only respond with a single label from this list\n",
        "        \"\"\"\n",
        "        outputs = []\n",
        "        for temp in temperatures:\n",
        "            outputs.append(call_llm(prompt, system_prompt=system_prompt, generation_config={\"max_new_tokens\": 10, \"temperature\": temp}))\n",
        "        # Select most common valid label\n",
        "        valid_outputs = [o for o in outputs if o in labels] # should catch bad labels in same way as before\n",
        "        prediction = mode(valid_outputs) if valid_outputs else random.choice(labels)\n",
        "        test_predictions.append(prediction)\n",
        "    print(test_predictions[:5])\n",
        "    return test_predictions"
      ]
    },
    {
      "cell_type": "code",
      "execution_count": 93,
      "id": "bd8a6bdf-3896-4f32-a23d-5b68d76578de",
      "metadata": {
        "colab": {
          "base_uri": "https://localhost:8080/",
          "height": 0
        },
        "id": "bd8a6bdf-3896-4f32-a23d-5b68d76578de",
        "outputId": "91536d5e-9231-4083-d2b1-34477be165f8"
      },
      "outputs": [
        {
          "output_type": "stream",
          "name": "stderr",
          "text": [
            "100%|██████████| 276/276 [00:00<00:00, 332460.63it/s]\n"
          ]
        },
        {
          "output_type": "stream",
          "name": "stdout",
          "text": [
            "['joy', 'joy', 'joy', 'joy', 'joy']\n",
            "majority\t0.2028985507246377\n"
          ]
        },
        {
          "output_type": "stream",
          "name": "stderr",
          "text": [
            " 43%|████▎     | 119/276 [01:17<01:42,  1.53it/s]"
          ]
        },
        {
          "output_type": "stream",
          "name": "stdout",
          "text": [
            "classify_zero_shot1 is not using labels as specified\n",
            "contentment\n"
          ]
        },
        {
          "output_type": "stream",
          "name": "stderr",
          "text": [
            " 97%|█████████▋| 268/276 [02:54<00:05,  1.35it/s]"
          ]
        },
        {
          "output_type": "stream",
          "name": "stdout",
          "text": [
            "classify_zero_shot1 is not using labels as specified\n",
            "serenity\n"
          ]
        },
        {
          "output_type": "stream",
          "name": "stderr",
          "text": [
            "100%|██████████| 276/276 [02:59<00:00,  1.53it/s]\n"
          ]
        },
        {
          "output_type": "stream",
          "name": "stdout",
          "text": [
            "['surprise', 'fear', 'sadness', 'fear', 'sadness']\n",
            "zero-shot\t0.20652173913043478\n"
          ]
        },
        {
          "output_type": "stream",
          "name": "stderr",
          "text": [
            "100%|██████████| 276/276 [06:24<00:00,  1.39s/it]\n"
          ]
        },
        {
          "output_type": "stream",
          "name": "stdout",
          "text": [
            "['anticipation', 'trust', 'sadness', 'anger', 'anticipation']\n",
            "few-shot\t0.35507246376811596\n"
          ]
        },
        {
          "output_type": "stream",
          "name": "stderr",
          "text": [
            "  0%|          | 1/276 [00:01<05:38,  1.23s/it]"
          ]
        },
        {
          "output_type": "stream",
          "name": "stdout",
          "text": [
            "classify_zero_shot_cot is not using labels as specified\n",
            "neutral\n"
          ]
        },
        {
          "output_type": "stream",
          "name": "stderr",
          "text": [
            " 11%|█         | 31/276 [00:24<03:12,  1.27it/s]"
          ]
        },
        {
          "output_type": "stream",
          "name": "stdout",
          "text": [
            "classify_zero_shot_cot is not using labels as specified\n",
            "shock\n"
          ]
        },
        {
          "output_type": "stream",
          "name": "stderr",
          "text": [
            " 15%|█▍        | 41/276 [00:32<03:10,  1.24it/s]"
          ]
        },
        {
          "output_type": "stream",
          "name": "stdout",
          "text": [
            "classify_zero_shot_cot is not using labels as specified\n",
            "neutral\n"
          ]
        },
        {
          "output_type": "stream",
          "name": "stderr",
          "text": [
            " 19%|█▉        | 53/276 [00:42<03:08,  1.18it/s]"
          ]
        },
        {
          "output_type": "stream",
          "name": "stdout",
          "text": [
            "classify_zero_shot_cot is not using labels as specified\n",
            "affection\n"
          ]
        },
        {
          "output_type": "stream",
          "name": "stderr",
          "text": [
            " 30%|███       | 84/276 [01:05<02:09,  1.48it/s]"
          ]
        },
        {
          "output_type": "stream",
          "name": "stdout",
          "text": [
            "classify_zero_shot_cot is not using labels as specified\n",
            "neutral\n"
          ]
        },
        {
          "output_type": "stream",
          "name": "stderr",
          "text": [
            " 32%|███▏      | 89/276 [01:09<02:29,  1.25it/s]"
          ]
        },
        {
          "output_type": "stream",
          "name": "stdout",
          "text": [
            "classify_zero_shot_cot is not using labels as specified\n",
            "neutral\n"
          ]
        },
        {
          "output_type": "stream",
          "name": "stderr",
          "text": [
            " 33%|███▎      | 92/276 [01:12<02:20,  1.31it/s]"
          ]
        },
        {
          "output_type": "stream",
          "name": "stdout",
          "text": [
            "classify_zero_shot_cot is not using labels as specified\n",
            "neutral\n"
          ]
        },
        {
          "output_type": "stream",
          "name": "stderr",
          "text": [
            " 35%|███▌      | 97/276 [01:16<02:20,  1.27it/s]"
          ]
        },
        {
          "output_type": "stream",
          "name": "stdout",
          "text": [
            "classify_zero_shot_cot is not using labels as specified\n",
            "jealousy\n"
          ]
        },
        {
          "output_type": "stream",
          "name": "stderr",
          "text": [
            " 39%|███▉      | 108/276 [01:24<01:57,  1.43it/s]"
          ]
        },
        {
          "output_type": "stream",
          "name": "stdout",
          "text": [
            "classify_zero_shot_cot is not using labels as specified\n",
            "determination\n"
          ]
        },
        {
          "output_type": "stream",
          "name": "stderr",
          "text": [
            " 43%|████▎     | 119/276 [01:33<02:11,  1.20it/s]"
          ]
        },
        {
          "output_type": "stream",
          "name": "stdout",
          "text": [
            "classify_zero_shot_cot is not using labels as specified\n",
            "contentment\n"
          ]
        },
        {
          "output_type": "stream",
          "name": "stderr",
          "text": [
            " 48%|████▊     | 133/276 [01:44<01:53,  1.26it/s]"
          ]
        },
        {
          "output_type": "stream",
          "name": "stdout",
          "text": [
            "classify_zero_shot_cot is not using labels as specified\n",
            "serenity\n"
          ]
        },
        {
          "output_type": "stream",
          "name": "stderr",
          "text": [
            " 51%|█████     | 141/276 [01:50<01:52,  1.20it/s]"
          ]
        },
        {
          "output_type": "stream",
          "name": "stdout",
          "text": [
            "classify_zero_shot_cot is not using labels as specified\n",
            "neutral\n"
          ]
        },
        {
          "output_type": "stream",
          "name": "stderr",
          "text": [
            " 67%|██████▋   | 184/276 [02:22<01:16,  1.20it/s]"
          ]
        },
        {
          "output_type": "stream",
          "name": "stdout",
          "text": [
            "classify_zero_shot_cot is not using labels as specified\n",
            "neutral\n"
          ]
        },
        {
          "output_type": "stream",
          "name": "stderr",
          "text": [
            " 83%|████████▎ | 229/276 [02:58<00:37,  1.25it/s]"
          ]
        },
        {
          "output_type": "stream",
          "name": "stdout",
          "text": [
            "classify_zero_shot_cot is not using labels as specified\n",
            "neutral\n"
          ]
        },
        {
          "output_type": "stream",
          "name": "stderr",
          "text": [
            " 97%|█████████▋| 267/276 [03:28<00:07,  1.13it/s]"
          ]
        },
        {
          "output_type": "stream",
          "name": "stdout",
          "text": [
            "classify_zero_shot_cot is not using labels as specified\n",
            "curiosity\n"
          ]
        },
        {
          "output_type": "stream",
          "name": "stderr",
          "text": [
            " 97%|█████████▋| 269/276 [03:30<00:06,  1.10it/s]"
          ]
        },
        {
          "output_type": "stream",
          "name": "stdout",
          "text": [
            "classify_zero_shot_cot is not using labels as specified\n",
            "neutral\n"
          ]
        },
        {
          "output_type": "stream",
          "name": "stderr",
          "text": [
            " 98%|█████████▊| 271/276 [03:31<00:04,  1.11it/s]"
          ]
        },
        {
          "output_type": "stream",
          "name": "stdout",
          "text": [
            "classify_zero_shot_cot is not using labels as specified\n",
            "wonderment\n"
          ]
        },
        {
          "output_type": "stream",
          "name": "stderr",
          "text": [
            "100%|██████████| 276/276 [03:35<00:00,  1.28it/s]\n"
          ]
        },
        {
          "output_type": "stream",
          "name": "stdout",
          "text": [
            "['fear', 'sadness', 'sadness', 'sadness', 'sadness']\n",
            "zero-shot-cot\t0.10869565217391304\n"
          ]
        },
        {
          "output_type": "stream",
          "name": "stderr",
          "text": [
            " 11%|█         | 31/276 [00:45<05:52,  1.44s/it]"
          ]
        },
        {
          "output_type": "stream",
          "name": "stdout",
          "text": [
            "classify_few_shot_cot is not using labels as specified\n",
            "shock\n"
          ]
        },
        {
          "output_type": "stream",
          "name": "stderr",
          "text": [
            " 19%|█▉        | 53/276 [01:17<05:33,  1.49s/it]"
          ]
        },
        {
          "output_type": "stream",
          "name": "stdout",
          "text": [
            "classify_few_shot_cot is not using labels as specified\n",
            "affection\n"
          ]
        },
        {
          "output_type": "stream",
          "name": "stderr",
          "text": [
            " 35%|███▌      | 97/276 [02:20<04:21,  1.46s/it]"
          ]
        },
        {
          "output_type": "stream",
          "name": "stdout",
          "text": [
            "classify_few_shot_cot is not using labels as specified\n",
            "jealousy\n"
          ]
        },
        {
          "output_type": "stream",
          "name": "stderr",
          "text": [
            "100%|██████████| 276/276 [06:40<00:00,  1.45s/it]\n"
          ]
        },
        {
          "output_type": "stream",
          "name": "stdout",
          "text": [
            "['anticipation', 'sadness', 'anticipation', 'anger', 'joy']\n",
            "few-shot-cot\t0.17753623188405798\n"
          ]
        },
        {
          "output_type": "stream",
          "name": "stderr",
          "text": [
            "100%|██████████| 276/276 [12:03<00:00,  2.62s/it]"
          ]
        },
        {
          "output_type": "stream",
          "name": "stdout",
          "text": [
            "['sadness', 'fear', 'sadness', 'fear', 'sadness']\n",
            "self-consistency\t0.322463768115942\n"
          ]
        },
        {
          "output_type": "stream",
          "name": "stderr",
          "text": [
            "\n"
          ]
        }
      ],
      "source": [
        "for name, fn in [\n",
        "    (\"majority\", classify_majority_label),\n",
        "    (\"zero-shot\", classify_zero_shot1), # just going to use the first one as I made 3\n",
        "    (\"few-shot\", classify_few_shot),\n",
        "    (\"zero-shot-cot\", classify_zero_shot_cot),\n",
        "    (\"few-shot-cot\", classify_few_shot_cot),\n",
        "    (\"self-consistency\", classify_zero_shot_self_consistency)\n",
        "]:\n",
        "    score = evaluate(fn)\n",
        "    print(f\"{name}\\t{score}\")"
      ]
    },
    {
      "cell_type": "markdown",
      "source": [
        "I added some error handling so the output is a bit hard to see. I included the results below.\n",
        "```\n",
        "majority\t0.2028985507246377\n",
        "zero-shot\t0.20652173913043478\n",
        "few-shot\t0.35507246376811596\n",
        "zero-shot-cot\t0.10869565217391304\n",
        "few-shot-cot\t0.17753623188405798\n",
        "self-consistency\t0.32971014492753625\n",
        "```\n",
        "Between all the prompting strategies, the most noteworthy observation may be that the chain-of-thought prompts (for both zero and few shot) seemed to underperform as compared with their non chain-of-thought prompt counterparts. A potential justification for this may be that the LLM doesn't do well with being told explicitly how it should categorize emotion, or that following the exact procedure outlined in the prompt leads to bad conclusions. Another general conclusion that can be drawn from the evaluation is that few-shot prompts, whether integrating chain-of-thought or not, always performed about twice as well as the zero-shot prompts. It does make sense that the few-shot would perform better as the prompt contains more context in the form of examples, but this seems a very significant improvement over zero-shot.\n",
        "\n"
      ],
      "metadata": {
        "id": "UvnvjqV5DNAq"
      },
      "id": "UvnvjqV5DNAq"
    }
  ],
  "metadata": {
    "kernelspec": {
      "display_name": "Python 3",
      "name": "python3"
    },
    "language_info": {
      "codemirror_mode": {
        "name": "ipython",
        "version": 3
      },
      "file_extension": ".py",
      "mimetype": "text/x-python",
      "name": "python",
      "nbconvert_exporter": "python",
      "pygments_lexer": "ipython3",
      "version": "3.11.14"
    },
    "colab": {
      "provenance": [],
      "gpuType": "T4",
      "include_colab_link": true
    },
    "accelerator": "GPU",
    "widgets": {
      "application/vnd.jupyter.widget-state+json": {
        "7dd736ca7cd0421bb42e2c905a24a649": {
          "model_module": "@jupyter-widgets/controls",
          "model_name": "HBoxModel",
          "model_module_version": "1.5.0",
          "state": {
            "_dom_classes": [],
            "_model_module": "@jupyter-widgets/controls",
            "_model_module_version": "1.5.0",
            "_model_name": "HBoxModel",
            "_view_count": null,
            "_view_module": "@jupyter-widgets/controls",
            "_view_module_version": "1.5.0",
            "_view_name": "HBoxView",
            "box_style": "",
            "children": [
              "IPY_MODEL_0adf16baf1c042c29a66d4ad6b21ab76",
              "IPY_MODEL_4a4db78796e940208457fa07a0c3fe41",
              "IPY_MODEL_53595633ba324874b580089e461837b5"
            ],
            "layout": "IPY_MODEL_ae928fa510694a458ecec783ec107c30"
          }
        },
        "0adf16baf1c042c29a66d4ad6b21ab76": {
          "model_module": "@jupyter-widgets/controls",
          "model_name": "HTMLModel",
          "model_module_version": "1.5.0",
          "state": {
            "_dom_classes": [],
            "_model_module": "@jupyter-widgets/controls",
            "_model_module_version": "1.5.0",
            "_model_name": "HTMLModel",
            "_view_count": null,
            "_view_module": "@jupyter-widgets/controls",
            "_view_module_version": "1.5.0",
            "_view_name": "HTMLView",
            "description": "",
            "description_tooltip": null,
            "layout": "IPY_MODEL_855fb5c44fd745ca979ff3f3e121f16b",
            "placeholder": "​",
            "style": "IPY_MODEL_3b02d6c1708b466b9a25488713310118",
            "value": "config.json: 100%"
          }
        },
        "4a4db78796e940208457fa07a0c3fe41": {
          "model_module": "@jupyter-widgets/controls",
          "model_name": "FloatProgressModel",
          "model_module_version": "1.5.0",
          "state": {
            "_dom_classes": [],
            "_model_module": "@jupyter-widgets/controls",
            "_model_module_version": "1.5.0",
            "_model_name": "FloatProgressModel",
            "_view_count": null,
            "_view_module": "@jupyter-widgets/controls",
            "_view_module_version": "1.5.0",
            "_view_name": "ProgressView",
            "bar_style": "success",
            "description": "",
            "description_tooltip": null,
            "layout": "IPY_MODEL_bf90c5a922fa4d659bea66d3fb5be78b",
            "max": 726,
            "min": 0,
            "orientation": "horizontal",
            "style": "IPY_MODEL_675db87609ec4c83bfb450237668090b",
            "value": 726
          }
        },
        "53595633ba324874b580089e461837b5": {
          "model_module": "@jupyter-widgets/controls",
          "model_name": "HTMLModel",
          "model_module_version": "1.5.0",
          "state": {
            "_dom_classes": [],
            "_model_module": "@jupyter-widgets/controls",
            "_model_module_version": "1.5.0",
            "_model_name": "HTMLModel",
            "_view_count": null,
            "_view_module": "@jupyter-widgets/controls",
            "_view_module_version": "1.5.0",
            "_view_name": "HTMLView",
            "description": "",
            "description_tooltip": null,
            "layout": "IPY_MODEL_46f702966ee14302be5cdab67e45af9a",
            "placeholder": "​",
            "style": "IPY_MODEL_bb17efdcf1364129ae5fdff34d9ff76e",
            "value": " 726/726 [00:00&lt;00:00, 23.4kB/s]"
          }
        },
        "ae928fa510694a458ecec783ec107c30": {
          "model_module": "@jupyter-widgets/base",
          "model_name": "LayoutModel",
          "model_module_version": "1.2.0",
          "state": {
            "_model_module": "@jupyter-widgets/base",
            "_model_module_version": "1.2.0",
            "_model_name": "LayoutModel",
            "_view_count": null,
            "_view_module": "@jupyter-widgets/base",
            "_view_module_version": "1.2.0",
            "_view_name": "LayoutView",
            "align_content": null,
            "align_items": null,
            "align_self": null,
            "border": null,
            "bottom": null,
            "display": null,
            "flex": null,
            "flex_flow": null,
            "grid_area": null,
            "grid_auto_columns": null,
            "grid_auto_flow": null,
            "grid_auto_rows": null,
            "grid_column": null,
            "grid_gap": null,
            "grid_row": null,
            "grid_template_areas": null,
            "grid_template_columns": null,
            "grid_template_rows": null,
            "height": null,
            "justify_content": null,
            "justify_items": null,
            "left": null,
            "margin": null,
            "max_height": null,
            "max_width": null,
            "min_height": null,
            "min_width": null,
            "object_fit": null,
            "object_position": null,
            "order": null,
            "overflow": null,
            "overflow_x": null,
            "overflow_y": null,
            "padding": null,
            "right": null,
            "top": null,
            "visibility": null,
            "width": null
          }
        },
        "855fb5c44fd745ca979ff3f3e121f16b": {
          "model_module": "@jupyter-widgets/base",
          "model_name": "LayoutModel",
          "model_module_version": "1.2.0",
          "state": {
            "_model_module": "@jupyter-widgets/base",
            "_model_module_version": "1.2.0",
            "_model_name": "LayoutModel",
            "_view_count": null,
            "_view_module": "@jupyter-widgets/base",
            "_view_module_version": "1.2.0",
            "_view_name": "LayoutView",
            "align_content": null,
            "align_items": null,
            "align_self": null,
            "border": null,
            "bottom": null,
            "display": null,
            "flex": null,
            "flex_flow": null,
            "grid_area": null,
            "grid_auto_columns": null,
            "grid_auto_flow": null,
            "grid_auto_rows": null,
            "grid_column": null,
            "grid_gap": null,
            "grid_row": null,
            "grid_template_areas": null,
            "grid_template_columns": null,
            "grid_template_rows": null,
            "height": null,
            "justify_content": null,
            "justify_items": null,
            "left": null,
            "margin": null,
            "max_height": null,
            "max_width": null,
            "min_height": null,
            "min_width": null,
            "object_fit": null,
            "object_position": null,
            "order": null,
            "overflow": null,
            "overflow_x": null,
            "overflow_y": null,
            "padding": null,
            "right": null,
            "top": null,
            "visibility": null,
            "width": null
          }
        },
        "3b02d6c1708b466b9a25488713310118": {
          "model_module": "@jupyter-widgets/controls",
          "model_name": "DescriptionStyleModel",
          "model_module_version": "1.5.0",
          "state": {
            "_model_module": "@jupyter-widgets/controls",
            "_model_module_version": "1.5.0",
            "_model_name": "DescriptionStyleModel",
            "_view_count": null,
            "_view_module": "@jupyter-widgets/base",
            "_view_module_version": "1.2.0",
            "_view_name": "StyleView",
            "description_width": ""
          }
        },
        "bf90c5a922fa4d659bea66d3fb5be78b": {
          "model_module": "@jupyter-widgets/base",
          "model_name": "LayoutModel",
          "model_module_version": "1.2.0",
          "state": {
            "_model_module": "@jupyter-widgets/base",
            "_model_module_version": "1.2.0",
            "_model_name": "LayoutModel",
            "_view_count": null,
            "_view_module": "@jupyter-widgets/base",
            "_view_module_version": "1.2.0",
            "_view_name": "LayoutView",
            "align_content": null,
            "align_items": null,
            "align_self": null,
            "border": null,
            "bottom": null,
            "display": null,
            "flex": null,
            "flex_flow": null,
            "grid_area": null,
            "grid_auto_columns": null,
            "grid_auto_flow": null,
            "grid_auto_rows": null,
            "grid_column": null,
            "grid_gap": null,
            "grid_row": null,
            "grid_template_areas": null,
            "grid_template_columns": null,
            "grid_template_rows": null,
            "height": null,
            "justify_content": null,
            "justify_items": null,
            "left": null,
            "margin": null,
            "max_height": null,
            "max_width": null,
            "min_height": null,
            "min_width": null,
            "object_fit": null,
            "object_position": null,
            "order": null,
            "overflow": null,
            "overflow_x": null,
            "overflow_y": null,
            "padding": null,
            "right": null,
            "top": null,
            "visibility": null,
            "width": null
          }
        },
        "675db87609ec4c83bfb450237668090b": {
          "model_module": "@jupyter-widgets/controls",
          "model_name": "ProgressStyleModel",
          "model_module_version": "1.5.0",
          "state": {
            "_model_module": "@jupyter-widgets/controls",
            "_model_module_version": "1.5.0",
            "_model_name": "ProgressStyleModel",
            "_view_count": null,
            "_view_module": "@jupyter-widgets/base",
            "_view_module_version": "1.2.0",
            "_view_name": "StyleView",
            "bar_color": null,
            "description_width": ""
          }
        },
        "46f702966ee14302be5cdab67e45af9a": {
          "model_module": "@jupyter-widgets/base",
          "model_name": "LayoutModel",
          "model_module_version": "1.2.0",
          "state": {
            "_model_module": "@jupyter-widgets/base",
            "_model_module_version": "1.2.0",
            "_model_name": "LayoutModel",
            "_view_count": null,
            "_view_module": "@jupyter-widgets/base",
            "_view_module_version": "1.2.0",
            "_view_name": "LayoutView",
            "align_content": null,
            "align_items": null,
            "align_self": null,
            "border": null,
            "bottom": null,
            "display": null,
            "flex": null,
            "flex_flow": null,
            "grid_area": null,
            "grid_auto_columns": null,
            "grid_auto_flow": null,
            "grid_auto_rows": null,
            "grid_column": null,
            "grid_gap": null,
            "grid_row": null,
            "grid_template_areas": null,
            "grid_template_columns": null,
            "grid_template_rows": null,
            "height": null,
            "justify_content": null,
            "justify_items": null,
            "left": null,
            "margin": null,
            "max_height": null,
            "max_width": null,
            "min_height": null,
            "min_width": null,
            "object_fit": null,
            "object_position": null,
            "order": null,
            "overflow": null,
            "overflow_x": null,
            "overflow_y": null,
            "padding": null,
            "right": null,
            "top": null,
            "visibility": null,
            "width": null
          }
        },
        "bb17efdcf1364129ae5fdff34d9ff76e": {
          "model_module": "@jupyter-widgets/controls",
          "model_name": "DescriptionStyleModel",
          "model_module_version": "1.5.0",
          "state": {
            "_model_module": "@jupyter-widgets/controls",
            "_model_module_version": "1.5.0",
            "_model_name": "DescriptionStyleModel",
            "_view_count": null,
            "_view_module": "@jupyter-widgets/base",
            "_view_module_version": "1.2.0",
            "_view_name": "StyleView",
            "description_width": ""
          }
        },
        "ff324433c15144388049c8f2e493b6db": {
          "model_module": "@jupyter-widgets/controls",
          "model_name": "HBoxModel",
          "model_module_version": "1.5.0",
          "state": {
            "_dom_classes": [],
            "_model_module": "@jupyter-widgets/controls",
            "_model_module_version": "1.5.0",
            "_model_name": "HBoxModel",
            "_view_count": null,
            "_view_module": "@jupyter-widgets/controls",
            "_view_module_version": "1.5.0",
            "_view_name": "HBoxView",
            "box_style": "",
            "children": [
              "IPY_MODEL_f21ed8b26abe44a6a078319f0c0ab19d",
              "IPY_MODEL_a8e5203b22f04f7ca103f008711b1233",
              "IPY_MODEL_a99d01e87e9045aea69722c30279e4b8"
            ],
            "layout": "IPY_MODEL_708082ee2c1a407caae7563ea07ae56c"
          }
        },
        "f21ed8b26abe44a6a078319f0c0ab19d": {
          "model_module": "@jupyter-widgets/controls",
          "model_name": "HTMLModel",
          "model_module_version": "1.5.0",
          "state": {
            "_dom_classes": [],
            "_model_module": "@jupyter-widgets/controls",
            "_model_module_version": "1.5.0",
            "_model_name": "HTMLModel",
            "_view_count": null,
            "_view_module": "@jupyter-widgets/controls",
            "_view_module_version": "1.5.0",
            "_view_name": "HTMLView",
            "description": "",
            "description_tooltip": null,
            "layout": "IPY_MODEL_57be04628d484cd79ca922593bbc24b9",
            "placeholder": "​",
            "style": "IPY_MODEL_6a510df5598547968c52c633ad16fbf6",
            "value": "model.safetensors.index.json: "
          }
        },
        "a8e5203b22f04f7ca103f008711b1233": {
          "model_module": "@jupyter-widgets/controls",
          "model_name": "FloatProgressModel",
          "model_module_version": "1.5.0",
          "state": {
            "_dom_classes": [],
            "_model_module": "@jupyter-widgets/controls",
            "_model_module_version": "1.5.0",
            "_model_name": "FloatProgressModel",
            "_view_count": null,
            "_view_module": "@jupyter-widgets/controls",
            "_view_module_version": "1.5.0",
            "_view_name": "ProgressView",
            "bar_style": "success",
            "description": "",
            "description_tooltip": null,
            "layout": "IPY_MODEL_b3ddb9bf9a9e409aab19b9e8985359da",
            "max": 1,
            "min": 0,
            "orientation": "horizontal",
            "style": "IPY_MODEL_6d9da47e5e4340788f690dbb80d4162d",
            "value": 1
          }
        },
        "a99d01e87e9045aea69722c30279e4b8": {
          "model_module": "@jupyter-widgets/controls",
          "model_name": "HTMLModel",
          "model_module_version": "1.5.0",
          "state": {
            "_dom_classes": [],
            "_model_module": "@jupyter-widgets/controls",
            "_model_module_version": "1.5.0",
            "_model_name": "HTMLModel",
            "_view_count": null,
            "_view_module": "@jupyter-widgets/controls",
            "_view_module_version": "1.5.0",
            "_view_name": "HTMLView",
            "description": "",
            "description_tooltip": null,
            "layout": "IPY_MODEL_9e30df7a08884f60828f5e446f2cb657",
            "placeholder": "​",
            "style": "IPY_MODEL_dabb06237aa74de1978113832a951580",
            "value": " 32.8k/? [00:00&lt;00:00, 2.11MB/s]"
          }
        },
        "708082ee2c1a407caae7563ea07ae56c": {
          "model_module": "@jupyter-widgets/base",
          "model_name": "LayoutModel",
          "model_module_version": "1.2.0",
          "state": {
            "_model_module": "@jupyter-widgets/base",
            "_model_module_version": "1.2.0",
            "_model_name": "LayoutModel",
            "_view_count": null,
            "_view_module": "@jupyter-widgets/base",
            "_view_module_version": "1.2.0",
            "_view_name": "LayoutView",
            "align_content": null,
            "align_items": null,
            "align_self": null,
            "border": null,
            "bottom": null,
            "display": null,
            "flex": null,
            "flex_flow": null,
            "grid_area": null,
            "grid_auto_columns": null,
            "grid_auto_flow": null,
            "grid_auto_rows": null,
            "grid_column": null,
            "grid_gap": null,
            "grid_row": null,
            "grid_template_areas": null,
            "grid_template_columns": null,
            "grid_template_rows": null,
            "height": null,
            "justify_content": null,
            "justify_items": null,
            "left": null,
            "margin": null,
            "max_height": null,
            "max_width": null,
            "min_height": null,
            "min_width": null,
            "object_fit": null,
            "object_position": null,
            "order": null,
            "overflow": null,
            "overflow_x": null,
            "overflow_y": null,
            "padding": null,
            "right": null,
            "top": null,
            "visibility": null,
            "width": null
          }
        },
        "57be04628d484cd79ca922593bbc24b9": {
          "model_module": "@jupyter-widgets/base",
          "model_name": "LayoutModel",
          "model_module_version": "1.2.0",
          "state": {
            "_model_module": "@jupyter-widgets/base",
            "_model_module_version": "1.2.0",
            "_model_name": "LayoutModel",
            "_view_count": null,
            "_view_module": "@jupyter-widgets/base",
            "_view_module_version": "1.2.0",
            "_view_name": "LayoutView",
            "align_content": null,
            "align_items": null,
            "align_self": null,
            "border": null,
            "bottom": null,
            "display": null,
            "flex": null,
            "flex_flow": null,
            "grid_area": null,
            "grid_auto_columns": null,
            "grid_auto_flow": null,
            "grid_auto_rows": null,
            "grid_column": null,
            "grid_gap": null,
            "grid_row": null,
            "grid_template_areas": null,
            "grid_template_columns": null,
            "grid_template_rows": null,
            "height": null,
            "justify_content": null,
            "justify_items": null,
            "left": null,
            "margin": null,
            "max_height": null,
            "max_width": null,
            "min_height": null,
            "min_width": null,
            "object_fit": null,
            "object_position": null,
            "order": null,
            "overflow": null,
            "overflow_x": null,
            "overflow_y": null,
            "padding": null,
            "right": null,
            "top": null,
            "visibility": null,
            "width": null
          }
        },
        "6a510df5598547968c52c633ad16fbf6": {
          "model_module": "@jupyter-widgets/controls",
          "model_name": "DescriptionStyleModel",
          "model_module_version": "1.5.0",
          "state": {
            "_model_module": "@jupyter-widgets/controls",
            "_model_module_version": "1.5.0",
            "_model_name": "DescriptionStyleModel",
            "_view_count": null,
            "_view_module": "@jupyter-widgets/base",
            "_view_module_version": "1.2.0",
            "_view_name": "StyleView",
            "description_width": ""
          }
        },
        "b3ddb9bf9a9e409aab19b9e8985359da": {
          "model_module": "@jupyter-widgets/base",
          "model_name": "LayoutModel",
          "model_module_version": "1.2.0",
          "state": {
            "_model_module": "@jupyter-widgets/base",
            "_model_module_version": "1.2.0",
            "_model_name": "LayoutModel",
            "_view_count": null,
            "_view_module": "@jupyter-widgets/base",
            "_view_module_version": "1.2.0",
            "_view_name": "LayoutView",
            "align_content": null,
            "align_items": null,
            "align_self": null,
            "border": null,
            "bottom": null,
            "display": null,
            "flex": null,
            "flex_flow": null,
            "grid_area": null,
            "grid_auto_columns": null,
            "grid_auto_flow": null,
            "grid_auto_rows": null,
            "grid_column": null,
            "grid_gap": null,
            "grid_row": null,
            "grid_template_areas": null,
            "grid_template_columns": null,
            "grid_template_rows": null,
            "height": null,
            "justify_content": null,
            "justify_items": null,
            "left": null,
            "margin": null,
            "max_height": null,
            "max_width": null,
            "min_height": null,
            "min_width": null,
            "object_fit": null,
            "object_position": null,
            "order": null,
            "overflow": null,
            "overflow_x": null,
            "overflow_y": null,
            "padding": null,
            "right": null,
            "top": null,
            "visibility": null,
            "width": "20px"
          }
        },
        "6d9da47e5e4340788f690dbb80d4162d": {
          "model_module": "@jupyter-widgets/controls",
          "model_name": "ProgressStyleModel",
          "model_module_version": "1.5.0",
          "state": {
            "_model_module": "@jupyter-widgets/controls",
            "_model_module_version": "1.5.0",
            "_model_name": "ProgressStyleModel",
            "_view_count": null,
            "_view_module": "@jupyter-widgets/base",
            "_view_module_version": "1.2.0",
            "_view_name": "StyleView",
            "bar_color": null,
            "description_width": ""
          }
        },
        "9e30df7a08884f60828f5e446f2cb657": {
          "model_module": "@jupyter-widgets/base",
          "model_name": "LayoutModel",
          "model_module_version": "1.2.0",
          "state": {
            "_model_module": "@jupyter-widgets/base",
            "_model_module_version": "1.2.0",
            "_model_name": "LayoutModel",
            "_view_count": null,
            "_view_module": "@jupyter-widgets/base",
            "_view_module_version": "1.2.0",
            "_view_name": "LayoutView",
            "align_content": null,
            "align_items": null,
            "align_self": null,
            "border": null,
            "bottom": null,
            "display": null,
            "flex": null,
            "flex_flow": null,
            "grid_area": null,
            "grid_auto_columns": null,
            "grid_auto_flow": null,
            "grid_auto_rows": null,
            "grid_column": null,
            "grid_gap": null,
            "grid_row": null,
            "grid_template_areas": null,
            "grid_template_columns": null,
            "grid_template_rows": null,
            "height": null,
            "justify_content": null,
            "justify_items": null,
            "left": null,
            "margin": null,
            "max_height": null,
            "max_width": null,
            "min_height": null,
            "min_width": null,
            "object_fit": null,
            "object_position": null,
            "order": null,
            "overflow": null,
            "overflow_x": null,
            "overflow_y": null,
            "padding": null,
            "right": null,
            "top": null,
            "visibility": null,
            "width": null
          }
        },
        "dabb06237aa74de1978113832a951580": {
          "model_module": "@jupyter-widgets/controls",
          "model_name": "DescriptionStyleModel",
          "model_module_version": "1.5.0",
          "state": {
            "_model_module": "@jupyter-widgets/controls",
            "_model_module_version": "1.5.0",
            "_model_name": "DescriptionStyleModel",
            "_view_count": null,
            "_view_module": "@jupyter-widgets/base",
            "_view_module_version": "1.2.0",
            "_view_name": "StyleView",
            "description_width": ""
          }
        },
        "1f5caa037d174530af5651df52fa2bc1": {
          "model_module": "@jupyter-widgets/controls",
          "model_name": "HBoxModel",
          "model_module_version": "1.5.0",
          "state": {
            "_dom_classes": [],
            "_model_module": "@jupyter-widgets/controls",
            "_model_module_version": "1.5.0",
            "_model_name": "HBoxModel",
            "_view_count": null,
            "_view_module": "@jupyter-widgets/controls",
            "_view_module_version": "1.5.0",
            "_view_name": "HBoxView",
            "box_style": "",
            "children": [
              "IPY_MODEL_050f93d4f5a44c40983399d2d536c39f",
              "IPY_MODEL_210cb1bb6dcf4e52b86efb766b86d883",
              "IPY_MODEL_ae9f597ebd3340cfa3d1ed11753bbd26"
            ],
            "layout": "IPY_MODEL_b394c2bce76443a180a1dd40570669ea"
          }
        },
        "050f93d4f5a44c40983399d2d536c39f": {
          "model_module": "@jupyter-widgets/controls",
          "model_name": "HTMLModel",
          "model_module_version": "1.5.0",
          "state": {
            "_dom_classes": [],
            "_model_module": "@jupyter-widgets/controls",
            "_model_module_version": "1.5.0",
            "_model_name": "HTMLModel",
            "_view_count": null,
            "_view_module": "@jupyter-widgets/controls",
            "_view_module_version": "1.5.0",
            "_view_name": "HTMLView",
            "description": "",
            "description_tooltip": null,
            "layout": "IPY_MODEL_0178b9554f0047188fb45ab7f9a4b4fa",
            "placeholder": "​",
            "style": "IPY_MODEL_8741c25826b44c57b48b6b9511b3fcb0",
            "value": "Fetching 3 files: 100%"
          }
        },
        "210cb1bb6dcf4e52b86efb766b86d883": {
          "model_module": "@jupyter-widgets/controls",
          "model_name": "FloatProgressModel",
          "model_module_version": "1.5.0",
          "state": {
            "_dom_classes": [],
            "_model_module": "@jupyter-widgets/controls",
            "_model_module_version": "1.5.0",
            "_model_name": "FloatProgressModel",
            "_view_count": null,
            "_view_module": "@jupyter-widgets/controls",
            "_view_module_version": "1.5.0",
            "_view_name": "ProgressView",
            "bar_style": "success",
            "description": "",
            "description_tooltip": null,
            "layout": "IPY_MODEL_1a90d31704364ffab893ee4ecc813a74",
            "max": 3,
            "min": 0,
            "orientation": "horizontal",
            "style": "IPY_MODEL_20eaa36527dd44c69dc5aa2cbe24cb5b",
            "value": 3
          }
        },
        "ae9f597ebd3340cfa3d1ed11753bbd26": {
          "model_module": "@jupyter-widgets/controls",
          "model_name": "HTMLModel",
          "model_module_version": "1.5.0",
          "state": {
            "_dom_classes": [],
            "_model_module": "@jupyter-widgets/controls",
            "_model_module_version": "1.5.0",
            "_model_name": "HTMLModel",
            "_view_count": null,
            "_view_module": "@jupyter-widgets/controls",
            "_view_module_version": "1.5.0",
            "_view_name": "HTMLView",
            "description": "",
            "description_tooltip": null,
            "layout": "IPY_MODEL_bd429a56b8764de2a9816cc0301af797",
            "placeholder": "​",
            "style": "IPY_MODEL_26282d29f95d4dc79f678ccee2572c3d",
            "value": " 3/3 [03:31&lt;00:00, 88.20s/it]"
          }
        },
        "b394c2bce76443a180a1dd40570669ea": {
          "model_module": "@jupyter-widgets/base",
          "model_name": "LayoutModel",
          "model_module_version": "1.2.0",
          "state": {
            "_model_module": "@jupyter-widgets/base",
            "_model_module_version": "1.2.0",
            "_model_name": "LayoutModel",
            "_view_count": null,
            "_view_module": "@jupyter-widgets/base",
            "_view_module_version": "1.2.0",
            "_view_name": "LayoutView",
            "align_content": null,
            "align_items": null,
            "align_self": null,
            "border": null,
            "bottom": null,
            "display": null,
            "flex": null,
            "flex_flow": null,
            "grid_area": null,
            "grid_auto_columns": null,
            "grid_auto_flow": null,
            "grid_auto_rows": null,
            "grid_column": null,
            "grid_gap": null,
            "grid_row": null,
            "grid_template_areas": null,
            "grid_template_columns": null,
            "grid_template_rows": null,
            "height": null,
            "justify_content": null,
            "justify_items": null,
            "left": null,
            "margin": null,
            "max_height": null,
            "max_width": null,
            "min_height": null,
            "min_width": null,
            "object_fit": null,
            "object_position": null,
            "order": null,
            "overflow": null,
            "overflow_x": null,
            "overflow_y": null,
            "padding": null,
            "right": null,
            "top": null,
            "visibility": null,
            "width": null
          }
        },
        "0178b9554f0047188fb45ab7f9a4b4fa": {
          "model_module": "@jupyter-widgets/base",
          "model_name": "LayoutModel",
          "model_module_version": "1.2.0",
          "state": {
            "_model_module": "@jupyter-widgets/base",
            "_model_module_version": "1.2.0",
            "_model_name": "LayoutModel",
            "_view_count": null,
            "_view_module": "@jupyter-widgets/base",
            "_view_module_version": "1.2.0",
            "_view_name": "LayoutView",
            "align_content": null,
            "align_items": null,
            "align_self": null,
            "border": null,
            "bottom": null,
            "display": null,
            "flex": null,
            "flex_flow": null,
            "grid_area": null,
            "grid_auto_columns": null,
            "grid_auto_flow": null,
            "grid_auto_rows": null,
            "grid_column": null,
            "grid_gap": null,
            "grid_row": null,
            "grid_template_areas": null,
            "grid_template_columns": null,
            "grid_template_rows": null,
            "height": null,
            "justify_content": null,
            "justify_items": null,
            "left": null,
            "margin": null,
            "max_height": null,
            "max_width": null,
            "min_height": null,
            "min_width": null,
            "object_fit": null,
            "object_position": null,
            "order": null,
            "overflow": null,
            "overflow_x": null,
            "overflow_y": null,
            "padding": null,
            "right": null,
            "top": null,
            "visibility": null,
            "width": null
          }
        },
        "8741c25826b44c57b48b6b9511b3fcb0": {
          "model_module": "@jupyter-widgets/controls",
          "model_name": "DescriptionStyleModel",
          "model_module_version": "1.5.0",
          "state": {
            "_model_module": "@jupyter-widgets/controls",
            "_model_module_version": "1.5.0",
            "_model_name": "DescriptionStyleModel",
            "_view_count": null,
            "_view_module": "@jupyter-widgets/base",
            "_view_module_version": "1.2.0",
            "_view_name": "StyleView",
            "description_width": ""
          }
        },
        "1a90d31704364ffab893ee4ecc813a74": {
          "model_module": "@jupyter-widgets/base",
          "model_name": "LayoutModel",
          "model_module_version": "1.2.0",
          "state": {
            "_model_module": "@jupyter-widgets/base",
            "_model_module_version": "1.2.0",
            "_model_name": "LayoutModel",
            "_view_count": null,
            "_view_module": "@jupyter-widgets/base",
            "_view_module_version": "1.2.0",
            "_view_name": "LayoutView",
            "align_content": null,
            "align_items": null,
            "align_self": null,
            "border": null,
            "bottom": null,
            "display": null,
            "flex": null,
            "flex_flow": null,
            "grid_area": null,
            "grid_auto_columns": null,
            "grid_auto_flow": null,
            "grid_auto_rows": null,
            "grid_column": null,
            "grid_gap": null,
            "grid_row": null,
            "grid_template_areas": null,
            "grid_template_columns": null,
            "grid_template_rows": null,
            "height": null,
            "justify_content": null,
            "justify_items": null,
            "left": null,
            "margin": null,
            "max_height": null,
            "max_width": null,
            "min_height": null,
            "min_width": null,
            "object_fit": null,
            "object_position": null,
            "order": null,
            "overflow": null,
            "overflow_x": null,
            "overflow_y": null,
            "padding": null,
            "right": null,
            "top": null,
            "visibility": null,
            "width": null
          }
        },
        "20eaa36527dd44c69dc5aa2cbe24cb5b": {
          "model_module": "@jupyter-widgets/controls",
          "model_name": "ProgressStyleModel",
          "model_module_version": "1.5.0",
          "state": {
            "_model_module": "@jupyter-widgets/controls",
            "_model_module_version": "1.5.0",
            "_model_name": "ProgressStyleModel",
            "_view_count": null,
            "_view_module": "@jupyter-widgets/base",
            "_view_module_version": "1.2.0",
            "_view_name": "StyleView",
            "bar_color": null,
            "description_width": ""
          }
        },
        "bd429a56b8764de2a9816cc0301af797": {
          "model_module": "@jupyter-widgets/base",
          "model_name": "LayoutModel",
          "model_module_version": "1.2.0",
          "state": {
            "_model_module": "@jupyter-widgets/base",
            "_model_module_version": "1.2.0",
            "_model_name": "LayoutModel",
            "_view_count": null,
            "_view_module": "@jupyter-widgets/base",
            "_view_module_version": "1.2.0",
            "_view_name": "LayoutView",
            "align_content": null,
            "align_items": null,
            "align_self": null,
            "border": null,
            "bottom": null,
            "display": null,
            "flex": null,
            "flex_flow": null,
            "grid_area": null,
            "grid_auto_columns": null,
            "grid_auto_flow": null,
            "grid_auto_rows": null,
            "grid_column": null,
            "grid_gap": null,
            "grid_row": null,
            "grid_template_areas": null,
            "grid_template_columns": null,
            "grid_template_rows": null,
            "height": null,
            "justify_content": null,
            "justify_items": null,
            "left": null,
            "margin": null,
            "max_height": null,
            "max_width": null,
            "min_height": null,
            "min_width": null,
            "object_fit": null,
            "object_position": null,
            "order": null,
            "overflow": null,
            "overflow_x": null,
            "overflow_y": null,
            "padding": null,
            "right": null,
            "top": null,
            "visibility": null,
            "width": null
          }
        },
        "26282d29f95d4dc79f678ccee2572c3d": {
          "model_module": "@jupyter-widgets/controls",
          "model_name": "DescriptionStyleModel",
          "model_module_version": "1.5.0",
          "state": {
            "_model_module": "@jupyter-widgets/controls",
            "_model_module_version": "1.5.0",
            "_model_name": "DescriptionStyleModel",
            "_view_count": null,
            "_view_module": "@jupyter-widgets/base",
            "_view_module_version": "1.2.0",
            "_view_name": "StyleView",
            "description_width": ""
          }
        },
        "9ec635bad0e74137b3fd4e80a21b3fb2": {
          "model_module": "@jupyter-widgets/controls",
          "model_name": "HBoxModel",
          "model_module_version": "1.5.0",
          "state": {
            "_dom_classes": [],
            "_model_module": "@jupyter-widgets/controls",
            "_model_module_version": "1.5.0",
            "_model_name": "HBoxModel",
            "_view_count": null,
            "_view_module": "@jupyter-widgets/controls",
            "_view_module_version": "1.5.0",
            "_view_name": "HBoxView",
            "box_style": "",
            "children": [
              "IPY_MODEL_28f7cb69795e4788918cb0ade14d4d0c",
              "IPY_MODEL_42daa3f9a6664ad981958949c15d0e87",
              "IPY_MODEL_77b23053796c407084e1d079cea420ad"
            ],
            "layout": "IPY_MODEL_374e854fe9c64395928ffa99b85cefa3"
          }
        },
        "28f7cb69795e4788918cb0ade14d4d0c": {
          "model_module": "@jupyter-widgets/controls",
          "model_name": "HTMLModel",
          "model_module_version": "1.5.0",
          "state": {
            "_dom_classes": [],
            "_model_module": "@jupyter-widgets/controls",
            "_model_module_version": "1.5.0",
            "_model_name": "HTMLModel",
            "_view_count": null,
            "_view_module": "@jupyter-widgets/controls",
            "_view_module_version": "1.5.0",
            "_view_name": "HTMLView",
            "description": "",
            "description_tooltip": null,
            "layout": "IPY_MODEL_16bed1c1be0a4dd883ad131e370d513f",
            "placeholder": "​",
            "style": "IPY_MODEL_65b113042f244e9b8b5692849ab3d1fa",
            "value": "model-00002-of-00003.safetensors: 100%"
          }
        },
        "42daa3f9a6664ad981958949c15d0e87": {
          "model_module": "@jupyter-widgets/controls",
          "model_name": "FloatProgressModel",
          "model_module_version": "1.5.0",
          "state": {
            "_dom_classes": [],
            "_model_module": "@jupyter-widgets/controls",
            "_model_module_version": "1.5.0",
            "_model_name": "FloatProgressModel",
            "_view_count": null,
            "_view_module": "@jupyter-widgets/controls",
            "_view_module_version": "1.5.0",
            "_view_name": "ProgressView",
            "bar_style": "success",
            "description": "",
            "description_tooltip": null,
            "layout": "IPY_MODEL_6d28190e528d453ca8059cda45c376a2",
            "max": 3987450520,
            "min": 0,
            "orientation": "horizontal",
            "style": "IPY_MODEL_dca185f338114808a6d572db2557e4c0",
            "value": 3987450520
          }
        },
        "77b23053796c407084e1d079cea420ad": {
          "model_module": "@jupyter-widgets/controls",
          "model_name": "HTMLModel",
          "model_module_version": "1.5.0",
          "state": {
            "_dom_classes": [],
            "_model_module": "@jupyter-widgets/controls",
            "_model_module_version": "1.5.0",
            "_model_name": "HTMLModel",
            "_view_count": null,
            "_view_module": "@jupyter-widgets/controls",
            "_view_module_version": "1.5.0",
            "_view_name": "HTMLView",
            "description": "",
            "description_tooltip": null,
            "layout": "IPY_MODEL_f621133be06c4783aeca7e5ee71fb383",
            "placeholder": "​",
            "style": "IPY_MODEL_1af38d0e233a468dbf0a724e80ca04f4",
            "value": " 3.99G/3.99G [03:30&lt;00:00, 17.7MB/s]"
          }
        },
        "374e854fe9c64395928ffa99b85cefa3": {
          "model_module": "@jupyter-widgets/base",
          "model_name": "LayoutModel",
          "model_module_version": "1.2.0",
          "state": {
            "_model_module": "@jupyter-widgets/base",
            "_model_module_version": "1.2.0",
            "_model_name": "LayoutModel",
            "_view_count": null,
            "_view_module": "@jupyter-widgets/base",
            "_view_module_version": "1.2.0",
            "_view_name": "LayoutView",
            "align_content": null,
            "align_items": null,
            "align_self": null,
            "border": null,
            "bottom": null,
            "display": null,
            "flex": null,
            "flex_flow": null,
            "grid_area": null,
            "grid_auto_columns": null,
            "grid_auto_flow": null,
            "grid_auto_rows": null,
            "grid_column": null,
            "grid_gap": null,
            "grid_row": null,
            "grid_template_areas": null,
            "grid_template_columns": null,
            "grid_template_rows": null,
            "height": null,
            "justify_content": null,
            "justify_items": null,
            "left": null,
            "margin": null,
            "max_height": null,
            "max_width": null,
            "min_height": null,
            "min_width": null,
            "object_fit": null,
            "object_position": null,
            "order": null,
            "overflow": null,
            "overflow_x": null,
            "overflow_y": null,
            "padding": null,
            "right": null,
            "top": null,
            "visibility": null,
            "width": null
          }
        },
        "16bed1c1be0a4dd883ad131e370d513f": {
          "model_module": "@jupyter-widgets/base",
          "model_name": "LayoutModel",
          "model_module_version": "1.2.0",
          "state": {
            "_model_module": "@jupyter-widgets/base",
            "_model_module_version": "1.2.0",
            "_model_name": "LayoutModel",
            "_view_count": null,
            "_view_module": "@jupyter-widgets/base",
            "_view_module_version": "1.2.0",
            "_view_name": "LayoutView",
            "align_content": null,
            "align_items": null,
            "align_self": null,
            "border": null,
            "bottom": null,
            "display": null,
            "flex": null,
            "flex_flow": null,
            "grid_area": null,
            "grid_auto_columns": null,
            "grid_auto_flow": null,
            "grid_auto_rows": null,
            "grid_column": null,
            "grid_gap": null,
            "grid_row": null,
            "grid_template_areas": null,
            "grid_template_columns": null,
            "grid_template_rows": null,
            "height": null,
            "justify_content": null,
            "justify_items": null,
            "left": null,
            "margin": null,
            "max_height": null,
            "max_width": null,
            "min_height": null,
            "min_width": null,
            "object_fit": null,
            "object_position": null,
            "order": null,
            "overflow": null,
            "overflow_x": null,
            "overflow_y": null,
            "padding": null,
            "right": null,
            "top": null,
            "visibility": null,
            "width": null
          }
        },
        "65b113042f244e9b8b5692849ab3d1fa": {
          "model_module": "@jupyter-widgets/controls",
          "model_name": "DescriptionStyleModel",
          "model_module_version": "1.5.0",
          "state": {
            "_model_module": "@jupyter-widgets/controls",
            "_model_module_version": "1.5.0",
            "_model_name": "DescriptionStyleModel",
            "_view_count": null,
            "_view_module": "@jupyter-widgets/base",
            "_view_module_version": "1.2.0",
            "_view_name": "StyleView",
            "description_width": ""
          }
        },
        "6d28190e528d453ca8059cda45c376a2": {
          "model_module": "@jupyter-widgets/base",
          "model_name": "LayoutModel",
          "model_module_version": "1.2.0",
          "state": {
            "_model_module": "@jupyter-widgets/base",
            "_model_module_version": "1.2.0",
            "_model_name": "LayoutModel",
            "_view_count": null,
            "_view_module": "@jupyter-widgets/base",
            "_view_module_version": "1.2.0",
            "_view_name": "LayoutView",
            "align_content": null,
            "align_items": null,
            "align_self": null,
            "border": null,
            "bottom": null,
            "display": null,
            "flex": null,
            "flex_flow": null,
            "grid_area": null,
            "grid_auto_columns": null,
            "grid_auto_flow": null,
            "grid_auto_rows": null,
            "grid_column": null,
            "grid_gap": null,
            "grid_row": null,
            "grid_template_areas": null,
            "grid_template_columns": null,
            "grid_template_rows": null,
            "height": null,
            "justify_content": null,
            "justify_items": null,
            "left": null,
            "margin": null,
            "max_height": null,
            "max_width": null,
            "min_height": null,
            "min_width": null,
            "object_fit": null,
            "object_position": null,
            "order": null,
            "overflow": null,
            "overflow_x": null,
            "overflow_y": null,
            "padding": null,
            "right": null,
            "top": null,
            "visibility": null,
            "width": null
          }
        },
        "dca185f338114808a6d572db2557e4c0": {
          "model_module": "@jupyter-widgets/controls",
          "model_name": "ProgressStyleModel",
          "model_module_version": "1.5.0",
          "state": {
            "_model_module": "@jupyter-widgets/controls",
            "_model_module_version": "1.5.0",
            "_model_name": "ProgressStyleModel",
            "_view_count": null,
            "_view_module": "@jupyter-widgets/base",
            "_view_module_version": "1.2.0",
            "_view_name": "StyleView",
            "bar_color": null,
            "description_width": ""
          }
        },
        "f621133be06c4783aeca7e5ee71fb383": {
          "model_module": "@jupyter-widgets/base",
          "model_name": "LayoutModel",
          "model_module_version": "1.2.0",
          "state": {
            "_model_module": "@jupyter-widgets/base",
            "_model_module_version": "1.2.0",
            "_model_name": "LayoutModel",
            "_view_count": null,
            "_view_module": "@jupyter-widgets/base",
            "_view_module_version": "1.2.0",
            "_view_name": "LayoutView",
            "align_content": null,
            "align_items": null,
            "align_self": null,
            "border": null,
            "bottom": null,
            "display": null,
            "flex": null,
            "flex_flow": null,
            "grid_area": null,
            "grid_auto_columns": null,
            "grid_auto_flow": null,
            "grid_auto_rows": null,
            "grid_column": null,
            "grid_gap": null,
            "grid_row": null,
            "grid_template_areas": null,
            "grid_template_columns": null,
            "grid_template_rows": null,
            "height": null,
            "justify_content": null,
            "justify_items": null,
            "left": null,
            "margin": null,
            "max_height": null,
            "max_width": null,
            "min_height": null,
            "min_width": null,
            "object_fit": null,
            "object_position": null,
            "order": null,
            "overflow": null,
            "overflow_x": null,
            "overflow_y": null,
            "padding": null,
            "right": null,
            "top": null,
            "visibility": null,
            "width": null
          }
        },
        "1af38d0e233a468dbf0a724e80ca04f4": {
          "model_module": "@jupyter-widgets/controls",
          "model_name": "DescriptionStyleModel",
          "model_module_version": "1.5.0",
          "state": {
            "_model_module": "@jupyter-widgets/controls",
            "_model_module_version": "1.5.0",
            "_model_name": "DescriptionStyleModel",
            "_view_count": null,
            "_view_module": "@jupyter-widgets/base",
            "_view_module_version": "1.2.0",
            "_view_name": "StyleView",
            "description_width": ""
          }
        },
        "60876c5d8f8e4221beaf642ca165b6a1": {
          "model_module": "@jupyter-widgets/controls",
          "model_name": "HBoxModel",
          "model_module_version": "1.5.0",
          "state": {
            "_dom_classes": [],
            "_model_module": "@jupyter-widgets/controls",
            "_model_module_version": "1.5.0",
            "_model_name": "HBoxModel",
            "_view_count": null,
            "_view_module": "@jupyter-widgets/controls",
            "_view_module_version": "1.5.0",
            "_view_name": "HBoxView",
            "box_style": "",
            "children": [
              "IPY_MODEL_322a4b51112c425fba4f8b289de7736e",
              "IPY_MODEL_4e41879d2c5e4e4cb53d1ff828da9dd5",
              "IPY_MODEL_2459834d2db34a6087f82ce1e7fe7e4d"
            ],
            "layout": "IPY_MODEL_d3142d87827b4f9c8f78d393ea4d1dbb"
          }
        },
        "322a4b51112c425fba4f8b289de7736e": {
          "model_module": "@jupyter-widgets/controls",
          "model_name": "HTMLModel",
          "model_module_version": "1.5.0",
          "state": {
            "_dom_classes": [],
            "_model_module": "@jupyter-widgets/controls",
            "_model_module_version": "1.5.0",
            "_model_name": "HTMLModel",
            "_view_count": null,
            "_view_module": "@jupyter-widgets/controls",
            "_view_module_version": "1.5.0",
            "_view_name": "HTMLView",
            "description": "",
            "description_tooltip": null,
            "layout": "IPY_MODEL_d80876d9bfcd4ed7a5f98ccdba81b582",
            "placeholder": "​",
            "style": "IPY_MODEL_e9114c21037749df8174ce4dff84620f",
            "value": "model-00003-of-00003.safetensors: 100%"
          }
        },
        "4e41879d2c5e4e4cb53d1ff828da9dd5": {
          "model_module": "@jupyter-widgets/controls",
          "model_name": "FloatProgressModel",
          "model_module_version": "1.5.0",
          "state": {
            "_dom_classes": [],
            "_model_module": "@jupyter-widgets/controls",
            "_model_module_version": "1.5.0",
            "_model_name": "FloatProgressModel",
            "_view_count": null,
            "_view_module": "@jupyter-widgets/controls",
            "_view_module_version": "1.5.0",
            "_view_name": "ProgressView",
            "bar_style": "success",
            "description": "",
            "description_tooltip": null,
            "layout": "IPY_MODEL_5e187bb19541415495761a3c9b98bdff",
            "max": 99630640,
            "min": 0,
            "orientation": "horizontal",
            "style": "IPY_MODEL_f8c07317821e4746a75d0b9504b226a4",
            "value": 99630640
          }
        },
        "2459834d2db34a6087f82ce1e7fe7e4d": {
          "model_module": "@jupyter-widgets/controls",
          "model_name": "HTMLModel",
          "model_module_version": "1.5.0",
          "state": {
            "_dom_classes": [],
            "_model_module": "@jupyter-widgets/controls",
            "_model_module_version": "1.5.0",
            "_model_name": "HTMLModel",
            "_view_count": null,
            "_view_module": "@jupyter-widgets/controls",
            "_view_module_version": "1.5.0",
            "_view_name": "HTMLView",
            "description": "",
            "description_tooltip": null,
            "layout": "IPY_MODEL_6779ab002c0d4765b4ef92779f84dfeb",
            "placeholder": "​",
            "style": "IPY_MODEL_e362eaa561924a6482fa82edf1c5b154",
            "value": " 99.6M/99.6M [00:04&lt;00:00, 27.3MB/s]"
          }
        },
        "d3142d87827b4f9c8f78d393ea4d1dbb": {
          "model_module": "@jupyter-widgets/base",
          "model_name": "LayoutModel",
          "model_module_version": "1.2.0",
          "state": {
            "_model_module": "@jupyter-widgets/base",
            "_model_module_version": "1.2.0",
            "_model_name": "LayoutModel",
            "_view_count": null,
            "_view_module": "@jupyter-widgets/base",
            "_view_module_version": "1.2.0",
            "_view_name": "LayoutView",
            "align_content": null,
            "align_items": null,
            "align_self": null,
            "border": null,
            "bottom": null,
            "display": null,
            "flex": null,
            "flex_flow": null,
            "grid_area": null,
            "grid_auto_columns": null,
            "grid_auto_flow": null,
            "grid_auto_rows": null,
            "grid_column": null,
            "grid_gap": null,
            "grid_row": null,
            "grid_template_areas": null,
            "grid_template_columns": null,
            "grid_template_rows": null,
            "height": null,
            "justify_content": null,
            "justify_items": null,
            "left": null,
            "margin": null,
            "max_height": null,
            "max_width": null,
            "min_height": null,
            "min_width": null,
            "object_fit": null,
            "object_position": null,
            "order": null,
            "overflow": null,
            "overflow_x": null,
            "overflow_y": null,
            "padding": null,
            "right": null,
            "top": null,
            "visibility": null,
            "width": null
          }
        },
        "d80876d9bfcd4ed7a5f98ccdba81b582": {
          "model_module": "@jupyter-widgets/base",
          "model_name": "LayoutModel",
          "model_module_version": "1.2.0",
          "state": {
            "_model_module": "@jupyter-widgets/base",
            "_model_module_version": "1.2.0",
            "_model_name": "LayoutModel",
            "_view_count": null,
            "_view_module": "@jupyter-widgets/base",
            "_view_module_version": "1.2.0",
            "_view_name": "LayoutView",
            "align_content": null,
            "align_items": null,
            "align_self": null,
            "border": null,
            "bottom": null,
            "display": null,
            "flex": null,
            "flex_flow": null,
            "grid_area": null,
            "grid_auto_columns": null,
            "grid_auto_flow": null,
            "grid_auto_rows": null,
            "grid_column": null,
            "grid_gap": null,
            "grid_row": null,
            "grid_template_areas": null,
            "grid_template_columns": null,
            "grid_template_rows": null,
            "height": null,
            "justify_content": null,
            "justify_items": null,
            "left": null,
            "margin": null,
            "max_height": null,
            "max_width": null,
            "min_height": null,
            "min_width": null,
            "object_fit": null,
            "object_position": null,
            "order": null,
            "overflow": null,
            "overflow_x": null,
            "overflow_y": null,
            "padding": null,
            "right": null,
            "top": null,
            "visibility": null,
            "width": null
          }
        },
        "e9114c21037749df8174ce4dff84620f": {
          "model_module": "@jupyter-widgets/controls",
          "model_name": "DescriptionStyleModel",
          "model_module_version": "1.5.0",
          "state": {
            "_model_module": "@jupyter-widgets/controls",
            "_model_module_version": "1.5.0",
            "_model_name": "DescriptionStyleModel",
            "_view_count": null,
            "_view_module": "@jupyter-widgets/base",
            "_view_module_version": "1.2.0",
            "_view_name": "StyleView",
            "description_width": ""
          }
        },
        "5e187bb19541415495761a3c9b98bdff": {
          "model_module": "@jupyter-widgets/base",
          "model_name": "LayoutModel",
          "model_module_version": "1.2.0",
          "state": {
            "_model_module": "@jupyter-widgets/base",
            "_model_module_version": "1.2.0",
            "_model_name": "LayoutModel",
            "_view_count": null,
            "_view_module": "@jupyter-widgets/base",
            "_view_module_version": "1.2.0",
            "_view_name": "LayoutView",
            "align_content": null,
            "align_items": null,
            "align_self": null,
            "border": null,
            "bottom": null,
            "display": null,
            "flex": null,
            "flex_flow": null,
            "grid_area": null,
            "grid_auto_columns": null,
            "grid_auto_flow": null,
            "grid_auto_rows": null,
            "grid_column": null,
            "grid_gap": null,
            "grid_row": null,
            "grid_template_areas": null,
            "grid_template_columns": null,
            "grid_template_rows": null,
            "height": null,
            "justify_content": null,
            "justify_items": null,
            "left": null,
            "margin": null,
            "max_height": null,
            "max_width": null,
            "min_height": null,
            "min_width": null,
            "object_fit": null,
            "object_position": null,
            "order": null,
            "overflow": null,
            "overflow_x": null,
            "overflow_y": null,
            "padding": null,
            "right": null,
            "top": null,
            "visibility": null,
            "width": null
          }
        },
        "f8c07317821e4746a75d0b9504b226a4": {
          "model_module": "@jupyter-widgets/controls",
          "model_name": "ProgressStyleModel",
          "model_module_version": "1.5.0",
          "state": {
            "_model_module": "@jupyter-widgets/controls",
            "_model_module_version": "1.5.0",
            "_model_name": "ProgressStyleModel",
            "_view_count": null,
            "_view_module": "@jupyter-widgets/base",
            "_view_module_version": "1.2.0",
            "_view_name": "StyleView",
            "bar_color": null,
            "description_width": ""
          }
        },
        "6779ab002c0d4765b4ef92779f84dfeb": {
          "model_module": "@jupyter-widgets/base",
          "model_name": "LayoutModel",
          "model_module_version": "1.2.0",
          "state": {
            "_model_module": "@jupyter-widgets/base",
            "_model_module_version": "1.2.0",
            "_model_name": "LayoutModel",
            "_view_count": null,
            "_view_module": "@jupyter-widgets/base",
            "_view_module_version": "1.2.0",
            "_view_name": "LayoutView",
            "align_content": null,
            "align_items": null,
            "align_self": null,
            "border": null,
            "bottom": null,
            "display": null,
            "flex": null,
            "flex_flow": null,
            "grid_area": null,
            "grid_auto_columns": null,
            "grid_auto_flow": null,
            "grid_auto_rows": null,
            "grid_column": null,
            "grid_gap": null,
            "grid_row": null,
            "grid_template_areas": null,
            "grid_template_columns": null,
            "grid_template_rows": null,
            "height": null,
            "justify_content": null,
            "justify_items": null,
            "left": null,
            "margin": null,
            "max_height": null,
            "max_width": null,
            "min_height": null,
            "min_width": null,
            "object_fit": null,
            "object_position": null,
            "order": null,
            "overflow": null,
            "overflow_x": null,
            "overflow_y": null,
            "padding": null,
            "right": null,
            "top": null,
            "visibility": null,
            "width": null
          }
        },
        "e362eaa561924a6482fa82edf1c5b154": {
          "model_module": "@jupyter-widgets/controls",
          "model_name": "DescriptionStyleModel",
          "model_module_version": "1.5.0",
          "state": {
            "_model_module": "@jupyter-widgets/controls",
            "_model_module_version": "1.5.0",
            "_model_name": "DescriptionStyleModel",
            "_view_count": null,
            "_view_module": "@jupyter-widgets/base",
            "_view_module_version": "1.2.0",
            "_view_name": "StyleView",
            "description_width": ""
          }
        },
        "6921ba43c0784e14be3bbad7530ce386": {
          "model_module": "@jupyter-widgets/controls",
          "model_name": "HBoxModel",
          "model_module_version": "1.5.0",
          "state": {
            "_dom_classes": [],
            "_model_module": "@jupyter-widgets/controls",
            "_model_module_version": "1.5.0",
            "_model_name": "HBoxModel",
            "_view_count": null,
            "_view_module": "@jupyter-widgets/controls",
            "_view_module_version": "1.5.0",
            "_view_name": "HBoxView",
            "box_style": "",
            "children": [
              "IPY_MODEL_4bab4b47d60b46e5b6a5249ee70e0581",
              "IPY_MODEL_8b5ef778468641b98e26e3dc6b5fad15",
              "IPY_MODEL_e2d4e7554ab0481e889728f09ca69a9e"
            ],
            "layout": "IPY_MODEL_40b0ef13bbae4debb994a7066c909045"
          }
        },
        "4bab4b47d60b46e5b6a5249ee70e0581": {
          "model_module": "@jupyter-widgets/controls",
          "model_name": "HTMLModel",
          "model_module_version": "1.5.0",
          "state": {
            "_dom_classes": [],
            "_model_module": "@jupyter-widgets/controls",
            "_model_module_version": "1.5.0",
            "_model_name": "HTMLModel",
            "_view_count": null,
            "_view_module": "@jupyter-widgets/controls",
            "_view_module_version": "1.5.0",
            "_view_name": "HTMLView",
            "description": "",
            "description_tooltip": null,
            "layout": "IPY_MODEL_778374911e01445a85115b404999a109",
            "placeholder": "​",
            "style": "IPY_MODEL_2e312579686a44d6b64fcb6abae35051",
            "value": "model-00001-of-00003.safetensors: 100%"
          }
        },
        "8b5ef778468641b98e26e3dc6b5fad15": {
          "model_module": "@jupyter-widgets/controls",
          "model_name": "FloatProgressModel",
          "model_module_version": "1.5.0",
          "state": {
            "_dom_classes": [],
            "_model_module": "@jupyter-widgets/controls",
            "_model_module_version": "1.5.0",
            "_model_name": "FloatProgressModel",
            "_view_count": null,
            "_view_module": "@jupyter-widgets/controls",
            "_view_module_version": "1.5.0",
            "_view_name": "ProgressView",
            "bar_style": "success",
            "description": "",
            "description_tooltip": null,
            "layout": "IPY_MODEL_d8aa6d028a03422487743027273f1b2d",
            "max": 3957900840,
            "min": 0,
            "orientation": "horizontal",
            "style": "IPY_MODEL_2b948c6b62554c72b55243c37e2068a6",
            "value": 3957900840
          }
        },
        "e2d4e7554ab0481e889728f09ca69a9e": {
          "model_module": "@jupyter-widgets/controls",
          "model_name": "HTMLModel",
          "model_module_version": "1.5.0",
          "state": {
            "_dom_classes": [],
            "_model_module": "@jupyter-widgets/controls",
            "_model_module_version": "1.5.0",
            "_model_name": "HTMLModel",
            "_view_count": null,
            "_view_module": "@jupyter-widgets/controls",
            "_view_module_version": "1.5.0",
            "_view_name": "HTMLView",
            "description": "",
            "description_tooltip": null,
            "layout": "IPY_MODEL_65e94afe76954f9ba1228c05b4271ad1",
            "placeholder": "​",
            "style": "IPY_MODEL_85ea31acf6f045de899609102a7c84f7",
            "value": " 3.96G/3.96G [03:24&lt;00:00, 12.9MB/s]"
          }
        },
        "40b0ef13bbae4debb994a7066c909045": {
          "model_module": "@jupyter-widgets/base",
          "model_name": "LayoutModel",
          "model_module_version": "1.2.0",
          "state": {
            "_model_module": "@jupyter-widgets/base",
            "_model_module_version": "1.2.0",
            "_model_name": "LayoutModel",
            "_view_count": null,
            "_view_module": "@jupyter-widgets/base",
            "_view_module_version": "1.2.0",
            "_view_name": "LayoutView",
            "align_content": null,
            "align_items": null,
            "align_self": null,
            "border": null,
            "bottom": null,
            "display": null,
            "flex": null,
            "flex_flow": null,
            "grid_area": null,
            "grid_auto_columns": null,
            "grid_auto_flow": null,
            "grid_auto_rows": null,
            "grid_column": null,
            "grid_gap": null,
            "grid_row": null,
            "grid_template_areas": null,
            "grid_template_columns": null,
            "grid_template_rows": null,
            "height": null,
            "justify_content": null,
            "justify_items": null,
            "left": null,
            "margin": null,
            "max_height": null,
            "max_width": null,
            "min_height": null,
            "min_width": null,
            "object_fit": null,
            "object_position": null,
            "order": null,
            "overflow": null,
            "overflow_x": null,
            "overflow_y": null,
            "padding": null,
            "right": null,
            "top": null,
            "visibility": null,
            "width": null
          }
        },
        "778374911e01445a85115b404999a109": {
          "model_module": "@jupyter-widgets/base",
          "model_name": "LayoutModel",
          "model_module_version": "1.2.0",
          "state": {
            "_model_module": "@jupyter-widgets/base",
            "_model_module_version": "1.2.0",
            "_model_name": "LayoutModel",
            "_view_count": null,
            "_view_module": "@jupyter-widgets/base",
            "_view_module_version": "1.2.0",
            "_view_name": "LayoutView",
            "align_content": null,
            "align_items": null,
            "align_self": null,
            "border": null,
            "bottom": null,
            "display": null,
            "flex": null,
            "flex_flow": null,
            "grid_area": null,
            "grid_auto_columns": null,
            "grid_auto_flow": null,
            "grid_auto_rows": null,
            "grid_column": null,
            "grid_gap": null,
            "grid_row": null,
            "grid_template_areas": null,
            "grid_template_columns": null,
            "grid_template_rows": null,
            "height": null,
            "justify_content": null,
            "justify_items": null,
            "left": null,
            "margin": null,
            "max_height": null,
            "max_width": null,
            "min_height": null,
            "min_width": null,
            "object_fit": null,
            "object_position": null,
            "order": null,
            "overflow": null,
            "overflow_x": null,
            "overflow_y": null,
            "padding": null,
            "right": null,
            "top": null,
            "visibility": null,
            "width": null
          }
        },
        "2e312579686a44d6b64fcb6abae35051": {
          "model_module": "@jupyter-widgets/controls",
          "model_name": "DescriptionStyleModel",
          "model_module_version": "1.5.0",
          "state": {
            "_model_module": "@jupyter-widgets/controls",
            "_model_module_version": "1.5.0",
            "_model_name": "DescriptionStyleModel",
            "_view_count": null,
            "_view_module": "@jupyter-widgets/base",
            "_view_module_version": "1.2.0",
            "_view_name": "StyleView",
            "description_width": ""
          }
        },
        "d8aa6d028a03422487743027273f1b2d": {
          "model_module": "@jupyter-widgets/base",
          "model_name": "LayoutModel",
          "model_module_version": "1.2.0",
          "state": {
            "_model_module": "@jupyter-widgets/base",
            "_model_module_version": "1.2.0",
            "_model_name": "LayoutModel",
            "_view_count": null,
            "_view_module": "@jupyter-widgets/base",
            "_view_module_version": "1.2.0",
            "_view_name": "LayoutView",
            "align_content": null,
            "align_items": null,
            "align_self": null,
            "border": null,
            "bottom": null,
            "display": null,
            "flex": null,
            "flex_flow": null,
            "grid_area": null,
            "grid_auto_columns": null,
            "grid_auto_flow": null,
            "grid_auto_rows": null,
            "grid_column": null,
            "grid_gap": null,
            "grid_row": null,
            "grid_template_areas": null,
            "grid_template_columns": null,
            "grid_template_rows": null,
            "height": null,
            "justify_content": null,
            "justify_items": null,
            "left": null,
            "margin": null,
            "max_height": null,
            "max_width": null,
            "min_height": null,
            "min_width": null,
            "object_fit": null,
            "object_position": null,
            "order": null,
            "overflow": null,
            "overflow_x": null,
            "overflow_y": null,
            "padding": null,
            "right": null,
            "top": null,
            "visibility": null,
            "width": null
          }
        },
        "2b948c6b62554c72b55243c37e2068a6": {
          "model_module": "@jupyter-widgets/controls",
          "model_name": "ProgressStyleModel",
          "model_module_version": "1.5.0",
          "state": {
            "_model_module": "@jupyter-widgets/controls",
            "_model_module_version": "1.5.0",
            "_model_name": "ProgressStyleModel",
            "_view_count": null,
            "_view_module": "@jupyter-widgets/base",
            "_view_module_version": "1.2.0",
            "_view_name": "StyleView",
            "bar_color": null,
            "description_width": ""
          }
        },
        "65e94afe76954f9ba1228c05b4271ad1": {
          "model_module": "@jupyter-widgets/base",
          "model_name": "LayoutModel",
          "model_module_version": "1.2.0",
          "state": {
            "_model_module": "@jupyter-widgets/base",
            "_model_module_version": "1.2.0",
            "_model_name": "LayoutModel",
            "_view_count": null,
            "_view_module": "@jupyter-widgets/base",
            "_view_module_version": "1.2.0",
            "_view_name": "LayoutView",
            "align_content": null,
            "align_items": null,
            "align_self": null,
            "border": null,
            "bottom": null,
            "display": null,
            "flex": null,
            "flex_flow": null,
            "grid_area": null,
            "grid_auto_columns": null,
            "grid_auto_flow": null,
            "grid_auto_rows": null,
            "grid_column": null,
            "grid_gap": null,
            "grid_row": null,
            "grid_template_areas": null,
            "grid_template_columns": null,
            "grid_template_rows": null,
            "height": null,
            "justify_content": null,
            "justify_items": null,
            "left": null,
            "margin": null,
            "max_height": null,
            "max_width": null,
            "min_height": null,
            "min_width": null,
            "object_fit": null,
            "object_position": null,
            "order": null,
            "overflow": null,
            "overflow_x": null,
            "overflow_y": null,
            "padding": null,
            "right": null,
            "top": null,
            "visibility": null,
            "width": null
          }
        },
        "85ea31acf6f045de899609102a7c84f7": {
          "model_module": "@jupyter-widgets/controls",
          "model_name": "DescriptionStyleModel",
          "model_module_version": "1.5.0",
          "state": {
            "_model_module": "@jupyter-widgets/controls",
            "_model_module_version": "1.5.0",
            "_model_name": "DescriptionStyleModel",
            "_view_count": null,
            "_view_module": "@jupyter-widgets/base",
            "_view_module_version": "1.2.0",
            "_view_name": "StyleView",
            "description_width": ""
          }
        },
        "fcd8835d1ff4480699b0e4ac48bbe41b": {
          "model_module": "@jupyter-widgets/controls",
          "model_name": "HBoxModel",
          "model_module_version": "1.5.0",
          "state": {
            "_dom_classes": [],
            "_model_module": "@jupyter-widgets/controls",
            "_model_module_version": "1.5.0",
            "_model_name": "HBoxModel",
            "_view_count": null,
            "_view_module": "@jupyter-widgets/controls",
            "_view_module_version": "1.5.0",
            "_view_name": "HBoxView",
            "box_style": "",
            "children": [
              "IPY_MODEL_e672802f4a4646319333d6bd97b2346a",
              "IPY_MODEL_f484842af4664346ba52b11f74125dbe",
              "IPY_MODEL_3ed324e45e234dd8a74571130e7c8d39"
            ],
            "layout": "IPY_MODEL_a7a09e3d17fe425b9d4e4e315a487e53"
          }
        },
        "e672802f4a4646319333d6bd97b2346a": {
          "model_module": "@jupyter-widgets/controls",
          "model_name": "HTMLModel",
          "model_module_version": "1.5.0",
          "state": {
            "_dom_classes": [],
            "_model_module": "@jupyter-widgets/controls",
            "_model_module_version": "1.5.0",
            "_model_name": "HTMLModel",
            "_view_count": null,
            "_view_module": "@jupyter-widgets/controls",
            "_view_module_version": "1.5.0",
            "_view_name": "HTMLView",
            "description": "",
            "description_tooltip": null,
            "layout": "IPY_MODEL_0b1b7957ec654e23bf500f828c32ecac",
            "placeholder": "​",
            "style": "IPY_MODEL_7f7618e84dd34c028a1b32fa877fc7a1",
            "value": "Loading checkpoint shards: 100%"
          }
        },
        "f484842af4664346ba52b11f74125dbe": {
          "model_module": "@jupyter-widgets/controls",
          "model_name": "FloatProgressModel",
          "model_module_version": "1.5.0",
          "state": {
            "_dom_classes": [],
            "_model_module": "@jupyter-widgets/controls",
            "_model_module_version": "1.5.0",
            "_model_name": "FloatProgressModel",
            "_view_count": null,
            "_view_module": "@jupyter-widgets/controls",
            "_view_module_version": "1.5.0",
            "_view_name": "ProgressView",
            "bar_style": "success",
            "description": "",
            "description_tooltip": null,
            "layout": "IPY_MODEL_d6436414938e47a0970fc8b863895744",
            "max": 3,
            "min": 0,
            "orientation": "horizontal",
            "style": "IPY_MODEL_b8e5412f64ff42b2a78ddacd7c1300a3",
            "value": 3
          }
        },
        "3ed324e45e234dd8a74571130e7c8d39": {
          "model_module": "@jupyter-widgets/controls",
          "model_name": "HTMLModel",
          "model_module_version": "1.5.0",
          "state": {
            "_dom_classes": [],
            "_model_module": "@jupyter-widgets/controls",
            "_model_module_version": "1.5.0",
            "_model_name": "HTMLModel",
            "_view_count": null,
            "_view_module": "@jupyter-widgets/controls",
            "_view_module_version": "1.5.0",
            "_view_name": "HTMLView",
            "description": "",
            "description_tooltip": null,
            "layout": "IPY_MODEL_7c1dfb6e0e774357b2e8b502099455e9",
            "placeholder": "​",
            "style": "IPY_MODEL_d19e8d7407324ccfbc6fdacb26227ca8",
            "value": " 3/3 [00:32&lt;00:00,  9.01s/it]"
          }
        },
        "a7a09e3d17fe425b9d4e4e315a487e53": {
          "model_module": "@jupyter-widgets/base",
          "model_name": "LayoutModel",
          "model_module_version": "1.2.0",
          "state": {
            "_model_module": "@jupyter-widgets/base",
            "_model_module_version": "1.2.0",
            "_model_name": "LayoutModel",
            "_view_count": null,
            "_view_module": "@jupyter-widgets/base",
            "_view_module_version": "1.2.0",
            "_view_name": "LayoutView",
            "align_content": null,
            "align_items": null,
            "align_self": null,
            "border": null,
            "bottom": null,
            "display": null,
            "flex": null,
            "flex_flow": null,
            "grid_area": null,
            "grid_auto_columns": null,
            "grid_auto_flow": null,
            "grid_auto_rows": null,
            "grid_column": null,
            "grid_gap": null,
            "grid_row": null,
            "grid_template_areas": null,
            "grid_template_columns": null,
            "grid_template_rows": null,
            "height": null,
            "justify_content": null,
            "justify_items": null,
            "left": null,
            "margin": null,
            "max_height": null,
            "max_width": null,
            "min_height": null,
            "min_width": null,
            "object_fit": null,
            "object_position": null,
            "order": null,
            "overflow": null,
            "overflow_x": null,
            "overflow_y": null,
            "padding": null,
            "right": null,
            "top": null,
            "visibility": null,
            "width": null
          }
        },
        "0b1b7957ec654e23bf500f828c32ecac": {
          "model_module": "@jupyter-widgets/base",
          "model_name": "LayoutModel",
          "model_module_version": "1.2.0",
          "state": {
            "_model_module": "@jupyter-widgets/base",
            "_model_module_version": "1.2.0",
            "_model_name": "LayoutModel",
            "_view_count": null,
            "_view_module": "@jupyter-widgets/base",
            "_view_module_version": "1.2.0",
            "_view_name": "LayoutView",
            "align_content": null,
            "align_items": null,
            "align_self": null,
            "border": null,
            "bottom": null,
            "display": null,
            "flex": null,
            "flex_flow": null,
            "grid_area": null,
            "grid_auto_columns": null,
            "grid_auto_flow": null,
            "grid_auto_rows": null,
            "grid_column": null,
            "grid_gap": null,
            "grid_row": null,
            "grid_template_areas": null,
            "grid_template_columns": null,
            "grid_template_rows": null,
            "height": null,
            "justify_content": null,
            "justify_items": null,
            "left": null,
            "margin": null,
            "max_height": null,
            "max_width": null,
            "min_height": null,
            "min_width": null,
            "object_fit": null,
            "object_position": null,
            "order": null,
            "overflow": null,
            "overflow_x": null,
            "overflow_y": null,
            "padding": null,
            "right": null,
            "top": null,
            "visibility": null,
            "width": null
          }
        },
        "7f7618e84dd34c028a1b32fa877fc7a1": {
          "model_module": "@jupyter-widgets/controls",
          "model_name": "DescriptionStyleModel",
          "model_module_version": "1.5.0",
          "state": {
            "_model_module": "@jupyter-widgets/controls",
            "_model_module_version": "1.5.0",
            "_model_name": "DescriptionStyleModel",
            "_view_count": null,
            "_view_module": "@jupyter-widgets/base",
            "_view_module_version": "1.2.0",
            "_view_name": "StyleView",
            "description_width": ""
          }
        },
        "d6436414938e47a0970fc8b863895744": {
          "model_module": "@jupyter-widgets/base",
          "model_name": "LayoutModel",
          "model_module_version": "1.2.0",
          "state": {
            "_model_module": "@jupyter-widgets/base",
            "_model_module_version": "1.2.0",
            "_model_name": "LayoutModel",
            "_view_count": null,
            "_view_module": "@jupyter-widgets/base",
            "_view_module_version": "1.2.0",
            "_view_name": "LayoutView",
            "align_content": null,
            "align_items": null,
            "align_self": null,
            "border": null,
            "bottom": null,
            "display": null,
            "flex": null,
            "flex_flow": null,
            "grid_area": null,
            "grid_auto_columns": null,
            "grid_auto_flow": null,
            "grid_auto_rows": null,
            "grid_column": null,
            "grid_gap": null,
            "grid_row": null,
            "grid_template_areas": null,
            "grid_template_columns": null,
            "grid_template_rows": null,
            "height": null,
            "justify_content": null,
            "justify_items": null,
            "left": null,
            "margin": null,
            "max_height": null,
            "max_width": null,
            "min_height": null,
            "min_width": null,
            "object_fit": null,
            "object_position": null,
            "order": null,
            "overflow": null,
            "overflow_x": null,
            "overflow_y": null,
            "padding": null,
            "right": null,
            "top": null,
            "visibility": null,
            "width": null
          }
        },
        "b8e5412f64ff42b2a78ddacd7c1300a3": {
          "model_module": "@jupyter-widgets/controls",
          "model_name": "ProgressStyleModel",
          "model_module_version": "1.5.0",
          "state": {
            "_model_module": "@jupyter-widgets/controls",
            "_model_module_version": "1.5.0",
            "_model_name": "ProgressStyleModel",
            "_view_count": null,
            "_view_module": "@jupyter-widgets/base",
            "_view_module_version": "1.2.0",
            "_view_name": "StyleView",
            "bar_color": null,
            "description_width": ""
          }
        },
        "7c1dfb6e0e774357b2e8b502099455e9": {
          "model_module": "@jupyter-widgets/base",
          "model_name": "LayoutModel",
          "model_module_version": "1.2.0",
          "state": {
            "_model_module": "@jupyter-widgets/base",
            "_model_module_version": "1.2.0",
            "_model_name": "LayoutModel",
            "_view_count": null,
            "_view_module": "@jupyter-widgets/base",
            "_view_module_version": "1.2.0",
            "_view_name": "LayoutView",
            "align_content": null,
            "align_items": null,
            "align_self": null,
            "border": null,
            "bottom": null,
            "display": null,
            "flex": null,
            "flex_flow": null,
            "grid_area": null,
            "grid_auto_columns": null,
            "grid_auto_flow": null,
            "grid_auto_rows": null,
            "grid_column": null,
            "grid_gap": null,
            "grid_row": null,
            "grid_template_areas": null,
            "grid_template_columns": null,
            "grid_template_rows": null,
            "height": null,
            "justify_content": null,
            "justify_items": null,
            "left": null,
            "margin": null,
            "max_height": null,
            "max_width": null,
            "min_height": null,
            "min_width": null,
            "object_fit": null,
            "object_position": null,
            "order": null,
            "overflow": null,
            "overflow_x": null,
            "overflow_y": null,
            "padding": null,
            "right": null,
            "top": null,
            "visibility": null,
            "width": null
          }
        },
        "d19e8d7407324ccfbc6fdacb26227ca8": {
          "model_module": "@jupyter-widgets/controls",
          "model_name": "DescriptionStyleModel",
          "model_module_version": "1.5.0",
          "state": {
            "_model_module": "@jupyter-widgets/controls",
            "_model_module_version": "1.5.0",
            "_model_name": "DescriptionStyleModel",
            "_view_count": null,
            "_view_module": "@jupyter-widgets/base",
            "_view_module_version": "1.2.0",
            "_view_name": "StyleView",
            "description_width": ""
          }
        },
        "aeaf2a41ec5b44c9b7979c52463b5ba4": {
          "model_module": "@jupyter-widgets/controls",
          "model_name": "HBoxModel",
          "model_module_version": "1.5.0",
          "state": {
            "_dom_classes": [],
            "_model_module": "@jupyter-widgets/controls",
            "_model_module_version": "1.5.0",
            "_model_name": "HBoxModel",
            "_view_count": null,
            "_view_module": "@jupyter-widgets/controls",
            "_view_module_version": "1.5.0",
            "_view_name": "HBoxView",
            "box_style": "",
            "children": [
              "IPY_MODEL_eec6c8b399324cbe851df2332e0b38b0",
              "IPY_MODEL_27a6f82660684e7bb3473a3427d9ea9b",
              "IPY_MODEL_ea1e3904af92470c9f1ebbecbacaa44c"
            ],
            "layout": "IPY_MODEL_8a8800ccbab24fcf8ea732f090bba1b6"
          }
        },
        "eec6c8b399324cbe851df2332e0b38b0": {
          "model_module": "@jupyter-widgets/controls",
          "model_name": "HTMLModel",
          "model_module_version": "1.5.0",
          "state": {
            "_dom_classes": [],
            "_model_module": "@jupyter-widgets/controls",
            "_model_module_version": "1.5.0",
            "_model_name": "HTMLModel",
            "_view_count": null,
            "_view_module": "@jupyter-widgets/controls",
            "_view_module_version": "1.5.0",
            "_view_name": "HTMLView",
            "description": "",
            "description_tooltip": null,
            "layout": "IPY_MODEL_32f0c1d4418342fd9874453fc48235a2",
            "placeholder": "​",
            "style": "IPY_MODEL_369bf29670c6453d968f0d25c6a69dd5",
            "value": "generation_config.json: 100%"
          }
        },
        "27a6f82660684e7bb3473a3427d9ea9b": {
          "model_module": "@jupyter-widgets/controls",
          "model_name": "FloatProgressModel",
          "model_module_version": "1.5.0",
          "state": {
            "_dom_classes": [],
            "_model_module": "@jupyter-widgets/controls",
            "_model_module_version": "1.5.0",
            "_model_name": "FloatProgressModel",
            "_view_count": null,
            "_view_module": "@jupyter-widgets/controls",
            "_view_module_version": "1.5.0",
            "_view_name": "ProgressView",
            "bar_style": "success",
            "description": "",
            "description_tooltip": null,
            "layout": "IPY_MODEL_836d09a840014d70bc640974ca3b1351",
            "max": 239,
            "min": 0,
            "orientation": "horizontal",
            "style": "IPY_MODEL_0bf70320c7344a139d73c53543d48788",
            "value": 239
          }
        },
        "ea1e3904af92470c9f1ebbecbacaa44c": {
          "model_module": "@jupyter-widgets/controls",
          "model_name": "HTMLModel",
          "model_module_version": "1.5.0",
          "state": {
            "_dom_classes": [],
            "_model_module": "@jupyter-widgets/controls",
            "_model_module_version": "1.5.0",
            "_model_name": "HTMLModel",
            "_view_count": null,
            "_view_module": "@jupyter-widgets/controls",
            "_view_module_version": "1.5.0",
            "_view_name": "HTMLView",
            "description": "",
            "description_tooltip": null,
            "layout": "IPY_MODEL_f73eda0a85d04a6a9e05e802182dc854",
            "placeholder": "​",
            "style": "IPY_MODEL_993ce6ca8dd447b8b1a7234ddcba5375",
            "value": " 239/239 [00:00&lt;00:00, 26.9kB/s]"
          }
        },
        "8a8800ccbab24fcf8ea732f090bba1b6": {
          "model_module": "@jupyter-widgets/base",
          "model_name": "LayoutModel",
          "model_module_version": "1.2.0",
          "state": {
            "_model_module": "@jupyter-widgets/base",
            "_model_module_version": "1.2.0",
            "_model_name": "LayoutModel",
            "_view_count": null,
            "_view_module": "@jupyter-widgets/base",
            "_view_module_version": "1.2.0",
            "_view_name": "LayoutView",
            "align_content": null,
            "align_items": null,
            "align_self": null,
            "border": null,
            "bottom": null,
            "display": null,
            "flex": null,
            "flex_flow": null,
            "grid_area": null,
            "grid_auto_columns": null,
            "grid_auto_flow": null,
            "grid_auto_rows": null,
            "grid_column": null,
            "grid_gap": null,
            "grid_row": null,
            "grid_template_areas": null,
            "grid_template_columns": null,
            "grid_template_rows": null,
            "height": null,
            "justify_content": null,
            "justify_items": null,
            "left": null,
            "margin": null,
            "max_height": null,
            "max_width": null,
            "min_height": null,
            "min_width": null,
            "object_fit": null,
            "object_position": null,
            "order": null,
            "overflow": null,
            "overflow_x": null,
            "overflow_y": null,
            "padding": null,
            "right": null,
            "top": null,
            "visibility": null,
            "width": null
          }
        },
        "32f0c1d4418342fd9874453fc48235a2": {
          "model_module": "@jupyter-widgets/base",
          "model_name": "LayoutModel",
          "model_module_version": "1.2.0",
          "state": {
            "_model_module": "@jupyter-widgets/base",
            "_model_module_version": "1.2.0",
            "_model_name": "LayoutModel",
            "_view_count": null,
            "_view_module": "@jupyter-widgets/base",
            "_view_module_version": "1.2.0",
            "_view_name": "LayoutView",
            "align_content": null,
            "align_items": null,
            "align_self": null,
            "border": null,
            "bottom": null,
            "display": null,
            "flex": null,
            "flex_flow": null,
            "grid_area": null,
            "grid_auto_columns": null,
            "grid_auto_flow": null,
            "grid_auto_rows": null,
            "grid_column": null,
            "grid_gap": null,
            "grid_row": null,
            "grid_template_areas": null,
            "grid_template_columns": null,
            "grid_template_rows": null,
            "height": null,
            "justify_content": null,
            "justify_items": null,
            "left": null,
            "margin": null,
            "max_height": null,
            "max_width": null,
            "min_height": null,
            "min_width": null,
            "object_fit": null,
            "object_position": null,
            "order": null,
            "overflow": null,
            "overflow_x": null,
            "overflow_y": null,
            "padding": null,
            "right": null,
            "top": null,
            "visibility": null,
            "width": null
          }
        },
        "369bf29670c6453d968f0d25c6a69dd5": {
          "model_module": "@jupyter-widgets/controls",
          "model_name": "DescriptionStyleModel",
          "model_module_version": "1.5.0",
          "state": {
            "_model_module": "@jupyter-widgets/controls",
            "_model_module_version": "1.5.0",
            "_model_name": "DescriptionStyleModel",
            "_view_count": null,
            "_view_module": "@jupyter-widgets/base",
            "_view_module_version": "1.2.0",
            "_view_name": "StyleView",
            "description_width": ""
          }
        },
        "836d09a840014d70bc640974ca3b1351": {
          "model_module": "@jupyter-widgets/base",
          "model_name": "LayoutModel",
          "model_module_version": "1.2.0",
          "state": {
            "_model_module": "@jupyter-widgets/base",
            "_model_module_version": "1.2.0",
            "_model_name": "LayoutModel",
            "_view_count": null,
            "_view_module": "@jupyter-widgets/base",
            "_view_module_version": "1.2.0",
            "_view_name": "LayoutView",
            "align_content": null,
            "align_items": null,
            "align_self": null,
            "border": null,
            "bottom": null,
            "display": null,
            "flex": null,
            "flex_flow": null,
            "grid_area": null,
            "grid_auto_columns": null,
            "grid_auto_flow": null,
            "grid_auto_rows": null,
            "grid_column": null,
            "grid_gap": null,
            "grid_row": null,
            "grid_template_areas": null,
            "grid_template_columns": null,
            "grid_template_rows": null,
            "height": null,
            "justify_content": null,
            "justify_items": null,
            "left": null,
            "margin": null,
            "max_height": null,
            "max_width": null,
            "min_height": null,
            "min_width": null,
            "object_fit": null,
            "object_position": null,
            "order": null,
            "overflow": null,
            "overflow_x": null,
            "overflow_y": null,
            "padding": null,
            "right": null,
            "top": null,
            "visibility": null,
            "width": null
          }
        },
        "0bf70320c7344a139d73c53543d48788": {
          "model_module": "@jupyter-widgets/controls",
          "model_name": "ProgressStyleModel",
          "model_module_version": "1.5.0",
          "state": {
            "_model_module": "@jupyter-widgets/controls",
            "_model_module_version": "1.5.0",
            "_model_name": "ProgressStyleModel",
            "_view_count": null,
            "_view_module": "@jupyter-widgets/base",
            "_view_module_version": "1.2.0",
            "_view_name": "StyleView",
            "bar_color": null,
            "description_width": ""
          }
        },
        "f73eda0a85d04a6a9e05e802182dc854": {
          "model_module": "@jupyter-widgets/base",
          "model_name": "LayoutModel",
          "model_module_version": "1.2.0",
          "state": {
            "_model_module": "@jupyter-widgets/base",
            "_model_module_version": "1.2.0",
            "_model_name": "LayoutModel",
            "_view_count": null,
            "_view_module": "@jupyter-widgets/base",
            "_view_module_version": "1.2.0",
            "_view_name": "LayoutView",
            "align_content": null,
            "align_items": null,
            "align_self": null,
            "border": null,
            "bottom": null,
            "display": null,
            "flex": null,
            "flex_flow": null,
            "grid_area": null,
            "grid_auto_columns": null,
            "grid_auto_flow": null,
            "grid_auto_rows": null,
            "grid_column": null,
            "grid_gap": null,
            "grid_row": null,
            "grid_template_areas": null,
            "grid_template_columns": null,
            "grid_template_rows": null,
            "height": null,
            "justify_content": null,
            "justify_items": null,
            "left": null,
            "margin": null,
            "max_height": null,
            "max_width": null,
            "min_height": null,
            "min_width": null,
            "object_fit": null,
            "object_position": null,
            "order": null,
            "overflow": null,
            "overflow_x": null,
            "overflow_y": null,
            "padding": null,
            "right": null,
            "top": null,
            "visibility": null,
            "width": null
          }
        },
        "993ce6ca8dd447b8b1a7234ddcba5375": {
          "model_module": "@jupyter-widgets/controls",
          "model_name": "DescriptionStyleModel",
          "model_module_version": "1.5.0",
          "state": {
            "_model_module": "@jupyter-widgets/controls",
            "_model_module_version": "1.5.0",
            "_model_name": "DescriptionStyleModel",
            "_view_count": null,
            "_view_module": "@jupyter-widgets/base",
            "_view_module_version": "1.2.0",
            "_view_name": "StyleView",
            "description_width": ""
          }
        },
        "656ca883abab4ba497bc2d09c3ea8420": {
          "model_module": "@jupyter-widgets/controls",
          "model_name": "HBoxModel",
          "model_module_version": "1.5.0",
          "state": {
            "_dom_classes": [],
            "_model_module": "@jupyter-widgets/controls",
            "_model_module_version": "1.5.0",
            "_model_name": "HBoxModel",
            "_view_count": null,
            "_view_module": "@jupyter-widgets/controls",
            "_view_module_version": "1.5.0",
            "_view_name": "HBoxView",
            "box_style": "",
            "children": [
              "IPY_MODEL_9ae6db135d3a4d6b9cec4a40d0f61b8c",
              "IPY_MODEL_f9a08fe31d774f1686f20efa05fbfe9e",
              "IPY_MODEL_8bdd0395f54142448e4c58ec51717c48"
            ],
            "layout": "IPY_MODEL_8a56ea98838c4058a90646af07f5a114"
          }
        },
        "9ae6db135d3a4d6b9cec4a40d0f61b8c": {
          "model_module": "@jupyter-widgets/controls",
          "model_name": "HTMLModel",
          "model_module_version": "1.5.0",
          "state": {
            "_dom_classes": [],
            "_model_module": "@jupyter-widgets/controls",
            "_model_module_version": "1.5.0",
            "_model_name": "HTMLModel",
            "_view_count": null,
            "_view_module": "@jupyter-widgets/controls",
            "_view_module_version": "1.5.0",
            "_view_name": "HTMLView",
            "description": "",
            "description_tooltip": null,
            "layout": "IPY_MODEL_b30bfb17c3bb48fa893184ba98104fa0",
            "placeholder": "​",
            "style": "IPY_MODEL_8d4630fb2d3f42578ecaa761e79d99de",
            "value": "tokenizer_config.json: "
          }
        },
        "f9a08fe31d774f1686f20efa05fbfe9e": {
          "model_module": "@jupyter-widgets/controls",
          "model_name": "FloatProgressModel",
          "model_module_version": "1.5.0",
          "state": {
            "_dom_classes": [],
            "_model_module": "@jupyter-widgets/controls",
            "_model_module_version": "1.5.0",
            "_model_name": "FloatProgressModel",
            "_view_count": null,
            "_view_module": "@jupyter-widgets/controls",
            "_view_module_version": "1.5.0",
            "_view_name": "ProgressView",
            "bar_style": "success",
            "description": "",
            "description_tooltip": null,
            "layout": "IPY_MODEL_fed7baeddf0d413ea13a2d616848a568",
            "max": 1,
            "min": 0,
            "orientation": "horizontal",
            "style": "IPY_MODEL_19b5ee08e4b64fc590b51fb99e769f01",
            "value": 1
          }
        },
        "8bdd0395f54142448e4c58ec51717c48": {
          "model_module": "@jupyter-widgets/controls",
          "model_name": "HTMLModel",
          "model_module_version": "1.5.0",
          "state": {
            "_dom_classes": [],
            "_model_module": "@jupyter-widgets/controls",
            "_model_module_version": "1.5.0",
            "_model_name": "HTMLModel",
            "_view_count": null,
            "_view_module": "@jupyter-widgets/controls",
            "_view_module_version": "1.5.0",
            "_view_name": "HTMLView",
            "description": "",
            "description_tooltip": null,
            "layout": "IPY_MODEL_fdadc0c1660b46ae98a8996b14e9e1fa",
            "placeholder": "​",
            "style": "IPY_MODEL_ddf3918a118a41cba288c41f57739fe1",
            "value": " 9.73k/? [00:00&lt;00:00, 654kB/s]"
          }
        },
        "8a56ea98838c4058a90646af07f5a114": {
          "model_module": "@jupyter-widgets/base",
          "model_name": "LayoutModel",
          "model_module_version": "1.2.0",
          "state": {
            "_model_module": "@jupyter-widgets/base",
            "_model_module_version": "1.2.0",
            "_model_name": "LayoutModel",
            "_view_count": null,
            "_view_module": "@jupyter-widgets/base",
            "_view_module_version": "1.2.0",
            "_view_name": "LayoutView",
            "align_content": null,
            "align_items": null,
            "align_self": null,
            "border": null,
            "bottom": null,
            "display": null,
            "flex": null,
            "flex_flow": null,
            "grid_area": null,
            "grid_auto_columns": null,
            "grid_auto_flow": null,
            "grid_auto_rows": null,
            "grid_column": null,
            "grid_gap": null,
            "grid_row": null,
            "grid_template_areas": null,
            "grid_template_columns": null,
            "grid_template_rows": null,
            "height": null,
            "justify_content": null,
            "justify_items": null,
            "left": null,
            "margin": null,
            "max_height": null,
            "max_width": null,
            "min_height": null,
            "min_width": null,
            "object_fit": null,
            "object_position": null,
            "order": null,
            "overflow": null,
            "overflow_x": null,
            "overflow_y": null,
            "padding": null,
            "right": null,
            "top": null,
            "visibility": null,
            "width": null
          }
        },
        "b30bfb17c3bb48fa893184ba98104fa0": {
          "model_module": "@jupyter-widgets/base",
          "model_name": "LayoutModel",
          "model_module_version": "1.2.0",
          "state": {
            "_model_module": "@jupyter-widgets/base",
            "_model_module_version": "1.2.0",
            "_model_name": "LayoutModel",
            "_view_count": null,
            "_view_module": "@jupyter-widgets/base",
            "_view_module_version": "1.2.0",
            "_view_name": "LayoutView",
            "align_content": null,
            "align_items": null,
            "align_self": null,
            "border": null,
            "bottom": null,
            "display": null,
            "flex": null,
            "flex_flow": null,
            "grid_area": null,
            "grid_auto_columns": null,
            "grid_auto_flow": null,
            "grid_auto_rows": null,
            "grid_column": null,
            "grid_gap": null,
            "grid_row": null,
            "grid_template_areas": null,
            "grid_template_columns": null,
            "grid_template_rows": null,
            "height": null,
            "justify_content": null,
            "justify_items": null,
            "left": null,
            "margin": null,
            "max_height": null,
            "max_width": null,
            "min_height": null,
            "min_width": null,
            "object_fit": null,
            "object_position": null,
            "order": null,
            "overflow": null,
            "overflow_x": null,
            "overflow_y": null,
            "padding": null,
            "right": null,
            "top": null,
            "visibility": null,
            "width": null
          }
        },
        "8d4630fb2d3f42578ecaa761e79d99de": {
          "model_module": "@jupyter-widgets/controls",
          "model_name": "DescriptionStyleModel",
          "model_module_version": "1.5.0",
          "state": {
            "_model_module": "@jupyter-widgets/controls",
            "_model_module_version": "1.5.0",
            "_model_name": "DescriptionStyleModel",
            "_view_count": null,
            "_view_module": "@jupyter-widgets/base",
            "_view_module_version": "1.2.0",
            "_view_name": "StyleView",
            "description_width": ""
          }
        },
        "fed7baeddf0d413ea13a2d616848a568": {
          "model_module": "@jupyter-widgets/base",
          "model_name": "LayoutModel",
          "model_module_version": "1.2.0",
          "state": {
            "_model_module": "@jupyter-widgets/base",
            "_model_module_version": "1.2.0",
            "_model_name": "LayoutModel",
            "_view_count": null,
            "_view_module": "@jupyter-widgets/base",
            "_view_module_version": "1.2.0",
            "_view_name": "LayoutView",
            "align_content": null,
            "align_items": null,
            "align_self": null,
            "border": null,
            "bottom": null,
            "display": null,
            "flex": null,
            "flex_flow": null,
            "grid_area": null,
            "grid_auto_columns": null,
            "grid_auto_flow": null,
            "grid_auto_rows": null,
            "grid_column": null,
            "grid_gap": null,
            "grid_row": null,
            "grid_template_areas": null,
            "grid_template_columns": null,
            "grid_template_rows": null,
            "height": null,
            "justify_content": null,
            "justify_items": null,
            "left": null,
            "margin": null,
            "max_height": null,
            "max_width": null,
            "min_height": null,
            "min_width": null,
            "object_fit": null,
            "object_position": null,
            "order": null,
            "overflow": null,
            "overflow_x": null,
            "overflow_y": null,
            "padding": null,
            "right": null,
            "top": null,
            "visibility": null,
            "width": "20px"
          }
        },
        "19b5ee08e4b64fc590b51fb99e769f01": {
          "model_module": "@jupyter-widgets/controls",
          "model_name": "ProgressStyleModel",
          "model_module_version": "1.5.0",
          "state": {
            "_model_module": "@jupyter-widgets/controls",
            "_model_module_version": "1.5.0",
            "_model_name": "ProgressStyleModel",
            "_view_count": null,
            "_view_module": "@jupyter-widgets/base",
            "_view_module_version": "1.2.0",
            "_view_name": "StyleView",
            "bar_color": null,
            "description_width": ""
          }
        },
        "fdadc0c1660b46ae98a8996b14e9e1fa": {
          "model_module": "@jupyter-widgets/base",
          "model_name": "LayoutModel",
          "model_module_version": "1.2.0",
          "state": {
            "_model_module": "@jupyter-widgets/base",
            "_model_module_version": "1.2.0",
            "_model_name": "LayoutModel",
            "_view_count": null,
            "_view_module": "@jupyter-widgets/base",
            "_view_module_version": "1.2.0",
            "_view_name": "LayoutView",
            "align_content": null,
            "align_items": null,
            "align_self": null,
            "border": null,
            "bottom": null,
            "display": null,
            "flex": null,
            "flex_flow": null,
            "grid_area": null,
            "grid_auto_columns": null,
            "grid_auto_flow": null,
            "grid_auto_rows": null,
            "grid_column": null,
            "grid_gap": null,
            "grid_row": null,
            "grid_template_areas": null,
            "grid_template_columns": null,
            "grid_template_rows": null,
            "height": null,
            "justify_content": null,
            "justify_items": null,
            "left": null,
            "margin": null,
            "max_height": null,
            "max_width": null,
            "min_height": null,
            "min_width": null,
            "object_fit": null,
            "object_position": null,
            "order": null,
            "overflow": null,
            "overflow_x": null,
            "overflow_y": null,
            "padding": null,
            "right": null,
            "top": null,
            "visibility": null,
            "width": null
          }
        },
        "ddf3918a118a41cba288c41f57739fe1": {
          "model_module": "@jupyter-widgets/controls",
          "model_name": "DescriptionStyleModel",
          "model_module_version": "1.5.0",
          "state": {
            "_model_module": "@jupyter-widgets/controls",
            "_model_module_version": "1.5.0",
            "_model_name": "DescriptionStyleModel",
            "_view_count": null,
            "_view_module": "@jupyter-widgets/base",
            "_view_module_version": "1.2.0",
            "_view_name": "StyleView",
            "description_width": ""
          }
        },
        "7e31106e62da4cc29f60fa680dded263": {
          "model_module": "@jupyter-widgets/controls",
          "model_name": "HBoxModel",
          "model_module_version": "1.5.0",
          "state": {
            "_dom_classes": [],
            "_model_module": "@jupyter-widgets/controls",
            "_model_module_version": "1.5.0",
            "_model_name": "HBoxModel",
            "_view_count": null,
            "_view_module": "@jupyter-widgets/controls",
            "_view_module_version": "1.5.0",
            "_view_name": "HBoxView",
            "box_style": "",
            "children": [
              "IPY_MODEL_ac13017ceb7f42cfb40f8531afb863e0",
              "IPY_MODEL_371621b2706f429eae67e3d9af8b3f53",
              "IPY_MODEL_0ad27a6423b0402d9fe43c28d94ecafb"
            ],
            "layout": "IPY_MODEL_07c57de9748a4f3682114f72f01325bc"
          }
        },
        "ac13017ceb7f42cfb40f8531afb863e0": {
          "model_module": "@jupyter-widgets/controls",
          "model_name": "HTMLModel",
          "model_module_version": "1.5.0",
          "state": {
            "_dom_classes": [],
            "_model_module": "@jupyter-widgets/controls",
            "_model_module_version": "1.5.0",
            "_model_name": "HTMLModel",
            "_view_count": null,
            "_view_module": "@jupyter-widgets/controls",
            "_view_module_version": "1.5.0",
            "_view_name": "HTMLView",
            "description": "",
            "description_tooltip": null,
            "layout": "IPY_MODEL_00e8a89f306d47e7909f8efe6f219a9c",
            "placeholder": "​",
            "style": "IPY_MODEL_2901505d9db64fcf8a0ace27f270d33d",
            "value": "vocab.json: "
          }
        },
        "371621b2706f429eae67e3d9af8b3f53": {
          "model_module": "@jupyter-widgets/controls",
          "model_name": "FloatProgressModel",
          "model_module_version": "1.5.0",
          "state": {
            "_dom_classes": [],
            "_model_module": "@jupyter-widgets/controls",
            "_model_module_version": "1.5.0",
            "_model_name": "FloatProgressModel",
            "_view_count": null,
            "_view_module": "@jupyter-widgets/controls",
            "_view_module_version": "1.5.0",
            "_view_name": "ProgressView",
            "bar_style": "success",
            "description": "",
            "description_tooltip": null,
            "layout": "IPY_MODEL_0f9e08b29fd3437099df718309aa7dab",
            "max": 1,
            "min": 0,
            "orientation": "horizontal",
            "style": "IPY_MODEL_47bd317fa4af408fa8dfe7226d1e76a8",
            "value": 1
          }
        },
        "0ad27a6423b0402d9fe43c28d94ecafb": {
          "model_module": "@jupyter-widgets/controls",
          "model_name": "HTMLModel",
          "model_module_version": "1.5.0",
          "state": {
            "_dom_classes": [],
            "_model_module": "@jupyter-widgets/controls",
            "_model_module_version": "1.5.0",
            "_model_name": "HTMLModel",
            "_view_count": null,
            "_view_module": "@jupyter-widgets/controls",
            "_view_module_version": "1.5.0",
            "_view_name": "HTMLView",
            "description": "",
            "description_tooltip": null,
            "layout": "IPY_MODEL_c88eec31852642bbae19774c7d67cf80",
            "placeholder": "​",
            "style": "IPY_MODEL_cf38df26dcaa45c18a3b8f1746c2fde5",
            "value": " 2.78M/? [00:00&lt;00:00, 66.0MB/s]"
          }
        },
        "07c57de9748a4f3682114f72f01325bc": {
          "model_module": "@jupyter-widgets/base",
          "model_name": "LayoutModel",
          "model_module_version": "1.2.0",
          "state": {
            "_model_module": "@jupyter-widgets/base",
            "_model_module_version": "1.2.0",
            "_model_name": "LayoutModel",
            "_view_count": null,
            "_view_module": "@jupyter-widgets/base",
            "_view_module_version": "1.2.0",
            "_view_name": "LayoutView",
            "align_content": null,
            "align_items": null,
            "align_self": null,
            "border": null,
            "bottom": null,
            "display": null,
            "flex": null,
            "flex_flow": null,
            "grid_area": null,
            "grid_auto_columns": null,
            "grid_auto_flow": null,
            "grid_auto_rows": null,
            "grid_column": null,
            "grid_gap": null,
            "grid_row": null,
            "grid_template_areas": null,
            "grid_template_columns": null,
            "grid_template_rows": null,
            "height": null,
            "justify_content": null,
            "justify_items": null,
            "left": null,
            "margin": null,
            "max_height": null,
            "max_width": null,
            "min_height": null,
            "min_width": null,
            "object_fit": null,
            "object_position": null,
            "order": null,
            "overflow": null,
            "overflow_x": null,
            "overflow_y": null,
            "padding": null,
            "right": null,
            "top": null,
            "visibility": null,
            "width": null
          }
        },
        "00e8a89f306d47e7909f8efe6f219a9c": {
          "model_module": "@jupyter-widgets/base",
          "model_name": "LayoutModel",
          "model_module_version": "1.2.0",
          "state": {
            "_model_module": "@jupyter-widgets/base",
            "_model_module_version": "1.2.0",
            "_model_name": "LayoutModel",
            "_view_count": null,
            "_view_module": "@jupyter-widgets/base",
            "_view_module_version": "1.2.0",
            "_view_name": "LayoutView",
            "align_content": null,
            "align_items": null,
            "align_self": null,
            "border": null,
            "bottom": null,
            "display": null,
            "flex": null,
            "flex_flow": null,
            "grid_area": null,
            "grid_auto_columns": null,
            "grid_auto_flow": null,
            "grid_auto_rows": null,
            "grid_column": null,
            "grid_gap": null,
            "grid_row": null,
            "grid_template_areas": null,
            "grid_template_columns": null,
            "grid_template_rows": null,
            "height": null,
            "justify_content": null,
            "justify_items": null,
            "left": null,
            "margin": null,
            "max_height": null,
            "max_width": null,
            "min_height": null,
            "min_width": null,
            "object_fit": null,
            "object_position": null,
            "order": null,
            "overflow": null,
            "overflow_x": null,
            "overflow_y": null,
            "padding": null,
            "right": null,
            "top": null,
            "visibility": null,
            "width": null
          }
        },
        "2901505d9db64fcf8a0ace27f270d33d": {
          "model_module": "@jupyter-widgets/controls",
          "model_name": "DescriptionStyleModel",
          "model_module_version": "1.5.0",
          "state": {
            "_model_module": "@jupyter-widgets/controls",
            "_model_module_version": "1.5.0",
            "_model_name": "DescriptionStyleModel",
            "_view_count": null,
            "_view_module": "@jupyter-widgets/base",
            "_view_module_version": "1.2.0",
            "_view_name": "StyleView",
            "description_width": ""
          }
        },
        "0f9e08b29fd3437099df718309aa7dab": {
          "model_module": "@jupyter-widgets/base",
          "model_name": "LayoutModel",
          "model_module_version": "1.2.0",
          "state": {
            "_model_module": "@jupyter-widgets/base",
            "_model_module_version": "1.2.0",
            "_model_name": "LayoutModel",
            "_view_count": null,
            "_view_module": "@jupyter-widgets/base",
            "_view_module_version": "1.2.0",
            "_view_name": "LayoutView",
            "align_content": null,
            "align_items": null,
            "align_self": null,
            "border": null,
            "bottom": null,
            "display": null,
            "flex": null,
            "flex_flow": null,
            "grid_area": null,
            "grid_auto_columns": null,
            "grid_auto_flow": null,
            "grid_auto_rows": null,
            "grid_column": null,
            "grid_gap": null,
            "grid_row": null,
            "grid_template_areas": null,
            "grid_template_columns": null,
            "grid_template_rows": null,
            "height": null,
            "justify_content": null,
            "justify_items": null,
            "left": null,
            "margin": null,
            "max_height": null,
            "max_width": null,
            "min_height": null,
            "min_width": null,
            "object_fit": null,
            "object_position": null,
            "order": null,
            "overflow": null,
            "overflow_x": null,
            "overflow_y": null,
            "padding": null,
            "right": null,
            "top": null,
            "visibility": null,
            "width": "20px"
          }
        },
        "47bd317fa4af408fa8dfe7226d1e76a8": {
          "model_module": "@jupyter-widgets/controls",
          "model_name": "ProgressStyleModel",
          "model_module_version": "1.5.0",
          "state": {
            "_model_module": "@jupyter-widgets/controls",
            "_model_module_version": "1.5.0",
            "_model_name": "ProgressStyleModel",
            "_view_count": null,
            "_view_module": "@jupyter-widgets/base",
            "_view_module_version": "1.2.0",
            "_view_name": "StyleView",
            "bar_color": null,
            "description_width": ""
          }
        },
        "c88eec31852642bbae19774c7d67cf80": {
          "model_module": "@jupyter-widgets/base",
          "model_name": "LayoutModel",
          "model_module_version": "1.2.0",
          "state": {
            "_model_module": "@jupyter-widgets/base",
            "_model_module_version": "1.2.0",
            "_model_name": "LayoutModel",
            "_view_count": null,
            "_view_module": "@jupyter-widgets/base",
            "_view_module_version": "1.2.0",
            "_view_name": "LayoutView",
            "align_content": null,
            "align_items": null,
            "align_self": null,
            "border": null,
            "bottom": null,
            "display": null,
            "flex": null,
            "flex_flow": null,
            "grid_area": null,
            "grid_auto_columns": null,
            "grid_auto_flow": null,
            "grid_auto_rows": null,
            "grid_column": null,
            "grid_gap": null,
            "grid_row": null,
            "grid_template_areas": null,
            "grid_template_columns": null,
            "grid_template_rows": null,
            "height": null,
            "justify_content": null,
            "justify_items": null,
            "left": null,
            "margin": null,
            "max_height": null,
            "max_width": null,
            "min_height": null,
            "min_width": null,
            "object_fit": null,
            "object_position": null,
            "order": null,
            "overflow": null,
            "overflow_x": null,
            "overflow_y": null,
            "padding": null,
            "right": null,
            "top": null,
            "visibility": null,
            "width": null
          }
        },
        "cf38df26dcaa45c18a3b8f1746c2fde5": {
          "model_module": "@jupyter-widgets/controls",
          "model_name": "DescriptionStyleModel",
          "model_module_version": "1.5.0",
          "state": {
            "_model_module": "@jupyter-widgets/controls",
            "_model_module_version": "1.5.0",
            "_model_name": "DescriptionStyleModel",
            "_view_count": null,
            "_view_module": "@jupyter-widgets/base",
            "_view_module_version": "1.2.0",
            "_view_name": "StyleView",
            "description_width": ""
          }
        },
        "16a25ec6e30546e1ad9f7f345f9f73e4": {
          "model_module": "@jupyter-widgets/controls",
          "model_name": "HBoxModel",
          "model_module_version": "1.5.0",
          "state": {
            "_dom_classes": [],
            "_model_module": "@jupyter-widgets/controls",
            "_model_module_version": "1.5.0",
            "_model_name": "HBoxModel",
            "_view_count": null,
            "_view_module": "@jupyter-widgets/controls",
            "_view_module_version": "1.5.0",
            "_view_name": "HBoxView",
            "box_style": "",
            "children": [
              "IPY_MODEL_00a09eacef6e4f189e6f0b64af7b276f",
              "IPY_MODEL_8286f85374a44f36b98d8ec8304556e2",
              "IPY_MODEL_167192fe0d9b4b47906ee3b7c6248311"
            ],
            "layout": "IPY_MODEL_0e8fa63177f6471496f971253fb6daf4"
          }
        },
        "00a09eacef6e4f189e6f0b64af7b276f": {
          "model_module": "@jupyter-widgets/controls",
          "model_name": "HTMLModel",
          "model_module_version": "1.5.0",
          "state": {
            "_dom_classes": [],
            "_model_module": "@jupyter-widgets/controls",
            "_model_module_version": "1.5.0",
            "_model_name": "HTMLModel",
            "_view_count": null,
            "_view_module": "@jupyter-widgets/controls",
            "_view_module_version": "1.5.0",
            "_view_name": "HTMLView",
            "description": "",
            "description_tooltip": null,
            "layout": "IPY_MODEL_6aaa723025924fc9b362cdcb09d97fd4",
            "placeholder": "​",
            "style": "IPY_MODEL_fb7ad55172444edd9b9d939bed7759bb",
            "value": "merges.txt: "
          }
        },
        "8286f85374a44f36b98d8ec8304556e2": {
          "model_module": "@jupyter-widgets/controls",
          "model_name": "FloatProgressModel",
          "model_module_version": "1.5.0",
          "state": {
            "_dom_classes": [],
            "_model_module": "@jupyter-widgets/controls",
            "_model_module_version": "1.5.0",
            "_model_name": "FloatProgressModel",
            "_view_count": null,
            "_view_module": "@jupyter-widgets/controls",
            "_view_module_version": "1.5.0",
            "_view_name": "ProgressView",
            "bar_style": "success",
            "description": "",
            "description_tooltip": null,
            "layout": "IPY_MODEL_1697509c89af4f5c9c125f861b68d375",
            "max": 1,
            "min": 0,
            "orientation": "horizontal",
            "style": "IPY_MODEL_5b2ff4b48bcc4afaa501222d197ac2c6",
            "value": 1
          }
        },
        "167192fe0d9b4b47906ee3b7c6248311": {
          "model_module": "@jupyter-widgets/controls",
          "model_name": "HTMLModel",
          "model_module_version": "1.5.0",
          "state": {
            "_dom_classes": [],
            "_model_module": "@jupyter-widgets/controls",
            "_model_module_version": "1.5.0",
            "_model_name": "HTMLModel",
            "_view_count": null,
            "_view_module": "@jupyter-widgets/controls",
            "_view_module_version": "1.5.0",
            "_view_name": "HTMLView",
            "description": "",
            "description_tooltip": null,
            "layout": "IPY_MODEL_aecfe7f25cc8443ea6a1756cfe8a1a47",
            "placeholder": "​",
            "style": "IPY_MODEL_945534a068a447dd99d06426e2f8bc97",
            "value": " 1.67M/? [00:00&lt;00:00, 55.6MB/s]"
          }
        },
        "0e8fa63177f6471496f971253fb6daf4": {
          "model_module": "@jupyter-widgets/base",
          "model_name": "LayoutModel",
          "model_module_version": "1.2.0",
          "state": {
            "_model_module": "@jupyter-widgets/base",
            "_model_module_version": "1.2.0",
            "_model_name": "LayoutModel",
            "_view_count": null,
            "_view_module": "@jupyter-widgets/base",
            "_view_module_version": "1.2.0",
            "_view_name": "LayoutView",
            "align_content": null,
            "align_items": null,
            "align_self": null,
            "border": null,
            "bottom": null,
            "display": null,
            "flex": null,
            "flex_flow": null,
            "grid_area": null,
            "grid_auto_columns": null,
            "grid_auto_flow": null,
            "grid_auto_rows": null,
            "grid_column": null,
            "grid_gap": null,
            "grid_row": null,
            "grid_template_areas": null,
            "grid_template_columns": null,
            "grid_template_rows": null,
            "height": null,
            "justify_content": null,
            "justify_items": null,
            "left": null,
            "margin": null,
            "max_height": null,
            "max_width": null,
            "min_height": null,
            "min_width": null,
            "object_fit": null,
            "object_position": null,
            "order": null,
            "overflow": null,
            "overflow_x": null,
            "overflow_y": null,
            "padding": null,
            "right": null,
            "top": null,
            "visibility": null,
            "width": null
          }
        },
        "6aaa723025924fc9b362cdcb09d97fd4": {
          "model_module": "@jupyter-widgets/base",
          "model_name": "LayoutModel",
          "model_module_version": "1.2.0",
          "state": {
            "_model_module": "@jupyter-widgets/base",
            "_model_module_version": "1.2.0",
            "_model_name": "LayoutModel",
            "_view_count": null,
            "_view_module": "@jupyter-widgets/base",
            "_view_module_version": "1.2.0",
            "_view_name": "LayoutView",
            "align_content": null,
            "align_items": null,
            "align_self": null,
            "border": null,
            "bottom": null,
            "display": null,
            "flex": null,
            "flex_flow": null,
            "grid_area": null,
            "grid_auto_columns": null,
            "grid_auto_flow": null,
            "grid_auto_rows": null,
            "grid_column": null,
            "grid_gap": null,
            "grid_row": null,
            "grid_template_areas": null,
            "grid_template_columns": null,
            "grid_template_rows": null,
            "height": null,
            "justify_content": null,
            "justify_items": null,
            "left": null,
            "margin": null,
            "max_height": null,
            "max_width": null,
            "min_height": null,
            "min_width": null,
            "object_fit": null,
            "object_position": null,
            "order": null,
            "overflow": null,
            "overflow_x": null,
            "overflow_y": null,
            "padding": null,
            "right": null,
            "top": null,
            "visibility": null,
            "width": null
          }
        },
        "fb7ad55172444edd9b9d939bed7759bb": {
          "model_module": "@jupyter-widgets/controls",
          "model_name": "DescriptionStyleModel",
          "model_module_version": "1.5.0",
          "state": {
            "_model_module": "@jupyter-widgets/controls",
            "_model_module_version": "1.5.0",
            "_model_name": "DescriptionStyleModel",
            "_view_count": null,
            "_view_module": "@jupyter-widgets/base",
            "_view_module_version": "1.2.0",
            "_view_name": "StyleView",
            "description_width": ""
          }
        },
        "1697509c89af4f5c9c125f861b68d375": {
          "model_module": "@jupyter-widgets/base",
          "model_name": "LayoutModel",
          "model_module_version": "1.2.0",
          "state": {
            "_model_module": "@jupyter-widgets/base",
            "_model_module_version": "1.2.0",
            "_model_name": "LayoutModel",
            "_view_count": null,
            "_view_module": "@jupyter-widgets/base",
            "_view_module_version": "1.2.0",
            "_view_name": "LayoutView",
            "align_content": null,
            "align_items": null,
            "align_self": null,
            "border": null,
            "bottom": null,
            "display": null,
            "flex": null,
            "flex_flow": null,
            "grid_area": null,
            "grid_auto_columns": null,
            "grid_auto_flow": null,
            "grid_auto_rows": null,
            "grid_column": null,
            "grid_gap": null,
            "grid_row": null,
            "grid_template_areas": null,
            "grid_template_columns": null,
            "grid_template_rows": null,
            "height": null,
            "justify_content": null,
            "justify_items": null,
            "left": null,
            "margin": null,
            "max_height": null,
            "max_width": null,
            "min_height": null,
            "min_width": null,
            "object_fit": null,
            "object_position": null,
            "order": null,
            "overflow": null,
            "overflow_x": null,
            "overflow_y": null,
            "padding": null,
            "right": null,
            "top": null,
            "visibility": null,
            "width": "20px"
          }
        },
        "5b2ff4b48bcc4afaa501222d197ac2c6": {
          "model_module": "@jupyter-widgets/controls",
          "model_name": "ProgressStyleModel",
          "model_module_version": "1.5.0",
          "state": {
            "_model_module": "@jupyter-widgets/controls",
            "_model_module_version": "1.5.0",
            "_model_name": "ProgressStyleModel",
            "_view_count": null,
            "_view_module": "@jupyter-widgets/base",
            "_view_module_version": "1.2.0",
            "_view_name": "StyleView",
            "bar_color": null,
            "description_width": ""
          }
        },
        "aecfe7f25cc8443ea6a1756cfe8a1a47": {
          "model_module": "@jupyter-widgets/base",
          "model_name": "LayoutModel",
          "model_module_version": "1.2.0",
          "state": {
            "_model_module": "@jupyter-widgets/base",
            "_model_module_version": "1.2.0",
            "_model_name": "LayoutModel",
            "_view_count": null,
            "_view_module": "@jupyter-widgets/base",
            "_view_module_version": "1.2.0",
            "_view_name": "LayoutView",
            "align_content": null,
            "align_items": null,
            "align_self": null,
            "border": null,
            "bottom": null,
            "display": null,
            "flex": null,
            "flex_flow": null,
            "grid_area": null,
            "grid_auto_columns": null,
            "grid_auto_flow": null,
            "grid_auto_rows": null,
            "grid_column": null,
            "grid_gap": null,
            "grid_row": null,
            "grid_template_areas": null,
            "grid_template_columns": null,
            "grid_template_rows": null,
            "height": null,
            "justify_content": null,
            "justify_items": null,
            "left": null,
            "margin": null,
            "max_height": null,
            "max_width": null,
            "min_height": null,
            "min_width": null,
            "object_fit": null,
            "object_position": null,
            "order": null,
            "overflow": null,
            "overflow_x": null,
            "overflow_y": null,
            "padding": null,
            "right": null,
            "top": null,
            "visibility": null,
            "width": null
          }
        },
        "945534a068a447dd99d06426e2f8bc97": {
          "model_module": "@jupyter-widgets/controls",
          "model_name": "DescriptionStyleModel",
          "model_module_version": "1.5.0",
          "state": {
            "_model_module": "@jupyter-widgets/controls",
            "_model_module_version": "1.5.0",
            "_model_name": "DescriptionStyleModel",
            "_view_count": null,
            "_view_module": "@jupyter-widgets/base",
            "_view_module_version": "1.2.0",
            "_view_name": "StyleView",
            "description_width": ""
          }
        },
        "bd6aa6d3bb724341a4487e1be9b26c77": {
          "model_module": "@jupyter-widgets/controls",
          "model_name": "HBoxModel",
          "model_module_version": "1.5.0",
          "state": {
            "_dom_classes": [],
            "_model_module": "@jupyter-widgets/controls",
            "_model_module_version": "1.5.0",
            "_model_name": "HBoxModel",
            "_view_count": null,
            "_view_module": "@jupyter-widgets/controls",
            "_view_module_version": "1.5.0",
            "_view_name": "HBoxView",
            "box_style": "",
            "children": [
              "IPY_MODEL_577ebd714cf848c9af3373c4c857f6a8",
              "IPY_MODEL_0b861759e3e74231b3eb345ee68de653",
              "IPY_MODEL_09eea309184b4e808c50f4a331a13605"
            ],
            "layout": "IPY_MODEL_80cda20d8b704cfe8baa22bda843cfa0"
          }
        },
        "577ebd714cf848c9af3373c4c857f6a8": {
          "model_module": "@jupyter-widgets/controls",
          "model_name": "HTMLModel",
          "model_module_version": "1.5.0",
          "state": {
            "_dom_classes": [],
            "_model_module": "@jupyter-widgets/controls",
            "_model_module_version": "1.5.0",
            "_model_name": "HTMLModel",
            "_view_count": null,
            "_view_module": "@jupyter-widgets/controls",
            "_view_module_version": "1.5.0",
            "_view_name": "HTMLView",
            "description": "",
            "description_tooltip": null,
            "layout": "IPY_MODEL_2b9e98697f744beaa556373c3ad7b5e9",
            "placeholder": "​",
            "style": "IPY_MODEL_7a90ea10fcc648d5beb64c80d0ace859",
            "value": "tokenizer.json: 100%"
          }
        },
        "0b861759e3e74231b3eb345ee68de653": {
          "model_module": "@jupyter-widgets/controls",
          "model_name": "FloatProgressModel",
          "model_module_version": "1.5.0",
          "state": {
            "_dom_classes": [],
            "_model_module": "@jupyter-widgets/controls",
            "_model_module_version": "1.5.0",
            "_model_name": "FloatProgressModel",
            "_view_count": null,
            "_view_module": "@jupyter-widgets/controls",
            "_view_module_version": "1.5.0",
            "_view_name": "ProgressView",
            "bar_style": "success",
            "description": "",
            "description_tooltip": null,
            "layout": "IPY_MODEL_9b30f7688149469fa5e362ab2ebb05f6",
            "max": 11422654,
            "min": 0,
            "orientation": "horizontal",
            "style": "IPY_MODEL_f1f915d1375543a5b686558b3b23172a",
            "value": 11422654
          }
        },
        "09eea309184b4e808c50f4a331a13605": {
          "model_module": "@jupyter-widgets/controls",
          "model_name": "HTMLModel",
          "model_module_version": "1.5.0",
          "state": {
            "_dom_classes": [],
            "_model_module": "@jupyter-widgets/controls",
            "_model_module_version": "1.5.0",
            "_model_name": "HTMLModel",
            "_view_count": null,
            "_view_module": "@jupyter-widgets/controls",
            "_view_module_version": "1.5.0",
            "_view_name": "HTMLView",
            "description": "",
            "description_tooltip": null,
            "layout": "IPY_MODEL_5ef2cc0b30b64984a4b5da08f8ae127d",
            "placeholder": "​",
            "style": "IPY_MODEL_58f5d2050202480785d4cef7b12305c4",
            "value": " 11.4M/11.4M [00:01&lt;00:00, 2.49MB/s]"
          }
        },
        "80cda20d8b704cfe8baa22bda843cfa0": {
          "model_module": "@jupyter-widgets/base",
          "model_name": "LayoutModel",
          "model_module_version": "1.2.0",
          "state": {
            "_model_module": "@jupyter-widgets/base",
            "_model_module_version": "1.2.0",
            "_model_name": "LayoutModel",
            "_view_count": null,
            "_view_module": "@jupyter-widgets/base",
            "_view_module_version": "1.2.0",
            "_view_name": "LayoutView",
            "align_content": null,
            "align_items": null,
            "align_self": null,
            "border": null,
            "bottom": null,
            "display": null,
            "flex": null,
            "flex_flow": null,
            "grid_area": null,
            "grid_auto_columns": null,
            "grid_auto_flow": null,
            "grid_auto_rows": null,
            "grid_column": null,
            "grid_gap": null,
            "grid_row": null,
            "grid_template_areas": null,
            "grid_template_columns": null,
            "grid_template_rows": null,
            "height": null,
            "justify_content": null,
            "justify_items": null,
            "left": null,
            "margin": null,
            "max_height": null,
            "max_width": null,
            "min_height": null,
            "min_width": null,
            "object_fit": null,
            "object_position": null,
            "order": null,
            "overflow": null,
            "overflow_x": null,
            "overflow_y": null,
            "padding": null,
            "right": null,
            "top": null,
            "visibility": null,
            "width": null
          }
        },
        "2b9e98697f744beaa556373c3ad7b5e9": {
          "model_module": "@jupyter-widgets/base",
          "model_name": "LayoutModel",
          "model_module_version": "1.2.0",
          "state": {
            "_model_module": "@jupyter-widgets/base",
            "_model_module_version": "1.2.0",
            "_model_name": "LayoutModel",
            "_view_count": null,
            "_view_module": "@jupyter-widgets/base",
            "_view_module_version": "1.2.0",
            "_view_name": "LayoutView",
            "align_content": null,
            "align_items": null,
            "align_self": null,
            "border": null,
            "bottom": null,
            "display": null,
            "flex": null,
            "flex_flow": null,
            "grid_area": null,
            "grid_auto_columns": null,
            "grid_auto_flow": null,
            "grid_auto_rows": null,
            "grid_column": null,
            "grid_gap": null,
            "grid_row": null,
            "grid_template_areas": null,
            "grid_template_columns": null,
            "grid_template_rows": null,
            "height": null,
            "justify_content": null,
            "justify_items": null,
            "left": null,
            "margin": null,
            "max_height": null,
            "max_width": null,
            "min_height": null,
            "min_width": null,
            "object_fit": null,
            "object_position": null,
            "order": null,
            "overflow": null,
            "overflow_x": null,
            "overflow_y": null,
            "padding": null,
            "right": null,
            "top": null,
            "visibility": null,
            "width": null
          }
        },
        "7a90ea10fcc648d5beb64c80d0ace859": {
          "model_module": "@jupyter-widgets/controls",
          "model_name": "DescriptionStyleModel",
          "model_module_version": "1.5.0",
          "state": {
            "_model_module": "@jupyter-widgets/controls",
            "_model_module_version": "1.5.0",
            "_model_name": "DescriptionStyleModel",
            "_view_count": null,
            "_view_module": "@jupyter-widgets/base",
            "_view_module_version": "1.2.0",
            "_view_name": "StyleView",
            "description_width": ""
          }
        },
        "9b30f7688149469fa5e362ab2ebb05f6": {
          "model_module": "@jupyter-widgets/base",
          "model_name": "LayoutModel",
          "model_module_version": "1.2.0",
          "state": {
            "_model_module": "@jupyter-widgets/base",
            "_model_module_version": "1.2.0",
            "_model_name": "LayoutModel",
            "_view_count": null,
            "_view_module": "@jupyter-widgets/base",
            "_view_module_version": "1.2.0",
            "_view_name": "LayoutView",
            "align_content": null,
            "align_items": null,
            "align_self": null,
            "border": null,
            "bottom": null,
            "display": null,
            "flex": null,
            "flex_flow": null,
            "grid_area": null,
            "grid_auto_columns": null,
            "grid_auto_flow": null,
            "grid_auto_rows": null,
            "grid_column": null,
            "grid_gap": null,
            "grid_row": null,
            "grid_template_areas": null,
            "grid_template_columns": null,
            "grid_template_rows": null,
            "height": null,
            "justify_content": null,
            "justify_items": null,
            "left": null,
            "margin": null,
            "max_height": null,
            "max_width": null,
            "min_height": null,
            "min_width": null,
            "object_fit": null,
            "object_position": null,
            "order": null,
            "overflow": null,
            "overflow_x": null,
            "overflow_y": null,
            "padding": null,
            "right": null,
            "top": null,
            "visibility": null,
            "width": null
          }
        },
        "f1f915d1375543a5b686558b3b23172a": {
          "model_module": "@jupyter-widgets/controls",
          "model_name": "ProgressStyleModel",
          "model_module_version": "1.5.0",
          "state": {
            "_model_module": "@jupyter-widgets/controls",
            "_model_module_version": "1.5.0",
            "_model_name": "ProgressStyleModel",
            "_view_count": null,
            "_view_module": "@jupyter-widgets/base",
            "_view_module_version": "1.2.0",
            "_view_name": "StyleView",
            "bar_color": null,
            "description_width": ""
          }
        },
        "5ef2cc0b30b64984a4b5da08f8ae127d": {
          "model_module": "@jupyter-widgets/base",
          "model_name": "LayoutModel",
          "model_module_version": "1.2.0",
          "state": {
            "_model_module": "@jupyter-widgets/base",
            "_model_module_version": "1.2.0",
            "_model_name": "LayoutModel",
            "_view_count": null,
            "_view_module": "@jupyter-widgets/base",
            "_view_module_version": "1.2.0",
            "_view_name": "LayoutView",
            "align_content": null,
            "align_items": null,
            "align_self": null,
            "border": null,
            "bottom": null,
            "display": null,
            "flex": null,
            "flex_flow": null,
            "grid_area": null,
            "grid_auto_columns": null,
            "grid_auto_flow": null,
            "grid_auto_rows": null,
            "grid_column": null,
            "grid_gap": null,
            "grid_row": null,
            "grid_template_areas": null,
            "grid_template_columns": null,
            "grid_template_rows": null,
            "height": null,
            "justify_content": null,
            "justify_items": null,
            "left": null,
            "margin": null,
            "max_height": null,
            "max_width": null,
            "min_height": null,
            "min_width": null,
            "object_fit": null,
            "object_position": null,
            "order": null,
            "overflow": null,
            "overflow_x": null,
            "overflow_y": null,
            "padding": null,
            "right": null,
            "top": null,
            "visibility": null,
            "width": null
          }
        },
        "58f5d2050202480785d4cef7b12305c4": {
          "model_module": "@jupyter-widgets/controls",
          "model_name": "DescriptionStyleModel",
          "model_module_version": "1.5.0",
          "state": {
            "_model_module": "@jupyter-widgets/controls",
            "_model_module_version": "1.5.0",
            "_model_name": "DescriptionStyleModel",
            "_view_count": null,
            "_view_module": "@jupyter-widgets/base",
            "_view_module_version": "1.2.0",
            "_view_name": "StyleView",
            "description_width": ""
          }
        }
      }
    }
  },
  "nbformat": 4,
  "nbformat_minor": 5
}