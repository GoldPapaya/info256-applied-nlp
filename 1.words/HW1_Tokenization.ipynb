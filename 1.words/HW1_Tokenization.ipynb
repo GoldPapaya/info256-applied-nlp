{
  "cells": [
    {
      "cell_type": "markdown",
      "metadata": {
        "id": "view-in-github",
        "colab_type": "text"
      },
      "source": [
        "<a href=\"https://colab.research.google.com/github/GoldPapaya/info256-applied-nlp/blob/main/1.words/HW1_Tokenization.ipynb\" target=\"_parent\"><img src=\"https://colab.research.google.com/assets/colab-badge.svg\" alt=\"Open In Colab\"/></a>"
      ]
    },
    {
      "cell_type": "markdown",
      "metadata": {
        "id": "lPdoirKg9eQj"
      },
      "source": [
        "[![Open In Colab](https://colab.research.google.com/assets/colab-badge.svg)](https://colab.research.google.com/github/dbamman/anlp25/blob/main/1.words/HW1_Tokenization.ipynb)"
      ]
    },
    {
      "cell_type": "markdown",
      "metadata": {
        "id": "B4cuOZon9eQl"
      },
      "source": [
        "# Homework 1: Tokenization"
      ]
    },
    {
      "cell_type": "markdown",
      "metadata": {
        "id": "bv5qAYY2vxLH"
      },
      "source": [
        "In this homework, you'll compare the tokenizations outputs from different classes of tokenizers. This homework is also an opportunity for you to check in on your Python proficiency; for all of the operations below (downloading a file, reading it in, counting objects), you should either be comfortable implementing them already or know how to find out how to do so yourself (if you find yourself struggling with them, we encourage you to take this class at a later date, with a bit more Python experience under your belt).\n",
        "\n",
        "We've added some space for you to write the code for each section, but feel free to create more code cells if you'd like."
      ]
    },
    {
      "cell_type": "markdown",
      "metadata": {
        "id": "_uzG_NzfvK60"
      },
      "source": [
        "## Part 1\n",
        "\n",
        "Tokenize the following document with each of these models. Feel free to use the documentation linked (and AI Assistance) to do so for this low-level operation (but again remember that you have to be able to explain what your code is doing).  For each of the tokenizers above, we want to see a list of tokens for this document (not numeric token IDs, but legible words) -- e.g., \\[\"London\", \".\", ...\\]\n",
        "\n",
        "* NLTK `word_tokenize` (https://www.nltk.org/book/ch03.html)\n",
        "* Spacy `tokenize` (https://spacy.io/usage/spacy-101#annotations-token)\n",
        "* Tiktoken BPE tokenization (https://github.com/openai/tiktoken) -- cl100k_base (GPT-3.5, GPT-4).\n",
        "\n"
      ]
    },
    {
      "cell_type": "code",
      "execution_count": 41,
      "metadata": {
        "id": "9ywLVgL3v5sy"
      },
      "outputs": [],
      "source": [
        "document = \"London. Michaelmas term lately over, and the Lord Chancellor sitting in Lincoln’s Inn Hall. Implacable November weather. As much mud in the streets as if the waters had but newly retired from the face of the earth, and it would not be wonderful to meet a Megalosaurus, forty feet long or so, waddling like an elephantine lizard up Holborn Hill. Smoke lowering down from chimney-pots, making a soft black drizzle, with flakes of soot in it as big as full-grown snowflakes—gone into mourning, one might imagine, for the death of the sun. Dogs, undistinguishable in mire. Horses, scarcely better; splashed to their very blinkers. Foot passengers, jostling one another’s umbrellas in a general infection of ill temper, and losing their foot-hold at street-corners, where tens of thousands of other foot passengers have been slipping and sliding since the day broke (if this day ever broke), adding new deposits to the crust upon crust of mud, sticking at those points tenaciously to the pavement, and accumulating at compound interest.\""
      ]
    },
    {
      "cell_type": "code",
      "source": [
        "# make sure dependencies are installed\n",
        "!pip install nltk\n",
        "!pip install spacy\n",
        "!pip install tiktoken"
      ],
      "metadata": {
        "id": "55Sp-E9-_34v",
        "outputId": "8bacfa58-a788-491b-bf54-58417e24a430",
        "colab": {
          "base_uri": "https://localhost:8080/",
          "height": 0
        }
      },
      "execution_count": 42,
      "outputs": [
        {
          "output_type": "stream",
          "name": "stdout",
          "text": [
            "Requirement already satisfied: nltk in /usr/local/lib/python3.12/dist-packages (3.9.1)\n",
            "Requirement already satisfied: click in /usr/local/lib/python3.12/dist-packages (from nltk) (8.2.1)\n",
            "Requirement already satisfied: joblib in /usr/local/lib/python3.12/dist-packages (from nltk) (1.5.1)\n",
            "Requirement already satisfied: regex>=2021.8.3 in /usr/local/lib/python3.12/dist-packages (from nltk) (2024.11.6)\n",
            "Requirement already satisfied: tqdm in /usr/local/lib/python3.12/dist-packages (from nltk) (4.67.1)\n",
            "Requirement already satisfied: spacy in /usr/local/lib/python3.12/dist-packages (3.8.7)\n",
            "Requirement already satisfied: spacy-legacy<3.1.0,>=3.0.11 in /usr/local/lib/python3.12/dist-packages (from spacy) (3.0.12)\n",
            "Requirement already satisfied: spacy-loggers<2.0.0,>=1.0.0 in /usr/local/lib/python3.12/dist-packages (from spacy) (1.0.5)\n",
            "Requirement already satisfied: murmurhash<1.1.0,>=0.28.0 in /usr/local/lib/python3.12/dist-packages (from spacy) (1.0.13)\n",
            "Requirement already satisfied: cymem<2.1.0,>=2.0.2 in /usr/local/lib/python3.12/dist-packages (from spacy) (2.0.11)\n",
            "Requirement already satisfied: preshed<3.1.0,>=3.0.2 in /usr/local/lib/python3.12/dist-packages (from spacy) (3.0.10)\n",
            "Requirement already satisfied: thinc<8.4.0,>=8.3.4 in /usr/local/lib/python3.12/dist-packages (from spacy) (8.3.6)\n",
            "Requirement already satisfied: wasabi<1.2.0,>=0.9.1 in /usr/local/lib/python3.12/dist-packages (from spacy) (1.1.3)\n",
            "Requirement already satisfied: srsly<3.0.0,>=2.4.3 in /usr/local/lib/python3.12/dist-packages (from spacy) (2.5.1)\n",
            "Requirement already satisfied: catalogue<2.1.0,>=2.0.6 in /usr/local/lib/python3.12/dist-packages (from spacy) (2.0.10)\n",
            "Requirement already satisfied: weasel<0.5.0,>=0.1.0 in /usr/local/lib/python3.12/dist-packages (from spacy) (0.4.1)\n",
            "Requirement already satisfied: typer<1.0.0,>=0.3.0 in /usr/local/lib/python3.12/dist-packages (from spacy) (0.16.1)\n",
            "Requirement already satisfied: tqdm<5.0.0,>=4.38.0 in /usr/local/lib/python3.12/dist-packages (from spacy) (4.67.1)\n",
            "Requirement already satisfied: numpy>=1.19.0 in /usr/local/lib/python3.12/dist-packages (from spacy) (2.0.2)\n",
            "Requirement already satisfied: requests<3.0.0,>=2.13.0 in /usr/local/lib/python3.12/dist-packages (from spacy) (2.32.4)\n",
            "Requirement already satisfied: pydantic!=1.8,!=1.8.1,<3.0.0,>=1.7.4 in /usr/local/lib/python3.12/dist-packages (from spacy) (2.11.7)\n",
            "Requirement already satisfied: jinja2 in /usr/local/lib/python3.12/dist-packages (from spacy) (3.1.6)\n",
            "Requirement already satisfied: setuptools in /usr/local/lib/python3.12/dist-packages (from spacy) (75.2.0)\n",
            "Requirement already satisfied: packaging>=20.0 in /usr/local/lib/python3.12/dist-packages (from spacy) (25.0)\n",
            "Requirement already satisfied: langcodes<4.0.0,>=3.2.0 in /usr/local/lib/python3.12/dist-packages (from spacy) (3.5.0)\n",
            "Requirement already satisfied: language-data>=1.2 in /usr/local/lib/python3.12/dist-packages (from langcodes<4.0.0,>=3.2.0->spacy) (1.3.0)\n",
            "Requirement already satisfied: annotated-types>=0.6.0 in /usr/local/lib/python3.12/dist-packages (from pydantic!=1.8,!=1.8.1,<3.0.0,>=1.7.4->spacy) (0.7.0)\n",
            "Requirement already satisfied: pydantic-core==2.33.2 in /usr/local/lib/python3.12/dist-packages (from pydantic!=1.8,!=1.8.1,<3.0.0,>=1.7.4->spacy) (2.33.2)\n",
            "Requirement already satisfied: typing-extensions>=4.12.2 in /usr/local/lib/python3.12/dist-packages (from pydantic!=1.8,!=1.8.1,<3.0.0,>=1.7.4->spacy) (4.15.0)\n",
            "Requirement already satisfied: typing-inspection>=0.4.0 in /usr/local/lib/python3.12/dist-packages (from pydantic!=1.8,!=1.8.1,<3.0.0,>=1.7.4->spacy) (0.4.1)\n",
            "Requirement already satisfied: charset_normalizer<4,>=2 in /usr/local/lib/python3.12/dist-packages (from requests<3.0.0,>=2.13.0->spacy) (3.4.3)\n",
            "Requirement already satisfied: idna<4,>=2.5 in /usr/local/lib/python3.12/dist-packages (from requests<3.0.0,>=2.13.0->spacy) (3.10)\n",
            "Requirement already satisfied: urllib3<3,>=1.21.1 in /usr/local/lib/python3.12/dist-packages (from requests<3.0.0,>=2.13.0->spacy) (2.5.0)\n",
            "Requirement already satisfied: certifi>=2017.4.17 in /usr/local/lib/python3.12/dist-packages (from requests<3.0.0,>=2.13.0->spacy) (2025.8.3)\n",
            "Requirement already satisfied: blis<1.4.0,>=1.3.0 in /usr/local/lib/python3.12/dist-packages (from thinc<8.4.0,>=8.3.4->spacy) (1.3.0)\n",
            "Requirement already satisfied: confection<1.0.0,>=0.0.1 in /usr/local/lib/python3.12/dist-packages (from thinc<8.4.0,>=8.3.4->spacy) (0.1.5)\n",
            "Requirement already satisfied: click>=8.0.0 in /usr/local/lib/python3.12/dist-packages (from typer<1.0.0,>=0.3.0->spacy) (8.2.1)\n",
            "Requirement already satisfied: shellingham>=1.3.0 in /usr/local/lib/python3.12/dist-packages (from typer<1.0.0,>=0.3.0->spacy) (1.5.4)\n",
            "Requirement already satisfied: rich>=10.11.0 in /usr/local/lib/python3.12/dist-packages (from typer<1.0.0,>=0.3.0->spacy) (13.9.4)\n",
            "Requirement already satisfied: cloudpathlib<1.0.0,>=0.7.0 in /usr/local/lib/python3.12/dist-packages (from weasel<0.5.0,>=0.1.0->spacy) (0.21.1)\n",
            "Requirement already satisfied: smart-open<8.0.0,>=5.2.1 in /usr/local/lib/python3.12/dist-packages (from weasel<0.5.0,>=0.1.0->spacy) (7.3.0.post1)\n",
            "Requirement already satisfied: MarkupSafe>=2.0 in /usr/local/lib/python3.12/dist-packages (from jinja2->spacy) (3.0.2)\n",
            "Requirement already satisfied: marisa-trie>=1.1.0 in /usr/local/lib/python3.12/dist-packages (from language-data>=1.2->langcodes<4.0.0,>=3.2.0->spacy) (1.3.0)\n",
            "Requirement already satisfied: markdown-it-py>=2.2.0 in /usr/local/lib/python3.12/dist-packages (from rich>=10.11.0->typer<1.0.0,>=0.3.0->spacy) (4.0.0)\n",
            "Requirement already satisfied: pygments<3.0.0,>=2.13.0 in /usr/local/lib/python3.12/dist-packages (from rich>=10.11.0->typer<1.0.0,>=0.3.0->spacy) (2.19.2)\n",
            "Requirement already satisfied: wrapt in /usr/local/lib/python3.12/dist-packages (from smart-open<8.0.0,>=5.2.1->weasel<0.5.0,>=0.1.0->spacy) (1.17.3)\n",
            "Requirement already satisfied: mdurl~=0.1 in /usr/local/lib/python3.12/dist-packages (from markdown-it-py>=2.2.0->rich>=10.11.0->typer<1.0.0,>=0.3.0->spacy) (0.1.2)\n",
            "Requirement already satisfied: tiktoken in /usr/local/lib/python3.12/dist-packages (0.11.0)\n",
            "Requirement already satisfied: regex>=2022.1.18 in /usr/local/lib/python3.12/dist-packages (from tiktoken) (2024.11.6)\n",
            "Requirement already satisfied: requests>=2.26.0 in /usr/local/lib/python3.12/dist-packages (from tiktoken) (2.32.4)\n",
            "Requirement already satisfied: charset_normalizer<4,>=2 in /usr/local/lib/python3.12/dist-packages (from requests>=2.26.0->tiktoken) (3.4.3)\n",
            "Requirement already satisfied: idna<4,>=2.5 in /usr/local/lib/python3.12/dist-packages (from requests>=2.26.0->tiktoken) (3.10)\n",
            "Requirement already satisfied: urllib3<3,>=1.21.1 in /usr/local/lib/python3.12/dist-packages (from requests>=2.26.0->tiktoken) (2.5.0)\n",
            "Requirement already satisfied: certifi>=2017.4.17 in /usr/local/lib/python3.12/dist-packages (from requests>=2.26.0->tiktoken) (2025.8.3)\n"
          ]
        }
      ]
    },
    {
      "cell_type": "code",
      "execution_count": 43,
      "metadata": {
        "id": "fs6UQ8ob9eQm",
        "outputId": "43ba47b7-48fa-4c50-cf75-c319c35dcaa1",
        "colab": {
          "base_uri": "https://localhost:8080/",
          "height": 0
        }
      },
      "outputs": [
        {
          "output_type": "stream",
          "name": "stdout",
          "text": [
            "['London', '.', 'Michaelmas', 'term', 'lately', 'over', ',', 'and', 'the', 'Lord', 'Chancellor', 'sitting', 'in', 'Lincoln', '’', 's', 'Inn', 'Hall', '.', 'Implacable', 'November', 'weather', '.', 'As', 'much', 'mud', 'in', 'the', 'streets', 'as', 'if', 'the', 'waters', 'had', 'but', 'newly', 'retired', 'from', 'the', 'face', 'of', 'the', 'earth', ',', 'and', 'it', 'would', 'not', 'be', 'wonderful', 'to', 'meet', 'a', 'Megalosaurus', ',', 'forty', 'feet', 'long', 'or', 'so', ',', 'waddling', 'like', 'an', 'elephantine', 'lizard', 'up', 'Holborn', 'Hill', '.', 'Smoke', 'lowering', 'down', 'from', 'chimney-pots', ',', 'making', 'a', 'soft', 'black', 'drizzle', ',', 'with', 'flakes', 'of', 'soot', 'in', 'it', 'as', 'big', 'as', 'full-grown', 'snowflakes—gone', 'into', 'mourning', ',', 'one', 'might', 'imagine', ',', 'for', 'the', 'death', 'of', 'the', 'sun', '.', 'Dogs', ',', 'undistinguishable', 'in', 'mire', '.', 'Horses', ',', 'scarcely', 'better', ';', 'splashed', 'to', 'their', 'very', 'blinkers', '.', 'Foot', 'passengers', ',', 'jostling', 'one', 'another', '’', 's', 'umbrellas', 'in', 'a', 'general', 'infection', 'of', 'ill', 'temper', ',', 'and', 'losing', 'their', 'foot-hold', 'at', 'street-corners', ',', 'where', 'tens', 'of', 'thousands', 'of', 'other', 'foot', 'passengers', 'have', 'been', 'slipping', 'and', 'sliding', 'since', 'the', 'day', 'broke', '(', 'if', 'this', 'day', 'ever', 'broke', ')', ',', 'adding', 'new', 'deposits', 'to', 'the', 'crust', 'upon', 'crust', 'of', 'mud', ',', 'sticking', 'at', 'those', 'points', 'tenaciously', 'to', 'the', 'pavement', ',', 'and', 'accumulating', 'at', 'compound', 'interest', '.']\n"
          ]
        },
        {
          "output_type": "stream",
          "name": "stderr",
          "text": [
            "[nltk_data] Downloading package punkt_tab to /root/nltk_data...\n",
            "[nltk_data]   Package punkt_tab is already up-to-date!\n"
          ]
        }
      ],
      "source": [
        "# NLTK word_tokenize\n",
        "import nltk\n",
        "nltk.download('punkt_tab')\n",
        "from nltk import word_tokenize\n",
        "\n",
        "def nltkTokenize(document):\n",
        "  tokens = word_tokenize(document)\n",
        "  return tokens\n",
        "\n",
        "print(nltkTokenize(document))"
      ]
    },
    {
      "cell_type": "code",
      "source": [
        "# Spacy tokenize\n",
        "import spacy\n",
        "\n",
        "nlp = spacy.load(\"en_core_web_sm\")\n",
        "document_nlp = nlp(document)\n",
        "\n",
        "def spacyTokenize(document_nlp):\n",
        "  tokens = []\n",
        "  for token in document_nlp:\n",
        "    tokens.append(token.text)\n",
        "  return tokens\n",
        "\n",
        "print(spacyTokenize(document_nlp))"
      ],
      "metadata": {
        "id": "WgbPKhLu99Rp",
        "outputId": "66c89ebd-4a32-4845-af4e-ac0f37d656ff",
        "colab": {
          "base_uri": "https://localhost:8080/",
          "height": 0
        }
      },
      "execution_count": 44,
      "outputs": [
        {
          "output_type": "stream",
          "name": "stdout",
          "text": [
            "['London', '.', 'Michaelmas', 'term', 'lately', 'over', ',', 'and', 'the', 'Lord', 'Chancellor', 'sitting', 'in', 'Lincoln', '’s', 'Inn', 'Hall', '.', 'Implacable', 'November', 'weather', '.', 'As', 'much', 'mud', 'in', 'the', 'streets', 'as', 'if', 'the', 'waters', 'had', 'but', 'newly', 'retired', 'from', 'the', 'face', 'of', 'the', 'earth', ',', 'and', 'it', 'would', 'not', 'be', 'wonderful', 'to', 'meet', 'a', 'Megalosaurus', ',', 'forty', 'feet', 'long', 'or', 'so', ',', 'waddling', 'like', 'an', 'elephantine', 'lizard', 'up', 'Holborn', 'Hill', '.', 'Smoke', 'lowering', 'down', 'from', 'chimney', '-', 'pots', ',', 'making', 'a', 'soft', 'black', 'drizzle', ',', 'with', 'flakes', 'of', 'soot', 'in', 'it', 'as', 'big', 'as', 'full', '-', 'grown', 'snowflakes', '—', 'gone', 'into', 'mourning', ',', 'one', 'might', 'imagine', ',', 'for', 'the', 'death', 'of', 'the', 'sun', '.', 'Dogs', ',', 'undistinguishable', 'in', 'mire', '.', 'Horses', ',', 'scarcely', 'better', ';', 'splashed', 'to', 'their', 'very', 'blinkers', '.', 'Foot', 'passengers', ',', 'jostling', 'one', 'another', '’s', 'umbrellas', 'in', 'a', 'general', 'infection', 'of', 'ill', 'temper', ',', 'and', 'losing', 'their', 'foot', '-', 'hold', 'at', 'street', '-', 'corners', ',', 'where', 'tens', 'of', 'thousands', 'of', 'other', 'foot', 'passengers', 'have', 'been', 'slipping', 'and', 'sliding', 'since', 'the', 'day', 'broke', '(', 'if', 'this', 'day', 'ever', 'broke', ')', ',', 'adding', 'new', 'deposits', 'to', 'the', 'crust', 'upon', 'crust', 'of', 'mud', ',', 'sticking', 'at', 'those', 'points', 'tenaciously', 'to', 'the', 'pavement', ',', 'and', 'accumulating', 'at', 'compound', 'interest', '.']\n"
          ]
        }
      ]
    },
    {
      "cell_type": "code",
      "source": [
        "# Tiktoken BPE tokenization\n",
        "import tiktoken\n",
        "\n",
        "def bpeTokenize(document):\n",
        "  enc = tiktoken.get_encoding(\"cl100k_base\")\n",
        "  enc_tokens = enc.encode(document)\n",
        "\n",
        "  tokens = []\n",
        "  for tokenInt in enc_tokens:\n",
        "    tokens.append(enc.decode([tokenInt]))\n",
        "\n",
        "  return tokens\n",
        "\n",
        "print(bpeTokenize(document))"
      ],
      "metadata": {
        "id": "2Bro7-hi99nG",
        "outputId": "22d8f206-e5f6-4e84-8686-5318e4cf83e7",
        "colab": {
          "base_uri": "https://localhost:8080/",
          "height": 0
        }
      },
      "execution_count": 45,
      "outputs": [
        {
          "output_type": "stream",
          "name": "stdout",
          "text": [
            "['London', '.', ' Michael', 'mas', ' term', ' lately', ' over', ',', ' and', ' the', ' Lord', ' Chancellor', ' sitting', ' in', ' Lincoln', '’s', ' Inn', ' Hall', '.', ' Impl', 'ac', 'able', ' November', ' weather', '.', ' As', ' much', ' mud', ' in', ' the', ' streets', ' as', ' if', ' the', ' waters', ' had', ' but', ' newly', ' retired', ' from', ' the', ' face', ' of', ' the', ' earth', ',', ' and', ' it', ' would', ' not', ' be', ' wonderful', ' to', ' meet', ' a', ' Meg', 'al', 'os', 'aurus', ',', ' forty', ' feet', ' long', ' or', ' so', ',', ' w', 'add', 'ling', ' like', ' an', ' elephant', 'ine', ' lizard', ' up', ' Hol', 'born', ' Hill', '.', ' Smoke', ' lowering', ' down', ' from', ' chimney', '-p', 'ots', ',', ' making', ' a', ' soft', ' black', ' dr', 'izzle', ',', ' with', ' flakes', ' of', ' so', 'ot', ' in', ' it', ' as', ' big', ' as', ' full', '-g', 'rown', ' snow', 'fl', 'akes', '—', 'gone', ' into', ' mourning', ',', ' one', ' might', ' imagine', ',', ' for', ' the', ' death', ' of', ' the', ' sun', '.', ' Dogs', ',', ' und', 'istinguish', 'able', ' in', ' m', 'ire', '.', ' H', 'orses', ',', ' scarcely', ' better', ';', ' spl', 'ashed', ' to', ' their', ' very', ' blink', 'ers', '.', ' Foot', ' passengers', ',', ' j', 'ost', 'ling', ' one', ' another', '’s', ' umb', 'rellas', ' in', ' a', ' general', ' infection', ' of', ' ill', ' temper', ',', ' and', ' losing', ' their', ' foot', '-h', 'old', ' at', ' street', '-c', 'orners', ',', ' where', ' tens', ' of', ' thousands', ' of', ' other', ' foot', ' passengers', ' have', ' been', ' slipping', ' and', ' sliding', ' since', ' the', ' day', ' broke', ' (', 'if', ' this', ' day', ' ever', ' broke', '),', ' adding', ' new', ' deposits', ' to', ' the', ' crust', ' upon', ' crust', ' of', ' mud', ',', ' sticking', ' at', ' those', ' points', ' ten', 'ac', 'iously', ' to', ' the', ' pavement', ',', ' and', ' accumulating', ' at', ' compound', ' interest', '.']\n"
          ]
        }
      ]
    },
    {
      "cell_type": "markdown",
      "metadata": {
        "id": "vbhjqG9m05yS"
      },
      "source": [
        "## Part 2\n",
        "\n",
        "Examine the different tokenizations for the passage above -- i.e., actually read through them and see how they differ. In a paragraph or two, characterize the salient differences in tokenization between a.) NLTK and Spacy and b.) NLTK and BPE.  Reference real examples in the text. At the end of this homework, you want to be able to discuss the practical differences between tokenization methods."
      ]
    },
    {
      "cell_type": "markdown",
      "metadata": {
        "id": "ddL9r-If9eQm"
      },
      "source": [
        "**Response**:"
      ]
    },
    {
      "cell_type": "markdown",
      "metadata": {
        "id": "1h7j-dMF9eQn"
      },
      "source": [
        "As I was looking over the output for the tokenizers, I saw an interesting behaviour out of all three when encountering the word 'chimney-pots.' NLTK kept the entire word together, Spacy separated it into three tokens: 'chimney', '-', and 'pots', and BPE used a weird hybrid of 'chimney', '-p', and 'ots'. I think this example speaks really well to how each tokenizer segments the entire text, as NLTK seems to separate based on complete words, Spacy prefers to break up complete words into smaller subparts, and BPE seems to segment (very efficiently) with a non-human understanding of the words themselves. I find BPE to be of particular interest here as the recursive algorithm that BPE carries out has nothing to do with the meaning of the words themselves, only finding the most common pairings of letters, thereby sacrificing human interpretability for a computationally optimal result. Spacy, then, would produce results that are more human interpretable, but that are in small units. NLTK seems to produce results that make the most intuitive sense, opting to keep words like 'chimney-pots' together.\n"
      ]
    },
    {
      "cell_type": "markdown",
      "metadata": {
        "id": "pwhNqD61uZi4"
      },
      "source": [
        "## Part 3\n",
        "\n",
        "Download the full text of *Pride and Prejudice* (https://raw.githubusercontent.com/dbamman/anlp25/main/data/1342_pride_and_prejudice.txt) and tokenize it using each of the methods above. How many word types (in the formal sense we discussed in class) does each tokenization method have for that complete file?"
      ]
    },
    {
      "cell_type": "code",
      "execution_count": 46,
      "metadata": {
        "id": "ohtfFuf39eQn",
        "colab": {
          "base_uri": "https://localhost:8080/",
          "height": 0
        },
        "outputId": "d4877b63-025f-41a8-9d6e-72a246e85b9f"
      },
      "outputs": [
        {
          "output_type": "stream",
          "name": "stdout",
          "text": [
            "--2025-09-03 23:01:12--  https://raw.githubusercontent.com/dbamman/anlp25/main/data/1342_pride_and_prejudice.txt\n",
            "Resolving raw.githubusercontent.com (raw.githubusercontent.com)... 185.199.108.133, 185.199.109.133, 185.199.111.133, ...\n",
            "Connecting to raw.githubusercontent.com (raw.githubusercontent.com)|185.199.108.133|:443... connected.\n",
            "HTTP request sent, awaiting response... 200 OK\n",
            "Length: 691804 (676K) [text/plain]\n",
            "Saving to: ‘1342_pride_and_prejudice.txt.9’\n",
            "\n",
            "1342_pride_and_prej 100%[===================>] 675.59K  2.72MB/s    in 0.2s    \n",
            "\n",
            "2025-09-03 23:01:12 (2.72 MB/s) - ‘1342_pride_and_prejudice.txt.9’ saved [691804/691804]\n",
            "\n",
            "[7475, 6780, 8364]\n"
          ]
        }
      ],
      "source": [
        "!wget --no-check-certificate https://raw.githubusercontent.com/dbamman/anlp25/main/data/1342_pride_and_prejudice.txt\n",
        "prideAndPrejudice = open('1342_pride_and_prejudice.txt').read()\n",
        "\n",
        "nltkTokensPrideAndPrejudice = nltkTokenize(prideAndPrejudice)\n",
        "spacyTokens = spacyTokenize(nlp(prideAndPrejudice))\n",
        "bpeTokens = bpeTokenize(prideAndPrejudice)\n",
        "print([len(set(nltkTokensPrideAndPrejudice)), len(set(spacyTokens)), len(set(bpeTokens))]) # 7475, 6780, and 8364 unique types respectively"
      ]
    },
    {
      "cell_type": "markdown",
      "metadata": {
        "id": "2vf1sRWp3LOb"
      },
      "source": [
        "## Part 4\n",
        "\n",
        "Which text has the greater type-token ratio, *Pride and Prejudice* (https://raw.githubusercontent.com/dbamman/anlp25/main/data/1342_pride_and_prejudice.txt) or *Emma* (https://raw.githubusercontent.com/dbamman/anlp25/main/data/158_emma.txt)?  Calculate the TTR for both texts using the NLTK tokenizer, but only use the first 1,000 tokens from each text when calculating its TTR."
      ]
    },
    {
      "cell_type": "code",
      "execution_count": 47,
      "metadata": {
        "id": "mvSDSRWX9eQo",
        "colab": {
          "base_uri": "https://localhost:8080/",
          "height": 0
        },
        "outputId": "bda9d544-1134-456e-a596-e9f54b88676a"
      },
      "outputs": [
        {
          "output_type": "stream",
          "name": "stdout",
          "text": [
            "--2025-09-03 23:02:00--  https://raw.githubusercontent.com/dbamman/anlp25/main/data/158_emma.txt\n",
            "Resolving raw.githubusercontent.com (raw.githubusercontent.com)... 185.199.108.133, 185.199.109.133, 185.199.111.133, ...\n",
            "Connecting to raw.githubusercontent.com (raw.githubusercontent.com)|185.199.108.133|:443... connected.\n",
            "HTTP request sent, awaiting response... 200 OK\n",
            "Length: 891405 (871K) [text/plain]\n",
            "Saving to: ‘158_emma.txt.9’\n",
            "\n",
            "158_emma.txt.9      100%[===================>] 870.51K  3.14MB/s    in 0.3s    \n",
            "\n",
            "2025-09-03 23:02:01 (3.14 MB/s) - ‘158_emma.txt.9’ saved [891405/891405]\n",
            "\n",
            "0.36 0.41\n"
          ]
        }
      ],
      "source": [
        "!wget --no-check-certificate https://raw.githubusercontent.com/dbamman/anlp25/main/data/158_emma.txt\n",
        "emma = open('158_emma.txt').read()\n",
        "\n",
        "nltkTokensEmma = nltkTokenize(emma)\n",
        "\n",
        "nltkTokensPrideAndPrejudice = nltkTokensPrideAndPrejudice[:1000]\n",
        "nltkTokensEmma = nltkTokensEmma[:1000]\n",
        "\n",
        "prideAndPrejudiceTTR = len(set(nltkTokensPrideAndPrejudice)) / len(nltkTokensPrideAndPrejudice)\n",
        "emmaTTR = len(set(nltkTokensEmma)) / len(nltkTokensEmma)\n",
        "\n",
        "print(prideAndPrejudiceTTR, emmaTTR) # for the first 1000 tokens, Emma has the higher TTR"
      ]
    },
    {
      "cell_type": "code",
      "execution_count": 48,
      "metadata": {
        "id": "FabaebY79eQo",
        "colab": {
          "base_uri": "https://localhost:8080/",
          "height": 0
        },
        "outputId": "0ff42c5e-ccb7-4cea-e171-56cf02252256"
      },
      "outputs": [
        {
          "output_type": "stream",
          "name": "stdout",
          "text": [
            "The TTR for 'Pride and Prejudice' is 0.36\n",
            "The TTR for 'Emma' is 0.41\n",
            "Emma has the higher TTR.\n"
          ]
        }
      ],
      "source": [
        "pp_ttr = 0.36  # fill this in!\n",
        "emma_ttr = 0.41  # fill this in!\n",
        "answer = \"Emma\"  # fill this in!\n",
        "\n",
        "print(\"The TTR for 'Pride and Prejudice' is\", pp_ttr)\n",
        "print(\"The TTR for 'Emma' is\", emma_ttr)\n",
        "print(f\"{answer} has the higher TTR.\")"
      ]
    }
  ],
  "metadata": {
    "colab": {
      "provenance": [],
      "include_colab_link": true
    },
    "kernelspec": {
      "display_name": "Python 3 (ipykernel)",
      "language": "python",
      "name": "python3"
    },
    "language_info": {
      "codemirror_mode": {
        "name": "ipython",
        "version": 3
      },
      "file_extension": ".py",
      "mimetype": "text/x-python",
      "name": "python",
      "nbconvert_exporter": "python",
      "pygments_lexer": "ipython3",
      "version": "3.13.5"
    }
  },
  "nbformat": 4,
  "nbformat_minor": 0
}