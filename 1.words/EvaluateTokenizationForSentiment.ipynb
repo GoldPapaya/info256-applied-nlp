{
  "cells": [
    {
      "cell_type": "markdown",
      "metadata": {
        "id": "view-in-github",
        "colab_type": "text"
      },
      "source": [
        "<a href=\"https://colab.research.google.com/github/GoldPapaya/info256-applied-nlp/blob/main/1.words/EvaluateTokenizationForSentiment.ipynb\" target=\"_parent\"><img src=\"https://colab.research.google.com/assets/colab-badge.svg\" alt=\"Open In Colab\"/></a>"
      ]
    },
    {
      "cell_type": "markdown",
      "metadata": {
        "id": "n53a5KC4BnKz"
      },
      "source": [
        "[![Open In Colab](https://colab.research.google.com/assets/colab-badge.svg)](https://colab.research.google.com/github/dbamman/anlp25/blob/main/1.words/EvaluateTokenizationForSentiment.ipynb)"
      ]
    },
    {
      "cell_type": "markdown",
      "metadata": {
        "id": "LVMOTmpe0FFl"
      },
      "source": [
        "# The impact of tokenization on downstream tasks\n",
        "\n",
        "Tokenization can have a big impact on downstream model performance. Here, we look at different methods for tokenization and stemming/lemmatization and evaluate how they affect the performance on a simple binary sentiment classification task.\n",
        "\n",
        "We use a train/dev deataset of 1000 reviews from the [Large Movie Review Dataset](http://ai.stanford.edu/~amaas/data/sentiment/).\n",
        "\n",
        "Each tokenization method is evaluated on the same learning algorithm ($l_2$-regularized logistic regression); the only difference is the tokenization process.\n",
        "\n",
        "For more, see: http://sentiment.christopherpotts.net/tokenizing.html."
      ]
    },
    {
      "cell_type": "code",
      "execution_count": 1,
      "metadata": {
        "id": "jj0huAdwBs0M",
        "colab": {
          "base_uri": "https://localhost:8080/"
        },
        "outputId": "00f22965-d449-4bb3-bf75-ddda3aa40e3f"
      },
      "outputs": [
        {
          "output_type": "stream",
          "name": "stdout",
          "text": [
            "--2025-09-02 23:44:14--  https://raw.githubusercontent.com/dbamman/anlp25/main/1.words/happyfuntokenizing.py\n",
            "Resolving raw.githubusercontent.com (raw.githubusercontent.com)... 185.199.108.133, 185.199.109.133, 185.199.110.133, ...\n",
            "Connecting to raw.githubusercontent.com (raw.githubusercontent.com)|185.199.108.133|:443... connected.\n",
            "HTTP request sent, awaiting response... 200 OK\n",
            "Length: 7510 (7.3K) [text/plain]\n",
            "Saving to: ‘happyfuntokenizing.py’\n",
            "\n",
            "\rhappyfuntokenizing.   0%[                    ]       0  --.-KB/s               \rhappyfuntokenizing. 100%[===================>]   7.33K  --.-KB/s    in 0s      \n",
            "\n",
            "2025-09-02 23:44:14 (63.1 MB/s) - ‘happyfuntokenizing.py’ saved [7510/7510]\n",
            "\n",
            "--2025-09-02 23:44:14--  https://raw.githubusercontent.com/dbamman/anlp25/main/data/sentiment.1000.train.txt\n",
            "Resolving raw.githubusercontent.com (raw.githubusercontent.com)... 185.199.110.133, 185.199.111.133, 185.199.108.133, ...\n",
            "Connecting to raw.githubusercontent.com (raw.githubusercontent.com)|185.199.110.133|:443... connected.\n",
            "HTTP request sent, awaiting response... 200 OK\n",
            "Length: 1320314 (1.3M) [text/plain]\n",
            "Saving to: ‘sentiment.1000.train.txt’\n",
            "\n",
            "sentiment.1000.trai 100%[===================>]   1.26M  --.-KB/s    in 0.05s   \n",
            "\n",
            "2025-09-02 23:44:14 (24.7 MB/s) - ‘sentiment.1000.train.txt’ saved [1320314/1320314]\n",
            "\n",
            "--2025-09-02 23:44:15--  https://raw.githubusercontent.com/dbamman/anlp25/main/data/sentiment.1000.dev.txt\n",
            "Resolving raw.githubusercontent.com (raw.githubusercontent.com)... 185.199.108.133, 185.199.109.133, 185.199.110.133, ...\n",
            "Connecting to raw.githubusercontent.com (raw.githubusercontent.com)|185.199.108.133|:443... connected.\n",
            "HTTP request sent, awaiting response... 200 OK\n",
            "Length: 1374502 (1.3M) [text/plain]\n",
            "Saving to: ‘sentiment.1000.dev.txt’\n",
            "\n",
            "sentiment.1000.dev. 100%[===================>]   1.31M  --.-KB/s    in 0.05s   \n",
            "\n",
            "2025-09-02 23:44:15 (26.6 MB/s) - ‘sentiment.1000.dev.txt’ saved [1374502/1374502]\n",
            "\n"
          ]
        }
      ],
      "source": [
        "# download code and data\n",
        "!wget https://raw.githubusercontent.com/dbamman/anlp25/main/1.words/happyfuntokenizing.py\n",
        "\n",
        "!wget https://raw.githubusercontent.com/dbamman/anlp25/main/data/sentiment.1000.train.txt\n",
        "!wget https://raw.githubusercontent.com/dbamman/anlp25/main/data/sentiment.1000.dev.txt"
      ]
    },
    {
      "cell_type": "code",
      "execution_count": 2,
      "metadata": {
        "colab": {
          "base_uri": "https://localhost:8080/"
        },
        "id": "ubi42AK10FFo",
        "outputId": "8dfb5c40-39db-4cee-bdcd-ede4f0f1510d"
      },
      "outputs": [
        {
          "output_type": "stream",
          "name": "stdout",
          "text": [
            "Requirement already satisfied: nltk in /usr/local/lib/python3.12/dist-packages (3.9.1)\n",
            "Requirement already satisfied: click in /usr/local/lib/python3.12/dist-packages (from nltk) (8.2.1)\n",
            "Requirement already satisfied: joblib in /usr/local/lib/python3.12/dist-packages (from nltk) (1.5.1)\n",
            "Requirement already satisfied: regex>=2021.8.3 in /usr/local/lib/python3.12/dist-packages (from nltk) (2024.11.6)\n",
            "Requirement already satisfied: tqdm in /usr/local/lib/python3.12/dist-packages (from nltk) (4.67.1)\n",
            "Requirement already satisfied: spacy in /usr/local/lib/python3.12/dist-packages (3.8.7)\n",
            "Requirement already satisfied: spacy-legacy<3.1.0,>=3.0.11 in /usr/local/lib/python3.12/dist-packages (from spacy) (3.0.12)\n",
            "Requirement already satisfied: spacy-loggers<2.0.0,>=1.0.0 in /usr/local/lib/python3.12/dist-packages (from spacy) (1.0.5)\n",
            "Requirement already satisfied: murmurhash<1.1.0,>=0.28.0 in /usr/local/lib/python3.12/dist-packages (from spacy) (1.0.13)\n",
            "Requirement already satisfied: cymem<2.1.0,>=2.0.2 in /usr/local/lib/python3.12/dist-packages (from spacy) (2.0.11)\n",
            "Requirement already satisfied: preshed<3.1.0,>=3.0.2 in /usr/local/lib/python3.12/dist-packages (from spacy) (3.0.10)\n",
            "Requirement already satisfied: thinc<8.4.0,>=8.3.4 in /usr/local/lib/python3.12/dist-packages (from spacy) (8.3.6)\n",
            "Requirement already satisfied: wasabi<1.2.0,>=0.9.1 in /usr/local/lib/python3.12/dist-packages (from spacy) (1.1.3)\n",
            "Requirement already satisfied: srsly<3.0.0,>=2.4.3 in /usr/local/lib/python3.12/dist-packages (from spacy) (2.5.1)\n",
            "Requirement already satisfied: catalogue<2.1.0,>=2.0.6 in /usr/local/lib/python3.12/dist-packages (from spacy) (2.0.10)\n",
            "Requirement already satisfied: weasel<0.5.0,>=0.1.0 in /usr/local/lib/python3.12/dist-packages (from spacy) (0.4.1)\n",
            "Requirement already satisfied: typer<1.0.0,>=0.3.0 in /usr/local/lib/python3.12/dist-packages (from spacy) (0.16.1)\n",
            "Requirement already satisfied: tqdm<5.0.0,>=4.38.0 in /usr/local/lib/python3.12/dist-packages (from spacy) (4.67.1)\n",
            "Requirement already satisfied: numpy>=1.19.0 in /usr/local/lib/python3.12/dist-packages (from spacy) (2.0.2)\n",
            "Requirement already satisfied: requests<3.0.0,>=2.13.0 in /usr/local/lib/python3.12/dist-packages (from spacy) (2.32.4)\n",
            "Requirement already satisfied: pydantic!=1.8,!=1.8.1,<3.0.0,>=1.7.4 in /usr/local/lib/python3.12/dist-packages (from spacy) (2.11.7)\n",
            "Requirement already satisfied: jinja2 in /usr/local/lib/python3.12/dist-packages (from spacy) (3.1.6)\n",
            "Requirement already satisfied: setuptools in /usr/local/lib/python3.12/dist-packages (from spacy) (75.2.0)\n",
            "Requirement already satisfied: packaging>=20.0 in /usr/local/lib/python3.12/dist-packages (from spacy) (25.0)\n",
            "Requirement already satisfied: langcodes<4.0.0,>=3.2.0 in /usr/local/lib/python3.12/dist-packages (from spacy) (3.5.0)\n",
            "Requirement already satisfied: language-data>=1.2 in /usr/local/lib/python3.12/dist-packages (from langcodes<4.0.0,>=3.2.0->spacy) (1.3.0)\n",
            "Requirement already satisfied: annotated-types>=0.6.0 in /usr/local/lib/python3.12/dist-packages (from pydantic!=1.8,!=1.8.1,<3.0.0,>=1.7.4->spacy) (0.7.0)\n",
            "Requirement already satisfied: pydantic-core==2.33.2 in /usr/local/lib/python3.12/dist-packages (from pydantic!=1.8,!=1.8.1,<3.0.0,>=1.7.4->spacy) (2.33.2)\n",
            "Requirement already satisfied: typing-extensions>=4.12.2 in /usr/local/lib/python3.12/dist-packages (from pydantic!=1.8,!=1.8.1,<3.0.0,>=1.7.4->spacy) (4.15.0)\n",
            "Requirement already satisfied: typing-inspection>=0.4.0 in /usr/local/lib/python3.12/dist-packages (from pydantic!=1.8,!=1.8.1,<3.0.0,>=1.7.4->spacy) (0.4.1)\n",
            "Requirement already satisfied: charset_normalizer<4,>=2 in /usr/local/lib/python3.12/dist-packages (from requests<3.0.0,>=2.13.0->spacy) (3.4.3)\n",
            "Requirement already satisfied: idna<4,>=2.5 in /usr/local/lib/python3.12/dist-packages (from requests<3.0.0,>=2.13.0->spacy) (3.10)\n",
            "Requirement already satisfied: urllib3<3,>=1.21.1 in /usr/local/lib/python3.12/dist-packages (from requests<3.0.0,>=2.13.0->spacy) (2.5.0)\n",
            "Requirement already satisfied: certifi>=2017.4.17 in /usr/local/lib/python3.12/dist-packages (from requests<3.0.0,>=2.13.0->spacy) (2025.8.3)\n",
            "Requirement already satisfied: blis<1.4.0,>=1.3.0 in /usr/local/lib/python3.12/dist-packages (from thinc<8.4.0,>=8.3.4->spacy) (1.3.0)\n",
            "Requirement already satisfied: confection<1.0.0,>=0.0.1 in /usr/local/lib/python3.12/dist-packages (from thinc<8.4.0,>=8.3.4->spacy) (0.1.5)\n",
            "Requirement already satisfied: click>=8.0.0 in /usr/local/lib/python3.12/dist-packages (from typer<1.0.0,>=0.3.0->spacy) (8.2.1)\n",
            "Requirement already satisfied: shellingham>=1.3.0 in /usr/local/lib/python3.12/dist-packages (from typer<1.0.0,>=0.3.0->spacy) (1.5.4)\n",
            "Requirement already satisfied: rich>=10.11.0 in /usr/local/lib/python3.12/dist-packages (from typer<1.0.0,>=0.3.0->spacy) (13.9.4)\n",
            "Requirement already satisfied: cloudpathlib<1.0.0,>=0.7.0 in /usr/local/lib/python3.12/dist-packages (from weasel<0.5.0,>=0.1.0->spacy) (0.21.1)\n",
            "Requirement already satisfied: smart-open<8.0.0,>=5.2.1 in /usr/local/lib/python3.12/dist-packages (from weasel<0.5.0,>=0.1.0->spacy) (7.3.0.post1)\n",
            "Requirement already satisfied: MarkupSafe>=2.0 in /usr/local/lib/python3.12/dist-packages (from jinja2->spacy) (3.0.2)\n",
            "Requirement already satisfied: marisa-trie>=1.1.0 in /usr/local/lib/python3.12/dist-packages (from language-data>=1.2->langcodes<4.0.0,>=3.2.0->spacy) (1.3.0)\n",
            "Requirement already satisfied: markdown-it-py>=2.2.0 in /usr/local/lib/python3.12/dist-packages (from rich>=10.11.0->typer<1.0.0,>=0.3.0->spacy) (4.0.0)\n",
            "Requirement already satisfied: pygments<3.0.0,>=2.13.0 in /usr/local/lib/python3.12/dist-packages (from rich>=10.11.0->typer<1.0.0,>=0.3.0->spacy) (2.19.2)\n",
            "Requirement already satisfied: wrapt in /usr/local/lib/python3.12/dist-packages (from smart-open<8.0.0,>=5.2.1->weasel<0.5.0,>=0.1.0->spacy) (1.17.3)\n",
            "Requirement already satisfied: mdurl~=0.1 in /usr/local/lib/python3.12/dist-packages (from markdown-it-py>=2.2.0->rich>=10.11.0->typer<1.0.0,>=0.3.0->spacy) (0.1.2)\n",
            "Requirement already satisfied: scikit-learn in /usr/local/lib/python3.12/dist-packages (1.6.1)\n",
            "Requirement already satisfied: numpy>=1.19.5 in /usr/local/lib/python3.12/dist-packages (from scikit-learn) (2.0.2)\n",
            "Requirement already satisfied: scipy>=1.6.0 in /usr/local/lib/python3.12/dist-packages (from scikit-learn) (1.16.1)\n",
            "Requirement already satisfied: joblib>=1.2.0 in /usr/local/lib/python3.12/dist-packages (from scikit-learn) (1.5.1)\n",
            "Requirement already satisfied: threadpoolctl>=3.1.0 in /usr/local/lib/python3.12/dist-packages (from scikit-learn) (3.6.0)\n"
          ]
        }
      ],
      "source": [
        "# make sure dependencies are installed\n",
        "!pip install nltk\n",
        "!pip install spacy\n",
        "!pip install scikit-learn"
      ]
    },
    {
      "cell_type": "code",
      "execution_count": 3,
      "metadata": {
        "id": "pOu0wKUqBnK6",
        "colab": {
          "base_uri": "https://localhost:8080/"
        },
        "outputId": "ea47285a-910e-4991-fd22-c4821bf2ee92"
      },
      "outputs": [
        {
          "output_type": "stream",
          "name": "stderr",
          "text": [
            "[nltk_data] Downloading package punkt to /root/nltk_data...\n",
            "[nltk_data]   Unzipping tokenizers/punkt.zip.\n",
            "[nltk_data] Downloading package punkt_tab to /root/nltk_data...\n",
            "[nltk_data]   Unzipping tokenizers/punkt_tab.zip.\n"
          ]
        }
      ],
      "source": [
        "import nltk\n",
        "nltk.download('punkt')\n",
        "nltk.download('punkt_tab')\n",
        "\n",
        "import spacy\n",
        "from nltk.stem.porter import *\n",
        "from sklearn.feature_extraction.text import CountVectorizer\n",
        "from sklearn.preprocessing import LabelEncoder\n",
        "from sklearn import linear_model\n",
        "\n",
        "\n",
        "from happyfuntokenizing import Tokenizer as potts"
      ]
    },
    {
      "cell_type": "markdown",
      "metadata": {
        "id": "84LC6cJO0FFp"
      },
      "source": [
        "## Setting up evaluation\n",
        "We'll set up a class that we can use to test different tokenization methods."
      ]
    },
    {
      "cell_type": "code",
      "execution_count": 4,
      "metadata": {
        "id": "RBFaocuB0FFp"
      },
      "outputs": [],
      "source": [
        "class TokenizationTest():\n",
        "\n",
        "    def __init__(self, train_file, dev_file):\n",
        "        self.train_file = train_file\n",
        "        self.dev_file = dev_file\n",
        "        self.count_vectorizer = CountVectorizer(\n",
        "            max_features=10_000,\n",
        "            analyzer=lambda x: x,\n",
        "            lowercase=False,\n",
        "            strip_accents=None,\n",
        "            binary=True\n",
        "        )\n",
        "        self.label_encoder = LabelEncoder()\n",
        "\n",
        "    def read_data(self, filename, tokenizer):\n",
        "        tokenized_text = []\n",
        "        labels = []\n",
        "\n",
        "        with open(filename, encoding=\"utf-8\") as file:\n",
        "            for idx, line in enumerate(file):\n",
        "                cols = line.rstrip().split(\"\\t\")\n",
        "                label = cols[0]\n",
        "                text = cols[1]\n",
        "                tokens = list(tokenizer(text))\n",
        "                tokenized_text.append(tokens)\n",
        "                labels.append(label)\n",
        "        return tokenized_text, labels\n",
        "\n",
        "    def evaluate(self, tokenizer):\n",
        "        train_tokens, train_labels = self.read_data(self.train_file, tokenizer)\n",
        "        dev_tokens, dev_labels = self.read_data(self.dev_file, tokenizer)\n",
        "\n",
        "        X_train = self.count_vectorizer.fit_transform(train_tokens)\n",
        "        X_dev = self.count_vectorizer.transform(dev_tokens)\n",
        "\n",
        "        self.label_encoder.fit(train_labels)\n",
        "        Y_train = self.label_encoder.transform(train_labels)\n",
        "        Y_dev = self.label_encoder.transform(dev_labels)\n",
        "\n",
        "        model = linear_model.LogisticRegression(C=1.0, solver='lbfgs', penalty='l2')\n",
        "        model.fit(X_train, Y_train)\n",
        "        print(\"Function '%s' Accuracy: %.3f\" % (tokenizer.__name__, model.score(X_dev, Y_dev)))"
      ]
    },
    {
      "cell_type": "markdown",
      "metadata": {
        "id": "mlhGu7gZ0FFp"
      },
      "source": [
        "## Setting up tokenizers\n",
        "\n",
        "Now let's set up our tokenizers. Each tokenizer should take as input a string and output a list of strings. We'll try six different tokenization methods.\n",
        "\n",
        "1. Splitting on whitespace with `str.split()`\n",
        "2. Splitting on whitespace, then stemming with the [Porter stemmer](https://tartarus.org/martin/PorterStemmer/)\n",
        "3. Using [`nltk.word_tokenize`](https://www.nltk.org/api/nltk.tokenize.word_tokenize.html)\n",
        "4. Using the [`spacy` tokenizer](https://spacy.io/usage/linguistic-features#how-tokenizer-works)\n",
        "5. Using the [`spacy` tokenizer](https://spacy.io/usage/linguistic-features#how-tokenizer-works) with [lemmatization](https://spacy.io/api/lemmatizer)\n",
        "6. Using the [Potts tokenizer](http://sentiment.christopherpotts.net/tokenizing.html) (implemented for you in `happyfuntokenization.py`)\n",
        "\n",
        "Note: evaluating the spacy tokenizers might take ~1 minute."
      ]
    },
    {
      "cell_type": "code",
      "execution_count": 5,
      "metadata": {
        "id": "EMB-ykEK0FFq"
      },
      "outputs": [],
      "source": [
        "# load NLTK porter stemmer\n",
        "stemmer = PorterStemmer()\n",
        "def tokenize_with_porter(data):\n",
        "    return [\n",
        "        stemmer.stem(word) for word in str.split(data)\n",
        "    ]"
      ]
    },
    {
      "cell_type": "code",
      "execution_count": 6,
      "metadata": {
        "id": "2xxgxawHBnK7"
      },
      "outputs": [],
      "source": [
        "# spaCy lemmatization needs tagger but disable the rest\n",
        "nlp = spacy.load('en_core_web_sm', disable=['ner,parser'])\n",
        "nlp.remove_pipe('ner')\n",
        "nlp.remove_pipe('parser')\n",
        "\n",
        "def tokenize_with_spacy(data):\n",
        "    spacy_tokens = nlp(data)\n",
        "    return [token.text for token in spacy_tokens]\n",
        "\n",
        "def tokenize_with_spacy_lemma(data):\n",
        "    spacy_tokens = nlp(data)\n",
        "    return [token.lemma_ for token in spacy_tokens]"
      ]
    },
    {
      "cell_type": "code",
      "execution_count": 7,
      "metadata": {
        "id": "VW-xX2tj0FFt"
      },
      "outputs": [],
      "source": [
        "# load Potts sentiment tokenizer\n",
        "potts_tokenizer = potts()\n",
        "def tokenize_with_potts(data):\n",
        "    return list(potts_tokenizer.tokenize(data))"
      ]
    },
    {
      "cell_type": "markdown",
      "metadata": {
        "id": "g65bmfdL0FFu"
      },
      "source": [
        "## Testing the tokenizers"
      ]
    },
    {
      "cell_type": "code",
      "execution_count": 8,
      "metadata": {
        "id": "Iw5uOlNXBnK8"
      },
      "outputs": [],
      "source": [
        "tester = TokenizationTest(\"sentiment.1000.train.txt\", \"sentiment.1000.dev.txt\")"
      ]
    },
    {
      "cell_type": "code",
      "execution_count": 9,
      "metadata": {
        "colab": {
          "base_uri": "https://localhost:8080/"
        },
        "id": "vSYDbrW80FFw",
        "outputId": "b8b6bfec-c4d3-41a4-c707-b275013da114"
      },
      "outputs": [
        {
          "output_type": "stream",
          "name": "stdout",
          "text": [
            "Function 'split' Accuracy: 0.858\n"
          ]
        }
      ],
      "source": [
        "tester.evaluate(str.split)"
      ]
    },
    {
      "cell_type": "code",
      "execution_count": 10,
      "metadata": {
        "colab": {
          "base_uri": "https://localhost:8080/"
        },
        "id": "VBJgYxOq0FFw",
        "outputId": "49c6446a-bcf9-49a2-8155-d6dc5334beeb"
      },
      "outputs": [
        {
          "output_type": "stream",
          "name": "stdout",
          "text": [
            "Function 'tokenize_with_porter' Accuracy: 0.866\n"
          ]
        }
      ],
      "source": [
        "tester.evaluate(tokenize_with_porter)"
      ]
    },
    {
      "cell_type": "code",
      "execution_count": 11,
      "metadata": {
        "id": "sbGK8OqoBnK9",
        "colab": {
          "base_uri": "https://localhost:8080/"
        },
        "outputId": "49708ec1-3911-4d5e-8d83-bb434d073c0d"
      },
      "outputs": [
        {
          "output_type": "stream",
          "name": "stdout",
          "text": [
            "Function 'word_tokenize' Accuracy: 0.874\n"
          ]
        }
      ],
      "source": [
        "tester.evaluate(nltk.word_tokenize)"
      ]
    },
    {
      "cell_type": "code",
      "execution_count": 12,
      "metadata": {
        "id": "_5QIVUcdBnK-",
        "colab": {
          "base_uri": "https://localhost:8080/"
        },
        "outputId": "861f3a49-e17a-4231-b6a2-cc6d56221266"
      },
      "outputs": [
        {
          "output_type": "stream",
          "name": "stdout",
          "text": [
            "Function 'tokenize_with_spacy' Accuracy: 0.872\n"
          ]
        }
      ],
      "source": [
        "tester.evaluate(tokenize_with_spacy)"
      ]
    },
    {
      "cell_type": "code",
      "execution_count": 13,
      "metadata": {
        "id": "MjaRF32LBnK-",
        "colab": {
          "base_uri": "https://localhost:8080/"
        },
        "outputId": "eeffd1b0-d917-4346-9cc9-8a9e9ceffeb2"
      },
      "outputs": [
        {
          "output_type": "stream",
          "name": "stdout",
          "text": [
            "Function 'tokenize_with_spacy_lemma' Accuracy: 0.872\n"
          ]
        }
      ],
      "source": [
        "tester.evaluate(tokenize_with_spacy_lemma)"
      ]
    },
    {
      "cell_type": "code",
      "execution_count": 14,
      "metadata": {
        "id": "eGGoA0TiBnK-",
        "colab": {
          "base_uri": "https://localhost:8080/"
        },
        "outputId": "410c79fb-e1d0-4fc8-f67c-b51a6ad8e356"
      },
      "outputs": [
        {
          "output_type": "stream",
          "name": "stdout",
          "text": [
            "Function 'tokenize_with_potts' Accuracy: 0.883\n"
          ]
        }
      ],
      "source": [
        "tester.evaluate(tokenize_with_potts)"
      ]
    },
    {
      "cell_type": "markdown",
      "metadata": {
        "id": "NFdgGmpc0FFy"
      },
      "source": [
        "## Extra"
      ]
    },
    {
      "cell_type": "markdown",
      "metadata": {
        "id": "eHCRqz_i0FFy"
      },
      "source": [
        "Inspect the output of some of these tokenizers. How do different tokenizers handle some of the issues we talked about in lecture (e.g., punctuation, emoticons, casing)?"
      ]
    },
    {
      "cell_type": "code",
      "execution_count": 15,
      "metadata": {
        "colab": {
          "base_uri": "https://localhost:8080/"
        },
        "id": "_kjg-ZUU0FFy",
        "outputId": "bb14de72-d17c-4293-e7be-6260fb706071"
      },
      "outputs": [
        {
          "output_type": "execute_result",
          "data": {
            "text/plain": [
              "['i', 'love', 'info', '256', '!']"
            ]
          },
          "metadata": {},
          "execution_count": 15
        }
      ],
      "source": [
        "tokenize_with_potts(\"I love INFO 256!\")  # modify this to test different tokenizers / different strings"
      ]
    },
    {
      "cell_type": "markdown",
      "metadata": {
        "id": "r2mLR_Fy0FFy"
      },
      "source": [
        "The Potts tokenizer was designed with web text in mind, with special hand-crafted rules for emoticons, HTML tags, and hashtags. Can you approach the performance of the Potts tokenizer (>0.88) by combining some of the other methods we test?"
      ]
    },
    {
      "cell_type": "code",
      "execution_count": 16,
      "metadata": {
        "colab": {
          "base_uri": "https://localhost:8080/"
        },
        "id": "MLeUqdbv0FFz",
        "outputId": "0fa0056c-7fce-4680-b915-d98669a65dbb"
      },
      "outputs": [
        {
          "output_type": "stream",
          "name": "stdout",
          "text": [
            "Function 'my_tokenizer' Accuracy: 0.500\n"
          ]
        }
      ],
      "source": [
        "def my_tokenizer(data: str) -> list[str]:\n",
        "    \"\"\"Tokenize the `data` string into a list of strings.\"\"\"\n",
        "    # your code here\n",
        "    return [\"implement\", \"me\"]\n",
        "\n",
        "tester.evaluate(my_tokenizer)"
      ]
    },
    {
      "cell_type": "code",
      "execution_count": 16,
      "metadata": {
        "id": "A9AtcbXt0FFz"
      },
      "outputs": [],
      "source": []
    }
  ],
  "metadata": {
    "colab": {
      "provenance": [],
      "include_colab_link": true
    },
    "kernelspec": {
      "display_name": "Python 3 (ipykernel)",
      "language": "python",
      "name": "python3"
    },
    "language_info": {
      "codemirror_mode": {
        "name": "ipython",
        "version": 3
      },
      "file_extension": ".py",
      "mimetype": "text/x-python",
      "name": "python",
      "nbconvert_exporter": "python",
      "pygments_lexer": "ipython3",
      "version": "3.13.5"
    }
  },
  "nbformat": 4,
  "nbformat_minor": 0
}