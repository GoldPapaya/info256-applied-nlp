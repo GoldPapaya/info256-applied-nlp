{
  "nbformat": 4,
  "nbformat_minor": 0,
  "metadata": {
    "colab": {
      "provenance": [],
      "authorship_tag": "ABX9TyO79bRztflYMu/h2zhxijA5",
      "include_colab_link": true
    },
    "kernelspec": {
      "name": "python3",
      "display_name": "Python 3"
    },
    "language_info": {
      "name": "python"
    }
  },
  "cells": [
    {
      "cell_type": "markdown",
      "metadata": {
        "id": "view-in-github",
        "colab_type": "text"
      },
      "source": [
        "<a href=\"https://colab.research.google.com/github/GoldPapaya/info256-applied-nlp/blob/main/project.ipynb\" target=\"_parent\"><img src=\"https://colab.research.google.com/assets/colab-badge.svg\" alt=\"Open In Colab\"/></a>"
      ]
    },
    {
      "cell_type": "code",
      "source": [
        "!pip install nltk\n",
        "!python -m nltk.downloader wordnet"
      ],
      "metadata": {
        "id": "oUFqau33IGsA"
      },
      "execution_count": null,
      "outputs": []
    },
    {
      "cell_type": "code",
      "execution_count": null,
      "metadata": {
        "id": "JRfLf_Y6F2hS"
      },
      "outputs": [],
      "source": [
        "import nltk\n",
        "from nltk.corpus import wordnet\n",
        "import pandas as pd"
      ]
    },
    {
      "cell_type": "code",
      "source": [
        "synsets = wordnet.synsets('bank')\n",
        "print(synsets)\n",
        "len(synsets)"
      ],
      "metadata": {
        "id": "3UhAsVCqIi2a"
      },
      "execution_count": null,
      "outputs": []
    },
    {
      "cell_type": "code",
      "source": [
        "# code below is from https://github.com/Apress/text-analytics-w-python-2e/blob/master/Ch08%20-%20Semantic%20Analysis/.ipynb_checkpoints/Ch08a%20-%20Exploring%20WordNet-checkpoint.ipynb\n",
        "\n",
        "pd.options.display.max_colwidth = 200\n",
        "df = pd.DataFrame([{'Synset': synset,\n",
        "                         'Part of Speech': synset.lexname(),\n",
        "                         'Definition': synset.definition(),\n",
        "                         'Lemmas': synset.lemma_names(),\n",
        "                         'Examples': synset.examples()}\n",
        "                             for synset in synsets])\n",
        "df = df[['Synset', 'Part of Speech', 'Definition', 'Lemmas', 'Examples']]\n",
        "df"
      ],
      "metadata": {
        "id": "t0wdSqVlJNwa"
      },
      "execution_count": null,
      "outputs": []
    },
    {
      "cell_type": "code",
      "source": [
        "from nltk.corpus import wordnet\n",
        "\n",
        "# Get the specific synset 'bank.n.01'\n",
        "synset = wordnet.synset('bank.n.01')\n",
        "\n",
        "# Print definition and synonyms\n",
        "print(\"Synset:\", synset.name())\n",
        "print(\"Definition:\", synset.definition())\n",
        "print(\"Synonyms:\", sorted(synset.lemma_names()))"
      ],
      "metadata": {
        "id": "caPayzvwKJ4-"
      },
      "execution_count": null,
      "outputs": []
    }
  ]
}