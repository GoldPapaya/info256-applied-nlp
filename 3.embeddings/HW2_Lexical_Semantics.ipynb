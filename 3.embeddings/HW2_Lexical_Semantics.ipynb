{
  "cells": [
    {
      "cell_type": "markdown",
      "metadata": {
        "id": "view-in-github",
        "colab_type": "text"
      },
      "source": [
        "<a href=\"https://colab.research.google.com/github/GoldPapaya/info256-applied-nlp/blob/main/3.embeddings/HW2_Lexical_Semantics.ipynb\" target=\"_parent\"><img src=\"https://colab.research.google.com/assets/colab-badge.svg\" alt=\"Open In Colab\"/></a>"
      ]
    },
    {
      "cell_type": "markdown",
      "metadata": {
        "id": "LHCHnheBcwYs"
      },
      "source": [
        "[![Open In Colab](https://colab.research.google.com/assets/colab-badge.svg)](https://colab.research.google.com/github/dbamman/anlp25/blob/main/3.embeddings/HW2_Lexical_Semantics.ipynb)\n",
        "\n",
        "**N.B.** Once it's open on Colab, remember to save a copy (by e.g. clicking `Copy to Drive` above).\n",
        "\n",
        "---"
      ]
    },
    {
      "cell_type": "markdown",
      "metadata": {
        "id": "tTNSdu8qV1lt"
      },
      "source": [
        "## Homework 2: Lexical Semantics"
      ]
    },
    {
      "cell_type": "markdown",
      "metadata": {
        "id": "NDmHpjTJziCs"
      },
      "source": [
        "In this homework, we will explore lexical semantics in the context of slang and FastText, an alternative to word2vec (Part 1); and, how to represent a sentence with individual word vectors, so we can measure the similarity between a pair of sentences (Part 2)."
      ]
    },
    {
      "cell_type": "markdown",
      "metadata": {
        "id": "bv5qAYY2vxLH"
      },
      "source": [
        "### Part 1: Slang and word similarity with FastText"
      ]
    },
    {
      "cell_type": "markdown",
      "metadata": {
        "id": "UpqZQI31YG-S"
      },
      "source": [
        "Slang presents an interesting linguistic phenomenon that involves non-standard word forms. For this question, you will explore how FastText, an alternative to Word2Vec, handles the lexical semantics of slang and informal language.\n",
        "\n",
        "First, **familiarize yourself with the slang dataset that we are using**, introduced in [\"Toward Informal Language Processing: Knowledge of Slang in Large Language Models\" (Sun et al., NAACL 2024)](https://aclanthology.org/2024.naacl-long.94/). The full dataset includes annotations indicating whether a sentence from OpenSubtitles (typically a line from a movie) contains a slang term, and you can find some example sentences and terms here:\n",
        "\n",
        "https://raw.githubusercontent.com/dbamman/anlp25/main/data/slang_examples.tsv"
      ]
    },
    {
      "cell_type": "markdown",
      "metadata": {
        "id": "TORzUwVBqeJn"
      },
      "source": [
        "What are the 10 most common slang words?"
      ]
    },
    {
      "cell_type": "code",
      "source": [
        "!wget --no-check-certificate https://raw.githubusercontent.com/dbamman/anlp25/main/data/slang_examples.tsv"
      ],
      "metadata": {
        "id": "VXy-yTv9r3FO",
        "outputId": "cddf0d9d-e5d0-4d36-a5af-945b63728e55",
        "colab": {
          "base_uri": "https://localhost:8080/"
        }
      },
      "execution_count": 17,
      "outputs": [
        {
          "output_type": "stream",
          "name": "stdout",
          "text": [
            "--2025-09-13 00:02:09--  https://raw.githubusercontent.com/dbamman/anlp25/main/data/slang_examples.tsv\n",
            "Resolving raw.githubusercontent.com (raw.githubusercontent.com)... 185.199.108.133, 185.199.109.133, 185.199.110.133, ...\n",
            "Connecting to raw.githubusercontent.com (raw.githubusercontent.com)|185.199.108.133|:443... connected.\n",
            "HTTP request sent, awaiting response... 200 OK\n",
            "Length: 376405 (368K) [text/plain]\n",
            "Saving to: ‘slang_examples.tsv.4’\n",
            "\n",
            "slang_examples.tsv. 100%[===================>] 367.58K  --.-KB/s    in 0.03s   \n",
            "\n",
            "2025-09-13 00:02:09 (11.9 MB/s) - ‘slang_examples.tsv.4’ saved [376405/376405]\n",
            "\n"
          ]
        }
      ]
    },
    {
      "cell_type": "code",
      "execution_count": 18,
      "metadata": {
        "id": "jet5IpCoqeJo"
      },
      "outputs": [],
      "source": [
        "document = open(\"slang_examples.tsv\").read()"
      ]
    },
    {
      "cell_type": "code",
      "source": [
        "from posixpath import split\n",
        "document = open(\"slang_examples.tsv\").read()\n",
        "slang = {}\n",
        "sentences = document.split('\\n')\n",
        "for sentence in sentences:\n",
        "    try:\n",
        "        key, value = sentence.split('\\t')\n",
        "        slang[key] = value\n",
        "    except:\n",
        "        continue # ignore badly formatted sentences\n",
        "\n",
        "freq_dict = {}\n",
        "for value in slang.values():\n",
        "    freq_dict[value] = freq_dict.get(value, 0) + 1\n",
        "\n",
        "slang_list = list(sorted(freq_dict.items(), key=lambda x: x[1], reverse=True))\n",
        "\n",
        "for i in slang_list[:10]:\n",
        "  print(i)"
      ],
      "metadata": {
        "id": "nqGr5AlZ45zD",
        "outputId": "4dae8d0b-88bf-4fc9-e3c0-c91843da3daf",
        "colab": {
          "base_uri": "https://localhost:8080/"
        }
      },
      "execution_count": 19,
      "outputs": [
        {
          "output_type": "stream",
          "name": "stdout",
          "text": [
            "('gonna', 399)\n",
            "('yeah', 176)\n",
            "('shit', 116)\n",
            "('wanna', 105)\n",
            "(\"ain't\", 76)\n",
            "('gotta', 62)\n",
            "('mate', 62)\n",
            "('okay', 47)\n",
            "('man', 47)\n",
            "('kid', 46)\n"
          ]
        }
      ]
    },
    {
      "cell_type": "markdown",
      "metadata": {
        "id": "iYp8KX0dqeJp"
      },
      "source": [
        "Next, **train a [FastText model](https://radimrehurek.com/gensim/models/fasttext.html#gensim.models.fasttext.FastText) using `gensim` and `FastText`** on our slang data derived from the dataset described above, which you can download here:\n",
        "\n",
        "https://raw.githubusercontent.com/dbamman/anlp25/main/data/slang_corpus.txt\n",
        "\n",
        "For preprocessing, in the `txt` file, each token is already separated by whitespace, so you don't need to worry about tokenization. Treat each line in the file as one \"sentence\". For training, use the following parameters: embedding size of 400, context window of 5, frequency threshold of 5, and use 5 workers to train for 5 epochs.\n",
        "\n",
        "Note: we are using the `FastText` _implementation_ included in the `gensim` library! **Don't use the `fasttext` library.**"
      ]
    },
    {
      "cell_type": "code",
      "source": [
        "!pip install gensim"
      ],
      "metadata": {
        "id": "EhSbAJHQ5m8X",
        "outputId": "450df3de-4211-4a0f-c24b-8e9f4307ab02",
        "colab": {
          "base_uri": "https://localhost:8080/"
        }
      },
      "execution_count": 20,
      "outputs": [
        {
          "output_type": "stream",
          "name": "stdout",
          "text": [
            "Requirement already satisfied: gensim in /usr/local/lib/python3.12/dist-packages (4.3.3)\n",
            "Requirement already satisfied: numpy<2.0,>=1.18.5 in /usr/local/lib/python3.12/dist-packages (from gensim) (1.26.4)\n",
            "Requirement already satisfied: scipy<1.14.0,>=1.7.0 in /usr/local/lib/python3.12/dist-packages (from gensim) (1.13.1)\n",
            "Requirement already satisfied: smart-open>=1.8.1 in /usr/local/lib/python3.12/dist-packages (from gensim) (7.3.0.post1)\n",
            "Requirement already satisfied: wrapt in /usr/local/lib/python3.12/dist-packages (from smart-open>=1.8.1->gensim) (1.17.3)\n"
          ]
        }
      ]
    },
    {
      "cell_type": "code",
      "source": [
        "!wget --no-check-certificate https://raw.githubusercontent.com/dbamman/anlp25/main/data/slang_corpus.txt"
      ],
      "metadata": {
        "colab": {
          "base_uri": "https://localhost:8080/"
        },
        "id": "t9DhJzt16maS",
        "outputId": "8bc292cd-7f6b-48b4-bb29-951344aeb6f1"
      },
      "execution_count": 21,
      "outputs": [
        {
          "output_type": "stream",
          "name": "stdout",
          "text": [
            "--2025-09-13 00:02:29--  https://raw.githubusercontent.com/dbamman/anlp25/main/data/slang_corpus.txt\n",
            "Resolving raw.githubusercontent.com (raw.githubusercontent.com)... 185.199.108.133, 185.199.109.133, 185.199.110.133, ...\n",
            "Connecting to raw.githubusercontent.com (raw.githubusercontent.com)|185.199.108.133|:443... connected.\n",
            "HTTP request sent, awaiting response... 200 OK\n",
            "Length: 2868710 (2.7M) [text/plain]\n",
            "Saving to: ‘slang_corpus.txt.1’\n",
            "\n",
            "slang_corpus.txt.1  100%[===================>]   2.74M  --.-KB/s    in 0.05s   \n",
            "\n",
            "2025-09-13 00:02:29 (50.8 MB/s) - ‘slang_corpus.txt.1’ saved [2868710/2868710]\n",
            "\n"
          ]
        }
      ]
    },
    {
      "cell_type": "code",
      "execution_count": 83,
      "metadata": {
        "id": "piMQdXeRqeJp"
      },
      "outputs": [],
      "source": [
        "import gensim\n",
        "from gensim.models import FastText\n",
        "\n",
        "model = FastText(\n",
        "    corpus_file=\"slang_corpus.txt\",\n",
        "    vector_size=400,\n",
        "    window=5,\n",
        "    min_count=5,\n",
        "    workers=5,\n",
        "    epochs=5,\n",
        "    )"
      ]
    },
    {
      "cell_type": "markdown",
      "metadata": {
        "id": "gV57BuC_qeJr"
      },
      "source": [
        "With the trained models:\n",
        "\n",
        "**Q1.** Pick a slang term, and in about 100 words, discuss:\n",
        "\n",
        "- what the most similar words are to the slang term of your choosing (as measured by the model), and\n",
        "- whether the result is aligned with your understanding."
      ]
    },
    {
      "cell_type": "code",
      "execution_count": 85,
      "metadata": {
        "id": "aajmAlPKqeJs",
        "colab": {
          "base_uri": "https://localhost:8080/"
        },
        "outputId": "d8f9f2f2-98e6-4020-f01c-3a4cb04b4b89"
      },
      "outputs": [
        {
          "output_type": "execute_result",
          "data": {
            "text/plain": [
              "[('ah', 0.8827776312828064),\n",
              " ('Nah', 0.8369936943054199),\n",
              " ('Yeah', 0.8281385898590088),\n",
              " ('uh', 0.7648449540138245),\n",
              " ('Yep', 0.7647594213485718)]"
            ]
          },
          "metadata": {},
          "execution_count": 85
        }
      ],
      "source": [
        "model.wv.most_similar('yeah', topn=5)"
      ]
    },
    {
      "cell_type": "markdown",
      "source": [],
      "metadata": {
        "id": "GJc27PxtIU1w"
      }
    },
    {
      "cell_type": "markdown",
      "metadata": {
        "id": "Fy1QSpMktM_W"
      },
      "source": [
        "**Q2.** Train a separate word2vec (not FastText) model using the same dataset, and in about 100 words, compare the two approaches used to estimate word vectors. Here are some potential topics:\n",
        "\n",
        "- Look up the token `gonna` in both word2vec and FastText models. What does this tell you?\n",
        "- What is the high level difference between word2vec and FastText?\n",
        "- Evaluate the quality of the trained embeddings through intrinsic evaluation."
      ]
    },
    {
      "cell_type": "code",
      "execution_count": 25,
      "metadata": {
        "id": "9LWlXAz6qeJs"
      },
      "outputs": [],
      "source": [
        "from gensim.models import Word2Vec\n",
        "\n",
        "w2v_model = Word2Vec(\n",
        "    corpus_file=\"slang_corpus.txt\",\n",
        "    vector_size=400,\n",
        "    window=5,\n",
        "    min_count=5,\n",
        "    workers=5,\n",
        "    epochs=5,\n",
        ")"
      ]
    },
    {
      "cell_type": "code",
      "source": [
        "w2v_model.wv.most_similar('yeah', topn=5)"
      ],
      "metadata": {
        "id": "ZAKYJkdEX7jF",
        "outputId": "6e44d466-d225-4e0f-e154-72e12d77a0e9",
        "colab": {
          "base_uri": "https://localhost:8080/"
        }
      },
      "execution_count": 86,
      "outputs": [
        {
          "output_type": "execute_result",
          "data": {
            "text/plain": [
              "[('hey', 0.7975084781646729),\n",
              " ('okay', 0.7787396311759949),\n",
              " ('OK', 0.7622476816177368),\n",
              " ('God', 0.7427469491958618),\n",
              " ('mate', 0.7350471615791321)]"
            ]
          },
          "metadata": {},
          "execution_count": 86
        }
      ]
    },
    {
      "cell_type": "markdown",
      "metadata": {
        "id": "GtbVFoKquMFI"
      },
      "source": [
        "### Part 2. From words to sentences\n",
        "\n",
        "So far we've been working with word vectors, but in real-world scenarios, we often want to work with not just a word, but a sequence (like a sentence), which will explore later in the semester. However, with what we have learned so far, how do you represent a sentence? One approach is to look up the word vectors for individual words in the sentence and then *average* them, which we will explore in this question. We will be using pre-trained GloVe vectors [cf. SLP 6.8.3] we used in class. Download them here:\n",
        "\n",
        "https://raw.githubusercontent.com/dbamman/anlp25/main/data/glove.6B.100d.100K.txt\n",
        "\n",
        "**Q3.** Load the pretrained embeddings with `gensim`'s `load_word2vec_format` (see the lab notebooks), and create a function that takes a pair of sentences as input, and outputs the similarity of the two sentences measured by cosine -- the sentence pair you can use for sanity check is provided below.\n",
        "\n",
        "Find a pair of sentences where the similarity is high, but mean different (or opposite) things. Find a pair of sentences where the similarity is low, but you think the meanings are similar. In a paragraph, discuss why we might see these results given how we construct sentence embeddings."
      ]
    },
    {
      "cell_type": "code",
      "execution_count": 87,
      "metadata": {
        "id": "ejMPHItCqeJt",
        "colab": {
          "base_uri": "https://localhost:8080/"
        },
        "outputId": "0029f087-2a6d-47e1-cee9-c1644fd3a2d0"
      },
      "outputs": [
        {
          "output_type": "stream",
          "name": "stdout",
          "text": [
            "--2025-09-13 00:46:01--  https://raw.githubusercontent.com/dbamman/anlp25/main/data/glove.6B.100d.100K.txt\n",
            "Resolving raw.githubusercontent.com (raw.githubusercontent.com)... 185.199.108.133, 185.199.109.133, 185.199.110.133, ...\n",
            "Connecting to raw.githubusercontent.com (raw.githubusercontent.com)|185.199.108.133|:443... connected.\n",
            "HTTP request sent, awaiting response... 200 OK\n",
            "Length: 85951834 (82M) [text/plain]\n",
            "Saving to: ‘glove.6B.100d.100K.txt’\n",
            "\n",
            "glove.6B.100d.100K. 100%[===================>]  81.97M   273MB/s    in 0.3s    \n",
            "\n",
            "2025-09-13 00:46:03 (273 MB/s) - ‘glove.6B.100d.100K.txt’ saved [85951834/85951834]\n",
            "\n"
          ]
        }
      ],
      "source": [
        "!wget --no-check-certificate https://raw.githubusercontent.com/dbamman/anlp25/main/data/glove.6B.100d.100K.txt"
      ]
    },
    {
      "cell_type": "markdown",
      "metadata": {
        "id": "zYiKUIr5cwYw"
      },
      "source": [
        "----"
      ]
    },
    {
      "cell_type": "code",
      "source": [],
      "metadata": {
        "id": "lz9tOl7liVQN"
      },
      "execution_count": null,
      "outputs": []
    },
    {
      "cell_type": "markdown",
      "metadata": {
        "id": "WqWFmNaBPYUq"
      },
      "source": [
        "## To submit\n",
        "\n",
        "Congratulations on finishing this homework!\n",
        "Please follow the instructions below to download the notebook file (`.ipynb`) and its printed version (`.pdf`) for submission on bCourses -- remember **all cells must be executed**."
      ]
    }
  ],
  "metadata": {
    "colab": {
      "collapsed_sections": [
        "_TfNi4MzsTLk"
      ],
      "provenance": [],
      "include_colab_link": true
    },
    "kernelspec": {
      "display_name": "Python 3 (ipykernel)",
      "language": "python",
      "name": "python3"
    },
    "language_info": {
      "codemirror_mode": {
        "name": "ipython",
        "version": 3
      },
      "file_extension": ".py",
      "mimetype": "text/x-python",
      "name": "python",
      "nbconvert_exporter": "python",
      "pygments_lexer": "ipython3",
      "version": "3.11.13"
    }
  },
  "nbformat": 4,
  "nbformat_minor": 0
}