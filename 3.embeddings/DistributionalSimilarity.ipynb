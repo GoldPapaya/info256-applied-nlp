{
  "cells": [
    {
      "cell_type": "markdown",
      "metadata": {
        "id": "view-in-github",
        "colab_type": "text"
      },
      "source": [
        "<a href=\"https://colab.research.google.com/github/GoldPapaya/info256-applied-nlp/blob/main/3.embeddings/DistributionalSimilarity.ipynb\" target=\"_parent\"><img src=\"https://colab.research.google.com/assets/colab-badge.svg\" alt=\"Open In Colab\"/></a>"
      ]
    },
    {
      "cell_type": "markdown",
      "metadata": {
        "id": "LNm8hzN03fab"
      },
      "source": [
        "[![Open In Colab](https://colab.research.google.com/assets/colab-badge.svg)](https://colab.research.google.com/github/dbamman/anlp25/blob/main/3.embeddings/DistributionalSimilarity.ipynb)"
      ]
    },
    {
      "cell_type": "code",
      "execution_count": 1,
      "metadata": {
        "id": "MukYTh8m3fae",
        "outputId": "6383d678-1195-40ba-9464-13ad35e2ab26",
        "colab": {
          "base_uri": "https://localhost:8080/"
        }
      },
      "outputs": [
        {
          "output_type": "stream",
          "name": "stdout",
          "text": [
            "--2025-09-09 23:45:17--  https://raw.githubusercontent.com/dbamman/anlp25/main/data/wiki.10K.txt\n",
            "Resolving raw.githubusercontent.com (raw.githubusercontent.com)... 185.199.109.133, 185.199.108.133, 185.199.111.133, ...\n",
            "Connecting to raw.githubusercontent.com (raw.githubusercontent.com)|185.199.109.133|:443... connected.\n",
            "HTTP request sent, awaiting response... 200 OK\n",
            "Length: 24159412 (23M) [text/plain]\n",
            "Saving to: ‘wiki.10K.txt’\n",
            "\n",
            "wiki.10K.txt        100%[===================>]  23.04M   120MB/s    in 0.2s    \n",
            "\n",
            "2025-09-09 23:45:17 (120 MB/s) - ‘wiki.10K.txt’ saved [24159412/24159412]\n",
            "\n"
          ]
        }
      ],
      "source": [
        "!wget --no-check-certificate https://raw.githubusercontent.com/dbamman/anlp25/main/data/wiki.10K.txt"
      ]
    },
    {
      "cell_type": "markdown",
      "metadata": {
        "id": "fl_NbS2V3fae"
      },
      "source": [
        "This notebook explores distribitional simliarity in a dataset of 10,000 Wikipedia articles (4.4M words), building high-dimensional, sparse representations for words from the distinct contexts they appear in.  These representations allow for analysis of the most similar words to a given query, and are interpretable with respect to the specific contexts that are most important for determining that two words are similar."
      ]
    },
    {
      "cell_type": "code",
      "execution_count": 2,
      "metadata": {
        "id": "KarPXMV33faf"
      },
      "outputs": [],
      "source": [
        "from collections import defaultdict, Counter\n",
        "import math\n",
        "import operator\n",
        "import gzip"
      ]
    },
    {
      "cell_type": "code",
      "execution_count": 3,
      "metadata": {
        "id": "J1BvHM6l3fag"
      },
      "outputs": [],
      "source": [
        "window = 2\n",
        "vocab_size = 10000"
      ]
    },
    {
      "cell_type": "code",
      "execution_count": 4,
      "metadata": {
        "id": "LTicamzi3fag"
      },
      "outputs": [],
      "source": [
        "filename = \"wiki.10K.txt\"\n",
        "wiki_data = open(filename, encoding=\"utf-8\").read().lower().split(\" \")\n"
      ]
    },
    {
      "cell_type": "code",
      "execution_count": 5,
      "metadata": {
        "id": "eH0JgmnE3fag"
      },
      "outputs": [],
      "source": [
        "# We'll only create word representation for the most frequent K words\n",
        "\n",
        "def create_vocab(data):\n",
        "    word_representations = {}\n",
        "    vocab = Counter(data)\n",
        "\n",
        "    top_k = [word for word, counts in vocab.most_common(vocab_size)]\n",
        "    for k in top_k:\n",
        "        word_representations[k] = defaultdict(float)\n",
        "    return word_representations"
      ]
    },
    {
      "cell_type": "code",
      "execution_count": 6,
      "metadata": {
        "id": "s1UKF88i3fah"
      },
      "outputs": [],
      "source": [
        "# word representation for a word = its unigram distributional context (the unigrams that show\n",
        "# up in a window before and after its occurence)\n",
        "\n",
        "def count_unigram_context(data, word_representations):\n",
        "    for i, word in enumerate(data):\n",
        "        if word not in word_representations:\n",
        "            continue\n",
        "        start = i - window if i - window > 0 else 0\n",
        "        end = i + window + 1 if i + window + 1 < len(data) else len(data)\n",
        "        for j in range(start, end):\n",
        "            if i != j:\n",
        "                word_representations[word][data[j]] += 1"
      ]
    },
    {
      "cell_type": "code",
      "execution_count": 7,
      "metadata": {
        "id": "0Gk42V3B3fai"
      },
      "outputs": [],
      "source": [
        "def count_directional_context(data, word_representations):\n",
        "    for i, word in enumerate(data):\n",
        "        if word not in word_representations:\n",
        "            continue\n",
        "        start = i - window if i - window > 0 else 0\n",
        "        end = i + window + 1 if i + window + 1 < len(data) else len(data)\n",
        "        left=\"L: %s\" % ' '.join(data[start:i])\n",
        "        right=\"R: %s\" % ' '.join(data[i+1:end])\n",
        "\n",
        "        word_representations[word][left] += 1\n",
        "        word_representations[word][right] += 1"
      ]
    },
    {
      "cell_type": "code",
      "execution_count": 8,
      "metadata": {
        "id": "jK9pSDO03faj"
      },
      "outputs": [],
      "source": [
        "# normalize a word representation vector such that its L2 norm is 1.\n",
        "# we do this so that the cosine similarity reduces to a simple dot product\n",
        "\n",
        "def normalize(word_representations):\n",
        "    for word in word_representations:\n",
        "        total = 0\n",
        "        for key in word_representations[word]:\n",
        "            total += word_representations[word][key] * word_representations[word][key]\n",
        "\n",
        "        total = math.sqrt(total)\n",
        "        for key in word_representations[word]:\n",
        "            word_representations[word][key] /= total\n",
        ""
      ]
    },
    {
      "cell_type": "code",
      "execution_count": 9,
      "metadata": {
        "id": "cTir9esx3fak"
      },
      "outputs": [],
      "source": [
        "def dictionary_dot_product(dict1, dict2):\n",
        "    dot = 0\n",
        "    for key in dict1:\n",
        "        if key in dict2:\n",
        "            dot += dict1[key] * dict2[key]\n",
        "    return dot"
      ]
    },
    {
      "cell_type": "code",
      "execution_count": 10,
      "metadata": {
        "id": "biUtr-l93fal"
      },
      "outputs": [],
      "source": [
        "def find_sim(word_representations, query):\n",
        "    if query not in word_representations:\n",
        "        print(\"'%s' is not in vocabulary\" % query)\n",
        "        return None\n",
        "\n",
        "    scores = {}\n",
        "    for word in word_representations:\n",
        "        cosine = dictionary_dot_product(word_representations[query], word_representations[word])\n",
        "        scores[word] = cosine\n",
        "    return scores"
      ]
    },
    {
      "cell_type": "code",
      "execution_count": 11,
      "metadata": {
        "id": "d7yNb4lj3fal"
      },
      "outputs": [],
      "source": [
        "# Find the K words with highest cosine similarity to a query in a set of word_representations\n",
        "def find_nearest_neighbors(word_representations, query, K):\n",
        "    scores = find_sim(word_representations, query)\n",
        "    if scores != None:\n",
        "        sorted_x = sorted(scores.items(), key=lambda x: x[1], reverse=True)\n",
        "        for idx, (k, v) in enumerate(sorted_x[:K]):\n",
        "            print(\"%s\\t%s\\t%.5f\" % (idx,k,v))"
      ]
    },
    {
      "cell_type": "markdown",
      "metadata": {
        "id": "zW8f4eil3fal"
      },
      "source": [
        "Explore the difference between `count_unigram_context` and `count_directional_context` for determining what counts as \"context\".  `count_unigram_context` counts an individual unigram in the bag of words around a target as a \"context\" variable, while `count_directional_context` counts the sequence of words before and after the word as a single \"context\"--and specifies the direction it occurs (to the left or right of the word)."
      ]
    },
    {
      "cell_type": "code",
      "execution_count": 12,
      "metadata": {
        "id": "sddlLgup3fam"
      },
      "outputs": [],
      "source": [
        "word_representations = create_vocab(wiki_data)\n",
        "count_directional_context(wiki_data, word_representations)\n",
        "normalize(word_representations)"
      ]
    },
    {
      "cell_type": "code",
      "execution_count": 13,
      "metadata": {
        "id": "w-z7Zpgo3fam",
        "outputId": "e9b33183-7041-4766-cdfc-cc39aba7ae3e",
        "colab": {
          "base_uri": "https://localhost:8080/"
        }
      },
      "outputs": [
        {
          "output_type": "stream",
          "name": "stdout",
          "text": [
            "0\tactor\t1.00000\n",
            "1\tpolitician\t0.54099\n",
            "2\tactress\t0.52242\n",
            "3\tcricketer\t0.42361\n",
            "4\tartist\t0.40005\n",
            "5\twriter\t0.38234\n",
            "6\tcyclist\t0.36833\n",
            "7\tmusician\t0.33385\n",
            "8\tdiplomat\t0.32010\n",
            "9\tpoet\t0.31124\n"
          ]
        }
      ],
      "source": [
        "find_nearest_neighbors(word_representations, \"actor\", 10)"
      ]
    },
    {
      "cell_type": "code",
      "execution_count": 14,
      "metadata": {
        "id": "QvYLRzk23fam"
      },
      "outputs": [],
      "source": [
        "# Let's find the contexts shared between two words that have the most contribution\n",
        "# to the cosine similarity\n",
        "\n",
        "def find_shared_contexts(word_representations, query1, query2, K):\n",
        "    if query1 not in word_representations:\n",
        "        print(\"'%s' is not in vocabulary\" % query1)\n",
        "        return None\n",
        "\n",
        "    if query2 not in word_representations:\n",
        "        print(\"'%s' is not in vocabulary\" % query2)\n",
        "        return None\n",
        "\n",
        "    context_scores = {}\n",
        "    dict1 = word_representations[query1]\n",
        "    dict2 = word_representations[query2]\n",
        "\n",
        "    for key in dict1:\n",
        "        if key in dict2:\n",
        "            score = dict1[key] * dict2[key]\n",
        "            context_scores[key] = score\n",
        "\n",
        "    sorted_x = sorted(context_scores.items(), key=lambda x: x[1], reverse=True)\n",
        "    for idx, (k, v) in enumerate(sorted_x[:K]):\n",
        "        print(\"%s\\t%s\\t%.5f\" % (idx,k,v))"
      ]
    },
    {
      "cell_type": "code",
      "execution_count": 15,
      "metadata": {
        "id": "uLCFfcYv3fam",
        "outputId": "a0b20412-3c0c-4068-af3b-654e9eec048c",
        "colab": {
          "base_uri": "https://localhost:8080/"
        }
      },
      "outputs": [
        {
          "output_type": "stream",
          "name": "stdout",
          "text": [
            "0\tR: . he\t0.21961\n",
            "1\tL: an american\t0.13391\n",
            "2\tR: ) .\t0.11417\n",
            "3\tR: in the\t0.01410\n",
            "4\tL: an indian\t0.00761\n",
            "5\tL: a canadian\t0.00677\n",
            "6\tL: an english\t0.00564\n",
            "7\tR: of the\t0.00564\n",
            "8\tL: a french\t0.00423\n",
            "9\tR: , who\t0.00338\n"
          ]
        }
      ],
      "source": [
        "find_shared_contexts(word_representations, \"actor\", \"politician\", 10)"
      ]
    },
    {
      "cell_type": "markdown",
      "metadata": {
        "id": "uPDXxQ2X3fam"
      },
      "source": [
        "We can see here that the single feature that has the most impact on similarity between these parts is the directional ngram \". he\" (which would appear in text like \"John is an actor **. He** ...\""
      ]
    },
    {
      "cell_type": "markdown",
      "metadata": {
        "id": "F01-N-_o3fan"
      },
      "source": [
        "**Activity**: Find the nearest neighbors for other words above (in the `find_nearest_neighbors` cell); then find the shared contexts for a pair of nearest neighbors (as we did for actor/politician).  What does this reveal about what drives similarity?"
      ]
    },
    {
      "cell_type": "code",
      "execution_count": 18,
      "metadata": {
        "id": "gs7J-yRh3fan",
        "outputId": "415ecfda-5abd-42ba-9091-4658c0ce29e0",
        "colab": {
          "base_uri": "https://localhost:8080/"
        }
      },
      "outputs": [
        {
          "output_type": "stream",
          "name": "stdout",
          "text": [
            "0\thome\t1.00000\n",
            "1\tback\t0.60503\n",
            "2\treturn\t0.57933\n",
            "3\tadjacent\t0.54039\n",
            "4\taccording\t0.53558\n",
            "5\trefers\t0.53191\n",
            "6\tclose\t0.53029\n",
            "7\tbelonging\t0.53003\n",
            "8\tadded\t0.52894\n",
            "9\tcontribution\t0.52825\n"
          ]
        }
      ],
      "source": [
        "find_nearest_neighbors(word_representations, \"home\", 10)"
      ]
    },
    {
      "cell_type": "code",
      "source": [
        "find_shared_contexts(word_representations, \"home\", \"sanctuary\", 10)"
      ],
      "metadata": {
        "id": "n1ThQ-rH4H0r",
        "outputId": "894686e7-1c9d-41fb-ac1b-319532cafeb5",
        "colab": {
          "base_uri": "https://localhost:8080/"
        }
      },
      "execution_count": 19,
      "outputs": [
        {
          "output_type": "stream",
          "name": "stdout",
          "text": [
            "0\tR: of the\t0.07470\n",
            "1\tL: in the\t0.04597\n",
            "2\tR: to the\t0.03927\n",
            "3\tL: at the\t0.02011\n",
            "4\tR: . the\t0.02011\n",
            "5\tL: . the\t0.02011\n",
            "6\tR: , and\t0.01293\n",
            "7\tL: at his\t0.00862\n",
            "8\tL: of the\t0.00862\n",
            "9\tL: to the\t0.00623\n"
          ]
        }
      ]
    }
  ],
  "metadata": {
    "kernelspec": {
      "display_name": "Python 3 (ipykernel)",
      "language": "python",
      "name": "python3"
    },
    "language_info": {
      "codemirror_mode": {
        "name": "ipython",
        "version": 3
      },
      "file_extension": ".py",
      "mimetype": "text/x-python",
      "name": "python",
      "nbconvert_exporter": "python",
      "pygments_lexer": "ipython3",
      "version": "3.11.13"
    },
    "colab": {
      "provenance": [],
      "include_colab_link": true
    }
  },
  "nbformat": 4,
  "nbformat_minor": 0
}